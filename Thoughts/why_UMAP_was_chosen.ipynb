{
 "cells": [
  {
   "cell_type": "code",
   "execution_count": 1,
   "id": "7b60bf3e",
   "metadata": {},
   "outputs": [
    {
     "name": "stderr",
     "output_type": "stream",
     "text": [
      "c:\\Users\\anass\\AppData\\Local\\Programs\\Python\\Python313\\Lib\\site-packages\\tqdm\\auto.py:21: TqdmWarning: IProgress not found. Please update jupyter and ipywidgets. See https://ipywidgets.readthedocs.io/en/stable/user_install.html\n",
      "  from .autonotebook import tqdm as notebook_tqdm\n"
     ]
    }
   ],
   "source": [
    "# Applique ACP sur la meme base macron cocaine\n",
    "import sys\n",
    "from pathlib import Path\n",
    "\n",
    "# Ajouter automatiquement le dossier racine du projet au sys.path\n",
    "root_dir = Path().resolve().parent  # remonte à la racine\n",
    "if str(root_dir) not in sys.path:\n",
    "    sys.path.insert(0, str(root_dir))\n",
    "\n",
    "# Imports standards\n",
    "from sentence_transformers import SentenceTransformer\n",
    "from utils.helper_functions import clean_text\n",
    "from plotly.subplots import make_subplots\n",
    "from sklearn.decomposition import PCA\n",
    "import plotly.graph_objects as go\n",
    "from sklearn.manifold import TSNE\n",
    "import matplotlib.pyplot as plt\n",
    "import plotly.express as px\n",
    "from tqdm import tqdm\n",
    "import pandas as pd\n",
    "import numpy as np\n",
    "import warnings\n",
    "import umap\n",
    "import time\n",
    "import os\n",
    "\n",
    "warnings.filterwarnings(\"ignore\")\n",
    "\n",
    "\n",
    "\n",
    "file_path = root_dir/Path(\"data/importation-635-focus-AI.csv\")\n",
    "df = pd.read_csv(file_path, sep=\";\")\n",
    "df = df[[\"sentences\"]]\n",
    "texts = (df.sentences.apply(lambda x: clean_text(x))).to_list()"
   ]
  },
  {
   "cell_type": "markdown",
   "id": "23171478",
   "metadata": {},
   "source": [
    "# Context\n",
    "\n",
    "This dataset was extracted from another dataset collected from the Twitter/X platform as part of a study aimed at analyzing trends at the intersection of **AI and climate**. The goal is to gain deeper insights into the specific themes and narratives emerging from posts that relate to both domains.\n",
    "\n",
    "The data was retrieved using the **official X API**, ensuring compliance with platform constraints and metadata integrity.\n",
    "\n",
    "In summary, this is a **real-world, multilingual, and noisy dataset**, making it a valuable benchmark to demonstrate the **robustness of our clustering and automatic annotation pipeline**.\n",
    "\n",
    "## Objective\n",
    "\n",
    "The goal here is **not to develop a new NLP method or model**, but rather to **justify the choice of UMAP** over other dimensionality reduction techniques within our pipeline.\n",
    "\n",
    "To achieve this, we will follow the steps below:\n",
    "\n",
    "1. Apply **sentence embeddings** using the `\"all-mpnet-base-v2\"` model, after deduplicating the dataset.\n",
    "2. Perform **dimensionality reduction** using three methods: **PCA (ACP)**, **t-SNE**, and **UMAP**.\n",
    "3. **Visualize, describe, and compare** the results from each method to highlight the advantages of UMAP in capturing meaningful structure.\n",
    "\n",
    "> **Remark:**  \n",
    "> We have dedicated an entire notebook to demonstrate the importance of **data deduplication** — not only for reducing computational complexity, but also for **improving model performance**.  \n",
    "> Refer to that notebook for a more detailed analysis and empirical evidence supporting this claim.\n",
    "\n"
   ]
  },
  {
   "cell_type": "markdown",
   "id": "883f0d3a",
   "metadata": {},
   "source": [
    "# Vectorisation \n"
   ]
  },
  {
   "cell_type": "code",
   "execution_count": 2,
   "id": "12b0c85f",
   "metadata": {},
   "outputs": [
    {
     "name": "stderr",
     "output_type": "stream",
     "text": [
      "Batches: 100%|██████████| 8/8 [00:05<00:00,  1.59it/s]"
     ]
    },
    {
     "name": "stdout",
     "output_type": "stream",
     "text": [
      "We have deduplicated the embeddings, reducing the dataset from 1853 to 1217 that means we have removed 34.32 % of initial data.\n"
     ]
    },
    {
     "name": "stderr",
     "output_type": "stream",
     "text": [
      "\n"
     ]
    }
   ],
   "source": [
    "model_embedding = \"all-mpnet-base-v2\"\n",
    "model = SentenceTransformer(model_embedding, device=\"cuda\")  \n",
    "# Encode the texts\n",
    "embeddings = model.encode(texts, device=\"cuda\", show_progress_bar=True, batch_size=256)\n",
    "df[\"embeddings\"] = embeddings.tolist()\n",
    "\n",
    "shape_before_deduplication = len(df[\"embeddings\"])\n",
    "df = df.drop_duplicates(subset=\"embeddings\", keep=\"first\") \n",
    "embeddings = np.vstack(df[\"embeddings\"].to_numpy())\n",
    "\n",
    "print(\"We have deduplicated the embeddings, reducing the dataset from\", shape_before_deduplication, \"to\", len(df[\"embeddings\"]), \"that means we have removed\", round((shape_before_deduplication - len(df[\"embeddings\"]))*100/shape_before_deduplication, 2),\"% of initial data.\")"
   ]
  },
  {
   "cell_type": "markdown",
   "id": "b9b2277b",
   "metadata": {},
   "source": [
    "# Réduction de dimensions\n",
    "## UMAP"
   ]
  },
  {
   "cell_type": "code",
   "execution_count": 3,
   "id": "c3801382",
   "metadata": {},
   "outputs": [
    {
     "name": "stdout",
     "output_type": "stream",
     "text": [
      "UMAP took 8.12 seconds to reduce the embeddings to 2D.\n",
      "Reduced embeddings shape: (1217, 2)\n"
     ]
    }
   ],
   "source": [
    "# Fit the UMAP model on your embeddings\n",
    "start = time.time()\n",
    "reducer = umap.UMAP(n_components=2, random_state=123).fit(embeddings)\n",
    "# Transform the embeddings to 2D\n",
    "reduced_embeddings = reducer.transform(embeddings)\n",
    "end = time.time()\n",
    "print(f\"UMAP took {end - start:.2f} seconds to reduce the embeddings to 2D.\")\n",
    "\n",
    "# Print the shape of the reduced embeddings\n",
    "print(f\"Reduced embeddings shape: {reduced_embeddings.shape}\")\n",
    "\n",
    "df['x_umap'] = reduced_embeddings[:,0]\n",
    "df['y_umap'] = reduced_embeddings[:,1]\n",
    "umap_time = end - start"
   ]
  },
  {
   "cell_type": "markdown",
   "id": "b0153b05",
   "metadata": {},
   "source": [
    "## ACP"
   ]
  },
  {
   "cell_type": "code",
   "execution_count": null,
   "id": "459a2f50",
   "metadata": {},
   "outputs": [
    {
     "name": "stdout",
     "output_type": "stream",
     "text": [
      "PCA took 0.03 seconds to reduce the embeddings to 2D.\n",
      "Shape des embeddings réduits par ACP : (1217, 2)\n"
     ]
    }
   ],
   "source": [
    "# 1. Initialiser et appliquer l'ACP\n",
    "start = time.time()\n",
    "pca = PCA(n_components=2)\n",
    "reduced_embeddings_pca = pca.fit_transform(embeddings)\n",
    "end = time.time()\n",
    "print(f\"PCA took {end - start:.2f} seconds to reduce the embeddings to 2D.\")\n",
    "# Afficher la forme des nouvelles données pour vérification\n",
    "print(f\"Shape des embeddings réduits par ACP : {reduced_embeddings_pca.shape}\")\n",
    "\n",
    "# 2. Ajouter les composantes principales au DataFrame\n",
    "df['x_pca'] = reduced_embeddings_pca[:, 0]\n",
    "df['y_pca'] = reduced_embeddings_pca[:, 1]\n",
    "\n",
    "acp_time = end - start\n",
    "ana"
   ]
  },
  {
   "cell_type": "markdown",
   "id": "b8eb8c9e",
   "metadata": {},
   "source": [
    "## t-SNE"
   ]
  },
  {
   "cell_type": "code",
   "execution_count": 5,
   "id": "ba7b8a69",
   "metadata": {},
   "outputs": [
    {
     "name": "stdout",
     "output_type": "stream",
     "text": [
      "t-SNE took 4.51 seconds to reduce the embeddings to 2D.\n",
      "Shape des embeddings réduits par t-SNE : (1217, 2)\n"
     ]
    }
   ],
   "source": [
    "# 1. Initialiser et appliquer t-SNE\n",
    "start = time.time()\n",
    "tsne = TSNE(n_components=2)\n",
    "reduced_embeddings_tsne = tsne.fit_transform(embeddings)\n",
    "end = time.time()\n",
    "print(f\"t-SNE took {end - start:.2f} seconds to reduce the embeddings to 2D.\")\n",
    "print(f\"Shape des embeddings réduits par t-SNE : {reduced_embeddings_tsne.shape}\")\n",
    "\n",
    "# 2. Ajouter les composantes principales au DataFrame\n",
    "df['tsne_x'] = reduced_embeddings_tsne[:, 0]\n",
    "df['tsne_y'] = reduced_embeddings_tsne[:, 1]\n",
    "\n",
    "tsne_time = end - start\n"
   ]
  },
  {
   "cell_type": "markdown",
   "id": "fef0c95b",
   "metadata": {},
   "source": [
    "# "
   ]
  },
  {
   "cell_type": "markdown",
   "id": "8b6d2f31",
   "metadata": {},
   "source": [
    "# Comparative Analysis of Dimensionality Reduction Methods"
   ]
  },
  {
   "cell_type": "code",
   "execution_count": 7,
   "id": "6a67f167",
   "metadata": {},
   "outputs": [
    {
     "data": {
      "application/vnd.plotly.v1+json": {
       "config": {
        "plotlyServerURL": "https://plot.ly"
       },
       "data": [
        {
         "marker": {
          "opacity": 0.6
         },
         "mode": "markers",
         "type": "scatter",
         "x": {
          "bdata": "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",
          "dtype": "f8"
         },
         "xaxis": "x",
         "y": {
          "bdata": "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",
          "dtype": "f8"
         },
         "yaxis": "y"
        },
        {
         "marker": {
          "opacity": 0.6
         },
         "mode": "markers",
         "type": "scatter",
         "x": {
          "bdata": "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",
          "dtype": "f4"
         },
         "xaxis": "x2",
         "y": {
          "bdata": "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",
          "dtype": "f4"
         },
         "yaxis": "y2"
        },
        {
         "marker": {
          "opacity": 0.6
         },
         "mode": "markers",
         "type": "scatter",
         "x": {
          "bdata": "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",
          "dtype": "f4"
         },
         "xaxis": "x3",
         "y": {
          "bdata": "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",
          "dtype": "f4"
         },
         "yaxis": "y3"
        }
       ],
       "layout": {
        "annotations": [
         {
          "font": {
           "size": 16
          },
          "showarrow": false,
          "text": "PCA Projection \n(Default settings – 0.03s)",
          "x": 0.16666666666666666,
          "xanchor": "center",
          "xref": "paper",
          "y": 1,
          "yanchor": "bottom",
          "yref": "paper"
         },
         {
          "font": {
           "size": 16
          },
          "showarrow": false,
          "text": "t‑SNE Projection \n(Default settings – 4.51s)",
          "x": 0.8333333333333333,
          "xanchor": "center",
          "xref": "paper",
          "y": 1,
          "yanchor": "bottom",
          "yref": "paper"
         },
         {
          "font": {
           "size": 16
          },
          "showarrow": false,
          "text": "UMAP Projection \n(Default settings – 8.12s)",
          "x": 0.5,
          "xanchor": "center",
          "xref": "paper",
          "y": 0.475,
          "yanchor": "bottom",
          "yref": "paper"
         }
        ],
        "height": 800,
        "margin": {
         "b": 50,
         "l": 20,
         "r": 50,
         "t": 50
        },
        "showlegend": false,
        "template": {
         "data": {
          "bar": [
           {
            "error_x": {
             "color": "#2a3f5f"
            },
            "error_y": {
             "color": "#2a3f5f"
            },
            "marker": {
             "line": {
              "color": "#E5ECF6",
              "width": 0.5
             },
             "pattern": {
              "fillmode": "overlay",
              "size": 10,
              "solidity": 0.2
             }
            },
            "type": "bar"
           }
          ],
          "barpolar": [
           {
            "marker": {
             "line": {
              "color": "#E5ECF6",
              "width": 0.5
             },
             "pattern": {
              "fillmode": "overlay",
              "size": 10,
              "solidity": 0.2
             }
            },
            "type": "barpolar"
           }
          ],
          "carpet": [
           {
            "aaxis": {
             "endlinecolor": "#2a3f5f",
             "gridcolor": "white",
             "linecolor": "white",
             "minorgridcolor": "white",
             "startlinecolor": "#2a3f5f"
            },
            "baxis": {
             "endlinecolor": "#2a3f5f",
             "gridcolor": "white",
             "linecolor": "white",
             "minorgridcolor": "white",
             "startlinecolor": "#2a3f5f"
            },
            "type": "carpet"
           }
          ],
          "choropleth": [
           {
            "colorbar": {
             "outlinewidth": 0,
             "ticks": ""
            },
            "type": "choropleth"
           }
          ],
          "contour": [
           {
            "colorbar": {
             "outlinewidth": 0,
             "ticks": ""
            },
            "colorscale": [
             [
              0,
              "#0d0887"
             ],
             [
              0.1111111111111111,
              "#46039f"
             ],
             [
              0.2222222222222222,
              "#7201a8"
             ],
             [
              0.3333333333333333,
              "#9c179e"
             ],
             [
              0.4444444444444444,
              "#bd3786"
             ],
             [
              0.5555555555555556,
              "#d8576b"
             ],
             [
              0.6666666666666666,
              "#ed7953"
             ],
             [
              0.7777777777777778,
              "#fb9f3a"
             ],
             [
              0.8888888888888888,
              "#fdca26"
             ],
             [
              1,
              "#f0f921"
             ]
            ],
            "type": "contour"
           }
          ],
          "contourcarpet": [
           {
            "colorbar": {
             "outlinewidth": 0,
             "ticks": ""
            },
            "type": "contourcarpet"
           }
          ],
          "heatmap": [
           {
            "colorbar": {
             "outlinewidth": 0,
             "ticks": ""
            },
            "colorscale": [
             [
              0,
              "#0d0887"
             ],
             [
              0.1111111111111111,
              "#46039f"
             ],
             [
              0.2222222222222222,
              "#7201a8"
             ],
             [
              0.3333333333333333,
              "#9c179e"
             ],
             [
              0.4444444444444444,
              "#bd3786"
             ],
             [
              0.5555555555555556,
              "#d8576b"
             ],
             [
              0.6666666666666666,
              "#ed7953"
             ],
             [
              0.7777777777777778,
              "#fb9f3a"
             ],
             [
              0.8888888888888888,
              "#fdca26"
             ],
             [
              1,
              "#f0f921"
             ]
            ],
            "type": "heatmap"
           }
          ],
          "histogram": [
           {
            "marker": {
             "pattern": {
              "fillmode": "overlay",
              "size": 10,
              "solidity": 0.2
             }
            },
            "type": "histogram"
           }
          ],
          "histogram2d": [
           {
            "colorbar": {
             "outlinewidth": 0,
             "ticks": ""
            },
            "colorscale": [
             [
              0,
              "#0d0887"
             ],
             [
              0.1111111111111111,
              "#46039f"
             ],
             [
              0.2222222222222222,
              "#7201a8"
             ],
             [
              0.3333333333333333,
              "#9c179e"
             ],
             [
              0.4444444444444444,
              "#bd3786"
             ],
             [
              0.5555555555555556,
              "#d8576b"
             ],
             [
              0.6666666666666666,
              "#ed7953"
             ],
             [
              0.7777777777777778,
              "#fb9f3a"
             ],
             [
              0.8888888888888888,
              "#fdca26"
             ],
             [
              1,
              "#f0f921"
             ]
            ],
            "type": "histogram2d"
           }
          ],
          "histogram2dcontour": [
           {
            "colorbar": {
             "outlinewidth": 0,
             "ticks": ""
            },
            "colorscale": [
             [
              0,
              "#0d0887"
             ],
             [
              0.1111111111111111,
              "#46039f"
             ],
             [
              0.2222222222222222,
              "#7201a8"
             ],
             [
              0.3333333333333333,
              "#9c179e"
             ],
             [
              0.4444444444444444,
              "#bd3786"
             ],
             [
              0.5555555555555556,
              "#d8576b"
             ],
             [
              0.6666666666666666,
              "#ed7953"
             ],
             [
              0.7777777777777778,
              "#fb9f3a"
             ],
             [
              0.8888888888888888,
              "#fdca26"
             ],
             [
              1,
              "#f0f921"
             ]
            ],
            "type": "histogram2dcontour"
           }
          ],
          "mesh3d": [
           {
            "colorbar": {
             "outlinewidth": 0,
             "ticks": ""
            },
            "type": "mesh3d"
           }
          ],
          "parcoords": [
           {
            "line": {
             "colorbar": {
              "outlinewidth": 0,
              "ticks": ""
             }
            },
            "type": "parcoords"
           }
          ],
          "pie": [
           {
            "automargin": true,
            "type": "pie"
           }
          ],
          "scatter": [
           {
            "fillpattern": {
             "fillmode": "overlay",
             "size": 10,
             "solidity": 0.2
            },
            "type": "scatter"
           }
          ],
          "scatter3d": [
           {
            "line": {
             "colorbar": {
              "outlinewidth": 0,
              "ticks": ""
             }
            },
            "marker": {
             "colorbar": {
              "outlinewidth": 0,
              "ticks": ""
             }
            },
            "type": "scatter3d"
           }
          ],
          "scattercarpet": [
           {
            "marker": {
             "colorbar": {
              "outlinewidth": 0,
              "ticks": ""
             }
            },
            "type": "scattercarpet"
           }
          ],
          "scattergeo": [
           {
            "marker": {
             "colorbar": {
              "outlinewidth": 0,
              "ticks": ""
             }
            },
            "type": "scattergeo"
           }
          ],
          "scattergl": [
           {
            "marker": {
             "colorbar": {
              "outlinewidth": 0,
              "ticks": ""
             }
            },
            "type": "scattergl"
           }
          ],
          "scattermap": [
           {
            "marker": {
             "colorbar": {
              "outlinewidth": 0,
              "ticks": ""
             }
            },
            "type": "scattermap"
           }
          ],
          "scattermapbox": [
           {
            "marker": {
             "colorbar": {
              "outlinewidth": 0,
              "ticks": ""
             }
            },
            "type": "scattermapbox"
           }
          ],
          "scatterpolar": [
           {
            "marker": {
             "colorbar": {
              "outlinewidth": 0,
              "ticks": ""
             }
            },
            "type": "scatterpolar"
           }
          ],
          "scatterpolargl": [
           {
            "marker": {
             "colorbar": {
              "outlinewidth": 0,
              "ticks": ""
             }
            },
            "type": "scatterpolargl"
           }
          ],
          "scatterternary": [
           {
            "marker": {
             "colorbar": {
              "outlinewidth": 0,
              "ticks": ""
             }
            },
            "type": "scatterternary"
           }
          ],
          "surface": [
           {
            "colorbar": {
             "outlinewidth": 0,
             "ticks": ""
            },
            "colorscale": [
             [
              0,
              "#0d0887"
             ],
             [
              0.1111111111111111,
              "#46039f"
             ],
             [
              0.2222222222222222,
              "#7201a8"
             ],
             [
              0.3333333333333333,
              "#9c179e"
             ],
             [
              0.4444444444444444,
              "#bd3786"
             ],
             [
              0.5555555555555556,
              "#d8576b"
             ],
             [
              0.6666666666666666,
              "#ed7953"
             ],
             [
              0.7777777777777778,
              "#fb9f3a"
             ],
             [
              0.8888888888888888,
              "#fdca26"
             ],
             [
              1,
              "#f0f921"
             ]
            ],
            "type": "surface"
           }
          ],
          "table": [
           {
            "cells": {
             "fill": {
              "color": "#EBF0F8"
             },
             "line": {
              "color": "white"
             }
            },
            "header": {
             "fill": {
              "color": "#C8D4E3"
             },
             "line": {
              "color": "white"
             }
            },
            "type": "table"
           }
          ]
         },
         "layout": {
          "annotationdefaults": {
           "arrowcolor": "#2a3f5f",
           "arrowhead": 0,
           "arrowwidth": 1
          },
          "autotypenumbers": "strict",
          "coloraxis": {
           "colorbar": {
            "outlinewidth": 0,
            "ticks": ""
           }
          },
          "colorscale": {
           "diverging": [
            [
             0,
             "#8e0152"
            ],
            [
             0.1,
             "#c51b7d"
            ],
            [
             0.2,
             "#de77ae"
            ],
            [
             0.3,
             "#f1b6da"
            ],
            [
             0.4,
             "#fde0ef"
            ],
            [
             0.5,
             "#f7f7f7"
            ],
            [
             0.6,
             "#e6f5d0"
            ],
            [
             0.7,
             "#b8e186"
            ],
            [
             0.8,
             "#7fbc41"
            ],
            [
             0.9,
             "#4d9221"
            ],
            [
             1,
             "#276419"
            ]
           ],
           "sequential": [
            [
             0,
             "#0d0887"
            ],
            [
             0.1111111111111111,
             "#46039f"
            ],
            [
             0.2222222222222222,
             "#7201a8"
            ],
            [
             0.3333333333333333,
             "#9c179e"
            ],
            [
             0.4444444444444444,
             "#bd3786"
            ],
            [
             0.5555555555555556,
             "#d8576b"
            ],
            [
             0.6666666666666666,
             "#ed7953"
            ],
            [
             0.7777777777777778,
             "#fb9f3a"
            ],
            [
             0.8888888888888888,
             "#fdca26"
            ],
            [
             1,
             "#f0f921"
            ]
           ],
           "sequentialminus": [
            [
             0,
             "#0d0887"
            ],
            [
             0.1111111111111111,
             "#46039f"
            ],
            [
             0.2222222222222222,
             "#7201a8"
            ],
            [
             0.3333333333333333,
             "#9c179e"
            ],
            [
             0.4444444444444444,
             "#bd3786"
            ],
            [
             0.5555555555555556,
             "#d8576b"
            ],
            [
             0.6666666666666666,
             "#ed7953"
            ],
            [
             0.7777777777777778,
             "#fb9f3a"
            ],
            [
             0.8888888888888888,
             "#fdca26"
            ],
            [
             1,
             "#f0f921"
            ]
           ]
          },
          "colorway": [
           "#636efa",
           "#EF553B",
           "#00cc96",
           "#ab63fa",
           "#FFA15A",
           "#19d3f3",
           "#FF6692",
           "#B6E880",
           "#FF97FF",
           "#FECB52"
          ],
          "font": {
           "color": "#2a3f5f"
          },
          "geo": {
           "bgcolor": "white",
           "lakecolor": "white",
           "landcolor": "#E5ECF6",
           "showlakes": true,
           "showland": true,
           "subunitcolor": "white"
          },
          "hoverlabel": {
           "align": "left"
          },
          "hovermode": "closest",
          "mapbox": {
           "style": "light"
          },
          "paper_bgcolor": "white",
          "plot_bgcolor": "#E5ECF6",
          "polar": {
           "angularaxis": {
            "gridcolor": "white",
            "linecolor": "white",
            "ticks": ""
           },
           "bgcolor": "#E5ECF6",
           "radialaxis": {
            "gridcolor": "white",
            "linecolor": "white",
            "ticks": ""
           }
          },
          "scene": {
           "xaxis": {
            "backgroundcolor": "#E5ECF6",
            "gridcolor": "white",
            "gridwidth": 2,
            "linecolor": "white",
            "showbackground": true,
            "ticks": "",
            "zerolinecolor": "white"
           },
           "yaxis": {
            "backgroundcolor": "#E5ECF6",
            "gridcolor": "white",
            "gridwidth": 2,
            "linecolor": "white",
            "showbackground": true,
            "ticks": "",
            "zerolinecolor": "white"
           },
           "zaxis": {
            "backgroundcolor": "#E5ECF6",
            "gridcolor": "white",
            "gridwidth": 2,
            "linecolor": "white",
            "showbackground": true,
            "ticks": "",
            "zerolinecolor": "white"
           }
          },
          "shapedefaults": {
           "line": {
            "color": "#2a3f5f"
           }
          },
          "ternary": {
           "aaxis": {
            "gridcolor": "white",
            "linecolor": "white",
            "ticks": ""
           },
           "baxis": {
            "gridcolor": "white",
            "linecolor": "white",
            "ticks": ""
           },
           "bgcolor": "#E5ECF6",
           "caxis": {
            "gridcolor": "white",
            "linecolor": "white",
            "ticks": ""
           }
          },
          "title": {
           "x": 0.05
          },
          "xaxis": {
           "automargin": true,
           "gridcolor": "white",
           "linecolor": "white",
           "ticks": "",
           "title": {
            "standoff": 15
           },
           "zerolinecolor": "white",
           "zerolinewidth": 2
          },
          "yaxis": {
           "automargin": true,
           "gridcolor": "white",
           "linecolor": "white",
           "ticks": "",
           "title": {
            "standoff": 15
           },
           "zerolinecolor": "white",
           "zerolinewidth": 2
          }
         }
        },
        "width": 1200,
        "xaxis": {
         "anchor": "y",
         "domain": [
          0,
          0.3333333333333333
         ],
         "title": {
          "text": "PCA Dim 1"
         }
        },
        "xaxis2": {
         "anchor": "y2",
         "domain": [
          0.6666666666666666,
          1
         ]
        },
        "xaxis3": {
         "anchor": "y3",
         "domain": [
          0.3333333333333333,
          0.6666666666666666
         ],
         "title": {
          "text": "UMAP Dim 1"
         }
        },
        "yaxis": {
         "anchor": "x",
         "domain": [
          0.525,
          1
         ],
         "title": {
          "text": "PCA Dim 2"
         }
        },
        "yaxis2": {
         "anchor": "x2",
         "domain": [
          0.525,
          1
         ]
        },
        "yaxis3": {
         "anchor": "x3",
         "domain": [
          0,
          0.475
         ],
         "title": {
          "text": "UMAP Dim 2"
         }
        }
       }
      }
     },
     "metadata": {},
     "output_type": "display_data"
    }
   ],
   "source": [
    "# 1) Grille 2×3 : \n",
    "#    - Ligne 1 : PCA en (1,1), t-SNE en (1,3), case (1,2) vide\n",
    "#    - Ligne 2 : UMAP en (2,2), cases (2,1) & (2,3) vides\n",
    "fig = make_subplots(\n",
    "    rows=2, cols=3,\n",
    "    specs=[\n",
    "        [{}, None, {}],\n",
    "        [None, {}, None]\n",
    "    ],\n",
    "    subplot_titles=(f\"PCA Projection \\n(Default settings – {acp_time:.2f}s)\", f\"t‑SNE Projection \\n(Default settings – {tsne_time:.2f}s)\", f\"UMAP Projection \\n(Default settings – {umap_time:.2f}s)\"),\n",
    "\n",
    "\n",
    "row_heights=[2, 2],\n",
    "    column_widths=[1.5/3, 1.5/3, 1.5/3],\n",
    "    horizontal_spacing=0,\n",
    "    vertical_spacing=0.05\n",
    ")\n",
    "\n",
    "# 2) PCA (1,1)\n",
    "fig.add_trace(\n",
    "    go.Scatter(x=df['x_pca'], y=df['y_pca'], mode='markers', marker=dict(opacity=0.6)),\n",
    "    row=1, col=1\n",
    ")\n",
    "fig.update_xaxes(title_text=\"PCA Dim 1\", row=1, col=1)\n",
    "fig.update_yaxes(title_text=\"PCA Dim 2\", row=1, col=1)\n",
    "\n",
    "# 3) t‑SNE (1,3)\n",
    "fig.add_trace(\n",
    "    go.Scatter(x=df['tsne_x'], y=df['tsne_y'], mode='markers', marker=dict(opacity=0.6)),\n",
    "    row=1, col=3\n",
    ")\n",
    "fig.update_xaxes(title_text=\"t‑SNE Dim 1\", row=1, col=2)\n",
    "fig.update_yaxes(title_text=\"t‑SNE Dim 2\", row=1, col=2)\n",
    "\n",
    "# 4) UMAP (2,2)\n",
    "fig.add_trace(\n",
    "    go.Scatter(x=df['x_umap'], y=df['y_umap'], mode='markers', marker=dict(opacity=0.6)),\n",
    "    row=2, col=2\n",
    ")\n",
    "fig.update_xaxes(title_text=\"UMAP Dim 1\", row=2, col=2)\n",
    "fig.update_yaxes(title_text=\"UMAP Dim 2\", row=2, col=2)\n",
    "\n",
    "# 5) Masquage des cases vides\n",
    "for (r, c) in [(1,2), (2,1), (2,3)]:\n",
    "    fig.update_xaxes(visible=False, row=r, col=c)\n",
    "    fig.update_yaxes(visible=False, row=r, col=c)\n",
    "\n",
    "# 6) Layout global : dimensions pour 3×400px × 2×400px\n",
    "fig.update_layout(\n",
    "    width=1200,   # 3 colonnes × 400px\n",
    "    height=800,   # 2 lignes × 400px\n",
    "    margin=dict(l=20,     # marge gauche\n",
    "            r=50,     # marge droite\n",
    "            t=50,      # marge haute\n",
    "            b=50),\n",
    "    # title_text=\"Comparaison interactive – PCA, t‑SNE (ligne 1) et UMAP centré (ligne 2)\",\n",
    "    showlegend=False\n",
    ")\n",
    "\n",
    "\n",
    "fig.show()\n"
   ]
  },
  {
   "cell_type": "markdown",
   "id": "acda2462",
   "metadata": {},
   "source": [
    "*(Dataset: 1,217 texts; CPU execution times)*\n",
    "\n",
    "| Method   | Time (≈) | Algorithmic Complexity                   | Structure Preserved      | Scalability                  |\n",
    "|:--------:|:--------:|:----------------------------------------:|:------------------------:|:----------------------------:|\n",
    "| **PCA**  | 0.02 s   | O(min(n, d)²·max(n, d))                  | Global (linear)          | Excellent                    |\n",
    "| **t-SNE**| 2.09 s   | O(n²)                                    | Local                    | Limited                      |\n",
    "| **UMAP** | 0.70 s   | O(n log n)            | Local & global           | Good (≈ O(n log n))          |\n",
    "\n",
    "\n",
    "## Why the time differences?\n",
    "\n",
    "1. **PCA (≈ 0.02 s)**  \n",
    "   - **Principle**: Eigen-decomposition of the covariance matrix.  \n",
    "\n",
    "2. **t-SNE (≈ 2.09 s)**  \n",
    "   - **Principle**: Compute all pairwise similarities → O(n²), then optimize with stochastic gradient descent, becomes prohibitive for n > a few thousand.\n",
    "\n",
    "3. **UMAP (≈ 0.70 s)**  \n",
    "   - **Principle**:  \n",
    "     - Build a nearest-neighbor graph (≈ O(n log n)) via NN-descent.  \n",
    "     - Optimize embedding with SGD (linear in n for fixed iterations).  \n",
    "   - **Outcome**: Balanced trade-off between speed and quality (local & global), we can say on the graph, it gives the most performant results among the other methods.\n",
    "\n",
    "\n",
    "## Why choose UMAP in the topic modeling pipeline?\n",
    "\n",
    "UMAP is a leading choice in topic modeling pipelines because it combines **performance**, **scalability**, and **structural quality**. It is significantly faster than t-SNE and separates clusters more effectively than PCA and t-sne. Its key strength lies in its unique ability to preserve both **local** structure (creating dense, coherent groups) and **global** structure (maintaining the relationships between clusters), which is crucial for a faithful data representation. The method is also highly scalable, handling thousands to over a million documents, especially when accelerated on GPUs with RAPIDS AI to avoid costly quadratic complexity. By integrating it before a clustering step like HDBSCAN, UMAP significantly improves the semantic coherence of topics by providing a richer, better-structured data representation.\n",
    "\n",
    "But the algorithm's output is **sensitive to its hyperparameters**, such as `n_neighbors` and `min_dist`, requiring careful tuning. Additionally, while fast, its runtime can still range from seconds to minutes on very large datasets, a practical limitation to keep in mind.\n",
    "\n",
    "> **Note**:  \n",
    "> With **RAPIDS AI** and GPUs, even hundreds of thousands of texts are no longer a bottleneck.  \n",
    "> Becareful, not only the method of dimension reduction which gives best quality, but also the algorithm of embeddings.\n",
    "\n",
    "See More: [\"UMAP: Uniform Manifold Approximation and Projection for Dimension Reduction\"](https://arxiv.org/pdf/1802.03426)\n"
   ]
  }
 ],
 "metadata": {
  "kernelspec": {
   "display_name": "Python 3",
   "language": "python",
   "name": "python3"
  },
  "language_info": {
   "codemirror_mode": {
    "name": "ipython",
    "version": 3
   },
   "file_extension": ".py",
   "mimetype": "text/x-python",
   "name": "python",
   "nbconvert_exporter": "python",
   "pygments_lexer": "ipython3",
   "version": "3.13.3"
  }
 },
 "nbformat": 4,
 "nbformat_minor": 5
}

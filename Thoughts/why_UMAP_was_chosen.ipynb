{
 "cells": [
  {
   "cell_type": "code",
   "execution_count": 2,
   "id": "7b60bf3e",
   "metadata": {},
   "outputs": [],
   "source": [
    "# Applique ACP sur la meme base macron cocaine\n",
    "import sys\n",
    "from pathlib import Path\n",
    "\n",
    "# Ajouter automatiquement le dossier racine du projet au sys.path\n",
    "root_dir = Path().resolve().parent  # remonte à la racine\n",
    "if str(root_dir) not in sys.path:\n",
    "    sys.path.insert(0, str(root_dir))\n",
    "\n",
    "# Imports standards\n",
    "from sentence_transformers import SentenceTransformer\n",
    "from utils.helper_functions import clean_text\n",
    "from plotly.subplots import make_subplots\n",
    "from sklearn.decomposition import PCA\n",
    "import plotly.graph_objects as go\n",
    "from sklearn.manifold import TSNE\n",
    "import matplotlib.pyplot as plt\n",
    "import plotly.express as px\n",
    "from tqdm import tqdm\n",
    "import pandas as pd\n",
    "import numpy as np\n",
    "import warnings\n",
    "import umap.umap_ as umap\n",
    "import time\n",
    "import os\n",
    "\n",
    "warnings.filterwarnings(\"ignore\")\n",
    "\n",
    "\n",
    "\n",
    "file_path = root_dir/Path(\"data/importation-635-focus-AI.csv\")\n",
    "df = pd.read_csv(file_path, sep=\";\")\n",
    "df = df[[\"sentences\"]]\n",
    "texts = (df.sentences.apply(lambda x: clean_text(x))).to_list()"
   ]
  },
  {
   "cell_type": "markdown",
   "id": "23171478",
   "metadata": {},
   "source": [
    "# Context\n",
    "\n",
    "This dataset was extracted from another dataset collected from the Twitter/X platform as part of a study aimed at analyzing trends at the intersection of **AI and climate**. The goal is to gain deeper insights into the specific themes and narratives emerging from posts that relate to both domains.\n",
    "\n",
    "The data was retrieved using the **official X API**, ensuring compliance with platform constraints and metadata integrity.\n",
    "\n",
    "In summary, this is a **real-world, multilingual, and noisy dataset**, making it a valuable benchmark to demonstrate the **robustness of our clustering and automatic annotation pipeline**.\n",
    "\n",
    "## Objective\n",
    "\n",
    "The goal here is **not to develop a new NLP method or model**, but rather to **justify the choice of UMAP** over other dimensionality reduction techniques within our pipeline.\n",
    "\n",
    "To achieve this, we will follow the steps below:\n",
    "\n",
    "1. Apply **sentence embeddings** using the `\"all-mpnet-base-v2\"` model, after deduplicating the dataset.\n",
    "2. Perform **dimensionality reduction** using three methods: **PCA (ACP)**, **t-SNE**, and **UMAP**.\n",
    "3. **Visualize, describe, and compare** the results from each method to highlight the advantages of UMAP in capturing meaningful structure.\n",
    "\n",
    "> **Remark:**  \n",
    "> We have dedicated an entire notebook to demonstrate the importance of **data deduplication** — not only for reducing computational complexity, but also for **improving model performance**.  \n",
    "> Refer to that notebook for a more detailed analysis and empirical evidence supporting this claim.\n",
    "\n"
   ]
  },
  {
   "cell_type": "markdown",
   "id": "883f0d3a",
   "metadata": {},
   "source": [
    "# Vectorisation \n"
   ]
  },
  {
   "cell_type": "code",
   "execution_count": 3,
   "id": "12b0c85f",
   "metadata": {},
   "outputs": [
    {
     "name": "stderr",
     "output_type": "stream",
     "text": [
      "Batches: 100%|██████████| 8/8 [00:04<00:00,  1.71it/s]"
     ]
    },
    {
     "name": "stdout",
     "output_type": "stream",
     "text": [
      "We have deduplicated the embeddings, reducing the dataset from 1853 to 1224 that means we have removed 33.94 % of initial data.\n"
     ]
    },
    {
     "name": "stderr",
     "output_type": "stream",
     "text": [
      "\n"
     ]
    }
   ],
   "source": [
    "model_embedding = \"all-mpnet-base-v2\"\n",
    "model = SentenceTransformer(model_embedding, device=\"cuda\")  \n",
    "# Encode the texts\n",
    "embeddings = model.encode(texts, device=\"cuda\", show_progress_bar=True, batch_size=256)\n",
    "df[\"embeddings\"] = embeddings.tolist()\n",
    "\n",
    "shape_before_deduplication = len(df[\"embeddings\"])\n",
    "df = df.drop_duplicates(subset=\"embeddings\", keep=\"first\") \n",
    "embeddings = np.vstack(df[\"embeddings\"].to_numpy())\n",
    "\n",
    "print(\"We have deduplicated the embeddings, reducing the dataset from\", shape_before_deduplication, \"to\", len(df[\"embeddings\"]), \"that means we have removed\", round((shape_before_deduplication - len(df[\"embeddings\"]))*100/shape_before_deduplication, 2),\"% of initial data.\")"
   ]
  },
  {
   "cell_type": "markdown",
   "id": "b9b2277b",
   "metadata": {},
   "source": [
    "# Réduction de dimensions\n",
    "## UMAP"
   ]
  },
  {
   "cell_type": "code",
   "execution_count": 4,
   "id": "c3801382",
   "metadata": {},
   "outputs": [
    {
     "name": "stdout",
     "output_type": "stream",
     "text": [
      "UMAP took 7.90 seconds to reduce the embeddings to 2D.\n",
      "Reduced embeddings shape: (1224, 2)\n"
     ]
    }
   ],
   "source": [
    "# Fit the UMAP model on your embeddings\n",
    "start = time.time()\n",
    "reducer = umap.UMAP(n_components=2, random_state=123).fit(embeddings)\n",
    "# Transform the embeddings to 2D\n",
    "reduced_embeddings = reducer.transform(embeddings)\n",
    "end = time.time()\n",
    "print(f\"UMAP took {end - start:.2f} seconds to reduce the embeddings to 2D.\")\n",
    "\n",
    "# Print the shape of the reduced embeddings\n",
    "print(f\"Reduced embeddings shape: {reduced_embeddings.shape}\")\n",
    "\n",
    "df['x_umap'] = reduced_embeddings[:,0]\n",
    "df['y_umap'] = reduced_embeddings[:,1]\n",
    "umap_time = end - start"
   ]
  },
  {
   "cell_type": "markdown",
   "id": "b0153b05",
   "metadata": {},
   "source": [
    "## ACP"
   ]
  },
  {
   "cell_type": "code",
   "execution_count": null,
   "id": "459a2f50",
   "metadata": {},
   "outputs": [
    {
     "name": "stdout",
     "output_type": "stream",
     "text": [
      "PCA took 0.02 seconds to reduce the embeddings to 2D.\n",
      "Shape des embeddings réduits par ACP : (1224, 2)\n"
     ]
    }
   ],
   "source": [
    "# 1. Initialiser et appliquer l'ACP\n",
    "start = time.time()\n",
    "pca = PCA(n_components=2)\n",
    "reduced_embeddings_pca = pca.fit_transform(embeddings)\n",
    "end = time.time()\n",
    "print(f\"PCA took {end - start:.2f} seconds to reduce the embeddings to 2D.\")\n",
    "# Afficher la forme des nouvelles données pour vérification\n",
    "print(f\"Shape des embeddings réduits par ACP : {reduced_embeddings_pca.shape}\")\n",
    "\n",
    "# 2. Ajouter les composantes principales au DataFrame\n",
    "df['x_pca'] = reduced_embeddings_pca[:, 0]\n",
    "df['y_pca'] = reduced_embeddings_pca[:, 1]\n",
    "\n",
    "acp_time = end - start"
   ]
  },
  {
   "cell_type": "markdown",
   "id": "b8eb8c9e",
   "metadata": {},
   "source": [
    "## t-SNE"
   ]
  },
  {
   "cell_type": "code",
   "execution_count": 7,
   "id": "ba7b8a69",
   "metadata": {},
   "outputs": [
    {
     "name": "stdout",
     "output_type": "stream",
     "text": [
      "t-SNE took 2.99 seconds to reduce the embeddings to 2D.\n",
      "Shape des embeddings réduits par t-SNE : (1224, 2)\n"
     ]
    }
   ],
   "source": [
    "# 1. Initialiser et appliquer t-SNE\n",
    "start = time.time()\n",
    "tsne = TSNE(n_components=2)\n",
    "reduced_embeddings_tsne = tsne.fit_transform(embeddings)\n",
    "end = time.time()\n",
    "print(f\"t-SNE took {end - start:.2f} seconds to reduce the embeddings to 2D.\")\n",
    "print(f\"Shape des embeddings réduits par t-SNE : {reduced_embeddings_tsne.shape}\")\n",
    "\n",
    "# 2. Ajouter les composantes principales au DataFrame\n",
    "df['tsne_x'] = reduced_embeddings_tsne[:, 0]\n",
    "df['tsne_y'] = reduced_embeddings_tsne[:, 1]\n",
    "\n",
    "tsne_time = end - start\n"
   ]
  },
  {
   "cell_type": "markdown",
   "id": "fef0c95b",
   "metadata": {},
   "source": [
    "# "
   ]
  },
  {
   "cell_type": "markdown",
   "id": "8b6d2f31",
   "metadata": {},
   "source": [
    "# Comparative Analysis of Dimensionality Reduction Methods"
   ]
  },
  {
   "cell_type": "code",
   "execution_count": 8,
   "id": "6a67f167",
   "metadata": {},
   "outputs": [
    {
     "data": {
      "application/vnd.plotly.v1+json": {
       "config": {
        "plotlyServerURL": "https://plot.ly"
       },
       "data": [
        {
         "marker": {
          "opacity": 0.6
         },
         "mode": "markers",
         "type": "scatter",
         "x": {
          "bdata": "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",
          "dtype": "f8"
         },
         "xaxis": "x",
         "y": {
          "bdata": "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",
          "dtype": "f8"
         },
         "yaxis": "y"
        },
        {
         "marker": {
          "opacity": 0.6
         },
         "mode": "markers",
         "type": "scatter",
         "x": {
          "bdata": "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",
          "dtype": "f4"
         },
         "xaxis": "x2",
         "y": {
          "bdata": "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",
          "dtype": "f4"
         },
         "yaxis": "y2"
        },
        {
         "marker": {
          "opacity": 0.6
         },
         "mode": "markers",
         "type": "scatter",
         "x": {
          "bdata": "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",
          "dtype": "f4"
         },
         "xaxis": "x3",
         "y": {
          "bdata": "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",
          "dtype": "f4"
         },
         "yaxis": "y3"
        }
       ],
       "layout": {
        "annotations": [
         {
          "font": {
           "size": 16
          },
          "showarrow": false,
          "text": "PCA Projection \n(Default settings – 0.02s)",
          "x": 0.16666666666666666,
          "xanchor": "center",
          "xref": "paper",
          "y": 1,
          "yanchor": "bottom",
          "yref": "paper"
         },
         {
          "font": {
           "size": 16
          },
          "showarrow": false,
          "text": "t‑SNE Projection \n(Default settings – 2.99s)",
          "x": 0.8333333333333333,
          "xanchor": "center",
          "xref": "paper",
          "y": 1,
          "yanchor": "bottom",
          "yref": "paper"
         },
         {
          "font": {
           "size": 16
          },
          "showarrow": false,
          "text": "UMAP Projection \n(Default settings – 7.90s)",
          "x": 0.5,
          "xanchor": "center",
          "xref": "paper",
          "y": 0.475,
          "yanchor": "bottom",
          "yref": "paper"
         }
        ],
        "height": 800,
        "margin": {
         "b": 50,
         "l": 20,
         "r": 50,
         "t": 50
        },
        "showlegend": false,
        "template": {
         "data": {
          "bar": [
           {
            "error_x": {
             "color": "#2a3f5f"
            },
            "error_y": {
             "color": "#2a3f5f"
            },
            "marker": {
             "line": {
              "color": "#E5ECF6",
              "width": 0.5
             },
             "pattern": {
              "fillmode": "overlay",
              "size": 10,
              "solidity": 0.2
             }
            },
            "type": "bar"
           }
          ],
          "barpolar": [
           {
            "marker": {
             "line": {
              "color": "#E5ECF6",
              "width": 0.5
             },
             "pattern": {
              "fillmode": "overlay",
              "size": 10,
              "solidity": 0.2
             }
            },
            "type": "barpolar"
           }
          ],
          "carpet": [
           {
            "aaxis": {
             "endlinecolor": "#2a3f5f",
             "gridcolor": "white",
             "linecolor": "white",
             "minorgridcolor": "white",
             "startlinecolor": "#2a3f5f"
            },
            "baxis": {
             "endlinecolor": "#2a3f5f",
             "gridcolor": "white",
             "linecolor": "white",
             "minorgridcolor": "white",
             "startlinecolor": "#2a3f5f"
            },
            "type": "carpet"
           }
          ],
          "choropleth": [
           {
            "colorbar": {
             "outlinewidth": 0,
             "ticks": ""
            },
            "type": "choropleth"
           }
          ],
          "contour": [
           {
            "colorbar": {
             "outlinewidth": 0,
             "ticks": ""
            },
            "colorscale": [
             [
              0,
              "#0d0887"
             ],
             [
              0.1111111111111111,
              "#46039f"
             ],
             [
              0.2222222222222222,
              "#7201a8"
             ],
             [
              0.3333333333333333,
              "#9c179e"
             ],
             [
              0.4444444444444444,
              "#bd3786"
             ],
             [
              0.5555555555555556,
              "#d8576b"
             ],
             [
              0.6666666666666666,
              "#ed7953"
             ],
             [
              0.7777777777777778,
              "#fb9f3a"
             ],
             [
              0.8888888888888888,
              "#fdca26"
             ],
             [
              1,
              "#f0f921"
             ]
            ],
            "type": "contour"
           }
          ],
          "contourcarpet": [
           {
            "colorbar": {
             "outlinewidth": 0,
             "ticks": ""
            },
            "type": "contourcarpet"
           }
          ],
          "heatmap": [
           {
            "colorbar": {
             "outlinewidth": 0,
             "ticks": ""
            },
            "colorscale": [
             [
              0,
              "#0d0887"
             ],
             [
              0.1111111111111111,
              "#46039f"
             ],
             [
              0.2222222222222222,
              "#7201a8"
             ],
             [
              0.3333333333333333,
              "#9c179e"
             ],
             [
              0.4444444444444444,
              "#bd3786"
             ],
             [
              0.5555555555555556,
              "#d8576b"
             ],
             [
              0.6666666666666666,
              "#ed7953"
             ],
             [
              0.7777777777777778,
              "#fb9f3a"
             ],
             [
              0.8888888888888888,
              "#fdca26"
             ],
             [
              1,
              "#f0f921"
             ]
            ],
            "type": "heatmap"
           }
          ],
          "histogram": [
           {
            "marker": {
             "pattern": {
              "fillmode": "overlay",
              "size": 10,
              "solidity": 0.2
             }
            },
            "type": "histogram"
           }
          ],
          "histogram2d": [
           {
            "colorbar": {
             "outlinewidth": 0,
             "ticks": ""
            },
            "colorscale": [
             [
              0,
              "#0d0887"
             ],
             [
              0.1111111111111111,
              "#46039f"
             ],
             [
              0.2222222222222222,
              "#7201a8"
             ],
             [
              0.3333333333333333,
              "#9c179e"
             ],
             [
              0.4444444444444444,
              "#bd3786"
             ],
             [
              0.5555555555555556,
              "#d8576b"
             ],
             [
              0.6666666666666666,
              "#ed7953"
             ],
             [
              0.7777777777777778,
              "#fb9f3a"
             ],
             [
              0.8888888888888888,
              "#fdca26"
             ],
             [
              1,
              "#f0f921"
             ]
            ],
            "type": "histogram2d"
           }
          ],
          "histogram2dcontour": [
           {
            "colorbar": {
             "outlinewidth": 0,
             "ticks": ""
            },
            "colorscale": [
             [
              0,
              "#0d0887"
             ],
             [
              0.1111111111111111,
              "#46039f"
             ],
             [
              0.2222222222222222,
              "#7201a8"
             ],
             [
              0.3333333333333333,
              "#9c179e"
             ],
             [
              0.4444444444444444,
              "#bd3786"
             ],
             [
              0.5555555555555556,
              "#d8576b"
             ],
             [
              0.6666666666666666,
              "#ed7953"
             ],
             [
              0.7777777777777778,
              "#fb9f3a"
             ],
             [
              0.8888888888888888,
              "#fdca26"
             ],
             [
              1,
              "#f0f921"
             ]
            ],
            "type": "histogram2dcontour"
           }
          ],
          "mesh3d": [
           {
            "colorbar": {
             "outlinewidth": 0,
             "ticks": ""
            },
            "type": "mesh3d"
           }
          ],
          "parcoords": [
           {
            "line": {
             "colorbar": {
              "outlinewidth": 0,
              "ticks": ""
             }
            },
            "type": "parcoords"
           }
          ],
          "pie": [
           {
            "automargin": true,
            "type": "pie"
           }
          ],
          "scatter": [
           {
            "fillpattern": {
             "fillmode": "overlay",
             "size": 10,
             "solidity": 0.2
            },
            "type": "scatter"
           }
          ],
          "scatter3d": [
           {
            "line": {
             "colorbar": {
              "outlinewidth": 0,
              "ticks": ""
             }
            },
            "marker": {
             "colorbar": {
              "outlinewidth": 0,
              "ticks": ""
             }
            },
            "type": "scatter3d"
           }
          ],
          "scattercarpet": [
           {
            "marker": {
             "colorbar": {
              "outlinewidth": 0,
              "ticks": ""
             }
            },
            "type": "scattercarpet"
           }
          ],
          "scattergeo": [
           {
            "marker": {
             "colorbar": {
              "outlinewidth": 0,
              "ticks": ""
             }
            },
            "type": "scattergeo"
           }
          ],
          "scattergl": [
           {
            "marker": {
             "colorbar": {
              "outlinewidth": 0,
              "ticks": ""
             }
            },
            "type": "scattergl"
           }
          ],
          "scattermap": [
           {
            "marker": {
             "colorbar": {
              "outlinewidth": 0,
              "ticks": ""
             }
            },
            "type": "scattermap"
           }
          ],
          "scattermapbox": [
           {
            "marker": {
             "colorbar": {
              "outlinewidth": 0,
              "ticks": ""
             }
            },
            "type": "scattermapbox"
           }
          ],
          "scatterpolar": [
           {
            "marker": {
             "colorbar": {
              "outlinewidth": 0,
              "ticks": ""
             }
            },
            "type": "scatterpolar"
           }
          ],
          "scatterpolargl": [
           {
            "marker": {
             "colorbar": {
              "outlinewidth": 0,
              "ticks": ""
             }
            },
            "type": "scatterpolargl"
           }
          ],
          "scatterternary": [
           {
            "marker": {
             "colorbar": {
              "outlinewidth": 0,
              "ticks": ""
             }
            },
            "type": "scatterternary"
           }
          ],
          "surface": [
           {
            "colorbar": {
             "outlinewidth": 0,
             "ticks": ""
            },
            "colorscale": [
             [
              0,
              "#0d0887"
             ],
             [
              0.1111111111111111,
              "#46039f"
             ],
             [
              0.2222222222222222,
              "#7201a8"
             ],
             [
              0.3333333333333333,
              "#9c179e"
             ],
             [
              0.4444444444444444,
              "#bd3786"
             ],
             [
              0.5555555555555556,
              "#d8576b"
             ],
             [
              0.6666666666666666,
              "#ed7953"
             ],
             [
              0.7777777777777778,
              "#fb9f3a"
             ],
             [
              0.8888888888888888,
              "#fdca26"
             ],
             [
              1,
              "#f0f921"
             ]
            ],
            "type": "surface"
           }
          ],
          "table": [
           {
            "cells": {
             "fill": {
              "color": "#EBF0F8"
             },
             "line": {
              "color": "white"
             }
            },
            "header": {
             "fill": {
              "color": "#C8D4E3"
             },
             "line": {
              "color": "white"
             }
            },
            "type": "table"
           }
          ]
         },
         "layout": {
          "annotationdefaults": {
           "arrowcolor": "#2a3f5f",
           "arrowhead": 0,
           "arrowwidth": 1
          },
          "autotypenumbers": "strict",
          "coloraxis": {
           "colorbar": {
            "outlinewidth": 0,
            "ticks": ""
           }
          },
          "colorscale": {
           "diverging": [
            [
             0,
             "#8e0152"
            ],
            [
             0.1,
             "#c51b7d"
            ],
            [
             0.2,
             "#de77ae"
            ],
            [
             0.3,
             "#f1b6da"
            ],
            [
             0.4,
             "#fde0ef"
            ],
            [
             0.5,
             "#f7f7f7"
            ],
            [
             0.6,
             "#e6f5d0"
            ],
            [
             0.7,
             "#b8e186"
            ],
            [
             0.8,
             "#7fbc41"
            ],
            [
             0.9,
             "#4d9221"
            ],
            [
             1,
             "#276419"
            ]
           ],
           "sequential": [
            [
             0,
             "#0d0887"
            ],
            [
             0.1111111111111111,
             "#46039f"
            ],
            [
             0.2222222222222222,
             "#7201a8"
            ],
            [
             0.3333333333333333,
             "#9c179e"
            ],
            [
             0.4444444444444444,
             "#bd3786"
            ],
            [
             0.5555555555555556,
             "#d8576b"
            ],
            [
             0.6666666666666666,
             "#ed7953"
            ],
            [
             0.7777777777777778,
             "#fb9f3a"
            ],
            [
             0.8888888888888888,
             "#fdca26"
            ],
            [
             1,
             "#f0f921"
            ]
           ],
           "sequentialminus": [
            [
             0,
             "#0d0887"
            ],
            [
             0.1111111111111111,
             "#46039f"
            ],
            [
             0.2222222222222222,
             "#7201a8"
            ],
            [
             0.3333333333333333,
             "#9c179e"
            ],
            [
             0.4444444444444444,
             "#bd3786"
            ],
            [
             0.5555555555555556,
             "#d8576b"
            ],
            [
             0.6666666666666666,
             "#ed7953"
            ],
            [
             0.7777777777777778,
             "#fb9f3a"
            ],
            [
             0.8888888888888888,
             "#fdca26"
            ],
            [
             1,
             "#f0f921"
            ]
           ]
          },
          "colorway": [
           "#636efa",
           "#EF553B",
           "#00cc96",
           "#ab63fa",
           "#FFA15A",
           "#19d3f3",
           "#FF6692",
           "#B6E880",
           "#FF97FF",
           "#FECB52"
          ],
          "font": {
           "color": "#2a3f5f"
          },
          "geo": {
           "bgcolor": "white",
           "lakecolor": "white",
           "landcolor": "#E5ECF6",
           "showlakes": true,
           "showland": true,
           "subunitcolor": "white"
          },
          "hoverlabel": {
           "align": "left"
          },
          "hovermode": "closest",
          "mapbox": {
           "style": "light"
          },
          "paper_bgcolor": "white",
          "plot_bgcolor": "#E5ECF6",
          "polar": {
           "angularaxis": {
            "gridcolor": "white",
            "linecolor": "white",
            "ticks": ""
           },
           "bgcolor": "#E5ECF6",
           "radialaxis": {
            "gridcolor": "white",
            "linecolor": "white",
            "ticks": ""
           }
          },
          "scene": {
           "xaxis": {
            "backgroundcolor": "#E5ECF6",
            "gridcolor": "white",
            "gridwidth": 2,
            "linecolor": "white",
            "showbackground": true,
            "ticks": "",
            "zerolinecolor": "white"
           },
           "yaxis": {
            "backgroundcolor": "#E5ECF6",
            "gridcolor": "white",
            "gridwidth": 2,
            "linecolor": "white",
            "showbackground": true,
            "ticks": "",
            "zerolinecolor": "white"
           },
           "zaxis": {
            "backgroundcolor": "#E5ECF6",
            "gridcolor": "white",
            "gridwidth": 2,
            "linecolor": "white",
            "showbackground": true,
            "ticks": "",
            "zerolinecolor": "white"
           }
          },
          "shapedefaults": {
           "line": {
            "color": "#2a3f5f"
           }
          },
          "ternary": {
           "aaxis": {
            "gridcolor": "white",
            "linecolor": "white",
            "ticks": ""
           },
           "baxis": {
            "gridcolor": "white",
            "linecolor": "white",
            "ticks": ""
           },
           "bgcolor": "#E5ECF6",
           "caxis": {
            "gridcolor": "white",
            "linecolor": "white",
            "ticks": ""
           }
          },
          "title": {
           "x": 0.05
          },
          "xaxis": {
           "automargin": true,
           "gridcolor": "white",
           "linecolor": "white",
           "ticks": "",
           "title": {
            "standoff": 15
           },
           "zerolinecolor": "white",
           "zerolinewidth": 2
          },
          "yaxis": {
           "automargin": true,
           "gridcolor": "white",
           "linecolor": "white",
           "ticks": "",
           "title": {
            "standoff": 15
           },
           "zerolinecolor": "white",
           "zerolinewidth": 2
          }
         }
        },
        "width": 1200,
        "xaxis": {
         "anchor": "y",
         "domain": [
          0,
          0.3333333333333333
         ],
         "title": {
          "text": "PCA Dim 1"
         }
        },
        "xaxis2": {
         "anchor": "y2",
         "domain": [
          0.6666666666666666,
          1
         ]
        },
        "xaxis3": {
         "anchor": "y3",
         "domain": [
          0.3333333333333333,
          0.6666666666666666
         ],
         "title": {
          "text": "UMAP Dim 1"
         }
        },
        "yaxis": {
         "anchor": "x",
         "domain": [
          0.525,
          1
         ],
         "title": {
          "text": "PCA Dim 2"
         }
        },
        "yaxis2": {
         "anchor": "x2",
         "domain": [
          0.525,
          1
         ]
        },
        "yaxis3": {
         "anchor": "x3",
         "domain": [
          0,
          0.475
         ],
         "title": {
          "text": "UMAP Dim 2"
         }
        }
       }
      }
     },
     "metadata": {},
     "output_type": "display_data"
    }
   ],
   "source": [
    "# 1) Grille 2×3 : \n",
    "#    - Ligne 1 : PCA en (1,1), t-SNE en (1,3), case (1,2) vide\n",
    "#    - Ligne 2 : UMAP en (2,2), cases (2,1) & (2,3) vides\n",
    "fig = make_subplots(\n",
    "    rows=2, cols=3,\n",
    "    specs=[\n",
    "        [{}, None, {}],\n",
    "        [None, {}, None]\n",
    "    ],\n",
    "    subplot_titles=(f\"PCA Projection \\n(Default settings – {acp_time:.2f}s)\", f\"t‑SNE Projection \\n(Default settings – {tsne_time:.2f}s)\", f\"UMAP Projection \\n(Default settings – {umap_time:.2f}s)\"),\n",
    "\n",
    "\n",
    "row_heights=[2, 2],\n",
    "    column_widths=[1.5/3, 1.5/3, 1.5/3],\n",
    "    horizontal_spacing=0,\n",
    "    vertical_spacing=0.05\n",
    ")\n",
    "\n",
    "# 2) PCA (1,1)\n",
    "fig.add_trace(\n",
    "    go.Scatter(x=df['x_pca'], y=df['y_pca'], mode='markers', marker=dict(opacity=0.6)),\n",
    "    row=1, col=1\n",
    ")\n",
    "fig.update_xaxes(title_text=\"PCA Dim 1\", row=1, col=1)\n",
    "fig.update_yaxes(title_text=\"PCA Dim 2\", row=1, col=1)\n",
    "\n",
    "# 3) t‑SNE (1,3)\n",
    "fig.add_trace(\n",
    "    go.Scatter(x=df['tsne_x'], y=df['tsne_y'], mode='markers', marker=dict(opacity=0.6)),\n",
    "    row=1, col=3\n",
    ")\n",
    "fig.update_xaxes(title_text=\"t‑SNE Dim 1\", row=1, col=2)\n",
    "fig.update_yaxes(title_text=\"t‑SNE Dim 2\", row=1, col=2)\n",
    "\n",
    "# 4) UMAP (2,2)\n",
    "fig.add_trace(\n",
    "    go.Scatter(x=df['x_umap'], y=df['y_umap'], mode='markers', marker=dict(opacity=0.6)),\n",
    "    row=2, col=2\n",
    ")\n",
    "fig.update_xaxes(title_text=\"UMAP Dim 1\", row=2, col=2)\n",
    "fig.update_yaxes(title_text=\"UMAP Dim 2\", row=2, col=2)\n",
    "\n",
    "# 5) Masquage des cases vides\n",
    "for (r, c) in [(1,2), (2,1), (2,3)]:\n",
    "    fig.update_xaxes(visible=False, row=r, col=c)\n",
    "    fig.update_yaxes(visible=False, row=r, col=c)\n",
    "\n",
    "# 6) Layout global : dimensions pour 3×400px × 2×400px\n",
    "fig.update_layout(\n",
    "    width=1200,   # 3 colonnes × 400px\n",
    "    height=800,   # 2 lignes × 400px\n",
    "    margin=dict(l=20,     # marge gauche\n",
    "            r=50,     # marge droite\n",
    "            t=50,      # marge haute\n",
    "            b=50),\n",
    "    # title_text=\"Comparaison interactive – PCA, t‑SNE (ligne 1) et UMAP centré (ligne 2)\",\n",
    "    showlegend=False\n",
    ")\n",
    "\n",
    "\n",
    "fig.show()\n"
   ]
  },
  {
   "cell_type": "markdown",
   "id": "acda2462",
   "metadata": {},
   "source": [
    "*(Dataset: 1,217 texts; CPU execution times)*\n",
    "\n",
    "| Method   | Time (≈) | Algorithmic Complexity                   | Structure Preserved      | Scalability                  |\n",
    "|:--------:|:--------:|:----------------------------------------:|:------------------------:|:----------------------------:|\n",
    "| **PCA**  | 0.02 s   | O(min(n, d)²·max(n, d))                  | Global (linear)          | Excellent                    |\n",
    "| **t-SNE**| 2.09 s   | O(n²)                                    | Local                    | Limited                      |\n",
    "| **UMAP** | 0.70 s   | O(n log n)            | Local & global           | Good (≈ O(n log n))          |\n",
    "\n",
    "\n",
    "## Why the time differences?\n",
    "\n",
    "1. **PCA (≈ 0.02 s)**  \n",
    "   - **Principle**: Eigen-decomposition of the covariance matrix.  \n",
    "\n",
    "2. **t-SNE (≈ 2.09 s)**  \n",
    "   - **Principle**: Compute all pairwise similarities → O(n²), then optimize with stochastic gradient descent, becomes prohibitive for n > a few thousand.\n",
    "\n",
    "3. **UMAP (≈ 0.70 s)**  \n",
    "   - **Principle**:  \n",
    "     - Build a nearest-neighbor graph (≈ O(n log n)) via NN-descent.  \n",
    "     - Optimize embedding with SGD (linear in n for fixed iterations).  \n",
    "   - **Outcome**: Balanced trade-off between speed and quality (local & global), we can say on the graph, it gives the most performant results among the other methods.\n",
    "\n",
    "\n",
    "## Why choose UMAP in the topic modeling pipeline?\n",
    "\n",
    "UMAP is a leading choice in topic modeling pipelines because it combines **performance**, **scalability**, and **structural quality**. It is significantly faster than t-SNE and separates clusters more effectively than PCA and t-sne. Its key strength lies in its unique ability to preserve both **local** structure (creating dense, coherent groups) and **global** structure (maintaining the relationships between clusters), which is crucial for a faithful data representation. The method is also highly scalable, handling thousands to over a million documents, especially when accelerated on GPUs with RAPIDS AI to avoid costly quadratic complexity. By integrating it before a clustering step like HDBSCAN, UMAP significantly improves the semantic coherence of topics by providing a richer, better-structured data representation.\n",
    "\n",
    "But the algorithm's output is **sensitive to its hyperparameters**, such as `n_neighbors` and `min_dist`, requiring careful tuning. Additionally, while fast, its runtime can still range from seconds to minutes on very large datasets, a practical limitation to keep in mind.\n",
    "\n",
    "> **Note**:  \n",
    "> With **RAPIDS AI** and GPUs, even hundreds of thousands of texts are no longer a bottleneck.  \n",
    "> Becareful, not only the method of dimension reduction which gives best quality, but also the algorithm of embeddings.\n",
    "\n",
    "See More: [\"UMAP: Uniform Manifold Approximation and Projection for Dimension Reduction\"](https://arxiv.org/pdf/1802.03426)\n"
   ]
  }
 ],
 "metadata": {
  "kernelspec": {
   "display_name": "Python 3",
   "language": "python",
   "name": "python3"
  },
  "language_info": {
   "codemirror_mode": {
    "name": "ipython",
    "version": 3
   },
   "file_extension": ".py",
   "mimetype": "text/x-python",
   "name": "python",
   "nbconvert_exporter": "python",
   "pygments_lexer": "ipython3",
   "version": "3.11.9"
  }
 },
 "nbformat": 4,
 "nbformat_minor": 5
}

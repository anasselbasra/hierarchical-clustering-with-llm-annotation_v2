{
 "cells": [
  {
   "cell_type": "markdown",
   "id": "20080e57",
   "metadata": {},
   "source": [
    "# why we cannot rely on text deduplication alone"
   ]
  },
  {
   "cell_type": "markdown",
   "id": "032fc304",
   "metadata": {},
   "source": [
    "While working on a custom **topic modeling repository**, I designed a complete pipeline — from text preprocessing to clustering, including a custom meta-clustering method and final **automatic annotation using LLMs**. This pipeline is meant to be robust, modular, and efficient — a unique piece of work I hope to release soon, inshallah. I’ll share the full technical details at the right time.\n",
    "\n",
    "In the preprocessing stage, I made sure to remove all **duplicated texts**. However, when running `cuml.UMAP` (from RAPIDS.ai, which speeds up dimensionality reduction with GPU support), I encountered the following error:\n",
    "\n",
    "> `RuntimeError: At least one row does not have any neighbor with non-zero distance.`\n",
    "\n",
    "This means that some rows (i.e., embeddings) are **identical**, resulting in **zero-distance neighbors**, which breaks UMAP's internal graph construction.\n",
    "\n",
    "But how is that possible if no duplicate texts are present?\n",
    "\n",
    "After investigating the embeddings… the **surprise** was clear: some **different texts were mapped to exactly the same vector**.\n",
    "\n",
    "This raised a critical question:  \n",
    "**Are popular embedding models robust enough to handle fine-grained textual differences — especially when used in downstream tasks like UMAP, clustering, or sentiment analysis?**\n",
    "\n",
    "That’s what this analysis aims to explore, by testing:\n",
    "- `all-MiniLM-L6-v2`\n",
    "- `jina-embeddings-v2-base-en`\n",
    "- `text-embedding-3-large` (OpenAI)\n",
    "\n",
    "We’ll dive into how these models react to surface-level variations and contextual shifts, and how these behaviors can directly affect tasks such as **semantic clustering** and **sentiment analysis**.\n"
   ]
  },
  {
   "cell_type": "markdown",
   "id": "cf11fd4f",
   "metadata": {},
   "source": [
    "# Embedding Robustness: Why Basic Text Deduplication Isn't Enough\n",
    "\n",
    "When working with NLP, the **first critical step** is transforming raw text into numerical representations — **word embeddings**. Unlike traditional methods like Bag-of-Words or TF-IDF, modern embedding models capture **semantic meaning** in dense vector form.\n",
    "\n",
    "However, not all embedding models behave equally in terms of **robustness to minor variations**. To evaluate this, we ran a small test comparing three widely used models:\n",
    "\n",
    "- `all-MiniLM-L6-v2` (Sentence Transformers)\n",
    "- `jina-embeddings-v2-base-en` (Jina AI)\n",
    "- `text-embedding-3-large` (OpenAI's latest commercial model)\n",
    "\n",
    "We tested each model on a set of **15 English sentences** featuring **light surface variations**, such as:\n",
    "\n",
    "- Punctuation differences (e.g., `\".\"` vs `\"!\"`)\n",
    "- Case changes (e.g., `\"hello\"` vs `\"HELLO\"`)\n",
    "- Repetitions of nearly identical or identical texts\n",
    "\n",
    "## ➤ Text Sample Used:\n",
    "\n",
    "```text\n",
    "1. \"The weather is nice today.\"\n",
    "2. \"The weather is nice today!\"\n",
    "3. \"The weather is nice today.\"\n",
    "4. \"The Weather is nice today.\"\n",
    "5. \"It is hot in Paris this summer.\"\n",
    "6. \"It is hot in Paris this summer\"\n",
    "7. \"It is HOT in Paris this summer.\"\n",
    "8. \"Hello world.\"\n",
    "9. \"Hello world!\"\n",
    "10. \"HELLO world.\"\n",
    "11. \"Machine learning is fascinating.\"\n",
    "12. \"Machine learning is fascinating!\"\n",
    "13. \"Artificial intelligence is fascinating.\"\n",
    "14. \"Football is a popular sport.\"\n",
    "15. \"Switching to English is sometimes useful.\"\n"
   ]
  },
  {
   "cell_type": "code",
   "execution_count": null,
   "id": "f3ab0f10",
   "metadata": {},
   "outputs": [
    {
     "name": "stderr",
     "output_type": "stream",
     "text": [
      "flash_attn is not installed. Using PyTorch native attention implementation.\n",
      "flash_attn is not installed. Using PyTorch native attention implementation.\n",
      "flash_attn is not installed. Using PyTorch native attention implementation.\n",
      "flash_attn is not installed. Using PyTorch native attention implementation.\n",
      "flash_attn is not installed. Using PyTorch native attention implementation.\n",
      "flash_attn is not installed. Using PyTorch native attention implementation.\n",
      "flash_attn is not installed. Using PyTorch native attention implementation.\n",
      "flash_attn is not installed. Using PyTorch native attention implementation.\n",
      "flash_attn is not installed. Using PyTorch native attention implementation.\n",
      "flash_attn is not installed. Using PyTorch native attention implementation.\n",
      "flash_attn is not installed. Using PyTorch native attention implementation.\n",
      "flash_attn is not installed. Using PyTorch native attention implementation.\n",
      "flash_attn is not installed. Using PyTorch native attention implementation.\n",
      "flash_attn is not installed. Using PyTorch native attention implementation.\n",
      "flash_attn is not installed. Using PyTorch native attention implementation.\n",
      "flash_attn is not installed. Using PyTorch native attention implementation.\n",
      "flash_attn is not installed. Using PyTorch native attention implementation.\n",
      "flash_attn is not installed. Using PyTorch native attention implementation.\n",
      "flash_attn is not installed. Using PyTorch native attention implementation.\n",
      "flash_attn is not installed. Using PyTorch native attention implementation.\n",
      "flash_attn is not installed. Using PyTorch native attention implementation.\n",
      "flash_attn is not installed. Using PyTorch native attention implementation.\n",
      "flash_attn is not installed. Using PyTorch native attention implementation.\n",
      "flash_attn is not installed. Using PyTorch native attention implementation.\n",
      "flash_attn is not installed. Using PyTorch native attention implementation.\n"
     ]
    },
    {
     "data": {
      "application/vnd.plotly.v1+json": {
       "config": {
        "plotlyServerURL": "https://plot.ly"
       },
       "data": [
        {
         "colorbar": {
          "title": {
           "text": "Cosine<br>Similarity"
          }
         },
         "colorscale": [
          [
           0,
           "#440154"
          ],
          [
           0.1111111111111111,
           "#482878"
          ],
          [
           0.2222222222222222,
           "#3e4989"
          ],
          [
           0.3333333333333333,
           "#31688e"
          ],
          [
           0.4444444444444444,
           "#26828e"
          ],
          [
           0.5555555555555556,
           "#1f9e89"
          ],
          [
           0.6666666666666666,
           "#35b779"
          ],
          [
           0.7777777777777778,
           "#6ece58"
          ],
          [
           0.8888888888888888,
           "#b5de2b"
          ],
          [
           1,
           "#fde725"
          ]
         ],
         "hoverinfo": "text",
         "text": [
          [
           "<b>Index X:</b> 0<br><b>Text X:</b> The weather is nice today.<br><b>Index Y:</b> 0<br><b>Text Y:</b> The weather is nice today.<br><b>Cosine Similarity:</b> 1.000",
           "<b>Index X:</b> 1<br><b>Text X:</b> The weather is nice today!<br><b>Index Y:</b> 0<br><b>Text Y:</b> The weather is nice today.<br><b>Cosine Similarity:</b> 0.951",
           "<b>Index X:</b> 2<br><b>Text X:</b> The weather is nice today.<br><b>Index Y:</b> 0<br><b>Text Y:</b> The weather is nice today.<br><b>Cosine Similarity:</b> 1.000",
           "<b>Index X:</b> 3<br><b>Text X:</b> The Weather is nice today.<br><b>Index Y:</b> 0<br><b>Text Y:</b> The weather is nice today.<br><b>Cosine Similarity:</b> 1.000",
           "<b>Index X:</b> 4<br><b>Text X:</b> It is hot in Paris this summer.<br><b>Index Y:</b> 0<br><b>Text Y:</b> The weather is nice today.<br><b>Cosine Similarity:</b> 0.340",
           "<b>Index X:</b> 5<br><b>Text X:</b> It is hot in Paris this summer<br><b>Index Y:</b> 0<br><b>Text Y:</b> The weather is nice today.<br><b>Cosine Similarity:</b> 0.337",
           "<b>Index X:</b> 6<br><b>Text X:</b> It is HOT in Paris this summer.<br><b>Index Y:</b> 0<br><b>Text Y:</b> The weather is nice today.<br><b>Cosine Similarity:</b> 0.340",
           "<b>Index X:</b> 7<br><b>Text X:</b> Hello world.<br><b>Index Y:</b> 0<br><b>Text Y:</b> The weather is nice today.<br><b>Cosine Similarity:</b> 0.265",
           "<b>Index X:</b> 8<br><b>Text X:</b> Hello world!<br><b>Index Y:</b> 0<br><b>Text Y:</b> The weather is nice today.<br><b>Cosine Similarity:</b> 0.278",
           "<b>Index X:</b> 9<br><b>Text X:</b> HELLO world.<br><b>Index Y:</b> 0<br><b>Text Y:</b> The weather is nice today.<br><b>Cosine Similarity:</b> 0.265",
           "<b>Index X:</b> 10<br><b>Text X:</b> Machine learning is fascinating.<br><b>Index Y:</b> 0<br><b>Text Y:</b> The weather is nice today.<br><b>Cosine Similarity:</b> 0.017",
           "<b>Index X:</b> 11<br><b>Text X:</b> Machine learning is fascinating!<br><b>Index Y:</b> 0<br><b>Text Y:</b> The weather is nice today.<br><b>Cosine Similarity:</b> 0.043",
           "<b>Index X:</b> 12<br><b>Text X:</b> Artificial intelligence is fascinating.<br><b>Index Y:</b> 0<br><b>Text Y:</b> The weather is nice today.<br><b>Cosine Similarity:</b> -0.018",
           "<b>Index X:</b> 13<br><b>Text X:</b> Football is a popular sport.<br><b>Index Y:</b> 0<br><b>Text Y:</b> The weather is nice today.<br><b>Cosine Similarity:</b> 0.073",
           "<b>Index X:</b> 14<br><b>Text X:</b> Switching to English is sometimes useful.<br><b>Index Y:</b> 0<br><b>Text Y:</b> The weather is nice today.<br><b>Cosine Similarity:</b> 0.030"
          ],
          [
           "<b>Index X:</b> 0<br><b>Text X:</b> The weather is nice today.<br><b>Index Y:</b> 1<br><b>Text Y:</b> The weather is nice today!<br><b>Cosine Similarity:</b> 0.951",
           "<b>Index X:</b> 1<br><b>Text X:</b> The weather is nice today!<br><b>Index Y:</b> 1<br><b>Text Y:</b> The weather is nice today!<br><b>Cosine Similarity:</b> 1.000",
           "<b>Index X:</b> 2<br><b>Text X:</b> The weather is nice today.<br><b>Index Y:</b> 1<br><b>Text Y:</b> The weather is nice today!<br><b>Cosine Similarity:</b> 0.951",
           "<b>Index X:</b> 3<br><b>Text X:</b> The Weather is nice today.<br><b>Index Y:</b> 1<br><b>Text Y:</b> The weather is nice today!<br><b>Cosine Similarity:</b> 0.951",
           "<b>Index X:</b> 4<br><b>Text X:</b> It is hot in Paris this summer.<br><b>Index Y:</b> 1<br><b>Text Y:</b> The weather is nice today!<br><b>Cosine Similarity:</b> 0.320",
           "<b>Index X:</b> 5<br><b>Text X:</b> It is hot in Paris this summer<br><b>Index Y:</b> 1<br><b>Text Y:</b> The weather is nice today!<br><b>Cosine Similarity:</b> 0.324",
           "<b>Index X:</b> 6<br><b>Text X:</b> It is HOT in Paris this summer.<br><b>Index Y:</b> 1<br><b>Text Y:</b> The weather is nice today!<br><b>Cosine Similarity:</b> 0.320",
           "<b>Index X:</b> 7<br><b>Text X:</b> Hello world.<br><b>Index Y:</b> 1<br><b>Text Y:</b> The weather is nice today!<br><b>Cosine Similarity:</b> 0.278",
           "<b>Index X:</b> 8<br><b>Text X:</b> Hello world!<br><b>Index Y:</b> 1<br><b>Text Y:</b> The weather is nice today!<br><b>Cosine Similarity:</b> 0.364",
           "<b>Index X:</b> 9<br><b>Text X:</b> HELLO world.<br><b>Index Y:</b> 1<br><b>Text Y:</b> The weather is nice today!<br><b>Cosine Similarity:</b> 0.278",
           "<b>Index X:</b> 10<br><b>Text X:</b> Machine learning is fascinating.<br><b>Index Y:</b> 1<br><b>Text Y:</b> The weather is nice today!<br><b>Cosine Similarity:</b> 0.019",
           "<b>Index X:</b> 11<br><b>Text X:</b> Machine learning is fascinating!<br><b>Index Y:</b> 1<br><b>Text Y:</b> The weather is nice today!<br><b>Cosine Similarity:</b> 0.089",
           "<b>Index X:</b> 12<br><b>Text X:</b> Artificial intelligence is fascinating.<br><b>Index Y:</b> 1<br><b>Text Y:</b> The weather is nice today!<br><b>Cosine Similarity:</b> -0.007",
           "<b>Index X:</b> 13<br><b>Text X:</b> Football is a popular sport.<br><b>Index Y:</b> 1<br><b>Text Y:</b> The weather is nice today!<br><b>Cosine Similarity:</b> 0.047",
           "<b>Index X:</b> 14<br><b>Text X:</b> Switching to English is sometimes useful.<br><b>Index Y:</b> 1<br><b>Text Y:</b> The weather is nice today!<br><b>Cosine Similarity:</b> 0.024"
          ],
          [
           "<b>Index X:</b> 0<br><b>Text X:</b> The weather is nice today.<br><b>Index Y:</b> 2<br><b>Text Y:</b> The weather is nice today.<br><b>Cosine Similarity:</b> 1.000",
           "<b>Index X:</b> 1<br><b>Text X:</b> The weather is nice today!<br><b>Index Y:</b> 2<br><b>Text Y:</b> The weather is nice today.<br><b>Cosine Similarity:</b> 0.951",
           "<b>Index X:</b> 2<br><b>Text X:</b> The weather is nice today.<br><b>Index Y:</b> 2<br><b>Text Y:</b> The weather is nice today.<br><b>Cosine Similarity:</b> 1.000",
           "<b>Index X:</b> 3<br><b>Text X:</b> The Weather is nice today.<br><b>Index Y:</b> 2<br><b>Text Y:</b> The weather is nice today.<br><b>Cosine Similarity:</b> 1.000",
           "<b>Index X:</b> 4<br><b>Text X:</b> It is hot in Paris this summer.<br><b>Index Y:</b> 2<br><b>Text Y:</b> The weather is nice today.<br><b>Cosine Similarity:</b> 0.340",
           "<b>Index X:</b> 5<br><b>Text X:</b> It is hot in Paris this summer<br><b>Index Y:</b> 2<br><b>Text Y:</b> The weather is nice today.<br><b>Cosine Similarity:</b> 0.337",
           "<b>Index X:</b> 6<br><b>Text X:</b> It is HOT in Paris this summer.<br><b>Index Y:</b> 2<br><b>Text Y:</b> The weather is nice today.<br><b>Cosine Similarity:</b> 0.340",
           "<b>Index X:</b> 7<br><b>Text X:</b> Hello world.<br><b>Index Y:</b> 2<br><b>Text Y:</b> The weather is nice today.<br><b>Cosine Similarity:</b> 0.265",
           "<b>Index X:</b> 8<br><b>Text X:</b> Hello world!<br><b>Index Y:</b> 2<br><b>Text Y:</b> The weather is nice today.<br><b>Cosine Similarity:</b> 0.278",
           "<b>Index X:</b> 9<br><b>Text X:</b> HELLO world.<br><b>Index Y:</b> 2<br><b>Text Y:</b> The weather is nice today.<br><b>Cosine Similarity:</b> 0.265",
           "<b>Index X:</b> 10<br><b>Text X:</b> Machine learning is fascinating.<br><b>Index Y:</b> 2<br><b>Text Y:</b> The weather is nice today.<br><b>Cosine Similarity:</b> 0.017",
           "<b>Index X:</b> 11<br><b>Text X:</b> Machine learning is fascinating!<br><b>Index Y:</b> 2<br><b>Text Y:</b> The weather is nice today.<br><b>Cosine Similarity:</b> 0.043",
           "<b>Index X:</b> 12<br><b>Text X:</b> Artificial intelligence is fascinating.<br><b>Index Y:</b> 2<br><b>Text Y:</b> The weather is nice today.<br><b>Cosine Similarity:</b> -0.018",
           "<b>Index X:</b> 13<br><b>Text X:</b> Football is a popular sport.<br><b>Index Y:</b> 2<br><b>Text Y:</b> The weather is nice today.<br><b>Cosine Similarity:</b> 0.073",
           "<b>Index X:</b> 14<br><b>Text X:</b> Switching to English is sometimes useful.<br><b>Index Y:</b> 2<br><b>Text Y:</b> The weather is nice today.<br><b>Cosine Similarity:</b> 0.030"
          ],
          [
           "<b>Index X:</b> 0<br><b>Text X:</b> The weather is nice today.<br><b>Index Y:</b> 3<br><b>Text Y:</b> The Weather is nice today.<br><b>Cosine Similarity:</b> 1.000",
           "<b>Index X:</b> 1<br><b>Text X:</b> The weather is nice today!<br><b>Index Y:</b> 3<br><b>Text Y:</b> The Weather is nice today.<br><b>Cosine Similarity:</b> 0.951",
           "<b>Index X:</b> 2<br><b>Text X:</b> The weather is nice today.<br><b>Index Y:</b> 3<br><b>Text Y:</b> The Weather is nice today.<br><b>Cosine Similarity:</b> 1.000",
           "<b>Index X:</b> 3<br><b>Text X:</b> The Weather is nice today.<br><b>Index Y:</b> 3<br><b>Text Y:</b> The Weather is nice today.<br><b>Cosine Similarity:</b> 1.000",
           "<b>Index X:</b> 4<br><b>Text X:</b> It is hot in Paris this summer.<br><b>Index Y:</b> 3<br><b>Text Y:</b> The Weather is nice today.<br><b>Cosine Similarity:</b> 0.340",
           "<b>Index X:</b> 5<br><b>Text X:</b> It is hot in Paris this summer<br><b>Index Y:</b> 3<br><b>Text Y:</b> The Weather is nice today.<br><b>Cosine Similarity:</b> 0.337",
           "<b>Index X:</b> 6<br><b>Text X:</b> It is HOT in Paris this summer.<br><b>Index Y:</b> 3<br><b>Text Y:</b> The Weather is nice today.<br><b>Cosine Similarity:</b> 0.340",
           "<b>Index X:</b> 7<br><b>Text X:</b> Hello world.<br><b>Index Y:</b> 3<br><b>Text Y:</b> The Weather is nice today.<br><b>Cosine Similarity:</b> 0.265",
           "<b>Index X:</b> 8<br><b>Text X:</b> Hello world!<br><b>Index Y:</b> 3<br><b>Text Y:</b> The Weather is nice today.<br><b>Cosine Similarity:</b> 0.278",
           "<b>Index X:</b> 9<br><b>Text X:</b> HELLO world.<br><b>Index Y:</b> 3<br><b>Text Y:</b> The Weather is nice today.<br><b>Cosine Similarity:</b> 0.265",
           "<b>Index X:</b> 10<br><b>Text X:</b> Machine learning is fascinating.<br><b>Index Y:</b> 3<br><b>Text Y:</b> The Weather is nice today.<br><b>Cosine Similarity:</b> 0.017",
           "<b>Index X:</b> 11<br><b>Text X:</b> Machine learning is fascinating!<br><b>Index Y:</b> 3<br><b>Text Y:</b> The Weather is nice today.<br><b>Cosine Similarity:</b> 0.043",
           "<b>Index X:</b> 12<br><b>Text X:</b> Artificial intelligence is fascinating.<br><b>Index Y:</b> 3<br><b>Text Y:</b> The Weather is nice today.<br><b>Cosine Similarity:</b> -0.018",
           "<b>Index X:</b> 13<br><b>Text X:</b> Football is a popular sport.<br><b>Index Y:</b> 3<br><b>Text Y:</b> The Weather is nice today.<br><b>Cosine Similarity:</b> 0.073",
           "<b>Index X:</b> 14<br><b>Text X:</b> Switching to English is sometimes useful.<br><b>Index Y:</b> 3<br><b>Text Y:</b> The Weather is nice today.<br><b>Cosine Similarity:</b> 0.030"
          ],
          [
           "<b>Index X:</b> 0<br><b>Text X:</b> The weather is nice today.<br><b>Index Y:</b> 4<br><b>Text Y:</b> It is hot in Paris this summer.<br><b>Cosine Similarity:</b> 0.340",
           "<b>Index X:</b> 1<br><b>Text X:</b> The weather is nice today!<br><b>Index Y:</b> 4<br><b>Text Y:</b> It is hot in Paris this summer.<br><b>Cosine Similarity:</b> 0.320",
           "<b>Index X:</b> 2<br><b>Text X:</b> The weather is nice today.<br><b>Index Y:</b> 4<br><b>Text Y:</b> It is hot in Paris this summer.<br><b>Cosine Similarity:</b> 0.340",
           "<b>Index X:</b> 3<br><b>Text X:</b> The Weather is nice today.<br><b>Index Y:</b> 4<br><b>Text Y:</b> It is hot in Paris this summer.<br><b>Cosine Similarity:</b> 0.340",
           "<b>Index X:</b> 4<br><b>Text X:</b> It is hot in Paris this summer.<br><b>Index Y:</b> 4<br><b>Text Y:</b> It is hot in Paris this summer.<br><b>Cosine Similarity:</b> 1.000",
           "<b>Index X:</b> 5<br><b>Text X:</b> It is hot in Paris this summer<br><b>Index Y:</b> 4<br><b>Text Y:</b> It is hot in Paris this summer.<br><b>Cosine Similarity:</b> 0.995",
           "<b>Index X:</b> 6<br><b>Text X:</b> It is HOT in Paris this summer.<br><b>Index Y:</b> 4<br><b>Text Y:</b> It is hot in Paris this summer.<br><b>Cosine Similarity:</b> 1.000",
           "<b>Index X:</b> 7<br><b>Text X:</b> Hello world.<br><b>Index Y:</b> 4<br><b>Text Y:</b> It is hot in Paris this summer.<br><b>Cosine Similarity:</b> 0.084",
           "<b>Index X:</b> 8<br><b>Text X:</b> Hello world!<br><b>Index Y:</b> 4<br><b>Text Y:</b> It is hot in Paris this summer.<br><b>Cosine Similarity:</b> 0.103",
           "<b>Index X:</b> 9<br><b>Text X:</b> HELLO world.<br><b>Index Y:</b> 4<br><b>Text Y:</b> It is hot in Paris this summer.<br><b>Cosine Similarity:</b> 0.084",
           "<b>Index X:</b> 10<br><b>Text X:</b> Machine learning is fascinating.<br><b>Index Y:</b> 4<br><b>Text Y:</b> It is hot in Paris this summer.<br><b>Cosine Similarity:</b> 0.056",
           "<b>Index X:</b> 11<br><b>Text X:</b> Machine learning is fascinating!<br><b>Index Y:</b> 4<br><b>Text Y:</b> It is hot in Paris this summer.<br><b>Cosine Similarity:</b> 0.075",
           "<b>Index X:</b> 12<br><b>Text X:</b> Artificial intelligence is fascinating.<br><b>Index Y:</b> 4<br><b>Text Y:</b> It is hot in Paris this summer.<br><b>Cosine Similarity:</b> -0.015",
           "<b>Index X:</b> 13<br><b>Text X:</b> Football is a popular sport.<br><b>Index Y:</b> 4<br><b>Text Y:</b> It is hot in Paris this summer.<br><b>Cosine Similarity:</b> 0.084",
           "<b>Index X:</b> 14<br><b>Text X:</b> Switching to English is sometimes useful.<br><b>Index Y:</b> 4<br><b>Text Y:</b> It is hot in Paris this summer.<br><b>Cosine Similarity:</b> 0.041"
          ],
          [
           "<b>Index X:</b> 0<br><b>Text X:</b> The weather is nice today.<br><b>Index Y:</b> 5<br><b>Text Y:</b> It is hot in Paris this summer<br><b>Cosine Similarity:</b> 0.337",
           "<b>Index X:</b> 1<br><b>Text X:</b> The weather is nice today!<br><b>Index Y:</b> 5<br><b>Text Y:</b> It is hot in Paris this summer<br><b>Cosine Similarity:</b> 0.324",
           "<b>Index X:</b> 2<br><b>Text X:</b> The weather is nice today.<br><b>Index Y:</b> 5<br><b>Text Y:</b> It is hot in Paris this summer<br><b>Cosine Similarity:</b> 0.337",
           "<b>Index X:</b> 3<br><b>Text X:</b> The Weather is nice today.<br><b>Index Y:</b> 5<br><b>Text Y:</b> It is hot in Paris this summer<br><b>Cosine Similarity:</b> 0.337",
           "<b>Index X:</b> 4<br><b>Text X:</b> It is hot in Paris this summer.<br><b>Index Y:</b> 5<br><b>Text Y:</b> It is hot in Paris this summer<br><b>Cosine Similarity:</b> 0.995",
           "<b>Index X:</b> 5<br><b>Text X:</b> It is hot in Paris this summer<br><b>Index Y:</b> 5<br><b>Text Y:</b> It is hot in Paris this summer<br><b>Cosine Similarity:</b> 1.000",
           "<b>Index X:</b> 6<br><b>Text X:</b> It is HOT in Paris this summer.<br><b>Index Y:</b> 5<br><b>Text Y:</b> It is hot in Paris this summer<br><b>Cosine Similarity:</b> 0.995",
           "<b>Index X:</b> 7<br><b>Text X:</b> Hello world.<br><b>Index Y:</b> 5<br><b>Text Y:</b> It is hot in Paris this summer<br><b>Cosine Similarity:</b> 0.075",
           "<b>Index X:</b> 8<br><b>Text X:</b> Hello world!<br><b>Index Y:</b> 5<br><b>Text Y:</b> It is hot in Paris this summer<br><b>Cosine Similarity:</b> 0.101",
           "<b>Index X:</b> 9<br><b>Text X:</b> HELLO world.<br><b>Index Y:</b> 5<br><b>Text Y:</b> It is hot in Paris this summer<br><b>Cosine Similarity:</b> 0.075",
           "<b>Index X:</b> 10<br><b>Text X:</b> Machine learning is fascinating.<br><b>Index Y:</b> 5<br><b>Text Y:</b> It is hot in Paris this summer<br><b>Cosine Similarity:</b> 0.041",
           "<b>Index X:</b> 11<br><b>Text X:</b> Machine learning is fascinating!<br><b>Index Y:</b> 5<br><b>Text Y:</b> It is hot in Paris this summer<br><b>Cosine Similarity:</b> 0.066",
           "<b>Index X:</b> 12<br><b>Text X:</b> Artificial intelligence is fascinating.<br><b>Index Y:</b> 5<br><b>Text Y:</b> It is hot in Paris this summer<br><b>Cosine Similarity:</b> -0.030",
           "<b>Index X:</b> 13<br><b>Text X:</b> Football is a popular sport.<br><b>Index Y:</b> 5<br><b>Text Y:</b> It is hot in Paris this summer<br><b>Cosine Similarity:</b> 0.087",
           "<b>Index X:</b> 14<br><b>Text X:</b> Switching to English is sometimes useful.<br><b>Index Y:</b> 5<br><b>Text Y:</b> It is hot in Paris this summer<br><b>Cosine Similarity:</b> 0.040"
          ],
          [
           "<b>Index X:</b> 0<br><b>Text X:</b> The weather is nice today.<br><b>Index Y:</b> 6<br><b>Text Y:</b> It is HOT in Paris this summer.<br><b>Cosine Similarity:</b> 0.340",
           "<b>Index X:</b> 1<br><b>Text X:</b> The weather is nice today!<br><b>Index Y:</b> 6<br><b>Text Y:</b> It is HOT in Paris this summer.<br><b>Cosine Similarity:</b> 0.320",
           "<b>Index X:</b> 2<br><b>Text X:</b> The weather is nice today.<br><b>Index Y:</b> 6<br><b>Text Y:</b> It is HOT in Paris this summer.<br><b>Cosine Similarity:</b> 0.340",
           "<b>Index X:</b> 3<br><b>Text X:</b> The Weather is nice today.<br><b>Index Y:</b> 6<br><b>Text Y:</b> It is HOT in Paris this summer.<br><b>Cosine Similarity:</b> 0.340",
           "<b>Index X:</b> 4<br><b>Text X:</b> It is hot in Paris this summer.<br><b>Index Y:</b> 6<br><b>Text Y:</b> It is HOT in Paris this summer.<br><b>Cosine Similarity:</b> 1.000",
           "<b>Index X:</b> 5<br><b>Text X:</b> It is hot in Paris this summer<br><b>Index Y:</b> 6<br><b>Text Y:</b> It is HOT in Paris this summer.<br><b>Cosine Similarity:</b> 0.995",
           "<b>Index X:</b> 6<br><b>Text X:</b> It is HOT in Paris this summer.<br><b>Index Y:</b> 6<br><b>Text Y:</b> It is HOT in Paris this summer.<br><b>Cosine Similarity:</b> 1.000",
           "<b>Index X:</b> 7<br><b>Text X:</b> Hello world.<br><b>Index Y:</b> 6<br><b>Text Y:</b> It is HOT in Paris this summer.<br><b>Cosine Similarity:</b> 0.084",
           "<b>Index X:</b> 8<br><b>Text X:</b> Hello world!<br><b>Index Y:</b> 6<br><b>Text Y:</b> It is HOT in Paris this summer.<br><b>Cosine Similarity:</b> 0.103",
           "<b>Index X:</b> 9<br><b>Text X:</b> HELLO world.<br><b>Index Y:</b> 6<br><b>Text Y:</b> It is HOT in Paris this summer.<br><b>Cosine Similarity:</b> 0.084",
           "<b>Index X:</b> 10<br><b>Text X:</b> Machine learning is fascinating.<br><b>Index Y:</b> 6<br><b>Text Y:</b> It is HOT in Paris this summer.<br><b>Cosine Similarity:</b> 0.056",
           "<b>Index X:</b> 11<br><b>Text X:</b> Machine learning is fascinating!<br><b>Index Y:</b> 6<br><b>Text Y:</b> It is HOT in Paris this summer.<br><b>Cosine Similarity:</b> 0.075",
           "<b>Index X:</b> 12<br><b>Text X:</b> Artificial intelligence is fascinating.<br><b>Index Y:</b> 6<br><b>Text Y:</b> It is HOT in Paris this summer.<br><b>Cosine Similarity:</b> -0.015",
           "<b>Index X:</b> 13<br><b>Text X:</b> Football is a popular sport.<br><b>Index Y:</b> 6<br><b>Text Y:</b> It is HOT in Paris this summer.<br><b>Cosine Similarity:</b> 0.084",
           "<b>Index X:</b> 14<br><b>Text X:</b> Switching to English is sometimes useful.<br><b>Index Y:</b> 6<br><b>Text Y:</b> It is HOT in Paris this summer.<br><b>Cosine Similarity:</b> 0.041"
          ],
          [
           "<b>Index X:</b> 0<br><b>Text X:</b> The weather is nice today.<br><b>Index Y:</b> 7<br><b>Text Y:</b> Hello world.<br><b>Cosine Similarity:</b> 0.265",
           "<b>Index X:</b> 1<br><b>Text X:</b> The weather is nice today!<br><b>Index Y:</b> 7<br><b>Text Y:</b> Hello world.<br><b>Cosine Similarity:</b> 0.278",
           "<b>Index X:</b> 2<br><b>Text X:</b> The weather is nice today.<br><b>Index Y:</b> 7<br><b>Text Y:</b> Hello world.<br><b>Cosine Similarity:</b> 0.265",
           "<b>Index X:</b> 3<br><b>Text X:</b> The Weather is nice today.<br><b>Index Y:</b> 7<br><b>Text Y:</b> Hello world.<br><b>Cosine Similarity:</b> 0.265",
           "<b>Index X:</b> 4<br><b>Text X:</b> It is hot in Paris this summer.<br><b>Index Y:</b> 7<br><b>Text Y:</b> Hello world.<br><b>Cosine Similarity:</b> 0.084",
           "<b>Index X:</b> 5<br><b>Text X:</b> It is hot in Paris this summer<br><b>Index Y:</b> 7<br><b>Text Y:</b> Hello world.<br><b>Cosine Similarity:</b> 0.075",
           "<b>Index X:</b> 6<br><b>Text X:</b> It is HOT in Paris this summer.<br><b>Index Y:</b> 7<br><b>Text Y:</b> Hello world.<br><b>Cosine Similarity:</b> 0.084",
           "<b>Index X:</b> 7<br><b>Text X:</b> Hello world.<br><b>Index Y:</b> 7<br><b>Text Y:</b> Hello world.<br><b>Cosine Similarity:</b> 1.000",
           "<b>Index X:</b> 8<br><b>Text X:</b> Hello world!<br><b>Index Y:</b> 7<br><b>Text Y:</b> Hello world.<br><b>Cosine Similarity:</b> 0.927",
           "<b>Index X:</b> 9<br><b>Text X:</b> HELLO world.<br><b>Index Y:</b> 7<br><b>Text Y:</b> Hello world.<br><b>Cosine Similarity:</b> 1.000",
           "<b>Index X:</b> 10<br><b>Text X:</b> Machine learning is fascinating.<br><b>Index Y:</b> 7<br><b>Text Y:</b> Hello world.<br><b>Cosine Similarity:</b> 0.149",
           "<b>Index X:</b> 11<br><b>Text X:</b> Machine learning is fascinating!<br><b>Index Y:</b> 7<br><b>Text Y:</b> Hello world.<br><b>Cosine Similarity:</b> 0.139",
           "<b>Index X:</b> 12<br><b>Text X:</b> Artificial intelligence is fascinating.<br><b>Index Y:</b> 7<br><b>Text Y:</b> Hello world.<br><b>Cosine Similarity:</b> 0.152",
           "<b>Index X:</b> 13<br><b>Text X:</b> Football is a popular sport.<br><b>Index Y:</b> 7<br><b>Text Y:</b> Hello world.<br><b>Cosine Similarity:</b> 0.080",
           "<b>Index X:</b> 14<br><b>Text X:</b> Switching to English is sometimes useful.<br><b>Index Y:</b> 7<br><b>Text Y:</b> Hello world.<br><b>Cosine Similarity:</b> 0.082"
          ],
          [
           "<b>Index X:</b> 0<br><b>Text X:</b> The weather is nice today.<br><b>Index Y:</b> 8<br><b>Text Y:</b> Hello world!<br><b>Cosine Similarity:</b> 0.278",
           "<b>Index X:</b> 1<br><b>Text X:</b> The weather is nice today!<br><b>Index Y:</b> 8<br><b>Text Y:</b> Hello world!<br><b>Cosine Similarity:</b> 0.364",
           "<b>Index X:</b> 2<br><b>Text X:</b> The weather is nice today.<br><b>Index Y:</b> 8<br><b>Text Y:</b> Hello world!<br><b>Cosine Similarity:</b> 0.278",
           "<b>Index X:</b> 3<br><b>Text X:</b> The Weather is nice today.<br><b>Index Y:</b> 8<br><b>Text Y:</b> Hello world!<br><b>Cosine Similarity:</b> 0.278",
           "<b>Index X:</b> 4<br><b>Text X:</b> It is hot in Paris this summer.<br><b>Index Y:</b> 8<br><b>Text Y:</b> Hello world!<br><b>Cosine Similarity:</b> 0.103",
           "<b>Index X:</b> 5<br><b>Text X:</b> It is hot in Paris this summer<br><b>Index Y:</b> 8<br><b>Text Y:</b> Hello world!<br><b>Cosine Similarity:</b> 0.101",
           "<b>Index X:</b> 6<br><b>Text X:</b> It is HOT in Paris this summer.<br><b>Index Y:</b> 8<br><b>Text Y:</b> Hello world!<br><b>Cosine Similarity:</b> 0.103",
           "<b>Index X:</b> 7<br><b>Text X:</b> Hello world.<br><b>Index Y:</b> 8<br><b>Text Y:</b> Hello world!<br><b>Cosine Similarity:</b> 0.927",
           "<b>Index X:</b> 8<br><b>Text X:</b> Hello world!<br><b>Index Y:</b> 8<br><b>Text Y:</b> Hello world!<br><b>Cosine Similarity:</b> 1.000",
           "<b>Index X:</b> 9<br><b>Text X:</b> HELLO world.<br><b>Index Y:</b> 8<br><b>Text Y:</b> Hello world!<br><b>Cosine Similarity:</b> 0.927",
           "<b>Index X:</b> 10<br><b>Text X:</b> Machine learning is fascinating.<br><b>Index Y:</b> 8<br><b>Text Y:</b> Hello world!<br><b>Cosine Similarity:</b> 0.127",
           "<b>Index X:</b> 11<br><b>Text X:</b> Machine learning is fascinating!<br><b>Index Y:</b> 8<br><b>Text Y:</b> Hello world!<br><b>Cosine Similarity:</b> 0.174",
           "<b>Index X:</b> 12<br><b>Text X:</b> Artificial intelligence is fascinating.<br><b>Index Y:</b> 8<br><b>Text Y:</b> Hello world!<br><b>Cosine Similarity:</b> 0.134",
           "<b>Index X:</b> 13<br><b>Text X:</b> Football is a popular sport.<br><b>Index Y:</b> 8<br><b>Text Y:</b> Hello world!<br><b>Cosine Similarity:</b> 0.053",
           "<b>Index X:</b> 14<br><b>Text X:</b> Switching to English is sometimes useful.<br><b>Index Y:</b> 8<br><b>Text Y:</b> Hello world!<br><b>Cosine Similarity:</b> 0.044"
          ],
          [
           "<b>Index X:</b> 0<br><b>Text X:</b> The weather is nice today.<br><b>Index Y:</b> 9<br><b>Text Y:</b> HELLO world.<br><b>Cosine Similarity:</b> 0.265",
           "<b>Index X:</b> 1<br><b>Text X:</b> The weather is nice today!<br><b>Index Y:</b> 9<br><b>Text Y:</b> HELLO world.<br><b>Cosine Similarity:</b> 0.278",
           "<b>Index X:</b> 2<br><b>Text X:</b> The weather is nice today.<br><b>Index Y:</b> 9<br><b>Text Y:</b> HELLO world.<br><b>Cosine Similarity:</b> 0.265",
           "<b>Index X:</b> 3<br><b>Text X:</b> The Weather is nice today.<br><b>Index Y:</b> 9<br><b>Text Y:</b> HELLO world.<br><b>Cosine Similarity:</b> 0.265",
           "<b>Index X:</b> 4<br><b>Text X:</b> It is hot in Paris this summer.<br><b>Index Y:</b> 9<br><b>Text Y:</b> HELLO world.<br><b>Cosine Similarity:</b> 0.084",
           "<b>Index X:</b> 5<br><b>Text X:</b> It is hot in Paris this summer<br><b>Index Y:</b> 9<br><b>Text Y:</b> HELLO world.<br><b>Cosine Similarity:</b> 0.075",
           "<b>Index X:</b> 6<br><b>Text X:</b> It is HOT in Paris this summer.<br><b>Index Y:</b> 9<br><b>Text Y:</b> HELLO world.<br><b>Cosine Similarity:</b> 0.084",
           "<b>Index X:</b> 7<br><b>Text X:</b> Hello world.<br><b>Index Y:</b> 9<br><b>Text Y:</b> HELLO world.<br><b>Cosine Similarity:</b> 1.000",
           "<b>Index X:</b> 8<br><b>Text X:</b> Hello world!<br><b>Index Y:</b> 9<br><b>Text Y:</b> HELLO world.<br><b>Cosine Similarity:</b> 0.927",
           "<b>Index X:</b> 9<br><b>Text X:</b> HELLO world.<br><b>Index Y:</b> 9<br><b>Text Y:</b> HELLO world.<br><b>Cosine Similarity:</b> 1.000",
           "<b>Index X:</b> 10<br><b>Text X:</b> Machine learning is fascinating.<br><b>Index Y:</b> 9<br><b>Text Y:</b> HELLO world.<br><b>Cosine Similarity:</b> 0.149",
           "<b>Index X:</b> 11<br><b>Text X:</b> Machine learning is fascinating!<br><b>Index Y:</b> 9<br><b>Text Y:</b> HELLO world.<br><b>Cosine Similarity:</b> 0.139",
           "<b>Index X:</b> 12<br><b>Text X:</b> Artificial intelligence is fascinating.<br><b>Index Y:</b> 9<br><b>Text Y:</b> HELLO world.<br><b>Cosine Similarity:</b> 0.152",
           "<b>Index X:</b> 13<br><b>Text X:</b> Football is a popular sport.<br><b>Index Y:</b> 9<br><b>Text Y:</b> HELLO world.<br><b>Cosine Similarity:</b> 0.080",
           "<b>Index X:</b> 14<br><b>Text X:</b> Switching to English is sometimes useful.<br><b>Index Y:</b> 9<br><b>Text Y:</b> HELLO world.<br><b>Cosine Similarity:</b> 0.082"
          ],
          [
           "<b>Index X:</b> 0<br><b>Text X:</b> The weather is nice today.<br><b>Index Y:</b> 10<br><b>Text Y:</b> Machine learning is fascinating.<br><b>Cosine Similarity:</b> 0.017",
           "<b>Index X:</b> 1<br><b>Text X:</b> The weather is nice today!<br><b>Index Y:</b> 10<br><b>Text Y:</b> Machine learning is fascinating.<br><b>Cosine Similarity:</b> 0.019",
           "<b>Index X:</b> 2<br><b>Text X:</b> The weather is nice today.<br><b>Index Y:</b> 10<br><b>Text Y:</b> Machine learning is fascinating.<br><b>Cosine Similarity:</b> 0.017",
           "<b>Index X:</b> 3<br><b>Text X:</b> The Weather is nice today.<br><b>Index Y:</b> 10<br><b>Text Y:</b> Machine learning is fascinating.<br><b>Cosine Similarity:</b> 0.017",
           "<b>Index X:</b> 4<br><b>Text X:</b> It is hot in Paris this summer.<br><b>Index Y:</b> 10<br><b>Text Y:</b> Machine learning is fascinating.<br><b>Cosine Similarity:</b> 0.056",
           "<b>Index X:</b> 5<br><b>Text X:</b> It is hot in Paris this summer<br><b>Index Y:</b> 10<br><b>Text Y:</b> Machine learning is fascinating.<br><b>Cosine Similarity:</b> 0.041",
           "<b>Index X:</b> 6<br><b>Text X:</b> It is HOT in Paris this summer.<br><b>Index Y:</b> 10<br><b>Text Y:</b> Machine learning is fascinating.<br><b>Cosine Similarity:</b> 0.056",
           "<b>Index X:</b> 7<br><b>Text X:</b> Hello world.<br><b>Index Y:</b> 10<br><b>Text Y:</b> Machine learning is fascinating.<br><b>Cosine Similarity:</b> 0.149",
           "<b>Index X:</b> 8<br><b>Text X:</b> Hello world!<br><b>Index Y:</b> 10<br><b>Text Y:</b> Machine learning is fascinating.<br><b>Cosine Similarity:</b> 0.127",
           "<b>Index X:</b> 9<br><b>Text X:</b> HELLO world.<br><b>Index Y:</b> 10<br><b>Text Y:</b> Machine learning is fascinating.<br><b>Cosine Similarity:</b> 0.149",
           "<b>Index X:</b> 10<br><b>Text X:</b> Machine learning is fascinating.<br><b>Index Y:</b> 10<br><b>Text Y:</b> Machine learning is fascinating.<br><b>Cosine Similarity:</b> 1.000",
           "<b>Index X:</b> 11<br><b>Text X:</b> Machine learning is fascinating!<br><b>Index Y:</b> 10<br><b>Text Y:</b> Machine learning is fascinating.<br><b>Cosine Similarity:</b> 0.968",
           "<b>Index X:</b> 12<br><b>Text X:</b> Artificial intelligence is fascinating.<br><b>Index Y:</b> 10<br><b>Text Y:</b> Machine learning is fascinating.<br><b>Cosine Similarity:</b> 0.813",
           "<b>Index X:</b> 13<br><b>Text X:</b> Football is a popular sport.<br><b>Index Y:</b> 10<br><b>Text Y:</b> Machine learning is fascinating.<br><b>Cosine Similarity:</b> 0.076",
           "<b>Index X:</b> 14<br><b>Text X:</b> Switching to English is sometimes useful.<br><b>Index Y:</b> 10<br><b>Text Y:</b> Machine learning is fascinating.<br><b>Cosine Similarity:</b> 0.277"
          ],
          [
           "<b>Index X:</b> 0<br><b>Text X:</b> The weather is nice today.<br><b>Index Y:</b> 11<br><b>Text Y:</b> Machine learning is fascinating!<br><b>Cosine Similarity:</b> 0.043",
           "<b>Index X:</b> 1<br><b>Text X:</b> The weather is nice today!<br><b>Index Y:</b> 11<br><b>Text Y:</b> Machine learning is fascinating!<br><b>Cosine Similarity:</b> 0.089",
           "<b>Index X:</b> 2<br><b>Text X:</b> The weather is nice today.<br><b>Index Y:</b> 11<br><b>Text Y:</b> Machine learning is fascinating!<br><b>Cosine Similarity:</b> 0.043",
           "<b>Index X:</b> 3<br><b>Text X:</b> The Weather is nice today.<br><b>Index Y:</b> 11<br><b>Text Y:</b> Machine learning is fascinating!<br><b>Cosine Similarity:</b> 0.043",
           "<b>Index X:</b> 4<br><b>Text X:</b> It is hot in Paris this summer.<br><b>Index Y:</b> 11<br><b>Text Y:</b> Machine learning is fascinating!<br><b>Cosine Similarity:</b> 0.075",
           "<b>Index X:</b> 5<br><b>Text X:</b> It is hot in Paris this summer<br><b>Index Y:</b> 11<br><b>Text Y:</b> Machine learning is fascinating!<br><b>Cosine Similarity:</b> 0.066",
           "<b>Index X:</b> 6<br><b>Text X:</b> It is HOT in Paris this summer.<br><b>Index Y:</b> 11<br><b>Text Y:</b> Machine learning is fascinating!<br><b>Cosine Similarity:</b> 0.075",
           "<b>Index X:</b> 7<br><b>Text X:</b> Hello world.<br><b>Index Y:</b> 11<br><b>Text Y:</b> Machine learning is fascinating!<br><b>Cosine Similarity:</b> 0.139",
           "<b>Index X:</b> 8<br><b>Text X:</b> Hello world!<br><b>Index Y:</b> 11<br><b>Text Y:</b> Machine learning is fascinating!<br><b>Cosine Similarity:</b> 0.174",
           "<b>Index X:</b> 9<br><b>Text X:</b> HELLO world.<br><b>Index Y:</b> 11<br><b>Text Y:</b> Machine learning is fascinating!<br><b>Cosine Similarity:</b> 0.139",
           "<b>Index X:</b> 10<br><b>Text X:</b> Machine learning is fascinating.<br><b>Index Y:</b> 11<br><b>Text Y:</b> Machine learning is fascinating!<br><b>Cosine Similarity:</b> 0.968",
           "<b>Index X:</b> 11<br><b>Text X:</b> Machine learning is fascinating!<br><b>Index Y:</b> 11<br><b>Text Y:</b> Machine learning is fascinating!<br><b>Cosine Similarity:</b> 1.000",
           "<b>Index X:</b> 12<br><b>Text X:</b> Artificial intelligence is fascinating.<br><b>Index Y:</b> 11<br><b>Text Y:</b> Machine learning is fascinating!<br><b>Cosine Similarity:</b> 0.776",
           "<b>Index X:</b> 13<br><b>Text X:</b> Football is a popular sport.<br><b>Index Y:</b> 11<br><b>Text Y:</b> Machine learning is fascinating!<br><b>Cosine Similarity:</b> 0.062",
           "<b>Index X:</b> 14<br><b>Text X:</b> Switching to English is sometimes useful.<br><b>Index Y:</b> 11<br><b>Text Y:</b> Machine learning is fascinating!<br><b>Cosine Similarity:</b> 0.245"
          ],
          [
           "<b>Index X:</b> 0<br><b>Text X:</b> The weather is nice today.<br><b>Index Y:</b> 12<br><b>Text Y:</b> Artificial intelligence is fascinating.<br><b>Cosine Similarity:</b> -0.018",
           "<b>Index X:</b> 1<br><b>Text X:</b> The weather is nice today!<br><b>Index Y:</b> 12<br><b>Text Y:</b> Artificial intelligence is fascinating.<br><b>Cosine Similarity:</b> -0.007",
           "<b>Index X:</b> 2<br><b>Text X:</b> The weather is nice today.<br><b>Index Y:</b> 12<br><b>Text Y:</b> Artificial intelligence is fascinating.<br><b>Cosine Similarity:</b> -0.018",
           "<b>Index X:</b> 3<br><b>Text X:</b> The Weather is nice today.<br><b>Index Y:</b> 12<br><b>Text Y:</b> Artificial intelligence is fascinating.<br><b>Cosine Similarity:</b> -0.018",
           "<b>Index X:</b> 4<br><b>Text X:</b> It is hot in Paris this summer.<br><b>Index Y:</b> 12<br><b>Text Y:</b> Artificial intelligence is fascinating.<br><b>Cosine Similarity:</b> -0.015",
           "<b>Index X:</b> 5<br><b>Text X:</b> It is hot in Paris this summer<br><b>Index Y:</b> 12<br><b>Text Y:</b> Artificial intelligence is fascinating.<br><b>Cosine Similarity:</b> -0.030",
           "<b>Index X:</b> 6<br><b>Text X:</b> It is HOT in Paris this summer.<br><b>Index Y:</b> 12<br><b>Text Y:</b> Artificial intelligence is fascinating.<br><b>Cosine Similarity:</b> -0.015",
           "<b>Index X:</b> 7<br><b>Text X:</b> Hello world.<br><b>Index Y:</b> 12<br><b>Text Y:</b> Artificial intelligence is fascinating.<br><b>Cosine Similarity:</b> 0.152",
           "<b>Index X:</b> 8<br><b>Text X:</b> Hello world!<br><b>Index Y:</b> 12<br><b>Text Y:</b> Artificial intelligence is fascinating.<br><b>Cosine Similarity:</b> 0.134",
           "<b>Index X:</b> 9<br><b>Text X:</b> HELLO world.<br><b>Index Y:</b> 12<br><b>Text Y:</b> Artificial intelligence is fascinating.<br><b>Cosine Similarity:</b> 0.152",
           "<b>Index X:</b> 10<br><b>Text X:</b> Machine learning is fascinating.<br><b>Index Y:</b> 12<br><b>Text Y:</b> Artificial intelligence is fascinating.<br><b>Cosine Similarity:</b> 0.813",
           "<b>Index X:</b> 11<br><b>Text X:</b> Machine learning is fascinating!<br><b>Index Y:</b> 12<br><b>Text Y:</b> Artificial intelligence is fascinating.<br><b>Cosine Similarity:</b> 0.776",
           "<b>Index X:</b> 12<br><b>Text X:</b> Artificial intelligence is fascinating.<br><b>Index Y:</b> 12<br><b>Text Y:</b> Artificial intelligence is fascinating.<br><b>Cosine Similarity:</b> 1.000",
           "<b>Index X:</b> 13<br><b>Text X:</b> Football is a popular sport.<br><b>Index Y:</b> 12<br><b>Text Y:</b> Artificial intelligence is fascinating.<br><b>Cosine Similarity:</b> 0.155",
           "<b>Index X:</b> 14<br><b>Text X:</b> Switching to English is sometimes useful.<br><b>Index Y:</b> 12<br><b>Text Y:</b> Artificial intelligence is fascinating.<br><b>Cosine Similarity:</b> 0.258"
          ],
          [
           "<b>Index X:</b> 0<br><b>Text X:</b> The weather is nice today.<br><b>Index Y:</b> 13<br><b>Text Y:</b> Football is a popular sport.<br><b>Cosine Similarity:</b> 0.073",
           "<b>Index X:</b> 1<br><b>Text X:</b> The weather is nice today!<br><b>Index Y:</b> 13<br><b>Text Y:</b> Football is a popular sport.<br><b>Cosine Similarity:</b> 0.047",
           "<b>Index X:</b> 2<br><b>Text X:</b> The weather is nice today.<br><b>Index Y:</b> 13<br><b>Text Y:</b> Football is a popular sport.<br><b>Cosine Similarity:</b> 0.073",
           "<b>Index X:</b> 3<br><b>Text X:</b> The Weather is nice today.<br><b>Index Y:</b> 13<br><b>Text Y:</b> Football is a popular sport.<br><b>Cosine Similarity:</b> 0.073",
           "<b>Index X:</b> 4<br><b>Text X:</b> It is hot in Paris this summer.<br><b>Index Y:</b> 13<br><b>Text Y:</b> Football is a popular sport.<br><b>Cosine Similarity:</b> 0.084",
           "<b>Index X:</b> 5<br><b>Text X:</b> It is hot in Paris this summer<br><b>Index Y:</b> 13<br><b>Text Y:</b> Football is a popular sport.<br><b>Cosine Similarity:</b> 0.087",
           "<b>Index X:</b> 6<br><b>Text X:</b> It is HOT in Paris this summer.<br><b>Index Y:</b> 13<br><b>Text Y:</b> Football is a popular sport.<br><b>Cosine Similarity:</b> 0.084",
           "<b>Index X:</b> 7<br><b>Text X:</b> Hello world.<br><b>Index Y:</b> 13<br><b>Text Y:</b> Football is a popular sport.<br><b>Cosine Similarity:</b> 0.080",
           "<b>Index X:</b> 8<br><b>Text X:</b> Hello world!<br><b>Index Y:</b> 13<br><b>Text Y:</b> Football is a popular sport.<br><b>Cosine Similarity:</b> 0.053",
           "<b>Index X:</b> 9<br><b>Text X:</b> HELLO world.<br><b>Index Y:</b> 13<br><b>Text Y:</b> Football is a popular sport.<br><b>Cosine Similarity:</b> 0.080",
           "<b>Index X:</b> 10<br><b>Text X:</b> Machine learning is fascinating.<br><b>Index Y:</b> 13<br><b>Text Y:</b> Football is a popular sport.<br><b>Cosine Similarity:</b> 0.076",
           "<b>Index X:</b> 11<br><b>Text X:</b> Machine learning is fascinating!<br><b>Index Y:</b> 13<br><b>Text Y:</b> Football is a popular sport.<br><b>Cosine Similarity:</b> 0.062",
           "<b>Index X:</b> 12<br><b>Text X:</b> Artificial intelligence is fascinating.<br><b>Index Y:</b> 13<br><b>Text Y:</b> Football is a popular sport.<br><b>Cosine Similarity:</b> 0.155",
           "<b>Index X:</b> 13<br><b>Text X:</b> Football is a popular sport.<br><b>Index Y:</b> 13<br><b>Text Y:</b> Football is a popular sport.<br><b>Cosine Similarity:</b> 1.000",
           "<b>Index X:</b> 14<br><b>Text X:</b> Switching to English is sometimes useful.<br><b>Index Y:</b> 13<br><b>Text Y:</b> Football is a popular sport.<br><b>Cosine Similarity:</b> 0.206"
          ],
          [
           "<b>Index X:</b> 0<br><b>Text X:</b> The weather is nice today.<br><b>Index Y:</b> 14<br><b>Text Y:</b> Switching to English is sometimes useful.<br><b>Cosine Similarity:</b> 0.030",
           "<b>Index X:</b> 1<br><b>Text X:</b> The weather is nice today!<br><b>Index Y:</b> 14<br><b>Text Y:</b> Switching to English is sometimes useful.<br><b>Cosine Similarity:</b> 0.024",
           "<b>Index X:</b> 2<br><b>Text X:</b> The weather is nice today.<br><b>Index Y:</b> 14<br><b>Text Y:</b> Switching to English is sometimes useful.<br><b>Cosine Similarity:</b> 0.030",
           "<b>Index X:</b> 3<br><b>Text X:</b> The Weather is nice today.<br><b>Index Y:</b> 14<br><b>Text Y:</b> Switching to English is sometimes useful.<br><b>Cosine Similarity:</b> 0.030",
           "<b>Index X:</b> 4<br><b>Text X:</b> It is hot in Paris this summer.<br><b>Index Y:</b> 14<br><b>Text Y:</b> Switching to English is sometimes useful.<br><b>Cosine Similarity:</b> 0.041",
           "<b>Index X:</b> 5<br><b>Text X:</b> It is hot in Paris this summer<br><b>Index Y:</b> 14<br><b>Text Y:</b> Switching to English is sometimes useful.<br><b>Cosine Similarity:</b> 0.040",
           "<b>Index X:</b> 6<br><b>Text X:</b> It is HOT in Paris this summer.<br><b>Index Y:</b> 14<br><b>Text Y:</b> Switching to English is sometimes useful.<br><b>Cosine Similarity:</b> 0.041",
           "<b>Index X:</b> 7<br><b>Text X:</b> Hello world.<br><b>Index Y:</b> 14<br><b>Text Y:</b> Switching to English is sometimes useful.<br><b>Cosine Similarity:</b> 0.082",
           "<b>Index X:</b> 8<br><b>Text X:</b> Hello world!<br><b>Index Y:</b> 14<br><b>Text Y:</b> Switching to English is sometimes useful.<br><b>Cosine Similarity:</b> 0.044",
           "<b>Index X:</b> 9<br><b>Text X:</b> HELLO world.<br><b>Index Y:</b> 14<br><b>Text Y:</b> Switching to English is sometimes useful.<br><b>Cosine Similarity:</b> 0.082",
           "<b>Index X:</b> 10<br><b>Text X:</b> Machine learning is fascinating.<br><b>Index Y:</b> 14<br><b>Text Y:</b> Switching to English is sometimes useful.<br><b>Cosine Similarity:</b> 0.277",
           "<b>Index X:</b> 11<br><b>Text X:</b> Machine learning is fascinating!<br><b>Index Y:</b> 14<br><b>Text Y:</b> Switching to English is sometimes useful.<br><b>Cosine Similarity:</b> 0.245",
           "<b>Index X:</b> 12<br><b>Text X:</b> Artificial intelligence is fascinating.<br><b>Index Y:</b> 14<br><b>Text Y:</b> Switching to English is sometimes useful.<br><b>Cosine Similarity:</b> 0.258",
           "<b>Index X:</b> 13<br><b>Text X:</b> Football is a popular sport.<br><b>Index Y:</b> 14<br><b>Text Y:</b> Switching to English is sometimes useful.<br><b>Cosine Similarity:</b> 0.206",
           "<b>Index X:</b> 14<br><b>Text X:</b> Switching to English is sometimes useful.<br><b>Index Y:</b> 14<br><b>Text Y:</b> Switching to English is sometimes useful.<br><b>Cosine Similarity:</b> 1.000"
          ]
         ],
         "type": "heatmap",
         "x": [
          0,
          1,
          2,
          3,
          4,
          5,
          6,
          7,
          8,
          9,
          10,
          11,
          12,
          13,
          14
         ],
         "xaxis": "x",
         "y": [
          0,
          1,
          2,
          3,
          4,
          5,
          6,
          7,
          8,
          9,
          10,
          11,
          12,
          13,
          14
         ],
         "yaxis": "y",
         "z": {
          "bdata": "AACAP2iBcz8AAIA/AgCAP2zfrT4og6w+bN+tPj53hz5OLo4+PneHPlq2iDy6/jE9LWuTvM75lD02Ofg8aIFzPwEAgD9ogXM/aIFzP0Daoz4C1qU+QNqjPrZLjj6Elbo+tkuOPh+AmTzOhrU9gEnWu5boQT02fsM8AACAP2iBcz8AAIA/AgCAP2zfrT4og6w+bN+tPj53hz5OLo4+PneHPlq2iDy6/jE9LWuTvM75lD02Ofg8AgCAP2iBcz8CAIA/AgCAP2/frT4ug6w+b9+tPj13hz5NLo4+PXeHPo62iDzM/jE9/mqTvM75lD02Ofg8bN+tPkDaoz5s360+b9+tPgEAgD8g1n4/AQCAP2Dzqz2oTtM9YPOrPXrhZD3CG5o93CVvvCMOqz1BBCc9KIOsPgLWpT4og6w+LoOsPiDWfj/+/38/INZ+P2KYmD3lcM49YpiYPQVYJj0sr4c96jL3vNKnsT3DqiM9bN+tPkDaoz5s360+b9+tPgEAgD8g1n4/AQCAP2Dzqz2oTtM9YPOrPXrhZD3CG5o93CVvvCMOqz1BBCc9PneHPrZLjj4+d4c+PXeHPmDzqz1imJg9YPOrPQIAgD+SWW0/AgCAP5jRGD6M2w0+rtkbPpClpD3csqc9Ti6OPoSVuj5OLo4+TS6OPqhO0z3lcM49qE7TPZJZbT8EAIA/klltP9SYAT6INzI+JK4JPp5BVz1zlzM9PneHPrZLjj4+d4c+PXeHPmDzqz1imJg9YPOrPQIAgD+SWW0/AgCAP5jRGD6M2w0+rtkbPpClpD3csqc9WraIPB+AmTxatog8jraIPHrhZD0FWCY9euFkPZjRGD7UmAE+mNEYPgEAgD9A1nc/XDpQP523mz1+8I0+uv4xPc6GtT26/jE9zP4xPcIbmj0sr4c9whuaPYzbDT6INzI+jNsNPkDWdz8BAIA/M7dGPw3Nfj02UHs+LWuTvIBJ1rsta5O8/mqTvNwlb7zqMve83CVvvK7ZGz4krgk+rtkbPlw6UD8zt0Y/AQCAP4R2Hj7NH4Q+zvmUPZboQT3O+ZQ9zvmUPSMOqz3Sp7E9Iw6rPZClpD2eQVc9kKWkPZ23mz0NzX49hHYePgMAgD8hAFM+Njn4PDZ+wzw2Ofg8Njn4PEEEJz3DqiM9QQQnPdyypz1zlzM93LKnPX7wjT42UHs+zR+EPiEAUz7+/38/",
          "dtype": "f4",
          "shape": "15, 15"
         },
         "zmax": 1,
         "zmin": 0
        },
        {
         "colorscale": [
          [
           0,
           "#440154"
          ],
          [
           0.1111111111111111,
           "#482878"
          ],
          [
           0.2222222222222222,
           "#3e4989"
          ],
          [
           0.3333333333333333,
           "#31688e"
          ],
          [
           0.4444444444444444,
           "#26828e"
          ],
          [
           0.5555555555555556,
           "#1f9e89"
          ],
          [
           0.6666666666666666,
           "#35b779"
          ],
          [
           0.7777777777777778,
           "#6ece58"
          ],
          [
           0.8888888888888888,
           "#b5de2b"
          ],
          [
           1,
           "#fde725"
          ]
         ],
         "hoverinfo": "text",
         "showscale": false,
         "text": [
          [
           "<b>Index X:</b> 0<br><b>Text X:</b> The weather is nice today.<br><b>Index Y:</b> 0<br><b>Text Y:</b> The weather is nice today.<br><b>Cosine Similarity:</b> 1.001",
           "<b>Index X:</b> 1<br><b>Text X:</b> The weather is nice today!<br><b>Index Y:</b> 0<br><b>Text Y:</b> The weather is nice today.<br><b>Cosine Similarity:</b> 0.967",
           "<b>Index X:</b> 2<br><b>Text X:</b> The weather is nice today.<br><b>Index Y:</b> 0<br><b>Text Y:</b> The weather is nice today.<br><b>Cosine Similarity:</b> 1.001",
           "<b>Index X:</b> 3<br><b>Text X:</b> The Weather is nice today.<br><b>Index Y:</b> 0<br><b>Text Y:</b> The weather is nice today.<br><b>Cosine Similarity:</b> 0.976",
           "<b>Index X:</b> 4<br><b>Text X:</b> It is hot in Paris this summer.<br><b>Index Y:</b> 0<br><b>Text Y:</b> The weather is nice today.<br><b>Cosine Similarity:</b> 0.584",
           "<b>Index X:</b> 5<br><b>Text X:</b> It is hot in Paris this summer<br><b>Index Y:</b> 0<br><b>Text Y:</b> The weather is nice today.<br><b>Cosine Similarity:</b> 0.572",
           "<b>Index X:</b> 6<br><b>Text X:</b> It is HOT in Paris this summer.<br><b>Index Y:</b> 0<br><b>Text Y:</b> The weather is nice today.<br><b>Cosine Similarity:</b> 0.593",
           "<b>Index X:</b> 7<br><b>Text X:</b> Hello world.<br><b>Index Y:</b> 0<br><b>Text Y:</b> The weather is nice today.<br><b>Cosine Similarity:</b> 0.582",
           "<b>Index X:</b> 8<br><b>Text X:</b> Hello world!<br><b>Index Y:</b> 0<br><b>Text Y:</b> The weather is nice today.<br><b>Cosine Similarity:</b> 0.581",
           "<b>Index X:</b> 9<br><b>Text X:</b> HELLO world.<br><b>Index Y:</b> 0<br><b>Text Y:</b> The weather is nice today.<br><b>Cosine Similarity:</b> 0.571",
           "<b>Index X:</b> 10<br><b>Text X:</b> Machine learning is fascinating.<br><b>Index Y:</b> 0<br><b>Text Y:</b> The weather is nice today.<br><b>Cosine Similarity:</b> 0.458",
           "<b>Index X:</b> 11<br><b>Text X:</b> Machine learning is fascinating!<br><b>Index Y:</b> 0<br><b>Text Y:</b> The weather is nice today.<br><b>Cosine Similarity:</b> 0.463",
           "<b>Index X:</b> 12<br><b>Text X:</b> Artificial intelligence is fascinating.<br><b>Index Y:</b> 0<br><b>Text Y:</b> The weather is nice today.<br><b>Cosine Similarity:</b> 0.447",
           "<b>Index X:</b> 13<br><b>Text X:</b> Football is a popular sport.<br><b>Index Y:</b> 0<br><b>Text Y:</b> The weather is nice today.<br><b>Cosine Similarity:</b> 0.444",
           "<b>Index X:</b> 14<br><b>Text X:</b> Switching to English is sometimes useful.<br><b>Index Y:</b> 0<br><b>Text Y:</b> The weather is nice today.<br><b>Cosine Similarity:</b> 0.411"
          ],
          [
           "<b>Index X:</b> 0<br><b>Text X:</b> The weather is nice today.<br><b>Index Y:</b> 1<br><b>Text Y:</b> The weather is nice today!<br><b>Cosine Similarity:</b> 0.967",
           "<b>Index X:</b> 1<br><b>Text X:</b> The weather is nice today!<br><b>Index Y:</b> 1<br><b>Text Y:</b> The weather is nice today!<br><b>Cosine Similarity:</b> 1.002",
           "<b>Index X:</b> 2<br><b>Text X:</b> The weather is nice today.<br><b>Index Y:</b> 1<br><b>Text Y:</b> The weather is nice today!<br><b>Cosine Similarity:</b> 0.967",
           "<b>Index X:</b> 3<br><b>Text X:</b> The Weather is nice today.<br><b>Index Y:</b> 1<br><b>Text Y:</b> The weather is nice today!<br><b>Cosine Similarity:</b> 0.958",
           "<b>Index X:</b> 4<br><b>Text X:</b> It is hot in Paris this summer.<br><b>Index Y:</b> 1<br><b>Text Y:</b> The weather is nice today!<br><b>Cosine Similarity:</b> 0.566",
           "<b>Index X:</b> 5<br><b>Text X:</b> It is hot in Paris this summer<br><b>Index Y:</b> 1<br><b>Text Y:</b> The weather is nice today!<br><b>Cosine Similarity:</b> 0.560",
           "<b>Index X:</b> 6<br><b>Text X:</b> It is HOT in Paris this summer.<br><b>Index Y:</b> 1<br><b>Text Y:</b> The weather is nice today!<br><b>Cosine Similarity:</b> 0.589",
           "<b>Index X:</b> 7<br><b>Text X:</b> Hello world.<br><b>Index Y:</b> 1<br><b>Text Y:</b> The weather is nice today!<br><b>Cosine Similarity:</b> 0.553",
           "<b>Index X:</b> 8<br><b>Text X:</b> Hello world!<br><b>Index Y:</b> 1<br><b>Text Y:</b> The weather is nice today!<br><b>Cosine Similarity:</b> 0.588",
           "<b>Index X:</b> 9<br><b>Text X:</b> HELLO world.<br><b>Index Y:</b> 1<br><b>Text Y:</b> The weather is nice today!<br><b>Cosine Similarity:</b> 0.560",
           "<b>Index X:</b> 10<br><b>Text X:</b> Machine learning is fascinating.<br><b>Index Y:</b> 1<br><b>Text Y:</b> The weather is nice today!<br><b>Cosine Similarity:</b> 0.444",
           "<b>Index X:</b> 11<br><b>Text X:</b> Machine learning is fascinating!<br><b>Index Y:</b> 1<br><b>Text Y:</b> The weather is nice today!<br><b>Cosine Similarity:</b> 0.471",
           "<b>Index X:</b> 12<br><b>Text X:</b> Artificial intelligence is fascinating.<br><b>Index Y:</b> 1<br><b>Text Y:</b> The weather is nice today!<br><b>Cosine Similarity:</b> 0.428",
           "<b>Index X:</b> 13<br><b>Text X:</b> Football is a popular sport.<br><b>Index Y:</b> 1<br><b>Text Y:</b> The weather is nice today!<br><b>Cosine Similarity:</b> 0.408",
           "<b>Index X:</b> 14<br><b>Text X:</b> Switching to English is sometimes useful.<br><b>Index Y:</b> 1<br><b>Text Y:</b> The weather is nice today!<br><b>Cosine Similarity:</b> 0.407"
          ],
          [
           "<b>Index X:</b> 0<br><b>Text X:</b> The weather is nice today.<br><b>Index Y:</b> 2<br><b>Text Y:</b> The weather is nice today.<br><b>Cosine Similarity:</b> 1.001",
           "<b>Index X:</b> 1<br><b>Text X:</b> The weather is nice today!<br><b>Index Y:</b> 2<br><b>Text Y:</b> The weather is nice today.<br><b>Cosine Similarity:</b> 0.967",
           "<b>Index X:</b> 2<br><b>Text X:</b> The weather is nice today.<br><b>Index Y:</b> 2<br><b>Text Y:</b> The weather is nice today.<br><b>Cosine Similarity:</b> 1.001",
           "<b>Index X:</b> 3<br><b>Text X:</b> The Weather is nice today.<br><b>Index Y:</b> 2<br><b>Text Y:</b> The weather is nice today.<br><b>Cosine Similarity:</b> 0.976",
           "<b>Index X:</b> 4<br><b>Text X:</b> It is hot in Paris this summer.<br><b>Index Y:</b> 2<br><b>Text Y:</b> The weather is nice today.<br><b>Cosine Similarity:</b> 0.584",
           "<b>Index X:</b> 5<br><b>Text X:</b> It is hot in Paris this summer<br><b>Index Y:</b> 2<br><b>Text Y:</b> The weather is nice today.<br><b>Cosine Similarity:</b> 0.572",
           "<b>Index X:</b> 6<br><b>Text X:</b> It is HOT in Paris this summer.<br><b>Index Y:</b> 2<br><b>Text Y:</b> The weather is nice today.<br><b>Cosine Similarity:</b> 0.593",
           "<b>Index X:</b> 7<br><b>Text X:</b> Hello world.<br><b>Index Y:</b> 2<br><b>Text Y:</b> The weather is nice today.<br><b>Cosine Similarity:</b> 0.582",
           "<b>Index X:</b> 8<br><b>Text X:</b> Hello world!<br><b>Index Y:</b> 2<br><b>Text Y:</b> The weather is nice today.<br><b>Cosine Similarity:</b> 0.581",
           "<b>Index X:</b> 9<br><b>Text X:</b> HELLO world.<br><b>Index Y:</b> 2<br><b>Text Y:</b> The weather is nice today.<br><b>Cosine Similarity:</b> 0.571",
           "<b>Index X:</b> 10<br><b>Text X:</b> Machine learning is fascinating.<br><b>Index Y:</b> 2<br><b>Text Y:</b> The weather is nice today.<br><b>Cosine Similarity:</b> 0.458",
           "<b>Index X:</b> 11<br><b>Text X:</b> Machine learning is fascinating!<br><b>Index Y:</b> 2<br><b>Text Y:</b> The weather is nice today.<br><b>Cosine Similarity:</b> 0.463",
           "<b>Index X:</b> 12<br><b>Text X:</b> Artificial intelligence is fascinating.<br><b>Index Y:</b> 2<br><b>Text Y:</b> The weather is nice today.<br><b>Cosine Similarity:</b> 0.447",
           "<b>Index X:</b> 13<br><b>Text X:</b> Football is a popular sport.<br><b>Index Y:</b> 2<br><b>Text Y:</b> The weather is nice today.<br><b>Cosine Similarity:</b> 0.444",
           "<b>Index X:</b> 14<br><b>Text X:</b> Switching to English is sometimes useful.<br><b>Index Y:</b> 2<br><b>Text Y:</b> The weather is nice today.<br><b>Cosine Similarity:</b> 0.411"
          ],
          [
           "<b>Index X:</b> 0<br><b>Text X:</b> The weather is nice today.<br><b>Index Y:</b> 3<br><b>Text Y:</b> The Weather is nice today.<br><b>Cosine Similarity:</b> 0.976",
           "<b>Index X:</b> 1<br><b>Text X:</b> The weather is nice today!<br><b>Index Y:</b> 3<br><b>Text Y:</b> The Weather is nice today.<br><b>Cosine Similarity:</b> 0.958",
           "<b>Index X:</b> 2<br><b>Text X:</b> The weather is nice today.<br><b>Index Y:</b> 3<br><b>Text Y:</b> The Weather is nice today.<br><b>Cosine Similarity:</b> 0.976",
           "<b>Index X:</b> 3<br><b>Text X:</b> The Weather is nice today.<br><b>Index Y:</b> 3<br><b>Text Y:</b> The Weather is nice today.<br><b>Cosine Similarity:</b> 1.006",
           "<b>Index X:</b> 4<br><b>Text X:</b> It is hot in Paris this summer.<br><b>Index Y:</b> 3<br><b>Text Y:</b> The Weather is nice today.<br><b>Cosine Similarity:</b> 0.566",
           "<b>Index X:</b> 5<br><b>Text X:</b> It is hot in Paris this summer<br><b>Index Y:</b> 3<br><b>Text Y:</b> The Weather is nice today.<br><b>Cosine Similarity:</b> 0.559",
           "<b>Index X:</b> 6<br><b>Text X:</b> It is HOT in Paris this summer.<br><b>Index Y:</b> 3<br><b>Text Y:</b> The Weather is nice today.<br><b>Cosine Similarity:</b> 0.586",
           "<b>Index X:</b> 7<br><b>Text X:</b> Hello world.<br><b>Index Y:</b> 3<br><b>Text Y:</b> The Weather is nice today.<br><b>Cosine Similarity:</b> 0.587",
           "<b>Index X:</b> 8<br><b>Text X:</b> Hello world!<br><b>Index Y:</b> 3<br><b>Text Y:</b> The Weather is nice today.<br><b>Cosine Similarity:</b> 0.586",
           "<b>Index X:</b> 9<br><b>Text X:</b> HELLO world.<br><b>Index Y:</b> 3<br><b>Text Y:</b> The Weather is nice today.<br><b>Cosine Similarity:</b> 0.578",
           "<b>Index X:</b> 10<br><b>Text X:</b> Machine learning is fascinating.<br><b>Index Y:</b> 3<br><b>Text Y:</b> The Weather is nice today.<br><b>Cosine Similarity:</b> 0.467",
           "<b>Index X:</b> 11<br><b>Text X:</b> Machine learning is fascinating!<br><b>Index Y:</b> 3<br><b>Text Y:</b> The Weather is nice today.<br><b>Cosine Similarity:</b> 0.473",
           "<b>Index X:</b> 12<br><b>Text X:</b> Artificial intelligence is fascinating.<br><b>Index Y:</b> 3<br><b>Text Y:</b> The Weather is nice today.<br><b>Cosine Similarity:</b> 0.462",
           "<b>Index X:</b> 13<br><b>Text X:</b> Football is a popular sport.<br><b>Index Y:</b> 3<br><b>Text Y:</b> The Weather is nice today.<br><b>Cosine Similarity:</b> 0.433",
           "<b>Index X:</b> 14<br><b>Text X:</b> Switching to English is sometimes useful.<br><b>Index Y:</b> 3<br><b>Text Y:</b> The Weather is nice today.<br><b>Cosine Similarity:</b> 0.416"
          ],
          [
           "<b>Index X:</b> 0<br><b>Text X:</b> The weather is nice today.<br><b>Index Y:</b> 4<br><b>Text Y:</b> It is hot in Paris this summer.<br><b>Cosine Similarity:</b> 0.584",
           "<b>Index X:</b> 1<br><b>Text X:</b> The weather is nice today!<br><b>Index Y:</b> 4<br><b>Text Y:</b> It is hot in Paris this summer.<br><b>Cosine Similarity:</b> 0.566",
           "<b>Index X:</b> 2<br><b>Text X:</b> The weather is nice today.<br><b>Index Y:</b> 4<br><b>Text Y:</b> It is hot in Paris this summer.<br><b>Cosine Similarity:</b> 0.584",
           "<b>Index X:</b> 3<br><b>Text X:</b> The Weather is nice today.<br><b>Index Y:</b> 4<br><b>Text Y:</b> It is hot in Paris this summer.<br><b>Cosine Similarity:</b> 0.566",
           "<b>Index X:</b> 4<br><b>Text X:</b> It is hot in Paris this summer.<br><b>Index Y:</b> 4<br><b>Text Y:</b> It is hot in Paris this summer.<br><b>Cosine Similarity:</b> 1.000",
           "<b>Index X:</b> 5<br><b>Text X:</b> It is hot in Paris this summer<br><b>Index Y:</b> 4<br><b>Text Y:</b> It is hot in Paris this summer.<br><b>Cosine Similarity:</b> 0.992",
           "<b>Index X:</b> 6<br><b>Text X:</b> It is HOT in Paris this summer.<br><b>Index Y:</b> 4<br><b>Text Y:</b> It is hot in Paris this summer.<br><b>Cosine Similarity:</b> 0.989",
           "<b>Index X:</b> 7<br><b>Text X:</b> Hello world.<br><b>Index Y:</b> 4<br><b>Text Y:</b> It is hot in Paris this summer.<br><b>Cosine Similarity:</b> 0.454",
           "<b>Index X:</b> 8<br><b>Text X:</b> Hello world!<br><b>Index Y:</b> 4<br><b>Text Y:</b> It is hot in Paris this summer.<br><b>Cosine Similarity:</b> 0.459",
           "<b>Index X:</b> 9<br><b>Text X:</b> HELLO world.<br><b>Index Y:</b> 4<br><b>Text Y:</b> It is hot in Paris this summer.<br><b>Cosine Similarity:</b> 0.462",
           "<b>Index X:</b> 10<br><b>Text X:</b> Machine learning is fascinating.<br><b>Index Y:</b> 4<br><b>Text Y:</b> It is hot in Paris this summer.<br><b>Cosine Similarity:</b> 0.378",
           "<b>Index X:</b> 11<br><b>Text X:</b> Machine learning is fascinating!<br><b>Index Y:</b> 4<br><b>Text Y:</b> It is hot in Paris this summer.<br><b>Cosine Similarity:</b> 0.393",
           "<b>Index X:</b> 12<br><b>Text X:</b> Artificial intelligence is fascinating.<br><b>Index Y:</b> 4<br><b>Text Y:</b> It is hot in Paris this summer.<br><b>Cosine Similarity:</b> 0.398",
           "<b>Index X:</b> 13<br><b>Text X:</b> Football is a popular sport.<br><b>Index Y:</b> 4<br><b>Text Y:</b> It is hot in Paris this summer.<br><b>Cosine Similarity:</b> 0.428",
           "<b>Index X:</b> 14<br><b>Text X:</b> Switching to English is sometimes useful.<br><b>Index Y:</b> 4<br><b>Text Y:</b> It is hot in Paris this summer.<br><b>Cosine Similarity:</b> 0.368"
          ],
          [
           "<b>Index X:</b> 0<br><b>Text X:</b> The weather is nice today.<br><b>Index Y:</b> 5<br><b>Text Y:</b> It is hot in Paris this summer<br><b>Cosine Similarity:</b> 0.572",
           "<b>Index X:</b> 1<br><b>Text X:</b> The weather is nice today!<br><b>Index Y:</b> 5<br><b>Text Y:</b> It is hot in Paris this summer<br><b>Cosine Similarity:</b> 0.560",
           "<b>Index X:</b> 2<br><b>Text X:</b> The weather is nice today.<br><b>Index Y:</b> 5<br><b>Text Y:</b> It is hot in Paris this summer<br><b>Cosine Similarity:</b> 0.572",
           "<b>Index X:</b> 3<br><b>Text X:</b> The Weather is nice today.<br><b>Index Y:</b> 5<br><b>Text Y:</b> It is hot in Paris this summer<br><b>Cosine Similarity:</b> 0.559",
           "<b>Index X:</b> 4<br><b>Text X:</b> It is hot in Paris this summer.<br><b>Index Y:</b> 5<br><b>Text Y:</b> It is hot in Paris this summer<br><b>Cosine Similarity:</b> 0.992",
           "<b>Index X:</b> 5<br><b>Text X:</b> It is hot in Paris this summer<br><b>Index Y:</b> 5<br><b>Text Y:</b> It is hot in Paris this summer<br><b>Cosine Similarity:</b> 0.997",
           "<b>Index X:</b> 6<br><b>Text X:</b> It is HOT in Paris this summer.<br><b>Index Y:</b> 5<br><b>Text Y:</b> It is hot in Paris this summer<br><b>Cosine Similarity:</b> 0.983",
           "<b>Index X:</b> 7<br><b>Text X:</b> Hello world.<br><b>Index Y:</b> 5<br><b>Text Y:</b> It is hot in Paris this summer<br><b>Cosine Similarity:</b> 0.444",
           "<b>Index X:</b> 8<br><b>Text X:</b> Hello world!<br><b>Index Y:</b> 5<br><b>Text Y:</b> It is hot in Paris this summer<br><b>Cosine Similarity:</b> 0.450",
           "<b>Index X:</b> 9<br><b>Text X:</b> HELLO world.<br><b>Index Y:</b> 5<br><b>Text Y:</b> It is hot in Paris this summer<br><b>Cosine Similarity:</b> 0.453",
           "<b>Index X:</b> 10<br><b>Text X:</b> Machine learning is fascinating.<br><b>Index Y:</b> 5<br><b>Text Y:</b> It is hot in Paris this summer<br><b>Cosine Similarity:</b> 0.387",
           "<b>Index X:</b> 11<br><b>Text X:</b> Machine learning is fascinating!<br><b>Index Y:</b> 5<br><b>Text Y:</b> It is hot in Paris this summer<br><b>Cosine Similarity:</b> 0.404",
           "<b>Index X:</b> 12<br><b>Text X:</b> Artificial intelligence is fascinating.<br><b>Index Y:</b> 5<br><b>Text Y:</b> It is hot in Paris this summer<br><b>Cosine Similarity:</b> 0.400",
           "<b>Index X:</b> 13<br><b>Text X:</b> Football is a popular sport.<br><b>Index Y:</b> 5<br><b>Text Y:</b> It is hot in Paris this summer<br><b>Cosine Similarity:</b> 0.420",
           "<b>Index X:</b> 14<br><b>Text X:</b> Switching to English is sometimes useful.<br><b>Index Y:</b> 5<br><b>Text Y:</b> It is hot in Paris this summer<br><b>Cosine Similarity:</b> 0.368"
          ],
          [
           "<b>Index X:</b> 0<br><b>Text X:</b> The weather is nice today.<br><b>Index Y:</b> 6<br><b>Text Y:</b> It is HOT in Paris this summer.<br><b>Cosine Similarity:</b> 0.593",
           "<b>Index X:</b> 1<br><b>Text X:</b> The weather is nice today!<br><b>Index Y:</b> 6<br><b>Text Y:</b> It is HOT in Paris this summer.<br><b>Cosine Similarity:</b> 0.589",
           "<b>Index X:</b> 2<br><b>Text X:</b> The weather is nice today.<br><b>Index Y:</b> 6<br><b>Text Y:</b> It is HOT in Paris this summer.<br><b>Cosine Similarity:</b> 0.593",
           "<b>Index X:</b> 3<br><b>Text X:</b> The Weather is nice today.<br><b>Index Y:</b> 6<br><b>Text Y:</b> It is HOT in Paris this summer.<br><b>Cosine Similarity:</b> 0.586",
           "<b>Index X:</b> 4<br><b>Text X:</b> It is hot in Paris this summer.<br><b>Index Y:</b> 6<br><b>Text Y:</b> It is HOT in Paris this summer.<br><b>Cosine Similarity:</b> 0.989",
           "<b>Index X:</b> 5<br><b>Text X:</b> It is hot in Paris this summer<br><b>Index Y:</b> 6<br><b>Text Y:</b> It is HOT in Paris this summer.<br><b>Cosine Similarity:</b> 0.983",
           "<b>Index X:</b> 6<br><b>Text X:</b> It is HOT in Paris this summer.<br><b>Index Y:</b> 6<br><b>Text Y:</b> It is HOT in Paris this summer.<br><b>Cosine Similarity:</b> 0.996",
           "<b>Index X:</b> 7<br><b>Text X:</b> Hello world.<br><b>Index Y:</b> 6<br><b>Text Y:</b> It is HOT in Paris this summer.<br><b>Cosine Similarity:</b> 0.444",
           "<b>Index X:</b> 8<br><b>Text X:</b> Hello world!<br><b>Index Y:</b> 6<br><b>Text Y:</b> It is HOT in Paris this summer.<br><b>Cosine Similarity:</b> 0.454",
           "<b>Index X:</b> 9<br><b>Text X:</b> HELLO world.<br><b>Index Y:</b> 6<br><b>Text Y:</b> It is HOT in Paris this summer.<br><b>Cosine Similarity:</b> 0.464",
           "<b>Index X:</b> 10<br><b>Text X:</b> Machine learning is fascinating.<br><b>Index Y:</b> 6<br><b>Text Y:</b> It is HOT in Paris this summer.<br><b>Cosine Similarity:</b> 0.382",
           "<b>Index X:</b> 11<br><b>Text X:</b> Machine learning is fascinating!<br><b>Index Y:</b> 6<br><b>Text Y:</b> It is HOT in Paris this summer.<br><b>Cosine Similarity:</b> 0.398",
           "<b>Index X:</b> 12<br><b>Text X:</b> Artificial intelligence is fascinating.<br><b>Index Y:</b> 6<br><b>Text Y:</b> It is HOT in Paris this summer.<br><b>Cosine Similarity:</b> 0.397",
           "<b>Index X:</b> 13<br><b>Text X:</b> Football is a popular sport.<br><b>Index Y:</b> 6<br><b>Text Y:</b> It is HOT in Paris this summer.<br><b>Cosine Similarity:</b> 0.415",
           "<b>Index X:</b> 14<br><b>Text X:</b> Switching to English is sometimes useful.<br><b>Index Y:</b> 6<br><b>Text Y:</b> It is HOT in Paris this summer.<br><b>Cosine Similarity:</b> 0.364"
          ],
          [
           "<b>Index X:</b> 0<br><b>Text X:</b> The weather is nice today.<br><b>Index Y:</b> 7<br><b>Text Y:</b> Hello world.<br><b>Cosine Similarity:</b> 0.582",
           "<b>Index X:</b> 1<br><b>Text X:</b> The weather is nice today!<br><b>Index Y:</b> 7<br><b>Text Y:</b> Hello world.<br><b>Cosine Similarity:</b> 0.553",
           "<b>Index X:</b> 2<br><b>Text X:</b> The weather is nice today.<br><b>Index Y:</b> 7<br><b>Text Y:</b> Hello world.<br><b>Cosine Similarity:</b> 0.582",
           "<b>Index X:</b> 3<br><b>Text X:</b> The Weather is nice today.<br><b>Index Y:</b> 7<br><b>Text Y:</b> Hello world.<br><b>Cosine Similarity:</b> 0.587",
           "<b>Index X:</b> 4<br><b>Text X:</b> It is hot in Paris this summer.<br><b>Index Y:</b> 7<br><b>Text Y:</b> Hello world.<br><b>Cosine Similarity:</b> 0.454",
           "<b>Index X:</b> 5<br><b>Text X:</b> It is hot in Paris this summer<br><b>Index Y:</b> 7<br><b>Text Y:</b> Hello world.<br><b>Cosine Similarity:</b> 0.444",
           "<b>Index X:</b> 6<br><b>Text X:</b> It is HOT in Paris this summer.<br><b>Index Y:</b> 7<br><b>Text Y:</b> Hello world.<br><b>Cosine Similarity:</b> 0.444",
           "<b>Index X:</b> 7<br><b>Text X:</b> Hello world.<br><b>Index Y:</b> 7<br><b>Text Y:</b> Hello world.<br><b>Cosine Similarity:</b> 0.997",
           "<b>Index X:</b> 8<br><b>Text X:</b> Hello world!<br><b>Index Y:</b> 7<br><b>Text Y:</b> Hello world.<br><b>Cosine Similarity:</b> 0.975",
           "<b>Index X:</b> 9<br><b>Text X:</b> HELLO world.<br><b>Index Y:</b> 7<br><b>Text Y:</b> Hello world.<br><b>Cosine Similarity:</b> 0.958",
           "<b>Index X:</b> 10<br><b>Text X:</b> Machine learning is fascinating.<br><b>Index Y:</b> 7<br><b>Text Y:</b> Hello world.<br><b>Cosine Similarity:</b> 0.494",
           "<b>Index X:</b> 11<br><b>Text X:</b> Machine learning is fascinating!<br><b>Index Y:</b> 7<br><b>Text Y:</b> Hello world.<br><b>Cosine Similarity:</b> 0.505",
           "<b>Index X:</b> 12<br><b>Text X:</b> Artificial intelligence is fascinating.<br><b>Index Y:</b> 7<br><b>Text Y:</b> Hello world.<br><b>Cosine Similarity:</b> 0.512",
           "<b>Index X:</b> 13<br><b>Text X:</b> Football is a popular sport.<br><b>Index Y:</b> 7<br><b>Text Y:</b> Hello world.<br><b>Cosine Similarity:</b> 0.436",
           "<b>Index X:</b> 14<br><b>Text X:</b> Switching to English is sometimes useful.<br><b>Index Y:</b> 7<br><b>Text Y:</b> Hello world.<br><b>Cosine Similarity:</b> 0.502"
          ],
          [
           "<b>Index X:</b> 0<br><b>Text X:</b> The weather is nice today.<br><b>Index Y:</b> 8<br><b>Text Y:</b> Hello world!<br><b>Cosine Similarity:</b> 0.581",
           "<b>Index X:</b> 1<br><b>Text X:</b> The weather is nice today!<br><b>Index Y:</b> 8<br><b>Text Y:</b> Hello world!<br><b>Cosine Similarity:</b> 0.588",
           "<b>Index X:</b> 2<br><b>Text X:</b> The weather is nice today.<br><b>Index Y:</b> 8<br><b>Text Y:</b> Hello world!<br><b>Cosine Similarity:</b> 0.581",
           "<b>Index X:</b> 3<br><b>Text X:</b> The Weather is nice today.<br><b>Index Y:</b> 8<br><b>Text Y:</b> Hello world!<br><b>Cosine Similarity:</b> 0.586",
           "<b>Index X:</b> 4<br><b>Text X:</b> It is hot in Paris this summer.<br><b>Index Y:</b> 8<br><b>Text Y:</b> Hello world!<br><b>Cosine Similarity:</b> 0.459",
           "<b>Index X:</b> 5<br><b>Text X:</b> It is hot in Paris this summer<br><b>Index Y:</b> 8<br><b>Text Y:</b> Hello world!<br><b>Cosine Similarity:</b> 0.450",
           "<b>Index X:</b> 6<br><b>Text X:</b> It is HOT in Paris this summer.<br><b>Index Y:</b> 8<br><b>Text Y:</b> Hello world!<br><b>Cosine Similarity:</b> 0.454",
           "<b>Index X:</b> 7<br><b>Text X:</b> Hello world.<br><b>Index Y:</b> 8<br><b>Text Y:</b> Hello world!<br><b>Cosine Similarity:</b> 0.975",
           "<b>Index X:</b> 8<br><b>Text X:</b> Hello world!<br><b>Index Y:</b> 8<br><b>Text Y:</b> Hello world!<br><b>Cosine Similarity:</b> 1.000",
           "<b>Index X:</b> 9<br><b>Text X:</b> HELLO world.<br><b>Index Y:</b> 8<br><b>Text Y:</b> Hello world!<br><b>Cosine Similarity:</b> 0.952",
           "<b>Index X:</b> 10<br><b>Text X:</b> Machine learning is fascinating.<br><b>Index Y:</b> 8<br><b>Text Y:</b> Hello world!<br><b>Cosine Similarity:</b> 0.491",
           "<b>Index X:</b> 11<br><b>Text X:</b> Machine learning is fascinating!<br><b>Index Y:</b> 8<br><b>Text Y:</b> Hello world!<br><b>Cosine Similarity:</b> 0.520",
           "<b>Index X:</b> 12<br><b>Text X:</b> Artificial intelligence is fascinating.<br><b>Index Y:</b> 8<br><b>Text Y:</b> Hello world!<br><b>Cosine Similarity:</b> 0.496",
           "<b>Index X:</b> 13<br><b>Text X:</b> Football is a popular sport.<br><b>Index Y:</b> 8<br><b>Text Y:</b> Hello world!<br><b>Cosine Similarity:</b> 0.434",
           "<b>Index X:</b> 14<br><b>Text X:</b> Switching to English is sometimes useful.<br><b>Index Y:</b> 8<br><b>Text Y:</b> Hello world!<br><b>Cosine Similarity:</b> 0.509"
          ],
          [
           "<b>Index X:</b> 0<br><b>Text X:</b> The weather is nice today.<br><b>Index Y:</b> 9<br><b>Text Y:</b> HELLO world.<br><b>Cosine Similarity:</b> 0.571",
           "<b>Index X:</b> 1<br><b>Text X:</b> The weather is nice today!<br><b>Index Y:</b> 9<br><b>Text Y:</b> HELLO world.<br><b>Cosine Similarity:</b> 0.560",
           "<b>Index X:</b> 2<br><b>Text X:</b> The weather is nice today.<br><b>Index Y:</b> 9<br><b>Text Y:</b> HELLO world.<br><b>Cosine Similarity:</b> 0.571",
           "<b>Index X:</b> 3<br><b>Text X:</b> The Weather is nice today.<br><b>Index Y:</b> 9<br><b>Text Y:</b> HELLO world.<br><b>Cosine Similarity:</b> 0.578",
           "<b>Index X:</b> 4<br><b>Text X:</b> It is hot in Paris this summer.<br><b>Index Y:</b> 9<br><b>Text Y:</b> HELLO world.<br><b>Cosine Similarity:</b> 0.462",
           "<b>Index X:</b> 5<br><b>Text X:</b> It is hot in Paris this summer<br><b>Index Y:</b> 9<br><b>Text Y:</b> HELLO world.<br><b>Cosine Similarity:</b> 0.453",
           "<b>Index X:</b> 6<br><b>Text X:</b> It is HOT in Paris this summer.<br><b>Index Y:</b> 9<br><b>Text Y:</b> HELLO world.<br><b>Cosine Similarity:</b> 0.464",
           "<b>Index X:</b> 7<br><b>Text X:</b> Hello world.<br><b>Index Y:</b> 9<br><b>Text Y:</b> HELLO world.<br><b>Cosine Similarity:</b> 0.958",
           "<b>Index X:</b> 8<br><b>Text X:</b> Hello world!<br><b>Index Y:</b> 9<br><b>Text Y:</b> HELLO world.<br><b>Cosine Similarity:</b> 0.952",
           "<b>Index X:</b> 9<br><b>Text X:</b> HELLO world.<br><b>Index Y:</b> 9<br><b>Text Y:</b> HELLO world.<br><b>Cosine Similarity:</b> 0.999",
           "<b>Index X:</b> 10<br><b>Text X:</b> Machine learning is fascinating.<br><b>Index Y:</b> 9<br><b>Text Y:</b> HELLO world.<br><b>Cosine Similarity:</b> 0.483",
           "<b>Index X:</b> 11<br><b>Text X:</b> Machine learning is fascinating!<br><b>Index Y:</b> 9<br><b>Text Y:</b> HELLO world.<br><b>Cosine Similarity:</b> 0.503",
           "<b>Index X:</b> 12<br><b>Text X:</b> Artificial intelligence is fascinating.<br><b>Index Y:</b> 9<br><b>Text Y:</b> HELLO world.<br><b>Cosine Similarity:</b> 0.497",
           "<b>Index X:</b> 13<br><b>Text X:</b> Football is a popular sport.<br><b>Index Y:</b> 9<br><b>Text Y:</b> HELLO world.<br><b>Cosine Similarity:</b> 0.416",
           "<b>Index X:</b> 14<br><b>Text X:</b> Switching to English is sometimes useful.<br><b>Index Y:</b> 9<br><b>Text Y:</b> HELLO world.<br><b>Cosine Similarity:</b> 0.491"
          ],
          [
           "<b>Index X:</b> 0<br><b>Text X:</b> The weather is nice today.<br><b>Index Y:</b> 10<br><b>Text Y:</b> Machine learning is fascinating.<br><b>Cosine Similarity:</b> 0.458",
           "<b>Index X:</b> 1<br><b>Text X:</b> The weather is nice today!<br><b>Index Y:</b> 10<br><b>Text Y:</b> Machine learning is fascinating.<br><b>Cosine Similarity:</b> 0.444",
           "<b>Index X:</b> 2<br><b>Text X:</b> The weather is nice today.<br><b>Index Y:</b> 10<br><b>Text Y:</b> Machine learning is fascinating.<br><b>Cosine Similarity:</b> 0.458",
           "<b>Index X:</b> 3<br><b>Text X:</b> The Weather is nice today.<br><b>Index Y:</b> 10<br><b>Text Y:</b> Machine learning is fascinating.<br><b>Cosine Similarity:</b> 0.467",
           "<b>Index X:</b> 4<br><b>Text X:</b> It is hot in Paris this summer.<br><b>Index Y:</b> 10<br><b>Text Y:</b> Machine learning is fascinating.<br><b>Cosine Similarity:</b> 0.378",
           "<b>Index X:</b> 5<br><b>Text X:</b> It is hot in Paris this summer<br><b>Index Y:</b> 10<br><b>Text Y:</b> Machine learning is fascinating.<br><b>Cosine Similarity:</b> 0.387",
           "<b>Index X:</b> 6<br><b>Text X:</b> It is HOT in Paris this summer.<br><b>Index Y:</b> 10<br><b>Text Y:</b> Machine learning is fascinating.<br><b>Cosine Similarity:</b> 0.382",
           "<b>Index X:</b> 7<br><b>Text X:</b> Hello world.<br><b>Index Y:</b> 10<br><b>Text Y:</b> Machine learning is fascinating.<br><b>Cosine Similarity:</b> 0.494",
           "<b>Index X:</b> 8<br><b>Text X:</b> Hello world!<br><b>Index Y:</b> 10<br><b>Text Y:</b> Machine learning is fascinating.<br><b>Cosine Similarity:</b> 0.491",
           "<b>Index X:</b> 9<br><b>Text X:</b> HELLO world.<br><b>Index Y:</b> 10<br><b>Text Y:</b> Machine learning is fascinating.<br><b>Cosine Similarity:</b> 0.483",
           "<b>Index X:</b> 10<br><b>Text X:</b> Machine learning is fascinating.<br><b>Index Y:</b> 10<br><b>Text Y:</b> Machine learning is fascinating.<br><b>Cosine Similarity:</b> 1.001",
           "<b>Index X:</b> 11<br><b>Text X:</b> Machine learning is fascinating!<br><b>Index Y:</b> 10<br><b>Text Y:</b> Machine learning is fascinating.<br><b>Cosine Similarity:</b> 0.982",
           "<b>Index X:</b> 12<br><b>Text X:</b> Artificial intelligence is fascinating.<br><b>Index Y:</b> 10<br><b>Text Y:</b> Machine learning is fascinating.<br><b>Cosine Similarity:</b> 0.810",
           "<b>Index X:</b> 13<br><b>Text X:</b> Football is a popular sport.<br><b>Index Y:</b> 10<br><b>Text Y:</b> Machine learning is fascinating.<br><b>Cosine Similarity:</b> 0.385",
           "<b>Index X:</b> 14<br><b>Text X:</b> Switching to English is sometimes useful.<br><b>Index Y:</b> 10<br><b>Text Y:</b> Machine learning is fascinating.<br><b>Cosine Similarity:</b> 0.420"
          ],
          [
           "<b>Index X:</b> 0<br><b>Text X:</b> The weather is nice today.<br><b>Index Y:</b> 11<br><b>Text Y:</b> Machine learning is fascinating!<br><b>Cosine Similarity:</b> 0.463",
           "<b>Index X:</b> 1<br><b>Text X:</b> The weather is nice today!<br><b>Index Y:</b> 11<br><b>Text Y:</b> Machine learning is fascinating!<br><b>Cosine Similarity:</b> 0.471",
           "<b>Index X:</b> 2<br><b>Text X:</b> The weather is nice today.<br><b>Index Y:</b> 11<br><b>Text Y:</b> Machine learning is fascinating!<br><b>Cosine Similarity:</b> 0.463",
           "<b>Index X:</b> 3<br><b>Text X:</b> The Weather is nice today.<br><b>Index Y:</b> 11<br><b>Text Y:</b> Machine learning is fascinating!<br><b>Cosine Similarity:</b> 0.473",
           "<b>Index X:</b> 4<br><b>Text X:</b> It is hot in Paris this summer.<br><b>Index Y:</b> 11<br><b>Text Y:</b> Machine learning is fascinating!<br><b>Cosine Similarity:</b> 0.393",
           "<b>Index X:</b> 5<br><b>Text X:</b> It is hot in Paris this summer<br><b>Index Y:</b> 11<br><b>Text Y:</b> Machine learning is fascinating!<br><b>Cosine Similarity:</b> 0.404",
           "<b>Index X:</b> 6<br><b>Text X:</b> It is HOT in Paris this summer.<br><b>Index Y:</b> 11<br><b>Text Y:</b> Machine learning is fascinating!<br><b>Cosine Similarity:</b> 0.398",
           "<b>Index X:</b> 7<br><b>Text X:</b> Hello world.<br><b>Index Y:</b> 11<br><b>Text Y:</b> Machine learning is fascinating!<br><b>Cosine Similarity:</b> 0.505",
           "<b>Index X:</b> 8<br><b>Text X:</b> Hello world!<br><b>Index Y:</b> 11<br><b>Text Y:</b> Machine learning is fascinating!<br><b>Cosine Similarity:</b> 0.520",
           "<b>Index X:</b> 9<br><b>Text X:</b> HELLO world.<br><b>Index Y:</b> 11<br><b>Text Y:</b> Machine learning is fascinating!<br><b>Cosine Similarity:</b> 0.503",
           "<b>Index X:</b> 10<br><b>Text X:</b> Machine learning is fascinating.<br><b>Index Y:</b> 11<br><b>Text Y:</b> Machine learning is fascinating!<br><b>Cosine Similarity:</b> 0.982",
           "<b>Index X:</b> 11<br><b>Text X:</b> Machine learning is fascinating!<br><b>Index Y:</b> 11<br><b>Text Y:</b> Machine learning is fascinating!<br><b>Cosine Similarity:</b> 0.998",
           "<b>Index X:</b> 12<br><b>Text X:</b> Artificial intelligence is fascinating.<br><b>Index Y:</b> 11<br><b>Text Y:</b> Machine learning is fascinating!<br><b>Cosine Similarity:</b> 0.805",
           "<b>Index X:</b> 13<br><b>Text X:</b> Football is a popular sport.<br><b>Index Y:</b> 11<br><b>Text Y:</b> Machine learning is fascinating!<br><b>Cosine Similarity:</b> 0.391",
           "<b>Index X:</b> 14<br><b>Text X:</b> Switching to English is sometimes useful.<br><b>Index Y:</b> 11<br><b>Text Y:</b> Machine learning is fascinating!<br><b>Cosine Similarity:</b> 0.420"
          ],
          [
           "<b>Index X:</b> 0<br><b>Text X:</b> The weather is nice today.<br><b>Index Y:</b> 12<br><b>Text Y:</b> Artificial intelligence is fascinating.<br><b>Cosine Similarity:</b> 0.447",
           "<b>Index X:</b> 1<br><b>Text X:</b> The weather is nice today!<br><b>Index Y:</b> 12<br><b>Text Y:</b> Artificial intelligence is fascinating.<br><b>Cosine Similarity:</b> 0.428",
           "<b>Index X:</b> 2<br><b>Text X:</b> The weather is nice today.<br><b>Index Y:</b> 12<br><b>Text Y:</b> Artificial intelligence is fascinating.<br><b>Cosine Similarity:</b> 0.447",
           "<b>Index X:</b> 3<br><b>Text X:</b> The Weather is nice today.<br><b>Index Y:</b> 12<br><b>Text Y:</b> Artificial intelligence is fascinating.<br><b>Cosine Similarity:</b> 0.462",
           "<b>Index X:</b> 4<br><b>Text X:</b> It is hot in Paris this summer.<br><b>Index Y:</b> 12<br><b>Text Y:</b> Artificial intelligence is fascinating.<br><b>Cosine Similarity:</b> 0.398",
           "<b>Index X:</b> 5<br><b>Text X:</b> It is hot in Paris this summer<br><b>Index Y:</b> 12<br><b>Text Y:</b> Artificial intelligence is fascinating.<br><b>Cosine Similarity:</b> 0.400",
           "<b>Index X:</b> 6<br><b>Text X:</b> It is HOT in Paris this summer.<br><b>Index Y:</b> 12<br><b>Text Y:</b> Artificial intelligence is fascinating.<br><b>Cosine Similarity:</b> 0.397",
           "<b>Index X:</b> 7<br><b>Text X:</b> Hello world.<br><b>Index Y:</b> 12<br><b>Text Y:</b> Artificial intelligence is fascinating.<br><b>Cosine Similarity:</b> 0.512",
           "<b>Index X:</b> 8<br><b>Text X:</b> Hello world!<br><b>Index Y:</b> 12<br><b>Text Y:</b> Artificial intelligence is fascinating.<br><b>Cosine Similarity:</b> 0.496",
           "<b>Index X:</b> 9<br><b>Text X:</b> HELLO world.<br><b>Index Y:</b> 12<br><b>Text Y:</b> Artificial intelligence is fascinating.<br><b>Cosine Similarity:</b> 0.497",
           "<b>Index X:</b> 10<br><b>Text X:</b> Machine learning is fascinating.<br><b>Index Y:</b> 12<br><b>Text Y:</b> Artificial intelligence is fascinating.<br><b>Cosine Similarity:</b> 0.810",
           "<b>Index X:</b> 11<br><b>Text X:</b> Machine learning is fascinating!<br><b>Index Y:</b> 12<br><b>Text Y:</b> Artificial intelligence is fascinating.<br><b>Cosine Similarity:</b> 0.805",
           "<b>Index X:</b> 12<br><b>Text X:</b> Artificial intelligence is fascinating.<br><b>Index Y:</b> 12<br><b>Text Y:</b> Artificial intelligence is fascinating.<br><b>Cosine Similarity:</b> 1.004",
           "<b>Index X:</b> 13<br><b>Text X:</b> Football is a popular sport.<br><b>Index Y:</b> 12<br><b>Text Y:</b> Artificial intelligence is fascinating.<br><b>Cosine Similarity:</b> 0.358",
           "<b>Index X:</b> 14<br><b>Text X:</b> Switching to English is sometimes useful.<br><b>Index Y:</b> 12<br><b>Text Y:</b> Artificial intelligence is fascinating.<br><b>Cosine Similarity:</b> 0.419"
          ],
          [
           "<b>Index X:</b> 0<br><b>Text X:</b> The weather is nice today.<br><b>Index Y:</b> 13<br><b>Text Y:</b> Football is a popular sport.<br><b>Cosine Similarity:</b> 0.444",
           "<b>Index X:</b> 1<br><b>Text X:</b> The weather is nice today!<br><b>Index Y:</b> 13<br><b>Text Y:</b> Football is a popular sport.<br><b>Cosine Similarity:</b> 0.408",
           "<b>Index X:</b> 2<br><b>Text X:</b> The weather is nice today.<br><b>Index Y:</b> 13<br><b>Text Y:</b> Football is a popular sport.<br><b>Cosine Similarity:</b> 0.444",
           "<b>Index X:</b> 3<br><b>Text X:</b> The Weather is nice today.<br><b>Index Y:</b> 13<br><b>Text Y:</b> Football is a popular sport.<br><b>Cosine Similarity:</b> 0.433",
           "<b>Index X:</b> 4<br><b>Text X:</b> It is hot in Paris this summer.<br><b>Index Y:</b> 13<br><b>Text Y:</b> Football is a popular sport.<br><b>Cosine Similarity:</b> 0.428",
           "<b>Index X:</b> 5<br><b>Text X:</b> It is hot in Paris this summer<br><b>Index Y:</b> 13<br><b>Text Y:</b> Football is a popular sport.<br><b>Cosine Similarity:</b> 0.420",
           "<b>Index X:</b> 6<br><b>Text X:</b> It is HOT in Paris this summer.<br><b>Index Y:</b> 13<br><b>Text Y:</b> Football is a popular sport.<br><b>Cosine Similarity:</b> 0.415",
           "<b>Index X:</b> 7<br><b>Text X:</b> Hello world.<br><b>Index Y:</b> 13<br><b>Text Y:</b> Football is a popular sport.<br><b>Cosine Similarity:</b> 0.436",
           "<b>Index X:</b> 8<br><b>Text X:</b> Hello world!<br><b>Index Y:</b> 13<br><b>Text Y:</b> Football is a popular sport.<br><b>Cosine Similarity:</b> 0.434",
           "<b>Index X:</b> 9<br><b>Text X:</b> HELLO world.<br><b>Index Y:</b> 13<br><b>Text Y:</b> Football is a popular sport.<br><b>Cosine Similarity:</b> 0.416",
           "<b>Index X:</b> 10<br><b>Text X:</b> Machine learning is fascinating.<br><b>Index Y:</b> 13<br><b>Text Y:</b> Football is a popular sport.<br><b>Cosine Similarity:</b> 0.385",
           "<b>Index X:</b> 11<br><b>Text X:</b> Machine learning is fascinating!<br><b>Index Y:</b> 13<br><b>Text Y:</b> Football is a popular sport.<br><b>Cosine Similarity:</b> 0.391",
           "<b>Index X:</b> 12<br><b>Text X:</b> Artificial intelligence is fascinating.<br><b>Index Y:</b> 13<br><b>Text Y:</b> Football is a popular sport.<br><b>Cosine Similarity:</b> 0.358",
           "<b>Index X:</b> 13<br><b>Text X:</b> Football is a popular sport.<br><b>Index Y:</b> 13<br><b>Text Y:</b> Football is a popular sport.<br><b>Cosine Similarity:</b> 0.998",
           "<b>Index X:</b> 14<br><b>Text X:</b> Switching to English is sometimes useful.<br><b>Index Y:</b> 13<br><b>Text Y:</b> Football is a popular sport.<br><b>Cosine Similarity:</b> 0.406"
          ],
          [
           "<b>Index X:</b> 0<br><b>Text X:</b> The weather is nice today.<br><b>Index Y:</b> 14<br><b>Text Y:</b> Switching to English is sometimes useful.<br><b>Cosine Similarity:</b> 0.411",
           "<b>Index X:</b> 1<br><b>Text X:</b> The weather is nice today!<br><b>Index Y:</b> 14<br><b>Text Y:</b> Switching to English is sometimes useful.<br><b>Cosine Similarity:</b> 0.407",
           "<b>Index X:</b> 2<br><b>Text X:</b> The weather is nice today.<br><b>Index Y:</b> 14<br><b>Text Y:</b> Switching to English is sometimes useful.<br><b>Cosine Similarity:</b> 0.411",
           "<b>Index X:</b> 3<br><b>Text X:</b> The Weather is nice today.<br><b>Index Y:</b> 14<br><b>Text Y:</b> Switching to English is sometimes useful.<br><b>Cosine Similarity:</b> 0.416",
           "<b>Index X:</b> 4<br><b>Text X:</b> It is hot in Paris this summer.<br><b>Index Y:</b> 14<br><b>Text Y:</b> Switching to English is sometimes useful.<br><b>Cosine Similarity:</b> 0.368",
           "<b>Index X:</b> 5<br><b>Text X:</b> It is hot in Paris this summer<br><b>Index Y:</b> 14<br><b>Text Y:</b> Switching to English is sometimes useful.<br><b>Cosine Similarity:</b> 0.368",
           "<b>Index X:</b> 6<br><b>Text X:</b> It is HOT in Paris this summer.<br><b>Index Y:</b> 14<br><b>Text Y:</b> Switching to English is sometimes useful.<br><b>Cosine Similarity:</b> 0.364",
           "<b>Index X:</b> 7<br><b>Text X:</b> Hello world.<br><b>Index Y:</b> 14<br><b>Text Y:</b> Switching to English is sometimes useful.<br><b>Cosine Similarity:</b> 0.502",
           "<b>Index X:</b> 8<br><b>Text X:</b> Hello world!<br><b>Index Y:</b> 14<br><b>Text Y:</b> Switching to English is sometimes useful.<br><b>Cosine Similarity:</b> 0.509",
           "<b>Index X:</b> 9<br><b>Text X:</b> HELLO world.<br><b>Index Y:</b> 14<br><b>Text Y:</b> Switching to English is sometimes useful.<br><b>Cosine Similarity:</b> 0.491",
           "<b>Index X:</b> 10<br><b>Text X:</b> Machine learning is fascinating.<br><b>Index Y:</b> 14<br><b>Text Y:</b> Switching to English is sometimes useful.<br><b>Cosine Similarity:</b> 0.420",
           "<b>Index X:</b> 11<br><b>Text X:</b> Machine learning is fascinating!<br><b>Index Y:</b> 14<br><b>Text Y:</b> Switching to English is sometimes useful.<br><b>Cosine Similarity:</b> 0.420",
           "<b>Index X:</b> 12<br><b>Text X:</b> Artificial intelligence is fascinating.<br><b>Index Y:</b> 14<br><b>Text Y:</b> Switching to English is sometimes useful.<br><b>Cosine Similarity:</b> 0.419",
           "<b>Index X:</b> 13<br><b>Text X:</b> Football is a popular sport.<br><b>Index Y:</b> 14<br><b>Text Y:</b> Switching to English is sometimes useful.<br><b>Cosine Similarity:</b> 0.406",
           "<b>Index X:</b> 14<br><b>Text X:</b> Switching to English is sometimes useful.<br><b>Index Y:</b> 14<br><b>Text Y:</b> Switching to English is sometimes useful.<br><b>Cosine Similarity:</b> 1.007"
          ]
         ],
         "type": "heatmap",
         "x": [
          0,
          1,
          2,
          3,
          4,
          5,
          6,
          7,
          8,
          9,
          10,
          11,
          12,
          13,
          14
         ],
         "xaxis": "x2",
         "y": [
          0,
          1,
          2,
          3,
          4,
          5,
          6,
          7,
          8,
          9,
          10,
          11,
          12,
          13,
          14
         ],
         "yaxis": "y2",
         "z": {
          "bdata": "dyKAP4Wgdz93IoA/3sF5P+trFT8CUBI/KN0XPzH3FD+pqRQ/sT8SP3Zk6j7k3ew+gN/kPkmL4z5kMdI+haB3P/xOgD+FoHc/C011P8zbED9PZQ8/TcwWP8eYDT+ZohY/HnEPP1aS4z4eM/E+xD3bPr/f0D5EYNA+dyKAP4Wgdz93IoA/3sF5P+trFT8CUBI/KN0XPzH3FD+pqRQ/sT8SP3Zk6j7k3ew+gN/kPkmL4z5kMdI+3sF5PwtNdT/ewXk/P7aAP2jpED+KJw8/O+gVP8VeFj+sIhY/MAAUPyEa7z6k7PE+NmDsPo7r3T6F+tQ+62sVP8zbED/raxU/aOkQPx/yfz9O2X0/+Bp9P72S6D46N+s++JHsPkLEwT7SSsk+Ub/LPjbu2j6Si7w+AlASP09lDz8CUBI/iicPP07ZfT9pN38/bLp7P5J04z5Hl+Y+evTnPtYnxj7+/c4+eAjNPvz01j4rqrw+KN0XP03MFj8o3Rc/O+gVP/gafT9suns/BRZ/P/IU4z60ZOg+Hr3tPrNrwz7r4cs+7wfLPkOm1D4Pkro+MfcUP8eYDT8x9xQ/xV4WP72S6D6SdOM+8hTjPm88fz8PiXk/Fkt1P4TA/D5UKAE/pSMDPwdD3z5AbgA/qakUP5miFj+pqRQ/rCIWPzo36z5Hl+Y+tGToPg+JeT/uCIA/859zPyho+z4NJwU/Vt79Plhp3j7WQQI/sT8SPx5xDz+xPxI/MAAUP/iR7D569Oc+Hr3tPhZLdT/zn3M/+al/Pyd29z4a2AA/Pan+Pgjk1D5ulvs+dmTqPlaS4z52ZOo+IRrvPkLEwT7WJ8Y+s2vDPoTA/D4oaPs+J3b3Ph4ogD/dgns/elNPPwEhxT4cStc+5N3sPh4z8T7k3ew+pOzxPtJKyT7+/c4+6+HLPlQoAT8NJwU/GtgAP92Cez+VlH8//ghOP1Y9yD4c/tY+gN/kPsQ92z6A3+Q+NmDsPlG/yz54CM0+7wfLPqUjAz9W3v0+Pan+PnpTTz/+CE4/l4CAP5CItz6tZNY+SYvjPr/f0D5Ji+M+juvdPjbu2j789NY+Q6bUPgdD3z5Yad4+COTUPgEhxT5WPcg+kIi3PkRvfz+vDtA+ZDHSPkRg0D5kMdI+hfrUPpKLvD4rqrw+D5K6PkBuAD/WQQI/bpb7PhxK1z4c/tY+rWTWPq8O0D5c4IA/",
          "dtype": "f4",
          "shape": "15, 15"
         },
         "zmax": 1,
         "zmin": 0
        }
       ],
       "layout": {
        "annotations": [
         {
          "font": {
           "size": 16
          },
          "showarrow": false,
          "text": "all-MiniLM-L6-v2",
          "x": 0.23,
          "xanchor": "center",
          "xref": "paper",
          "y": 1,
          "yanchor": "bottom",
          "yref": "paper"
         },
         {
          "font": {
           "size": 16
          },
          "showarrow": false,
          "text": "jinaai/jina-embeddings-v3",
          "x": 0.77,
          "xanchor": "center",
          "xref": "paper",
          "y": 1,
          "yanchor": "bottom",
          "yref": "paper"
         }
        ],
        "height": 650,
        "template": {
         "data": {
          "bar": [
           {
            "error_x": {
             "color": "#2a3f5f"
            },
            "error_y": {
             "color": "#2a3f5f"
            },
            "marker": {
             "line": {
              "color": "#E5ECF6",
              "width": 0.5
             },
             "pattern": {
              "fillmode": "overlay",
              "size": 10,
              "solidity": 0.2
             }
            },
            "type": "bar"
           }
          ],
          "barpolar": [
           {
            "marker": {
             "line": {
              "color": "#E5ECF6",
              "width": 0.5
             },
             "pattern": {
              "fillmode": "overlay",
              "size": 10,
              "solidity": 0.2
             }
            },
            "type": "barpolar"
           }
          ],
          "carpet": [
           {
            "aaxis": {
             "endlinecolor": "#2a3f5f",
             "gridcolor": "white",
             "linecolor": "white",
             "minorgridcolor": "white",
             "startlinecolor": "#2a3f5f"
            },
            "baxis": {
             "endlinecolor": "#2a3f5f",
             "gridcolor": "white",
             "linecolor": "white",
             "minorgridcolor": "white",
             "startlinecolor": "#2a3f5f"
            },
            "type": "carpet"
           }
          ],
          "choropleth": [
           {
            "colorbar": {
             "outlinewidth": 0,
             "ticks": ""
            },
            "type": "choropleth"
           }
          ],
          "contour": [
           {
            "colorbar": {
             "outlinewidth": 0,
             "ticks": ""
            },
            "colorscale": [
             [
              0,
              "#0d0887"
             ],
             [
              0.1111111111111111,
              "#46039f"
             ],
             [
              0.2222222222222222,
              "#7201a8"
             ],
             [
              0.3333333333333333,
              "#9c179e"
             ],
             [
              0.4444444444444444,
              "#bd3786"
             ],
             [
              0.5555555555555556,
              "#d8576b"
             ],
             [
              0.6666666666666666,
              "#ed7953"
             ],
             [
              0.7777777777777778,
              "#fb9f3a"
             ],
             [
              0.8888888888888888,
              "#fdca26"
             ],
             [
              1,
              "#f0f921"
             ]
            ],
            "type": "contour"
           }
          ],
          "contourcarpet": [
           {
            "colorbar": {
             "outlinewidth": 0,
             "ticks": ""
            },
            "type": "contourcarpet"
           }
          ],
          "heatmap": [
           {
            "colorbar": {
             "outlinewidth": 0,
             "ticks": ""
            },
            "colorscale": [
             [
              0,
              "#0d0887"
             ],
             [
              0.1111111111111111,
              "#46039f"
             ],
             [
              0.2222222222222222,
              "#7201a8"
             ],
             [
              0.3333333333333333,
              "#9c179e"
             ],
             [
              0.4444444444444444,
              "#bd3786"
             ],
             [
              0.5555555555555556,
              "#d8576b"
             ],
             [
              0.6666666666666666,
              "#ed7953"
             ],
             [
              0.7777777777777778,
              "#fb9f3a"
             ],
             [
              0.8888888888888888,
              "#fdca26"
             ],
             [
              1,
              "#f0f921"
             ]
            ],
            "type": "heatmap"
           }
          ],
          "histogram": [
           {
            "marker": {
             "pattern": {
              "fillmode": "overlay",
              "size": 10,
              "solidity": 0.2
             }
            },
            "type": "histogram"
           }
          ],
          "histogram2d": [
           {
            "colorbar": {
             "outlinewidth": 0,
             "ticks": ""
            },
            "colorscale": [
             [
              0,
              "#0d0887"
             ],
             [
              0.1111111111111111,
              "#46039f"
             ],
             [
              0.2222222222222222,
              "#7201a8"
             ],
             [
              0.3333333333333333,
              "#9c179e"
             ],
             [
              0.4444444444444444,
              "#bd3786"
             ],
             [
              0.5555555555555556,
              "#d8576b"
             ],
             [
              0.6666666666666666,
              "#ed7953"
             ],
             [
              0.7777777777777778,
              "#fb9f3a"
             ],
             [
              0.8888888888888888,
              "#fdca26"
             ],
             [
              1,
              "#f0f921"
             ]
            ],
            "type": "histogram2d"
           }
          ],
          "histogram2dcontour": [
           {
            "colorbar": {
             "outlinewidth": 0,
             "ticks": ""
            },
            "colorscale": [
             [
              0,
              "#0d0887"
             ],
             [
              0.1111111111111111,
              "#46039f"
             ],
             [
              0.2222222222222222,
              "#7201a8"
             ],
             [
              0.3333333333333333,
              "#9c179e"
             ],
             [
              0.4444444444444444,
              "#bd3786"
             ],
             [
              0.5555555555555556,
              "#d8576b"
             ],
             [
              0.6666666666666666,
              "#ed7953"
             ],
             [
              0.7777777777777778,
              "#fb9f3a"
             ],
             [
              0.8888888888888888,
              "#fdca26"
             ],
             [
              1,
              "#f0f921"
             ]
            ],
            "type": "histogram2dcontour"
           }
          ],
          "mesh3d": [
           {
            "colorbar": {
             "outlinewidth": 0,
             "ticks": ""
            },
            "type": "mesh3d"
           }
          ],
          "parcoords": [
           {
            "line": {
             "colorbar": {
              "outlinewidth": 0,
              "ticks": ""
             }
            },
            "type": "parcoords"
           }
          ],
          "pie": [
           {
            "automargin": true,
            "type": "pie"
           }
          ],
          "scatter": [
           {
            "fillpattern": {
             "fillmode": "overlay",
             "size": 10,
             "solidity": 0.2
            },
            "type": "scatter"
           }
          ],
          "scatter3d": [
           {
            "line": {
             "colorbar": {
              "outlinewidth": 0,
              "ticks": ""
             }
            },
            "marker": {
             "colorbar": {
              "outlinewidth": 0,
              "ticks": ""
             }
            },
            "type": "scatter3d"
           }
          ],
          "scattercarpet": [
           {
            "marker": {
             "colorbar": {
              "outlinewidth": 0,
              "ticks": ""
             }
            },
            "type": "scattercarpet"
           }
          ],
          "scattergeo": [
           {
            "marker": {
             "colorbar": {
              "outlinewidth": 0,
              "ticks": ""
             }
            },
            "type": "scattergeo"
           }
          ],
          "scattergl": [
           {
            "marker": {
             "colorbar": {
              "outlinewidth": 0,
              "ticks": ""
             }
            },
            "type": "scattergl"
           }
          ],
          "scattermap": [
           {
            "marker": {
             "colorbar": {
              "outlinewidth": 0,
              "ticks": ""
             }
            },
            "type": "scattermap"
           }
          ],
          "scattermapbox": [
           {
            "marker": {
             "colorbar": {
              "outlinewidth": 0,
              "ticks": ""
             }
            },
            "type": "scattermapbox"
           }
          ],
          "scatterpolar": [
           {
            "marker": {
             "colorbar": {
              "outlinewidth": 0,
              "ticks": ""
             }
            },
            "type": "scatterpolar"
           }
          ],
          "scatterpolargl": [
           {
            "marker": {
             "colorbar": {
              "outlinewidth": 0,
              "ticks": ""
             }
            },
            "type": "scatterpolargl"
           }
          ],
          "scatterternary": [
           {
            "marker": {
             "colorbar": {
              "outlinewidth": 0,
              "ticks": ""
             }
            },
            "type": "scatterternary"
           }
          ],
          "surface": [
           {
            "colorbar": {
             "outlinewidth": 0,
             "ticks": ""
            },
            "colorscale": [
             [
              0,
              "#0d0887"
             ],
             [
              0.1111111111111111,
              "#46039f"
             ],
             [
              0.2222222222222222,
              "#7201a8"
             ],
             [
              0.3333333333333333,
              "#9c179e"
             ],
             [
              0.4444444444444444,
              "#bd3786"
             ],
             [
              0.5555555555555556,
              "#d8576b"
             ],
             [
              0.6666666666666666,
              "#ed7953"
             ],
             [
              0.7777777777777778,
              "#fb9f3a"
             ],
             [
              0.8888888888888888,
              "#fdca26"
             ],
             [
              1,
              "#f0f921"
             ]
            ],
            "type": "surface"
           }
          ],
          "table": [
           {
            "cells": {
             "fill": {
              "color": "#EBF0F8"
             },
             "line": {
              "color": "white"
             }
            },
            "header": {
             "fill": {
              "color": "#C8D4E3"
             },
             "line": {
              "color": "white"
             }
            },
            "type": "table"
           }
          ]
         },
         "layout": {
          "annotationdefaults": {
           "arrowcolor": "#2a3f5f",
           "arrowhead": 0,
           "arrowwidth": 1
          },
          "autotypenumbers": "strict",
          "coloraxis": {
           "colorbar": {
            "outlinewidth": 0,
            "ticks": ""
           }
          },
          "colorscale": {
           "diverging": [
            [
             0,
             "#8e0152"
            ],
            [
             0.1,
             "#c51b7d"
            ],
            [
             0.2,
             "#de77ae"
            ],
            [
             0.3,
             "#f1b6da"
            ],
            [
             0.4,
             "#fde0ef"
            ],
            [
             0.5,
             "#f7f7f7"
            ],
            [
             0.6,
             "#e6f5d0"
            ],
            [
             0.7,
             "#b8e186"
            ],
            [
             0.8,
             "#7fbc41"
            ],
            [
             0.9,
             "#4d9221"
            ],
            [
             1,
             "#276419"
            ]
           ],
           "sequential": [
            [
             0,
             "#0d0887"
            ],
            [
             0.1111111111111111,
             "#46039f"
            ],
            [
             0.2222222222222222,
             "#7201a8"
            ],
            [
             0.3333333333333333,
             "#9c179e"
            ],
            [
             0.4444444444444444,
             "#bd3786"
            ],
            [
             0.5555555555555556,
             "#d8576b"
            ],
            [
             0.6666666666666666,
             "#ed7953"
            ],
            [
             0.7777777777777778,
             "#fb9f3a"
            ],
            [
             0.8888888888888888,
             "#fdca26"
            ],
            [
             1,
             "#f0f921"
            ]
           ],
           "sequentialminus": [
            [
             0,
             "#0d0887"
            ],
            [
             0.1111111111111111,
             "#46039f"
            ],
            [
             0.2222222222222222,
             "#7201a8"
            ],
            [
             0.3333333333333333,
             "#9c179e"
            ],
            [
             0.4444444444444444,
             "#bd3786"
            ],
            [
             0.5555555555555556,
             "#d8576b"
            ],
            [
             0.6666666666666666,
             "#ed7953"
            ],
            [
             0.7777777777777778,
             "#fb9f3a"
            ],
            [
             0.8888888888888888,
             "#fdca26"
            ],
            [
             1,
             "#f0f921"
            ]
           ]
          },
          "colorway": [
           "#636efa",
           "#EF553B",
           "#00cc96",
           "#ab63fa",
           "#FFA15A",
           "#19d3f3",
           "#FF6692",
           "#B6E880",
           "#FF97FF",
           "#FECB52"
          ],
          "font": {
           "color": "#2a3f5f"
          },
          "geo": {
           "bgcolor": "white",
           "lakecolor": "white",
           "landcolor": "#E5ECF6",
           "showlakes": true,
           "showland": true,
           "subunitcolor": "white"
          },
          "hoverlabel": {
           "align": "left"
          },
          "hovermode": "closest",
          "mapbox": {
           "style": "light"
          },
          "paper_bgcolor": "white",
          "plot_bgcolor": "#E5ECF6",
          "polar": {
           "angularaxis": {
            "gridcolor": "white",
            "linecolor": "white",
            "ticks": ""
           },
           "bgcolor": "#E5ECF6",
           "radialaxis": {
            "gridcolor": "white",
            "linecolor": "white",
            "ticks": ""
           }
          },
          "scene": {
           "xaxis": {
            "backgroundcolor": "#E5ECF6",
            "gridcolor": "white",
            "gridwidth": 2,
            "linecolor": "white",
            "showbackground": true,
            "ticks": "",
            "zerolinecolor": "white"
           },
           "yaxis": {
            "backgroundcolor": "#E5ECF6",
            "gridcolor": "white",
            "gridwidth": 2,
            "linecolor": "white",
            "showbackground": true,
            "ticks": "",
            "zerolinecolor": "white"
           },
           "zaxis": {
            "backgroundcolor": "#E5ECF6",
            "gridcolor": "white",
            "gridwidth": 2,
            "linecolor": "white",
            "showbackground": true,
            "ticks": "",
            "zerolinecolor": "white"
           }
          },
          "shapedefaults": {
           "line": {
            "color": "#2a3f5f"
           }
          },
          "ternary": {
           "aaxis": {
            "gridcolor": "white",
            "linecolor": "white",
            "ticks": ""
           },
           "baxis": {
            "gridcolor": "white",
            "linecolor": "white",
            "ticks": ""
           },
           "bgcolor": "#E5ECF6",
           "caxis": {
            "gridcolor": "white",
            "linecolor": "white",
            "ticks": ""
           }
          },
          "title": {
           "x": 0.05
          },
          "xaxis": {
           "automargin": true,
           "gridcolor": "white",
           "linecolor": "white",
           "ticks": "",
           "title": {
            "standoff": 15
           },
           "zerolinecolor": "white",
           "zerolinewidth": 2
          },
          "yaxis": {
           "automargin": true,
           "gridcolor": "white",
           "linecolor": "white",
           "ticks": "",
           "title": {
            "standoff": 15
           },
           "zerolinecolor": "white",
           "zerolinewidth": 2
          }
         }
        },
        "title": {
         "text": "Cosine Similarity Matrix – all-MiniLM-L6-v2 vs jinaai/jina-embeddings-v3"
        },
        "width": 1300,
        "xaxis": {
         "anchor": "y",
         "domain": [
          0,
          0.46
         ]
        },
        "xaxis2": {
         "anchor": "y2",
         "domain": [
          0.54,
          1
         ]
        },
        "yaxis": {
         "anchor": "x",
         "autorange": "reversed",
         "domain": [
          0,
          1
         ]
        },
        "yaxis2": {
         "anchor": "x2",
         "autorange": "reversed",
         "domain": [
          0,
          1
         ]
        }
       }
      }
     },
     "metadata": {},
     "output_type": "display_data"
    },
    {
     "data": {
      "application/vnd.plotly.v1+json": {
       "config": {
        "plotlyServerURL": "https://plot.ly"
       },
       "data": [
        {
         "colorbar": {
          "title": {
           "text": "Cosine<br>Similarity"
          }
         },
         "colorscale": [
          [
           0,
           "#440154"
          ],
          [
           0.1111111111111111,
           "#482878"
          ],
          [
           0.2222222222222222,
           "#3e4989"
          ],
          [
           0.3333333333333333,
           "#31688e"
          ],
          [
           0.4444444444444444,
           "#26828e"
          ],
          [
           0.5555555555555556,
           "#1f9e89"
          ],
          [
           0.6666666666666666,
           "#35b779"
          ],
          [
           0.7777777777777778,
           "#6ece58"
          ],
          [
           0.8888888888888888,
           "#b5de2b"
          ],
          [
           1,
           "#fde725"
          ]
         ],
         "hoverinfo": "text",
         "text": [
          [
           "<b>Index X:</b> 0<br><b>Text X:</b> The weather is nice today.<br><b>Index Y:</b> 0<br><b>Text Y:</b> The weather is nice today.<br><b>Cosine Similarity:</b> 1.000",
           "<b>Index X:</b> 1<br><b>Text X:</b> The weather is nice today!<br><b>Index Y:</b> 0<br><b>Text Y:</b> The weather is nice today.<br><b>Cosine Similarity:</b> 0.927",
           "<b>Index X:</b> 2<br><b>Text X:</b> The weather is nice today.<br><b>Index Y:</b> 0<br><b>Text Y:</b> The weather is nice today.<br><b>Cosine Similarity:</b> 1.000",
           "<b>Index X:</b> 3<br><b>Text X:</b> The Weather is nice today.<br><b>Index Y:</b> 0<br><b>Text Y:</b> The weather is nice today.<br><b>Cosine Similarity:</b> 0.950",
           "<b>Index X:</b> 4<br><b>Text X:</b> It is hot in Paris this summer.<br><b>Index Y:</b> 0<br><b>Text Y:</b> The weather is nice today.<br><b>Cosine Similarity:</b> 0.384",
           "<b>Index X:</b> 5<br><b>Text X:</b> It is hot in Paris this summer<br><b>Index Y:</b> 0<br><b>Text Y:</b> The weather is nice today.<br><b>Cosine Similarity:</b> 0.361",
           "<b>Index X:</b> 6<br><b>Text X:</b> It is HOT in Paris this summer.<br><b>Index Y:</b> 0<br><b>Text Y:</b> The weather is nice today.<br><b>Cosine Similarity:</b> 0.358",
           "<b>Index X:</b> 7<br><b>Text X:</b> Hello world.<br><b>Index Y:</b> 0<br><b>Text Y:</b> The weather is nice today.<br><b>Cosine Similarity:</b> 0.232",
           "<b>Index X:</b> 8<br><b>Text X:</b> Hello world!<br><b>Index Y:</b> 0<br><b>Text Y:</b> The weather is nice today.<br><b>Cosine Similarity:</b> 0.199",
           "<b>Index X:</b> 9<br><b>Text X:</b> HELLO world.<br><b>Index Y:</b> 0<br><b>Text Y:</b> The weather is nice today.<br><b>Cosine Similarity:</b> 0.221",
           "<b>Index X:</b> 10<br><b>Text X:</b> Machine learning is fascinating.<br><b>Index Y:</b> 0<br><b>Text Y:</b> The weather is nice today.<br><b>Cosine Similarity:</b> 0.114",
           "<b>Index X:</b> 11<br><b>Text X:</b> Machine learning is fascinating!<br><b>Index Y:</b> 0<br><b>Text Y:</b> The weather is nice today.<br><b>Cosine Similarity:</b> 0.107",
           "<b>Index X:</b> 12<br><b>Text X:</b> Artificial intelligence is fascinating.<br><b>Index Y:</b> 0<br><b>Text Y:</b> The weather is nice today.<br><b>Cosine Similarity:</b> 0.087",
           "<b>Index X:</b> 13<br><b>Text X:</b> Football is a popular sport.<br><b>Index Y:</b> 0<br><b>Text Y:</b> The weather is nice today.<br><b>Cosine Similarity:</b> 0.156",
           "<b>Index X:</b> 14<br><b>Text X:</b> Switching to English is sometimes useful.<br><b>Index Y:</b> 0<br><b>Text Y:</b> The weather is nice today.<br><b>Cosine Similarity:</b> 0.091"
          ],
          [
           "<b>Index X:</b> 0<br><b>Text X:</b> The weather is nice today.<br><b>Index Y:</b> 1<br><b>Text Y:</b> The weather is nice today!<br><b>Cosine Similarity:</b> 0.927",
           "<b>Index X:</b> 1<br><b>Text X:</b> The weather is nice today!<br><b>Index Y:</b> 1<br><b>Text Y:</b> The weather is nice today!<br><b>Cosine Similarity:</b> 1.000",
           "<b>Index X:</b> 2<br><b>Text X:</b> The weather is nice today.<br><b>Index Y:</b> 1<br><b>Text Y:</b> The weather is nice today!<br><b>Cosine Similarity:</b> 0.927",
           "<b>Index X:</b> 3<br><b>Text X:</b> The Weather is nice today.<br><b>Index Y:</b> 1<br><b>Text Y:</b> The weather is nice today!<br><b>Cosine Similarity:</b> 0.886",
           "<b>Index X:</b> 4<br><b>Text X:</b> It is hot in Paris this summer.<br><b>Index Y:</b> 1<br><b>Text Y:</b> The weather is nice today!<br><b>Cosine Similarity:</b> 0.370",
           "<b>Index X:</b> 5<br><b>Text X:</b> It is hot in Paris this summer<br><b>Index Y:</b> 1<br><b>Text Y:</b> The weather is nice today!<br><b>Cosine Similarity:</b> 0.356",
           "<b>Index X:</b> 6<br><b>Text X:</b> It is HOT in Paris this summer.<br><b>Index Y:</b> 1<br><b>Text Y:</b> The weather is nice today!<br><b>Cosine Similarity:</b> 0.353",
           "<b>Index X:</b> 7<br><b>Text X:</b> Hello world.<br><b>Index Y:</b> 1<br><b>Text Y:</b> The weather is nice today!<br><b>Cosine Similarity:</b> 0.206",
           "<b>Index X:</b> 8<br><b>Text X:</b> Hello world!<br><b>Index Y:</b> 1<br><b>Text Y:</b> The weather is nice today!<br><b>Cosine Similarity:</b> 0.308",
           "<b>Index X:</b> 9<br><b>Text X:</b> HELLO world.<br><b>Index Y:</b> 1<br><b>Text Y:</b> The weather is nice today!<br><b>Cosine Similarity:</b> 0.206",
           "<b>Index X:</b> 10<br><b>Text X:</b> Machine learning is fascinating.<br><b>Index Y:</b> 1<br><b>Text Y:</b> The weather is nice today!<br><b>Cosine Similarity:</b> 0.124",
           "<b>Index X:</b> 11<br><b>Text X:</b> Machine learning is fascinating!<br><b>Index Y:</b> 1<br><b>Text Y:</b> The weather is nice today!<br><b>Cosine Similarity:</b> 0.206",
           "<b>Index X:</b> 12<br><b>Text X:</b> Artificial intelligence is fascinating.<br><b>Index Y:</b> 1<br><b>Text Y:</b> The weather is nice today!<br><b>Cosine Similarity:</b> 0.088",
           "<b>Index X:</b> 13<br><b>Text X:</b> Football is a popular sport.<br><b>Index Y:</b> 1<br><b>Text Y:</b> The weather is nice today!<br><b>Cosine Similarity:</b> 0.151",
           "<b>Index X:</b> 14<br><b>Text X:</b> Switching to English is sometimes useful.<br><b>Index Y:</b> 1<br><b>Text Y:</b> The weather is nice today!<br><b>Cosine Similarity:</b> 0.089"
          ],
          [
           "<b>Index X:</b> 0<br><b>Text X:</b> The weather is nice today.<br><b>Index Y:</b> 2<br><b>Text Y:</b> The weather is nice today.<br><b>Cosine Similarity:</b> 1.000",
           "<b>Index X:</b> 1<br><b>Text X:</b> The weather is nice today!<br><b>Index Y:</b> 2<br><b>Text Y:</b> The weather is nice today.<br><b>Cosine Similarity:</b> 0.927",
           "<b>Index X:</b> 2<br><b>Text X:</b> The weather is nice today.<br><b>Index Y:</b> 2<br><b>Text Y:</b> The weather is nice today.<br><b>Cosine Similarity:</b> 1.000",
           "<b>Index X:</b> 3<br><b>Text X:</b> The Weather is nice today.<br><b>Index Y:</b> 2<br><b>Text Y:</b> The weather is nice today.<br><b>Cosine Similarity:</b> 0.950",
           "<b>Index X:</b> 4<br><b>Text X:</b> It is hot in Paris this summer.<br><b>Index Y:</b> 2<br><b>Text Y:</b> The weather is nice today.<br><b>Cosine Similarity:</b> 0.384",
           "<b>Index X:</b> 5<br><b>Text X:</b> It is hot in Paris this summer<br><b>Index Y:</b> 2<br><b>Text Y:</b> The weather is nice today.<br><b>Cosine Similarity:</b> 0.361",
           "<b>Index X:</b> 6<br><b>Text X:</b> It is HOT in Paris this summer.<br><b>Index Y:</b> 2<br><b>Text Y:</b> The weather is nice today.<br><b>Cosine Similarity:</b> 0.358",
           "<b>Index X:</b> 7<br><b>Text X:</b> Hello world.<br><b>Index Y:</b> 2<br><b>Text Y:</b> The weather is nice today.<br><b>Cosine Similarity:</b> 0.232",
           "<b>Index X:</b> 8<br><b>Text X:</b> Hello world!<br><b>Index Y:</b> 2<br><b>Text Y:</b> The weather is nice today.<br><b>Cosine Similarity:</b> 0.199",
           "<b>Index X:</b> 9<br><b>Text X:</b> HELLO world.<br><b>Index Y:</b> 2<br><b>Text Y:</b> The weather is nice today.<br><b>Cosine Similarity:</b> 0.221",
           "<b>Index X:</b> 10<br><b>Text X:</b> Machine learning is fascinating.<br><b>Index Y:</b> 2<br><b>Text Y:</b> The weather is nice today.<br><b>Cosine Similarity:</b> 0.114",
           "<b>Index X:</b> 11<br><b>Text X:</b> Machine learning is fascinating!<br><b>Index Y:</b> 2<br><b>Text Y:</b> The weather is nice today.<br><b>Cosine Similarity:</b> 0.107",
           "<b>Index X:</b> 12<br><b>Text X:</b> Artificial intelligence is fascinating.<br><b>Index Y:</b> 2<br><b>Text Y:</b> The weather is nice today.<br><b>Cosine Similarity:</b> 0.087",
           "<b>Index X:</b> 13<br><b>Text X:</b> Football is a popular sport.<br><b>Index Y:</b> 2<br><b>Text Y:</b> The weather is nice today.<br><b>Cosine Similarity:</b> 0.156",
           "<b>Index X:</b> 14<br><b>Text X:</b> Switching to English is sometimes useful.<br><b>Index Y:</b> 2<br><b>Text Y:</b> The weather is nice today.<br><b>Cosine Similarity:</b> 0.091"
          ],
          [
           "<b>Index X:</b> 0<br><b>Text X:</b> The weather is nice today.<br><b>Index Y:</b> 3<br><b>Text Y:</b> The Weather is nice today.<br><b>Cosine Similarity:</b> 0.950",
           "<b>Index X:</b> 1<br><b>Text X:</b> The weather is nice today!<br><b>Index Y:</b> 3<br><b>Text Y:</b> The Weather is nice today.<br><b>Cosine Similarity:</b> 0.886",
           "<b>Index X:</b> 2<br><b>Text X:</b> The weather is nice today.<br><b>Index Y:</b> 3<br><b>Text Y:</b> The Weather is nice today.<br><b>Cosine Similarity:</b> 0.950",
           "<b>Index X:</b> 3<br><b>Text X:</b> The Weather is nice today.<br><b>Index Y:</b> 3<br><b>Text Y:</b> The Weather is nice today.<br><b>Cosine Similarity:</b> 1.000",
           "<b>Index X:</b> 4<br><b>Text X:</b> It is hot in Paris this summer.<br><b>Index Y:</b> 3<br><b>Text Y:</b> The Weather is nice today.<br><b>Cosine Similarity:</b> 0.382",
           "<b>Index X:</b> 5<br><b>Text X:</b> It is hot in Paris this summer<br><b>Index Y:</b> 3<br><b>Text Y:</b> The Weather is nice today.<br><b>Cosine Similarity:</b> 0.364",
           "<b>Index X:</b> 6<br><b>Text X:</b> It is HOT in Paris this summer.<br><b>Index Y:</b> 3<br><b>Text Y:</b> The Weather is nice today.<br><b>Cosine Similarity:</b> 0.364",
           "<b>Index X:</b> 7<br><b>Text X:</b> Hello world.<br><b>Index Y:</b> 3<br><b>Text Y:</b> The Weather is nice today.<br><b>Cosine Similarity:</b> 0.246",
           "<b>Index X:</b> 8<br><b>Text X:</b> Hello world!<br><b>Index Y:</b> 3<br><b>Text Y:</b> The Weather is nice today.<br><b>Cosine Similarity:</b> 0.207",
           "<b>Index X:</b> 9<br><b>Text X:</b> HELLO world.<br><b>Index Y:</b> 3<br><b>Text Y:</b> The Weather is nice today.<br><b>Cosine Similarity:</b> 0.249",
           "<b>Index X:</b> 10<br><b>Text X:</b> Machine learning is fascinating.<br><b>Index Y:</b> 3<br><b>Text Y:</b> The Weather is nice today.<br><b>Cosine Similarity:</b> 0.122",
           "<b>Index X:</b> 11<br><b>Text X:</b> Machine learning is fascinating!<br><b>Index Y:</b> 3<br><b>Text Y:</b> The Weather is nice today.<br><b>Cosine Similarity:</b> 0.114",
           "<b>Index X:</b> 12<br><b>Text X:</b> Artificial intelligence is fascinating.<br><b>Index Y:</b> 3<br><b>Text Y:</b> The Weather is nice today.<br><b>Cosine Similarity:</b> 0.095",
           "<b>Index X:</b> 13<br><b>Text X:</b> Football is a popular sport.<br><b>Index Y:</b> 3<br><b>Text Y:</b> The Weather is nice today.<br><b>Cosine Similarity:</b> 0.169",
           "<b>Index X:</b> 14<br><b>Text X:</b> Switching to English is sometimes useful.<br><b>Index Y:</b> 3<br><b>Text Y:</b> The Weather is nice today.<br><b>Cosine Similarity:</b> 0.097"
          ],
          [
           "<b>Index X:</b> 0<br><b>Text X:</b> The weather is nice today.<br><b>Index Y:</b> 4<br><b>Text Y:</b> It is hot in Paris this summer.<br><b>Cosine Similarity:</b> 0.384",
           "<b>Index X:</b> 1<br><b>Text X:</b> The weather is nice today!<br><b>Index Y:</b> 4<br><b>Text Y:</b> It is hot in Paris this summer.<br><b>Cosine Similarity:</b> 0.370",
           "<b>Index X:</b> 2<br><b>Text X:</b> The weather is nice today.<br><b>Index Y:</b> 4<br><b>Text Y:</b> It is hot in Paris this summer.<br><b>Cosine Similarity:</b> 0.384",
           "<b>Index X:</b> 3<br><b>Text X:</b> The Weather is nice today.<br><b>Index Y:</b> 4<br><b>Text Y:</b> It is hot in Paris this summer.<br><b>Cosine Similarity:</b> 0.382",
           "<b>Index X:</b> 4<br><b>Text X:</b> It is hot in Paris this summer.<br><b>Index Y:</b> 4<br><b>Text Y:</b> It is hot in Paris this summer.<br><b>Cosine Similarity:</b> 1.000",
           "<b>Index X:</b> 5<br><b>Text X:</b> It is hot in Paris this summer<br><b>Index Y:</b> 4<br><b>Text Y:</b> It is hot in Paris this summer.<br><b>Cosine Similarity:</b> 0.948",
           "<b>Index X:</b> 6<br><b>Text X:</b> It is HOT in Paris this summer.<br><b>Index Y:</b> 4<br><b>Text Y:</b> It is hot in Paris this summer.<br><b>Cosine Similarity:</b> 0.974",
           "<b>Index X:</b> 7<br><b>Text X:</b> Hello world.<br><b>Index Y:</b> 4<br><b>Text Y:</b> It is hot in Paris this summer.<br><b>Cosine Similarity:</b> 0.122",
           "<b>Index X:</b> 8<br><b>Text X:</b> Hello world!<br><b>Index Y:</b> 4<br><b>Text Y:</b> It is hot in Paris this summer.<br><b>Cosine Similarity:</b> 0.121",
           "<b>Index X:</b> 9<br><b>Text X:</b> HELLO world.<br><b>Index Y:</b> 4<br><b>Text Y:</b> It is hot in Paris this summer.<br><b>Cosine Similarity:</b> 0.129",
           "<b>Index X:</b> 10<br><b>Text X:</b> Machine learning is fascinating.<br><b>Index Y:</b> 4<br><b>Text Y:</b> It is hot in Paris this summer.<br><b>Cosine Similarity:</b> 0.070",
           "<b>Index X:</b> 11<br><b>Text X:</b> Machine learning is fascinating!<br><b>Index Y:</b> 4<br><b>Text Y:</b> It is hot in Paris this summer.<br><b>Cosine Similarity:</b> 0.072",
           "<b>Index X:</b> 12<br><b>Text X:</b> Artificial intelligence is fascinating.<br><b>Index Y:</b> 4<br><b>Text Y:</b> It is hot in Paris this summer.<br><b>Cosine Similarity:</b> 0.057",
           "<b>Index X:</b> 13<br><b>Text X:</b> Football is a popular sport.<br><b>Index Y:</b> 4<br><b>Text Y:</b> It is hot in Paris this summer.<br><b>Cosine Similarity:</b> 0.147",
           "<b>Index X:</b> 14<br><b>Text X:</b> Switching to English is sometimes useful.<br><b>Index Y:</b> 4<br><b>Text Y:</b> It is hot in Paris this summer.<br><b>Cosine Similarity:</b> 0.075"
          ],
          [
           "<b>Index X:</b> 0<br><b>Text X:</b> The weather is nice today.<br><b>Index Y:</b> 5<br><b>Text Y:</b> It is hot in Paris this summer<br><b>Cosine Similarity:</b> 0.361",
           "<b>Index X:</b> 1<br><b>Text X:</b> The weather is nice today!<br><b>Index Y:</b> 5<br><b>Text Y:</b> It is hot in Paris this summer<br><b>Cosine Similarity:</b> 0.356",
           "<b>Index X:</b> 2<br><b>Text X:</b> The weather is nice today.<br><b>Index Y:</b> 5<br><b>Text Y:</b> It is hot in Paris this summer<br><b>Cosine Similarity:</b> 0.361",
           "<b>Index X:</b> 3<br><b>Text X:</b> The Weather is nice today.<br><b>Index Y:</b> 5<br><b>Text Y:</b> It is hot in Paris this summer<br><b>Cosine Similarity:</b> 0.364",
           "<b>Index X:</b> 4<br><b>Text X:</b> It is hot in Paris this summer.<br><b>Index Y:</b> 5<br><b>Text Y:</b> It is hot in Paris this summer<br><b>Cosine Similarity:</b> 0.948",
           "<b>Index X:</b> 5<br><b>Text X:</b> It is hot in Paris this summer<br><b>Index Y:</b> 5<br><b>Text Y:</b> It is hot in Paris this summer<br><b>Cosine Similarity:</b> 1.000",
           "<b>Index X:</b> 6<br><b>Text X:</b> It is HOT in Paris this summer.<br><b>Index Y:</b> 5<br><b>Text Y:</b> It is hot in Paris this summer<br><b>Cosine Similarity:</b> 0.920",
           "<b>Index X:</b> 7<br><b>Text X:</b> Hello world.<br><b>Index Y:</b> 5<br><b>Text Y:</b> It is hot in Paris this summer<br><b>Cosine Similarity:</b> 0.099",
           "<b>Index X:</b> 8<br><b>Text X:</b> Hello world!<br><b>Index Y:</b> 5<br><b>Text Y:</b> It is hot in Paris this summer<br><b>Cosine Similarity:</b> 0.115",
           "<b>Index X:</b> 9<br><b>Text X:</b> HELLO world.<br><b>Index Y:</b> 5<br><b>Text Y:</b> It is hot in Paris this summer<br><b>Cosine Similarity:</b> 0.109",
           "<b>Index X:</b> 10<br><b>Text X:</b> Machine learning is fascinating.<br><b>Index Y:</b> 5<br><b>Text Y:</b> It is hot in Paris this summer<br><b>Cosine Similarity:</b> 0.064",
           "<b>Index X:</b> 11<br><b>Text X:</b> Machine learning is fascinating!<br><b>Index Y:</b> 5<br><b>Text Y:</b> It is hot in Paris this summer<br><b>Cosine Similarity:</b> 0.070",
           "<b>Index X:</b> 12<br><b>Text X:</b> Artificial intelligence is fascinating.<br><b>Index Y:</b> 5<br><b>Text Y:</b> It is hot in Paris this summer<br><b>Cosine Similarity:</b> 0.047",
           "<b>Index X:</b> 13<br><b>Text X:</b> Football is a popular sport.<br><b>Index Y:</b> 5<br><b>Text Y:</b> It is hot in Paris this summer<br><b>Cosine Similarity:</b> 0.132",
           "<b>Index X:</b> 14<br><b>Text X:</b> Switching to English is sometimes useful.<br><b>Index Y:</b> 5<br><b>Text Y:</b> It is hot in Paris this summer<br><b>Cosine Similarity:</b> 0.072"
          ],
          [
           "<b>Index X:</b> 0<br><b>Text X:</b> The weather is nice today.<br><b>Index Y:</b> 6<br><b>Text Y:</b> It is HOT in Paris this summer.<br><b>Cosine Similarity:</b> 0.358",
           "<b>Index X:</b> 1<br><b>Text X:</b> The weather is nice today!<br><b>Index Y:</b> 6<br><b>Text Y:</b> It is HOT in Paris this summer.<br><b>Cosine Similarity:</b> 0.353",
           "<b>Index X:</b> 2<br><b>Text X:</b> The weather is nice today.<br><b>Index Y:</b> 6<br><b>Text Y:</b> It is HOT in Paris this summer.<br><b>Cosine Similarity:</b> 0.358",
           "<b>Index X:</b> 3<br><b>Text X:</b> The Weather is nice today.<br><b>Index Y:</b> 6<br><b>Text Y:</b> It is HOT in Paris this summer.<br><b>Cosine Similarity:</b> 0.364",
           "<b>Index X:</b> 4<br><b>Text X:</b> It is hot in Paris this summer.<br><b>Index Y:</b> 6<br><b>Text Y:</b> It is HOT in Paris this summer.<br><b>Cosine Similarity:</b> 0.974",
           "<b>Index X:</b> 5<br><b>Text X:</b> It is hot in Paris this summer<br><b>Index Y:</b> 6<br><b>Text Y:</b> It is HOT in Paris this summer.<br><b>Cosine Similarity:</b> 0.920",
           "<b>Index X:</b> 6<br><b>Text X:</b> It is HOT in Paris this summer.<br><b>Index Y:</b> 6<br><b>Text Y:</b> It is HOT in Paris this summer.<br><b>Cosine Similarity:</b> 1.000",
           "<b>Index X:</b> 7<br><b>Text X:</b> Hello world.<br><b>Index Y:</b> 6<br><b>Text Y:</b> It is HOT in Paris this summer.<br><b>Cosine Similarity:</b> 0.122",
           "<b>Index X:</b> 8<br><b>Text X:</b> Hello world!<br><b>Index Y:</b> 6<br><b>Text Y:</b> It is HOT in Paris this summer.<br><b>Cosine Similarity:</b> 0.124",
           "<b>Index X:</b> 9<br><b>Text X:</b> HELLO world.<br><b>Index Y:</b> 6<br><b>Text Y:</b> It is HOT in Paris this summer.<br><b>Cosine Similarity:</b> 0.157",
           "<b>Index X:</b> 10<br><b>Text X:</b> Machine learning is fascinating.<br><b>Index Y:</b> 6<br><b>Text Y:</b> It is HOT in Paris this summer.<br><b>Cosine Similarity:</b> 0.061",
           "<b>Index X:</b> 11<br><b>Text X:</b> Machine learning is fascinating!<br><b>Index Y:</b> 6<br><b>Text Y:</b> It is HOT in Paris this summer.<br><b>Cosine Similarity:</b> 0.068",
           "<b>Index X:</b> 12<br><b>Text X:</b> Artificial intelligence is fascinating.<br><b>Index Y:</b> 6<br><b>Text Y:</b> It is HOT in Paris this summer.<br><b>Cosine Similarity:</b> 0.051",
           "<b>Index X:</b> 13<br><b>Text X:</b> Football is a popular sport.<br><b>Index Y:</b> 6<br><b>Text Y:</b> It is HOT in Paris this summer.<br><b>Cosine Similarity:</b> 0.138",
           "<b>Index X:</b> 14<br><b>Text X:</b> Switching to English is sometimes useful.<br><b>Index Y:</b> 6<br><b>Text Y:</b> It is HOT in Paris this summer.<br><b>Cosine Similarity:</b> 0.066"
          ],
          [
           "<b>Index X:</b> 0<br><b>Text X:</b> The weather is nice today.<br><b>Index Y:</b> 7<br><b>Text Y:</b> Hello world.<br><b>Cosine Similarity:</b> 0.232",
           "<b>Index X:</b> 1<br><b>Text X:</b> The weather is nice today!<br><b>Index Y:</b> 7<br><b>Text Y:</b> Hello world.<br><b>Cosine Similarity:</b> 0.206",
           "<b>Index X:</b> 2<br><b>Text X:</b> The weather is nice today.<br><b>Index Y:</b> 7<br><b>Text Y:</b> Hello world.<br><b>Cosine Similarity:</b> 0.232",
           "<b>Index X:</b> 3<br><b>Text X:</b> The Weather is nice today.<br><b>Index Y:</b> 7<br><b>Text Y:</b> Hello world.<br><b>Cosine Similarity:</b> 0.246",
           "<b>Index X:</b> 4<br><b>Text X:</b> It is hot in Paris this summer.<br><b>Index Y:</b> 7<br><b>Text Y:</b> Hello world.<br><b>Cosine Similarity:</b> 0.122",
           "<b>Index X:</b> 5<br><b>Text X:</b> It is hot in Paris this summer<br><b>Index Y:</b> 7<br><b>Text Y:</b> Hello world.<br><b>Cosine Similarity:</b> 0.099",
           "<b>Index X:</b> 6<br><b>Text X:</b> It is HOT in Paris this summer.<br><b>Index Y:</b> 7<br><b>Text Y:</b> Hello world.<br><b>Cosine Similarity:</b> 0.122",
           "<b>Index X:</b> 7<br><b>Text X:</b> Hello world.<br><b>Index Y:</b> 7<br><b>Text Y:</b> Hello world.<br><b>Cosine Similarity:</b> 1.000",
           "<b>Index X:</b> 8<br><b>Text X:</b> Hello world!<br><b>Index Y:</b> 7<br><b>Text Y:</b> Hello world.<br><b>Cosine Similarity:</b> 0.882",
           "<b>Index X:</b> 9<br><b>Text X:</b> HELLO world.<br><b>Index Y:</b> 7<br><b>Text Y:</b> Hello world.<br><b>Cosine Similarity:</b> 0.870",
           "<b>Index X:</b> 10<br><b>Text X:</b> Machine learning is fascinating.<br><b>Index Y:</b> 7<br><b>Text Y:</b> Hello world.<br><b>Cosine Similarity:</b> 0.258",
           "<b>Index X:</b> 11<br><b>Text X:</b> Machine learning is fascinating!<br><b>Index Y:</b> 7<br><b>Text Y:</b> Hello world.<br><b>Cosine Similarity:</b> 0.240",
           "<b>Index X:</b> 12<br><b>Text X:</b> Artificial intelligence is fascinating.<br><b>Index Y:</b> 7<br><b>Text Y:</b> Hello world.<br><b>Cosine Similarity:</b> 0.224",
           "<b>Index X:</b> 13<br><b>Text X:</b> Football is a popular sport.<br><b>Index Y:</b> 7<br><b>Text Y:</b> Hello world.<br><b>Cosine Similarity:</b> 0.133",
           "<b>Index X:</b> 14<br><b>Text X:</b> Switching to English is sometimes useful.<br><b>Index Y:</b> 7<br><b>Text Y:</b> Hello world.<br><b>Cosine Similarity:</b> 0.185"
          ],
          [
           "<b>Index X:</b> 0<br><b>Text X:</b> The weather is nice today.<br><b>Index Y:</b> 8<br><b>Text Y:</b> Hello world!<br><b>Cosine Similarity:</b> 0.199",
           "<b>Index X:</b> 1<br><b>Text X:</b> The weather is nice today!<br><b>Index Y:</b> 8<br><b>Text Y:</b> Hello world!<br><b>Cosine Similarity:</b> 0.308",
           "<b>Index X:</b> 2<br><b>Text X:</b> The weather is nice today.<br><b>Index Y:</b> 8<br><b>Text Y:</b> Hello world!<br><b>Cosine Similarity:</b> 0.199",
           "<b>Index X:</b> 3<br><b>Text X:</b> The Weather is nice today.<br><b>Index Y:</b> 8<br><b>Text Y:</b> Hello world!<br><b>Cosine Similarity:</b> 0.207",
           "<b>Index X:</b> 4<br><b>Text X:</b> It is hot in Paris this summer.<br><b>Index Y:</b> 8<br><b>Text Y:</b> Hello world!<br><b>Cosine Similarity:</b> 0.121",
           "<b>Index X:</b> 5<br><b>Text X:</b> It is hot in Paris this summer<br><b>Index Y:</b> 8<br><b>Text Y:</b> Hello world!<br><b>Cosine Similarity:</b> 0.115",
           "<b>Index X:</b> 6<br><b>Text X:</b> It is HOT in Paris this summer.<br><b>Index Y:</b> 8<br><b>Text Y:</b> Hello world!<br><b>Cosine Similarity:</b> 0.124",
           "<b>Index X:</b> 7<br><b>Text X:</b> Hello world.<br><b>Index Y:</b> 8<br><b>Text Y:</b> Hello world!<br><b>Cosine Similarity:</b> 0.882",
           "<b>Index X:</b> 8<br><b>Text X:</b> Hello world!<br><b>Index Y:</b> 8<br><b>Text Y:</b> Hello world!<br><b>Cosine Similarity:</b> 1.000",
           "<b>Index X:</b> 9<br><b>Text X:</b> HELLO world.<br><b>Index Y:</b> 8<br><b>Text Y:</b> Hello world!<br><b>Cosine Similarity:</b> 0.782",
           "<b>Index X:</b> 10<br><b>Text X:</b> Machine learning is fascinating.<br><b>Index Y:</b> 8<br><b>Text Y:</b> Hello world!<br><b>Cosine Similarity:</b> 0.249",
           "<b>Index X:</b> 11<br><b>Text X:</b> Machine learning is fascinating!<br><b>Index Y:</b> 8<br><b>Text Y:</b> Hello world!<br><b>Cosine Similarity:</b> 0.342",
           "<b>Index X:</b> 12<br><b>Text X:</b> Artificial intelligence is fascinating.<br><b>Index Y:</b> 8<br><b>Text Y:</b> Hello world!<br><b>Cosine Similarity:</b> 0.203",
           "<b>Index X:</b> 13<br><b>Text X:</b> Football is a popular sport.<br><b>Index Y:</b> 8<br><b>Text Y:</b> Hello world!<br><b>Cosine Similarity:</b> 0.116",
           "<b>Index X:</b> 14<br><b>Text X:</b> Switching to English is sometimes useful.<br><b>Index Y:</b> 8<br><b>Text Y:</b> Hello world!<br><b>Cosine Similarity:</b> 0.169"
          ],
          [
           "<b>Index X:</b> 0<br><b>Text X:</b> The weather is nice today.<br><b>Index Y:</b> 9<br><b>Text Y:</b> HELLO world.<br><b>Cosine Similarity:</b> 0.221",
           "<b>Index X:</b> 1<br><b>Text X:</b> The weather is nice today!<br><b>Index Y:</b> 9<br><b>Text Y:</b> HELLO world.<br><b>Cosine Similarity:</b> 0.206",
           "<b>Index X:</b> 2<br><b>Text X:</b> The weather is nice today.<br><b>Index Y:</b> 9<br><b>Text Y:</b> HELLO world.<br><b>Cosine Similarity:</b> 0.221",
           "<b>Index X:</b> 3<br><b>Text X:</b> The Weather is nice today.<br><b>Index Y:</b> 9<br><b>Text Y:</b> HELLO world.<br><b>Cosine Similarity:</b> 0.249",
           "<b>Index X:</b> 4<br><b>Text X:</b> It is hot in Paris this summer.<br><b>Index Y:</b> 9<br><b>Text Y:</b> HELLO world.<br><b>Cosine Similarity:</b> 0.129",
           "<b>Index X:</b> 5<br><b>Text X:</b> It is hot in Paris this summer<br><b>Index Y:</b> 9<br><b>Text Y:</b> HELLO world.<br><b>Cosine Similarity:</b> 0.109",
           "<b>Index X:</b> 6<br><b>Text X:</b> It is HOT in Paris this summer.<br><b>Index Y:</b> 9<br><b>Text Y:</b> HELLO world.<br><b>Cosine Similarity:</b> 0.157",
           "<b>Index X:</b> 7<br><b>Text X:</b> Hello world.<br><b>Index Y:</b> 9<br><b>Text Y:</b> HELLO world.<br><b>Cosine Similarity:</b> 0.870",
           "<b>Index X:</b> 8<br><b>Text X:</b> Hello world!<br><b>Index Y:</b> 9<br><b>Text Y:</b> HELLO world.<br><b>Cosine Similarity:</b> 0.782",
           "<b>Index X:</b> 9<br><b>Text X:</b> HELLO world.<br><b>Index Y:</b> 9<br><b>Text Y:</b> HELLO world.<br><b>Cosine Similarity:</b> 1.000",
           "<b>Index X:</b> 10<br><b>Text X:</b> Machine learning is fascinating.<br><b>Index Y:</b> 9<br><b>Text Y:</b> HELLO world.<br><b>Cosine Similarity:</b> 0.226",
           "<b>Index X:</b> 11<br><b>Text X:</b> Machine learning is fascinating!<br><b>Index Y:</b> 9<br><b>Text Y:</b> HELLO world.<br><b>Cosine Similarity:</b> 0.216",
           "<b>Index X:</b> 12<br><b>Text X:</b> Artificial intelligence is fascinating.<br><b>Index Y:</b> 9<br><b>Text Y:</b> HELLO world.<br><b>Cosine Similarity:</b> 0.214",
           "<b>Index X:</b> 13<br><b>Text X:</b> Football is a popular sport.<br><b>Index Y:</b> 9<br><b>Text Y:</b> HELLO world.<br><b>Cosine Similarity:</b> 0.141",
           "<b>Index X:</b> 14<br><b>Text X:</b> Switching to English is sometimes useful.<br><b>Index Y:</b> 9<br><b>Text Y:</b> HELLO world.<br><b>Cosine Similarity:</b> 0.174"
          ],
          [
           "<b>Index X:</b> 0<br><b>Text X:</b> The weather is nice today.<br><b>Index Y:</b> 10<br><b>Text Y:</b> Machine learning is fascinating.<br><b>Cosine Similarity:</b> 0.114",
           "<b>Index X:</b> 1<br><b>Text X:</b> The weather is nice today!<br><b>Index Y:</b> 10<br><b>Text Y:</b> Machine learning is fascinating.<br><b>Cosine Similarity:</b> 0.124",
           "<b>Index X:</b> 2<br><b>Text X:</b> The weather is nice today.<br><b>Index Y:</b> 10<br><b>Text Y:</b> Machine learning is fascinating.<br><b>Cosine Similarity:</b> 0.114",
           "<b>Index X:</b> 3<br><b>Text X:</b> The Weather is nice today.<br><b>Index Y:</b> 10<br><b>Text Y:</b> Machine learning is fascinating.<br><b>Cosine Similarity:</b> 0.122",
           "<b>Index X:</b> 4<br><b>Text X:</b> It is hot in Paris this summer.<br><b>Index Y:</b> 10<br><b>Text Y:</b> Machine learning is fascinating.<br><b>Cosine Similarity:</b> 0.070",
           "<b>Index X:</b> 5<br><b>Text X:</b> It is hot in Paris this summer<br><b>Index Y:</b> 10<br><b>Text Y:</b> Machine learning is fascinating.<br><b>Cosine Similarity:</b> 0.064",
           "<b>Index X:</b> 6<br><b>Text X:</b> It is HOT in Paris this summer.<br><b>Index Y:</b> 10<br><b>Text Y:</b> Machine learning is fascinating.<br><b>Cosine Similarity:</b> 0.061",
           "<b>Index X:</b> 7<br><b>Text X:</b> Hello world.<br><b>Index Y:</b> 10<br><b>Text Y:</b> Machine learning is fascinating.<br><b>Cosine Similarity:</b> 0.258",
           "<b>Index X:</b> 8<br><b>Text X:</b> Hello world!<br><b>Index Y:</b> 10<br><b>Text Y:</b> Machine learning is fascinating.<br><b>Cosine Similarity:</b> 0.249",
           "<b>Index X:</b> 9<br><b>Text X:</b> HELLO world.<br><b>Index Y:</b> 10<br><b>Text Y:</b> Machine learning is fascinating.<br><b>Cosine Similarity:</b> 0.226",
           "<b>Index X:</b> 10<br><b>Text X:</b> Machine learning is fascinating.<br><b>Index Y:</b> 10<br><b>Text Y:</b> Machine learning is fascinating.<br><b>Cosine Similarity:</b> 1.000",
           "<b>Index X:</b> 11<br><b>Text X:</b> Machine learning is fascinating!<br><b>Index Y:</b> 10<br><b>Text Y:</b> Machine learning is fascinating.<br><b>Cosine Similarity:</b> 0.952",
           "<b>Index X:</b> 12<br><b>Text X:</b> Artificial intelligence is fascinating.<br><b>Index Y:</b> 10<br><b>Text Y:</b> Machine learning is fascinating.<br><b>Cosine Similarity:</b> 0.753",
           "<b>Index X:</b> 13<br><b>Text X:</b> Football is a popular sport.<br><b>Index Y:</b> 10<br><b>Text Y:</b> Machine learning is fascinating.<br><b>Cosine Similarity:</b> 0.151",
           "<b>Index X:</b> 14<br><b>Text X:</b> Switching to English is sometimes useful.<br><b>Index Y:</b> 10<br><b>Text Y:</b> Machine learning is fascinating.<br><b>Cosine Similarity:</b> 0.166"
          ],
          [
           "<b>Index X:</b> 0<br><b>Text X:</b> The weather is nice today.<br><b>Index Y:</b> 11<br><b>Text Y:</b> Machine learning is fascinating!<br><b>Cosine Similarity:</b> 0.107",
           "<b>Index X:</b> 1<br><b>Text X:</b> The weather is nice today!<br><b>Index Y:</b> 11<br><b>Text Y:</b> Machine learning is fascinating!<br><b>Cosine Similarity:</b> 0.206",
           "<b>Index X:</b> 2<br><b>Text X:</b> The weather is nice today.<br><b>Index Y:</b> 11<br><b>Text Y:</b> Machine learning is fascinating!<br><b>Cosine Similarity:</b> 0.107",
           "<b>Index X:</b> 3<br><b>Text X:</b> The Weather is nice today.<br><b>Index Y:</b> 11<br><b>Text Y:</b> Machine learning is fascinating!<br><b>Cosine Similarity:</b> 0.114",
           "<b>Index X:</b> 4<br><b>Text X:</b> It is hot in Paris this summer.<br><b>Index Y:</b> 11<br><b>Text Y:</b> Machine learning is fascinating!<br><b>Cosine Similarity:</b> 0.072",
           "<b>Index X:</b> 5<br><b>Text X:</b> It is hot in Paris this summer<br><b>Index Y:</b> 11<br><b>Text Y:</b> Machine learning is fascinating!<br><b>Cosine Similarity:</b> 0.070",
           "<b>Index X:</b> 6<br><b>Text X:</b> It is HOT in Paris this summer.<br><b>Index Y:</b> 11<br><b>Text Y:</b> Machine learning is fascinating!<br><b>Cosine Similarity:</b> 0.068",
           "<b>Index X:</b> 7<br><b>Text X:</b> Hello world.<br><b>Index Y:</b> 11<br><b>Text Y:</b> Machine learning is fascinating!<br><b>Cosine Similarity:</b> 0.240",
           "<b>Index X:</b> 8<br><b>Text X:</b> Hello world!<br><b>Index Y:</b> 11<br><b>Text Y:</b> Machine learning is fascinating!<br><b>Cosine Similarity:</b> 0.342",
           "<b>Index X:</b> 9<br><b>Text X:</b> HELLO world.<br><b>Index Y:</b> 11<br><b>Text Y:</b> Machine learning is fascinating!<br><b>Cosine Similarity:</b> 0.216",
           "<b>Index X:</b> 10<br><b>Text X:</b> Machine learning is fascinating.<br><b>Index Y:</b> 11<br><b>Text Y:</b> Machine learning is fascinating!<br><b>Cosine Similarity:</b> 0.952",
           "<b>Index X:</b> 11<br><b>Text X:</b> Machine learning is fascinating!<br><b>Index Y:</b> 11<br><b>Text Y:</b> Machine learning is fascinating!<br><b>Cosine Similarity:</b> 1.000",
           "<b>Index X:</b> 12<br><b>Text X:</b> Artificial intelligence is fascinating.<br><b>Index Y:</b> 11<br><b>Text Y:</b> Machine learning is fascinating!<br><b>Cosine Similarity:</b> 0.706",
           "<b>Index X:</b> 13<br><b>Text X:</b> Football is a popular sport.<br><b>Index Y:</b> 11<br><b>Text Y:</b> Machine learning is fascinating!<br><b>Cosine Similarity:</b> 0.137",
           "<b>Index X:</b> 14<br><b>Text X:</b> Switching to English is sometimes useful.<br><b>Index Y:</b> 11<br><b>Text Y:</b> Machine learning is fascinating!<br><b>Cosine Similarity:</b> 0.151"
          ],
          [
           "<b>Index X:</b> 0<br><b>Text X:</b> The weather is nice today.<br><b>Index Y:</b> 12<br><b>Text Y:</b> Artificial intelligence is fascinating.<br><b>Cosine Similarity:</b> 0.087",
           "<b>Index X:</b> 1<br><b>Text X:</b> The weather is nice today!<br><b>Index Y:</b> 12<br><b>Text Y:</b> Artificial intelligence is fascinating.<br><b>Cosine Similarity:</b> 0.088",
           "<b>Index X:</b> 2<br><b>Text X:</b> The weather is nice today.<br><b>Index Y:</b> 12<br><b>Text Y:</b> Artificial intelligence is fascinating.<br><b>Cosine Similarity:</b> 0.087",
           "<b>Index X:</b> 3<br><b>Text X:</b> The Weather is nice today.<br><b>Index Y:</b> 12<br><b>Text Y:</b> Artificial intelligence is fascinating.<br><b>Cosine Similarity:</b> 0.095",
           "<b>Index X:</b> 4<br><b>Text X:</b> It is hot in Paris this summer.<br><b>Index Y:</b> 12<br><b>Text Y:</b> Artificial intelligence is fascinating.<br><b>Cosine Similarity:</b> 0.057",
           "<b>Index X:</b> 5<br><b>Text X:</b> It is hot in Paris this summer<br><b>Index Y:</b> 12<br><b>Text Y:</b> Artificial intelligence is fascinating.<br><b>Cosine Similarity:</b> 0.047",
           "<b>Index X:</b> 6<br><b>Text X:</b> It is HOT in Paris this summer.<br><b>Index Y:</b> 12<br><b>Text Y:</b> Artificial intelligence is fascinating.<br><b>Cosine Similarity:</b> 0.051",
           "<b>Index X:</b> 7<br><b>Text X:</b> Hello world.<br><b>Index Y:</b> 12<br><b>Text Y:</b> Artificial intelligence is fascinating.<br><b>Cosine Similarity:</b> 0.224",
           "<b>Index X:</b> 8<br><b>Text X:</b> Hello world!<br><b>Index Y:</b> 12<br><b>Text Y:</b> Artificial intelligence is fascinating.<br><b>Cosine Similarity:</b> 0.203",
           "<b>Index X:</b> 9<br><b>Text X:</b> HELLO world.<br><b>Index Y:</b> 12<br><b>Text Y:</b> Artificial intelligence is fascinating.<br><b>Cosine Similarity:</b> 0.214",
           "<b>Index X:</b> 10<br><b>Text X:</b> Machine learning is fascinating.<br><b>Index Y:</b> 12<br><b>Text Y:</b> Artificial intelligence is fascinating.<br><b>Cosine Similarity:</b> 0.753",
           "<b>Index X:</b> 11<br><b>Text X:</b> Machine learning is fascinating!<br><b>Index Y:</b> 12<br><b>Text Y:</b> Artificial intelligence is fascinating.<br><b>Cosine Similarity:</b> 0.706",
           "<b>Index X:</b> 12<br><b>Text X:</b> Artificial intelligence is fascinating.<br><b>Index Y:</b> 12<br><b>Text Y:</b> Artificial intelligence is fascinating.<br><b>Cosine Similarity:</b> 1.000",
           "<b>Index X:</b> 13<br><b>Text X:</b> Football is a popular sport.<br><b>Index Y:</b> 12<br><b>Text Y:</b> Artificial intelligence is fascinating.<br><b>Cosine Similarity:</b> 0.168",
           "<b>Index X:</b> 14<br><b>Text X:</b> Switching to English is sometimes useful.<br><b>Index Y:</b> 12<br><b>Text Y:</b> Artificial intelligence is fascinating.<br><b>Cosine Similarity:</b> 0.130"
          ],
          [
           "<b>Index X:</b> 0<br><b>Text X:</b> The weather is nice today.<br><b>Index Y:</b> 13<br><b>Text Y:</b> Football is a popular sport.<br><b>Cosine Similarity:</b> 0.156",
           "<b>Index X:</b> 1<br><b>Text X:</b> The weather is nice today!<br><b>Index Y:</b> 13<br><b>Text Y:</b> Football is a popular sport.<br><b>Cosine Similarity:</b> 0.151",
           "<b>Index X:</b> 2<br><b>Text X:</b> The weather is nice today.<br><b>Index Y:</b> 13<br><b>Text Y:</b> Football is a popular sport.<br><b>Cosine Similarity:</b> 0.156",
           "<b>Index X:</b> 3<br><b>Text X:</b> The Weather is nice today.<br><b>Index Y:</b> 13<br><b>Text Y:</b> Football is a popular sport.<br><b>Cosine Similarity:</b> 0.169",
           "<b>Index X:</b> 4<br><b>Text X:</b> It is hot in Paris this summer.<br><b>Index Y:</b> 13<br><b>Text Y:</b> Football is a popular sport.<br><b>Cosine Similarity:</b> 0.147",
           "<b>Index X:</b> 5<br><b>Text X:</b> It is hot in Paris this summer<br><b>Index Y:</b> 13<br><b>Text Y:</b> Football is a popular sport.<br><b>Cosine Similarity:</b> 0.132",
           "<b>Index X:</b> 6<br><b>Text X:</b> It is HOT in Paris this summer.<br><b>Index Y:</b> 13<br><b>Text Y:</b> Football is a popular sport.<br><b>Cosine Similarity:</b> 0.138",
           "<b>Index X:</b> 7<br><b>Text X:</b> Hello world.<br><b>Index Y:</b> 13<br><b>Text Y:</b> Football is a popular sport.<br><b>Cosine Similarity:</b> 0.133",
           "<b>Index X:</b> 8<br><b>Text X:</b> Hello world!<br><b>Index Y:</b> 13<br><b>Text Y:</b> Football is a popular sport.<br><b>Cosine Similarity:</b> 0.116",
           "<b>Index X:</b> 9<br><b>Text X:</b> HELLO world.<br><b>Index Y:</b> 13<br><b>Text Y:</b> Football is a popular sport.<br><b>Cosine Similarity:</b> 0.141",
           "<b>Index X:</b> 10<br><b>Text X:</b> Machine learning is fascinating.<br><b>Index Y:</b> 13<br><b>Text Y:</b> Football is a popular sport.<br><b>Cosine Similarity:</b> 0.151",
           "<b>Index X:</b> 11<br><b>Text X:</b> Machine learning is fascinating!<br><b>Index Y:</b> 13<br><b>Text Y:</b> Football is a popular sport.<br><b>Cosine Similarity:</b> 0.137",
           "<b>Index X:</b> 12<br><b>Text X:</b> Artificial intelligence is fascinating.<br><b>Index Y:</b> 13<br><b>Text Y:</b> Football is a popular sport.<br><b>Cosine Similarity:</b> 0.168",
           "<b>Index X:</b> 13<br><b>Text X:</b> Football is a popular sport.<br><b>Index Y:</b> 13<br><b>Text Y:</b> Football is a popular sport.<br><b>Cosine Similarity:</b> 1.000",
           "<b>Index X:</b> 14<br><b>Text X:</b> Switching to English is sometimes useful.<br><b>Index Y:</b> 13<br><b>Text Y:</b> Football is a popular sport.<br><b>Cosine Similarity:</b> 0.124"
          ],
          [
           "<b>Index X:</b> 0<br><b>Text X:</b> The weather is nice today.<br><b>Index Y:</b> 14<br><b>Text Y:</b> Switching to English is sometimes useful.<br><b>Cosine Similarity:</b> 0.091",
           "<b>Index X:</b> 1<br><b>Text X:</b> The weather is nice today!<br><b>Index Y:</b> 14<br><b>Text Y:</b> Switching to English is sometimes useful.<br><b>Cosine Similarity:</b> 0.089",
           "<b>Index X:</b> 2<br><b>Text X:</b> The weather is nice today.<br><b>Index Y:</b> 14<br><b>Text Y:</b> Switching to English is sometimes useful.<br><b>Cosine Similarity:</b> 0.091",
           "<b>Index X:</b> 3<br><b>Text X:</b> The Weather is nice today.<br><b>Index Y:</b> 14<br><b>Text Y:</b> Switching to English is sometimes useful.<br><b>Cosine Similarity:</b> 0.097",
           "<b>Index X:</b> 4<br><b>Text X:</b> It is hot in Paris this summer.<br><b>Index Y:</b> 14<br><b>Text Y:</b> Switching to English is sometimes useful.<br><b>Cosine Similarity:</b> 0.075",
           "<b>Index X:</b> 5<br><b>Text X:</b> It is hot in Paris this summer<br><b>Index Y:</b> 14<br><b>Text Y:</b> Switching to English is sometimes useful.<br><b>Cosine Similarity:</b> 0.072",
           "<b>Index X:</b> 6<br><b>Text X:</b> It is HOT in Paris this summer.<br><b>Index Y:</b> 14<br><b>Text Y:</b> Switching to English is sometimes useful.<br><b>Cosine Similarity:</b> 0.066",
           "<b>Index X:</b> 7<br><b>Text X:</b> Hello world.<br><b>Index Y:</b> 14<br><b>Text Y:</b> Switching to English is sometimes useful.<br><b>Cosine Similarity:</b> 0.185",
           "<b>Index X:</b> 8<br><b>Text X:</b> Hello world!<br><b>Index Y:</b> 14<br><b>Text Y:</b> Switching to English is sometimes useful.<br><b>Cosine Similarity:</b> 0.169",
           "<b>Index X:</b> 9<br><b>Text X:</b> HELLO world.<br><b>Index Y:</b> 14<br><b>Text Y:</b> Switching to English is sometimes useful.<br><b>Cosine Similarity:</b> 0.174",
           "<b>Index X:</b> 10<br><b>Text X:</b> Machine learning is fascinating.<br><b>Index Y:</b> 14<br><b>Text Y:</b> Switching to English is sometimes useful.<br><b>Cosine Similarity:</b> 0.166",
           "<b>Index X:</b> 11<br><b>Text X:</b> Machine learning is fascinating!<br><b>Index Y:</b> 14<br><b>Text Y:</b> Switching to English is sometimes useful.<br><b>Cosine Similarity:</b> 0.151",
           "<b>Index X:</b> 12<br><b>Text X:</b> Artificial intelligence is fascinating.<br><b>Index Y:</b> 14<br><b>Text Y:</b> Switching to English is sometimes useful.<br><b>Cosine Similarity:</b> 0.130",
           "<b>Index X:</b> 13<br><b>Text X:</b> Football is a popular sport.<br><b>Index Y:</b> 14<br><b>Text Y:</b> Switching to English is sometimes useful.<br><b>Cosine Similarity:</b> 0.124",
           "<b>Index X:</b> 14<br><b>Text X:</b> Switching to English is sometimes useful.<br><b>Index Y:</b> 14<br><b>Text Y:</b> Switching to English is sometimes useful.<br><b>Cosine Similarity:</b> 1.000"
          ]
         ],
         "type": "heatmap",
         "x": [
          0,
          1,
          2,
          3,
          4,
          5,
          6,
          7,
          8,
          9,
          10,
          11,
          12,
          13,
          14
         ],
         "y": [
          0,
          1,
          2,
          3,
          4,
          5,
          6,
          7,
          8,
          9,
          10,
          11,
          12,
          13,
          14
         ],
         "z": {
          "bdata": "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",
          "dtype": "f8",
          "shape": "15, 15"
         },
         "zmax": 1,
         "zmin": 0
        }
       ],
       "layout": {
        "height": 600,
        "template": {
         "data": {
          "bar": [
           {
            "error_x": {
             "color": "#2a3f5f"
            },
            "error_y": {
             "color": "#2a3f5f"
            },
            "marker": {
             "line": {
              "color": "#E5ECF6",
              "width": 0.5
             },
             "pattern": {
              "fillmode": "overlay",
              "size": 10,
              "solidity": 0.2
             }
            },
            "type": "bar"
           }
          ],
          "barpolar": [
           {
            "marker": {
             "line": {
              "color": "#E5ECF6",
              "width": 0.5
             },
             "pattern": {
              "fillmode": "overlay",
              "size": 10,
              "solidity": 0.2
             }
            },
            "type": "barpolar"
           }
          ],
          "carpet": [
           {
            "aaxis": {
             "endlinecolor": "#2a3f5f",
             "gridcolor": "white",
             "linecolor": "white",
             "minorgridcolor": "white",
             "startlinecolor": "#2a3f5f"
            },
            "baxis": {
             "endlinecolor": "#2a3f5f",
             "gridcolor": "white",
             "linecolor": "white",
             "minorgridcolor": "white",
             "startlinecolor": "#2a3f5f"
            },
            "type": "carpet"
           }
          ],
          "choropleth": [
           {
            "colorbar": {
             "outlinewidth": 0,
             "ticks": ""
            },
            "type": "choropleth"
           }
          ],
          "contour": [
           {
            "colorbar": {
             "outlinewidth": 0,
             "ticks": ""
            },
            "colorscale": [
             [
              0,
              "#0d0887"
             ],
             [
              0.1111111111111111,
              "#46039f"
             ],
             [
              0.2222222222222222,
              "#7201a8"
             ],
             [
              0.3333333333333333,
              "#9c179e"
             ],
             [
              0.4444444444444444,
              "#bd3786"
             ],
             [
              0.5555555555555556,
              "#d8576b"
             ],
             [
              0.6666666666666666,
              "#ed7953"
             ],
             [
              0.7777777777777778,
              "#fb9f3a"
             ],
             [
              0.8888888888888888,
              "#fdca26"
             ],
             [
              1,
              "#f0f921"
             ]
            ],
            "type": "contour"
           }
          ],
          "contourcarpet": [
           {
            "colorbar": {
             "outlinewidth": 0,
             "ticks": ""
            },
            "type": "contourcarpet"
           }
          ],
          "heatmap": [
           {
            "colorbar": {
             "outlinewidth": 0,
             "ticks": ""
            },
            "colorscale": [
             [
              0,
              "#0d0887"
             ],
             [
              0.1111111111111111,
              "#46039f"
             ],
             [
              0.2222222222222222,
              "#7201a8"
             ],
             [
              0.3333333333333333,
              "#9c179e"
             ],
             [
              0.4444444444444444,
              "#bd3786"
             ],
             [
              0.5555555555555556,
              "#d8576b"
             ],
             [
              0.6666666666666666,
              "#ed7953"
             ],
             [
              0.7777777777777778,
              "#fb9f3a"
             ],
             [
              0.8888888888888888,
              "#fdca26"
             ],
             [
              1,
              "#f0f921"
             ]
            ],
            "type": "heatmap"
           }
          ],
          "histogram": [
           {
            "marker": {
             "pattern": {
              "fillmode": "overlay",
              "size": 10,
              "solidity": 0.2
             }
            },
            "type": "histogram"
           }
          ],
          "histogram2d": [
           {
            "colorbar": {
             "outlinewidth": 0,
             "ticks": ""
            },
            "colorscale": [
             [
              0,
              "#0d0887"
             ],
             [
              0.1111111111111111,
              "#46039f"
             ],
             [
              0.2222222222222222,
              "#7201a8"
             ],
             [
              0.3333333333333333,
              "#9c179e"
             ],
             [
              0.4444444444444444,
              "#bd3786"
             ],
             [
              0.5555555555555556,
              "#d8576b"
             ],
             [
              0.6666666666666666,
              "#ed7953"
             ],
             [
              0.7777777777777778,
              "#fb9f3a"
             ],
             [
              0.8888888888888888,
              "#fdca26"
             ],
             [
              1,
              "#f0f921"
             ]
            ],
            "type": "histogram2d"
           }
          ],
          "histogram2dcontour": [
           {
            "colorbar": {
             "outlinewidth": 0,
             "ticks": ""
            },
            "colorscale": [
             [
              0,
              "#0d0887"
             ],
             [
              0.1111111111111111,
              "#46039f"
             ],
             [
              0.2222222222222222,
              "#7201a8"
             ],
             [
              0.3333333333333333,
              "#9c179e"
             ],
             [
              0.4444444444444444,
              "#bd3786"
             ],
             [
              0.5555555555555556,
              "#d8576b"
             ],
             [
              0.6666666666666666,
              "#ed7953"
             ],
             [
              0.7777777777777778,
              "#fb9f3a"
             ],
             [
              0.8888888888888888,
              "#fdca26"
             ],
             [
              1,
              "#f0f921"
             ]
            ],
            "type": "histogram2dcontour"
           }
          ],
          "mesh3d": [
           {
            "colorbar": {
             "outlinewidth": 0,
             "ticks": ""
            },
            "type": "mesh3d"
           }
          ],
          "parcoords": [
           {
            "line": {
             "colorbar": {
              "outlinewidth": 0,
              "ticks": ""
             }
            },
            "type": "parcoords"
           }
          ],
          "pie": [
           {
            "automargin": true,
            "type": "pie"
           }
          ],
          "scatter": [
           {
            "fillpattern": {
             "fillmode": "overlay",
             "size": 10,
             "solidity": 0.2
            },
            "type": "scatter"
           }
          ],
          "scatter3d": [
           {
            "line": {
             "colorbar": {
              "outlinewidth": 0,
              "ticks": ""
             }
            },
            "marker": {
             "colorbar": {
              "outlinewidth": 0,
              "ticks": ""
             }
            },
            "type": "scatter3d"
           }
          ],
          "scattercarpet": [
           {
            "marker": {
             "colorbar": {
              "outlinewidth": 0,
              "ticks": ""
             }
            },
            "type": "scattercarpet"
           }
          ],
          "scattergeo": [
           {
            "marker": {
             "colorbar": {
              "outlinewidth": 0,
              "ticks": ""
             }
            },
            "type": "scattergeo"
           }
          ],
          "scattergl": [
           {
            "marker": {
             "colorbar": {
              "outlinewidth": 0,
              "ticks": ""
             }
            },
            "type": "scattergl"
           }
          ],
          "scattermap": [
           {
            "marker": {
             "colorbar": {
              "outlinewidth": 0,
              "ticks": ""
             }
            },
            "type": "scattermap"
           }
          ],
          "scattermapbox": [
           {
            "marker": {
             "colorbar": {
              "outlinewidth": 0,
              "ticks": ""
             }
            },
            "type": "scattermapbox"
           }
          ],
          "scatterpolar": [
           {
            "marker": {
             "colorbar": {
              "outlinewidth": 0,
              "ticks": ""
             }
            },
            "type": "scatterpolar"
           }
          ],
          "scatterpolargl": [
           {
            "marker": {
             "colorbar": {
              "outlinewidth": 0,
              "ticks": ""
             }
            },
            "type": "scatterpolargl"
           }
          ],
          "scatterternary": [
           {
            "marker": {
             "colorbar": {
              "outlinewidth": 0,
              "ticks": ""
             }
            },
            "type": "scatterternary"
           }
          ],
          "surface": [
           {
            "colorbar": {
             "outlinewidth": 0,
             "ticks": ""
            },
            "colorscale": [
             [
              0,
              "#0d0887"
             ],
             [
              0.1111111111111111,
              "#46039f"
             ],
             [
              0.2222222222222222,
              "#7201a8"
             ],
             [
              0.3333333333333333,
              "#9c179e"
             ],
             [
              0.4444444444444444,
              "#bd3786"
             ],
             [
              0.5555555555555556,
              "#d8576b"
             ],
             [
              0.6666666666666666,
              "#ed7953"
             ],
             [
              0.7777777777777778,
              "#fb9f3a"
             ],
             [
              0.8888888888888888,
              "#fdca26"
             ],
             [
              1,
              "#f0f921"
             ]
            ],
            "type": "surface"
           }
          ],
          "table": [
           {
            "cells": {
             "fill": {
              "color": "#EBF0F8"
             },
             "line": {
              "color": "white"
             }
            },
            "header": {
             "fill": {
              "color": "#C8D4E3"
             },
             "line": {
              "color": "white"
             }
            },
            "type": "table"
           }
          ]
         },
         "layout": {
          "annotationdefaults": {
           "arrowcolor": "#2a3f5f",
           "arrowhead": 0,
           "arrowwidth": 1
          },
          "autotypenumbers": "strict",
          "coloraxis": {
           "colorbar": {
            "outlinewidth": 0,
            "ticks": ""
           }
          },
          "colorscale": {
           "diverging": [
            [
             0,
             "#8e0152"
            ],
            [
             0.1,
             "#c51b7d"
            ],
            [
             0.2,
             "#de77ae"
            ],
            [
             0.3,
             "#f1b6da"
            ],
            [
             0.4,
             "#fde0ef"
            ],
            [
             0.5,
             "#f7f7f7"
            ],
            [
             0.6,
             "#e6f5d0"
            ],
            [
             0.7,
             "#b8e186"
            ],
            [
             0.8,
             "#7fbc41"
            ],
            [
             0.9,
             "#4d9221"
            ],
            [
             1,
             "#276419"
            ]
           ],
           "sequential": [
            [
             0,
             "#0d0887"
            ],
            [
             0.1111111111111111,
             "#46039f"
            ],
            [
             0.2222222222222222,
             "#7201a8"
            ],
            [
             0.3333333333333333,
             "#9c179e"
            ],
            [
             0.4444444444444444,
             "#bd3786"
            ],
            [
             0.5555555555555556,
             "#d8576b"
            ],
            [
             0.6666666666666666,
             "#ed7953"
            ],
            [
             0.7777777777777778,
             "#fb9f3a"
            ],
            [
             0.8888888888888888,
             "#fdca26"
            ],
            [
             1,
             "#f0f921"
            ]
           ],
           "sequentialminus": [
            [
             0,
             "#0d0887"
            ],
            [
             0.1111111111111111,
             "#46039f"
            ],
            [
             0.2222222222222222,
             "#7201a8"
            ],
            [
             0.3333333333333333,
             "#9c179e"
            ],
            [
             0.4444444444444444,
             "#bd3786"
            ],
            [
             0.5555555555555556,
             "#d8576b"
            ],
            [
             0.6666666666666666,
             "#ed7953"
            ],
            [
             0.7777777777777778,
             "#fb9f3a"
            ],
            [
             0.8888888888888888,
             "#fdca26"
            ],
            [
             1,
             "#f0f921"
            ]
           ]
          },
          "colorway": [
           "#636efa",
           "#EF553B",
           "#00cc96",
           "#ab63fa",
           "#FFA15A",
           "#19d3f3",
           "#FF6692",
           "#B6E880",
           "#FF97FF",
           "#FECB52"
          ],
          "font": {
           "color": "#2a3f5f"
          },
          "geo": {
           "bgcolor": "white",
           "lakecolor": "white",
           "landcolor": "#E5ECF6",
           "showlakes": true,
           "showland": true,
           "subunitcolor": "white"
          },
          "hoverlabel": {
           "align": "left"
          },
          "hovermode": "closest",
          "mapbox": {
           "style": "light"
          },
          "paper_bgcolor": "white",
          "plot_bgcolor": "#E5ECF6",
          "polar": {
           "angularaxis": {
            "gridcolor": "white",
            "linecolor": "white",
            "ticks": ""
           },
           "bgcolor": "#E5ECF6",
           "radialaxis": {
            "gridcolor": "white",
            "linecolor": "white",
            "ticks": ""
           }
          },
          "scene": {
           "xaxis": {
            "backgroundcolor": "#E5ECF6",
            "gridcolor": "white",
            "gridwidth": 2,
            "linecolor": "white",
            "showbackground": true,
            "ticks": "",
            "zerolinecolor": "white"
           },
           "yaxis": {
            "backgroundcolor": "#E5ECF6",
            "gridcolor": "white",
            "gridwidth": 2,
            "linecolor": "white",
            "showbackground": true,
            "ticks": "",
            "zerolinecolor": "white"
           },
           "zaxis": {
            "backgroundcolor": "#E5ECF6",
            "gridcolor": "white",
            "gridwidth": 2,
            "linecolor": "white",
            "showbackground": true,
            "ticks": "",
            "zerolinecolor": "white"
           }
          },
          "shapedefaults": {
           "line": {
            "color": "#2a3f5f"
           }
          },
          "ternary": {
           "aaxis": {
            "gridcolor": "white",
            "linecolor": "white",
            "ticks": ""
           },
           "baxis": {
            "gridcolor": "white",
            "linecolor": "white",
            "ticks": ""
           },
           "bgcolor": "#E5ECF6",
           "caxis": {
            "gridcolor": "white",
            "linecolor": "white",
            "ticks": ""
           }
          },
          "title": {
           "x": 0.05
          },
          "xaxis": {
           "automargin": true,
           "gridcolor": "white",
           "linecolor": "white",
           "ticks": "",
           "title": {
            "standoff": 15
           },
           "zerolinecolor": "white",
           "zerolinewidth": 2
          },
          "yaxis": {
           "automargin": true,
           "gridcolor": "white",
           "linecolor": "white",
           "ticks": "",
           "title": {
            "standoff": 15
           },
           "zerolinecolor": "white",
           "zerolinewidth": 2
          }
         }
        },
        "title": {
         "text": "Cosine Similarity – OpenAI text-embedding-3-large"
        },
        "width": 600,
        "yaxis": {
         "autorange": "reversed"
        }
       }
      }
     },
     "metadata": {},
     "output_type": "display_data"
    }
   ],
   "source": [
    "import shutil\n",
    "from pathlib import Path\n",
    "import numpy as np\n",
    "from sentence_transformers import SentenceTransformer\n",
    "from plotly.subplots import make_subplots\n",
    "import plotly.graph_objects as go\n",
    "import openai\n",
    "import os\n",
    "\n",
    "from dotenv import load_dotenv\n",
    "\n",
    "load_dotenv()         # lit .env local\n",
    "api_key = os.getenv(\"api_key\")\n",
    "\n",
    "device = \"cpu\" \n",
    "# ------------------------------------------------------------------\n",
    "# Configuration clé OpenAI (préférence à variable `api_key` sinon env)\n",
    "# ------------------------------------------------------------------\n",
    "try:\n",
    "    openai.api_key = api_key  # si tu as défini api_key dans ton contexte\n",
    "except NameError:\n",
    "    openai.api_key = os.getenv(\"OPENAI_API_KEY\")\n",
    "\n",
    "if not openai.api_key:\n",
    "    raise RuntimeError(\n",
    "        \"Clé OpenAI manquante. Défini la variable d'environnement OPENAI_API_KEY \"\n",
    "        \"ou assigne openai.api_key manuellement.\"\n",
    "    )\n",
    "\n",
    "# ------------------------------------------------------------------\n",
    "# Textes à comparer\n",
    "# ------------------------------------------------------------------\n",
    "texts = [\n",
    "    \"The weather is nice today.\",\n",
    "    \"The weather is nice today!\",\n",
    "    \"The weather is nice today.\",\n",
    "    \"The Weather is nice today.\",\n",
    "    \"It is hot in Paris this summer.\",\n",
    "    \"It is hot in Paris this summer\",\n",
    "    \"It is HOT in Paris this summer.\",\n",
    "    \"Hello world.\",\n",
    "    \"Hello world!\",\n",
    "    \"HELLO world.\",\n",
    "    \"Machine learning is fascinating.\",\n",
    "    \"Machine learning is fascinating!\",\n",
    "    \"Artificial intelligence is fascinating.\",\n",
    "    \"Football is a popular sport.\",\n",
    "    \"Switching to English is sometimes useful.\"\n",
    "]\n",
    "\n",
    "# ------------------------------------------------------------------\n",
    "# Helpers pour le cache corrompu de modules distants HuggingFace\n",
    "# ------------------------------------------------------------------\n",
    "def clear_hf_module_cache(repo_ids):\n",
    "    \"\"\"\n",
    "    Supprime les modules dynamiques corrompus pour forcer re-téléchargement.\n",
    "    \"\"\"\n",
    "    base = Path.home() / \".cache\" / \"huggingface\" / \"modules\" / \"transformers_modules\"\n",
    "    for repo in repo_ids:\n",
    "        # Transforme \"org/model\" en chemin\n",
    "        candidate = base / repo.replace(\"/\", os.sep)\n",
    "        if candidate.exists():\n",
    "            shutil.rmtree(candidate)\n",
    "    # En plus, supprimer tout répertoire potentiellement laissé en vrac pour jinaai si c'est pertinent\n",
    "    jina_base = base / \"jinaai\"\n",
    "    if jina_base.exists():\n",
    "        for child in jina_base.iterdir():\n",
    "            # si c'est un sous-dossier de cache ancien ou partiellement corrompu, on peut le supprimer aussi\n",
    "            if child.is_dir() and (\"flash-implementation\" in child.name or \"jina-embeddings-v3\" in child.name):\n",
    "                shutil.rmtree(child)\n",
    "\n",
    "def load_sbert(name: str) -> SentenceTransformer:\n",
    "    \"\"\"\n",
    "    Charge un modèle SBERT en gérant les erreurs de cache pour jinaai/...\n",
    "    Si échec critique, relance une fois après nettoyage automatique.\n",
    "    \"\"\"\n",
    "    def _instantiate():\n",
    "        if name.startswith(\"jinaai/\"):\n",
    "            return SentenceTransformer(name, trust_remote_code=True, device=device )\n",
    "        return SentenceTransformer(name, device=device)\n",
    "\n",
    "    try:\n",
    "        return _instantiate()\n",
    "    except Exception as e:\n",
    "        msg = str(e)\n",
    "        # Tentative de réparation automatique uniquement pour les modèles jinaai\n",
    "        if name.startswith(\"jinaai/\") and (\n",
    "            \"No such file or directory\" in msg\n",
    "            or \"ModuleNotFoundError\" in msg\n",
    "            or \"Failed to load\" in msg\n",
    "            or \"corrupt\" in msg.lower()\n",
    "        ):\n",
    "            clear_hf_module_cache([name, \"jinaai/xlm-roberta-flash-implementation\"])\n",
    "            try:\n",
    "                return _instantiate()\n",
    "            except Exception as e2:\n",
    "                raise RuntimeError(\n",
    "                    f\"Échec du chargement de {name} après nettoyage du cache: {e2}. \"\n",
    "                    \"Supprime manuellement le dossier cache sous \"\n",
    "                    \"~/.cache/huggingface/modules/transformers_modules/jinaai/ et relance.\"\n",
    "                ) from e2\n",
    "        # sinon on remonte l'erreur brute\n",
    "        raise\n",
    "\n",
    "def compute_similarity_and_hover(model: SentenceTransformer, texts: list):\n",
    "    \"\"\"\n",
    "    Encode, normalise et calcule matrice de similarité + hover text riche.\n",
    "    \"\"\"\n",
    "    embeddings = model.encode(texts, normalize_embeddings=True, device=device)\n",
    "    sim_matrix = np.matmul(embeddings, embeddings.T)  # cosine because normalized\n",
    "    hover = [\n",
    "        [\n",
    "            f\"<b>Index X:</b> {j}<br><b>Text X:</b> {texts[j]}<br>\"\n",
    "            f\"<b>Index Y:</b> {i}<br><b>Text Y:</b> {texts[i]}<br>\"\n",
    "            f\"<b>Cosine Similarity:</b> {sim_matrix[i, j]:.3f}\"\n",
    "            for j in range(len(texts))\n",
    "        ]\n",
    "        for i in range(len(texts))\n",
    "    ]\n",
    "    return sim_matrix, hover\n",
    "\n",
    "def get_openai_embeddings(texts: list):\n",
    "    \"\"\"\n",
    "    Récupère et normalise les embeddings OpenAI.\n",
    "    \"\"\"\n",
    "    response = openai.embeddings.create(model=\"text-embedding-3-large\", input=texts)\n",
    "    vecs = np.vstack([np.array(d.embedding) for d in response.data])\n",
    "    norms = np.linalg.norm(vecs, axis=1, keepdims=True)\n",
    "    return vecs / norms  # normalisé\n",
    "\n",
    "# ------------------------------------------------------------------\n",
    "# Chargement des modèles et fallback si jina échoue complètement\n",
    "# ------------------------------------------------------------------\n",
    "model_mini = load_sbert(\"all-MiniLM-L6-v2\")\n",
    "\n",
    "use_fallback_jina = False\n",
    "try:\n",
    "    model_jina = load_sbert(\"jinaai/jina-embeddings-v3\")\n",
    "except Exception as e:\n",
    "    # avertissement, on continue avec MiniLM comme doublon pour garder la pipeline opérationnelle\n",
    "    print(f\"[WARN] Impossible de charger jinaai/jina-embeddings-v3, fallback utilisé: {e}\")\n",
    "    model_jina = model_mini\n",
    "    use_fallback_jina = True\n",
    "\n",
    "# ------------------------------------------------------------------\n",
    "# Calcul des similarités pour SBERT\n",
    "# ------------------------------------------------------------------\n",
    "sim_mini, hover_mini = compute_similarity_and_hover(model_mini, texts)\n",
    "sim_jina, hover_jina = compute_similarity_and_hover(model_jina, texts)\n",
    "\n",
    "# ------------------------------------------------------------------\n",
    "# Visualisation comparative (MiniLM vs Jina / fallback)\n",
    "# ------------------------------------------------------------------\n",
    "title_right = \"jinaai/jina-embeddings-v3\"\n",
    "if use_fallback_jina:\n",
    "    title_right += \" (fallback à all-MiniLM-L6-v2)\"\n",
    "\n",
    "fig_comparison = make_subplots(\n",
    "    rows=1,\n",
    "    cols=2,\n",
    "    subplot_titles=(\"all-MiniLM-L6-v2\", title_right),\n",
    "    horizontal_spacing=0.08\n",
    ")\n",
    "\n",
    "fig_comparison.add_trace(\n",
    "    go.Heatmap(\n",
    "        z=sim_mini,\n",
    "        x=list(range(len(texts))),\n",
    "        y=list(range(len(texts))),\n",
    "        text=hover_mini,\n",
    "        hoverinfo=\"text\",\n",
    "        colorscale=\"Viridis\",\n",
    "        zmin=0,\n",
    "        zmax=1,\n",
    "        colorbar=dict(title=\"Cosine<br>Similarity\"),\n",
    "    ),\n",
    "    row=1,\n",
    "    col=1,\n",
    ")\n",
    "\n",
    "fig_comparison.add_trace(\n",
    "    go.Heatmap(\n",
    "        z=sim_jina,\n",
    "        x=list(range(len(texts))),\n",
    "        y=list(range(len(texts))),\n",
    "        text=hover_jina,\n",
    "        hoverinfo=\"text\",\n",
    "        colorscale=\"Viridis\",\n",
    "        zmin=0,\n",
    "        zmax=1,\n",
    "        showscale=False if not use_fallback_jina else True,\n",
    "    ),\n",
    "    row=1,\n",
    "    col=2,\n",
    ")\n",
    "\n",
    "fig_comparison.update_layout(\n",
    "    title=\"Cosine Similarity Matrix – all-MiniLM-L6-v2 vs jinaai/jina-embeddings-v3\",\n",
    "    width=1300,\n",
    "    height=650,\n",
    ")\n",
    "fig_comparison.update_yaxes(autorange=\"reversed\", row=1, col=1)\n",
    "fig_comparison.update_yaxes(autorange=\"reversed\", row=1, col=2)\n",
    "fig_comparison.show()\n",
    "\n",
    "# ------------------------------------------------------------------\n",
    "# OpenAI embeddings et heatmap\n",
    "# ------------------------------------------------------------------\n",
    "emb_openai = get_openai_embeddings(texts)\n",
    "sim_openai = np.matmul(emb_openai, emb_openai.T)\n",
    "\n",
    "hover_openai = [\n",
    "    [\n",
    "        f\"<b>Index X:</b> {j}<br><b>Text X:</b> {texts[j]}<br>\"\n",
    "        f\"<b>Index Y:</b> {i}<br><b>Text Y:</b> {texts[i]}<br>\"\n",
    "        f\"<b>Cosine Similarity:</b> {sim_openai[i, j]:.3f}\"\n",
    "        for j in range(len(texts))\n",
    "    ]\n",
    "    for i in range(len(texts))\n",
    "]\n",
    "\n",
    "fig_openai = go.Figure(\n",
    "    data=go.Heatmap(\n",
    "        z=sim_openai,\n",
    "        x=list(range(len(texts))),\n",
    "        y=list(range(len(texts))),\n",
    "        text=hover_openai,\n",
    "        hoverinfo=\"text\",\n",
    "        colorscale=\"Viridis\",\n",
    "        zmin=0,\n",
    "        zmax=1,\n",
    "        colorbar=dict(title=\"Cosine<br>Similarity\"),\n",
    "    )\n",
    ")\n",
    "fig_openai.update_layout(\n",
    "    title=\"Cosine Similarity – OpenAI text-embedding-3-large\",\n",
    "    width=600,\n",
    "    height=600,\n",
    ")\n",
    "fig_openai.update_yaxes(autorange=\"reversed\")\n",
    "fig_openai.show()\n"
   ]
  },
  {
   "cell_type": "markdown",
   "id": "1a821172",
   "metadata": {},
   "source": [
    "# Comparative Analysis of Embedding Models: Jina vs MiniLM vs OpenAI\n",
    "\n",
    "We conducted a small-scale evaluation to compare how three different embedding models handle **minor text variations**:\n",
    "\n",
    "- `jina-embeddings-v2-base-en`\n",
    "- `all-MiniLM-L6-v2` (from Sentence Transformers)\n",
    "- `text-embedding-3-large` (OpenAI)\n",
    "\n",
    "## 1. Jina Embeddings: Highly Sensitive and Inconsistent\n",
    "\n",
    "- Jina embeddings proved **very sensitive** to minor changes, especially **punctuation**.\n",
    "- Example: the cosine similarity between `\"Hello world.\"` and `\"Hello world!\"` dropped to **0.46**, which is **semantically unjustifiable**.\n",
    "- In contrast, **case changes** (e.g., `\"Hello\"` vs `\"HELLO\"`) had **no effect** — these variations produced **identical embeddings**.\n",
    "- A deeper issue arises when comparing **unrelated texts**. For instance:\n",
    "  - `\"It is HOT in Paris this summer.\"` vs `\"Artificial intelligence is fascinating.\"` → similarity ≈ **0.50**\n",
    "  - This suggests **over-smoothing** or failure to capture semantic dissimilarity, which is **problematic for clustering or similarity search**.\n",
    "\n",
    "## 2. all-MiniLM-L6-v2: Better Semantic Consistency\n",
    "\n",
    "- This model produced **more stable embeddings** across punctuation and casing.\n",
    "- Example:\n",
    "  - `\"Hello world.\"` vs `\"Hello world!\"` → similarity remained **high and logical**\n",
    "- It also yielded **low similarities** between clearly unrelated texts:\n",
    "  - `\"It is HOT in Paris this summer.\"` vs `\"Artificial intelligence is fascinating.\"` → similarity ≈ **0.0**\n",
    "- A slightly unexpected similarity (~0.15) was found between `\"Hello world.\"` and `\"Artificial intelligence is fascinating.\"`, which might be explained by **shared associations with programming or computer science** — a **plausible semantic overlap**.\n",
    "\n",
    "## 3. OpenAI `text-embedding-3-large`: Most Coherent, but Slight Variance Remains\n",
    "\n",
    "- OpenAI’s model showed **robust handling** of both punctuation and case changes.\n",
    "- It returned **high but logically decreasing similarities** for variants of the same sentence:\n",
    "  - `\"Machine learning is fascinating.\"` vs `\"Machine learning is fascinating!\"` → **0.95**\n",
    "  - `\"Hello world.\"` vs `\"Hello world!\"` → **0.882**\n",
    "- Even though the textual difference is just `\"!\"` in both cases, the **similarity values differ**, suggesting some **context-sensitive weighting** in the embedding process.\n",
    "- Overall, this model provided the **most balanced behavior** across all cases tested.\n",
    "\n",
    "\n",
    "##  Key Takeaways\n",
    "\n",
    "- **Jina-v2** embeddings turned out to be **too fragile** for tasks requiring robustness in deduplication or semantic similarity. Despite the model’s popularity, the results were surprisingly inconsistent — which was somewhat disappointing.\n",
    "  \n",
    "- **MiniLM** represents a **strong and efficient compromise**: the model is lightweight, yet delivers semantically consistent results. Given its small size, the quality of its embeddings was **unexpectedly impressive**.\n",
    "\n",
    "- **OpenAI’s `text-embedding-3-large`** remains the most **robust and production-ready** solution among the three. It handles variations intelligently, although it may still introduce some **inconsistent similarity scores** across seemingly equivalent transformations — a nuance worth monitoring.\n",
    "\n",
    "\n"
   ]
  },
  {
   "cell_type": "markdown",
   "id": "6cda7306",
   "metadata": {},
   "source": [
    "# Can This Impact Sentiment Analysis?\n",
    "\n",
    "After the previous experiments, a natural question arose:  \n",
    "**Could embedding sensitivity (or lack thereof) affect sentiment analysis outcomes?**\n",
    "\n",
    "To explore this, we designed a simple yet illustrative test using two semantically distinct variants of the same sentence:\n",
    "\n",
    "- `\"Give me coffee please ☕😊\"` — polite, friendly, and calm tone.\n",
    "- `\"GIVE ME COFFEE PLEASE 😠💢\"` — aggressive and angry tone, using uppercase and angry emojis.\n",
    "\n",
    "Although the textual content is nearly identical, the **intent and sentiment** are completely opposite.\n"
   ]
  },
  {
   "cell_type": "code",
   "execution_count": null,
   "id": "23c9cf96",
   "metadata": {},
   "outputs": [
    {
     "name": "stderr",
     "output_type": "stream",
     "text": [
      "flash_attn is not installed. Using PyTorch native attention implementation.\n",
      "flash_attn is not installed. Using PyTorch native attention implementation.\n",
      "flash_attn is not installed. Using PyTorch native attention implementation.\n",
      "flash_attn is not installed. Using PyTorch native attention implementation.\n",
      "flash_attn is not installed. Using PyTorch native attention implementation.\n",
      "flash_attn is not installed. Using PyTorch native attention implementation.\n",
      "flash_attn is not installed. Using PyTorch native attention implementation.\n",
      "flash_attn is not installed. Using PyTorch native attention implementation.\n",
      "flash_attn is not installed. Using PyTorch native attention implementation.\n",
      "flash_attn is not installed. Using PyTorch native attention implementation.\n",
      "flash_attn is not installed. Using PyTorch native attention implementation.\n",
      "flash_attn is not installed. Using PyTorch native attention implementation.\n",
      "flash_attn is not installed. Using PyTorch native attention implementation.\n",
      "flash_attn is not installed. Using PyTorch native attention implementation.\n",
      "flash_attn is not installed. Using PyTorch native attention implementation.\n",
      "flash_attn is not installed. Using PyTorch native attention implementation.\n",
      "flash_attn is not installed. Using PyTorch native attention implementation.\n",
      "flash_attn is not installed. Using PyTorch native attention implementation.\n",
      "flash_attn is not installed. Using PyTorch native attention implementation.\n",
      "flash_attn is not installed. Using PyTorch native attention implementation.\n",
      "flash_attn is not installed. Using PyTorch native attention implementation.\n",
      "flash_attn is not installed. Using PyTorch native attention implementation.\n",
      "flash_attn is not installed. Using PyTorch native attention implementation.\n",
      "flash_attn is not installed. Using PyTorch native attention implementation.\n",
      "flash_attn is not installed. Using PyTorch native attention implementation.\n"
     ]
    },
    {
     "name": "stdout",
     "output_type": "stream",
     "text": [
      "all-MiniLM-L6-v2                    → Cosine Similarity: 1.000000\n",
      "jina-embeddings-v3                  → Cosine Similarity: 0.865644\n",
      "text-embedding-3-large (OpenAI)     → Cosine Similarity: 0.742812\n"
     ]
    }
   ],
   "source": [
    "\n",
    "# Assigne ta clé OpenAI (tu peux aussi la mettre dans OPENAI_API_KEY)\n",
    "openai.api_key = api_key  # ou via os.getenv(\"OPENAI_API_KEY\")\n",
    "\n",
    "texts = [\n",
    "    \"Give me coffee please ☕😊\",\n",
    "    \"GIVE ME COFFEE PLEASE 😠💢\"\n",
    "]\n",
    "\n",
    "# OpenAI embedding\n",
    "def get_openai_embedding(texts):\n",
    "    response = openai.embeddings.create(\n",
    "        model=\"text-embedding-3-large\",\n",
    "        input=texts\n",
    "    )\n",
    "    vectors = [np.array(d.embedding) for d in response.data]\n",
    "    vectors = [v / np.linalg.norm(v) for v in vectors]\n",
    "    return np.array(vectors)\n",
    "\n",
    "# SentenceTransformer embedding avec gestion de jina v3\n",
    "def get_sbert_embedding(model_name, texts):\n",
    "    if model_name.startswith(\"jinaai/\"):\n",
    "        model = SentenceTransformer(model_name, trust_remote_code=True)\n",
    "    else:\n",
    "        model = SentenceTransformer(model_name)\n",
    "    embeddings = model.encode(texts, normalize_embeddings=True, device=\"cuda\")\n",
    "    return embeddings\n",
    "\n",
    "# Cosine similarity function (fonctionne parce que les vecteurs sont normalisés)\n",
    "def cosine_similarity(a, b):\n",
    "    return float(np.dot(a, b))\n",
    "\n",
    "# Collect all\n",
    "results = []\n",
    "\n",
    "# 1. MiniLM\n",
    "mini_emb = get_sbert_embedding(\"all-MiniLM-L6-v2\", texts)\n",
    "sim_mini = cosine_similarity(mini_emb[0], mini_emb[1])\n",
    "results.append((\"all-MiniLM-L6-v2\", sim_mini))\n",
    "\n",
    "# 2. Jina v3\n",
    "jina_emb = get_sbert_embedding(\"jinaai/jina-embeddings-v3\", texts)\n",
    "sim_jina = cosine_similarity(jina_emb[0], jina_emb[1])\n",
    "results.append((\"jina-embeddings-v3\", sim_jina))\n",
    "\n",
    "# 3. OpenAI\n",
    "openai_emb = get_openai_embedding(texts)\n",
    "sim_openai = cosine_similarity(openai_emb[0], openai_emb[1])\n",
    "results.append((\"text-embedding-3-large (OpenAI)\", sim_openai))\n",
    "\n",
    "# Affichage\n",
    "for model, sim in results:\n",
    "    print(f\"{model:35s} → Cosine Similarity: {sim:.6f}\")\n"
   ]
  },
  {
   "cell_type": "markdown",
   "id": "5c81b41d",
   "metadata": {},
   "source": [
    "## Observations on Sentiment Encoding\n",
    "\n",
    "We compared the embeddings of two emotionally distinct messages:\n",
    "\n",
    "- `\"Give me coffee please ☕😊\"`\n",
    "- `\"GIVE ME COFFEE PLEASE 😠💢\"`\n",
    "\n",
    "The cosine similarities between the two embeddings are:\n",
    "\n",
    "| Model                              | Cosine Similarity |\n",
    "|-----------------------------------|-------------------|\n",
    "| all-MiniLM-L6-v2                  | **1.000000**      |\n",
    "| jina-embeddings-v2-base-en        | **1.000000**      |\n",
    "| jina-embeddings-v3-base-en        | **0.865644**      |\n",
    "| text-embedding-3-large (OpenAI)   | **0.742812**      |\n",
    "\n",
    "This means that for **MiniLM** and **Jina-v2**, the two texts are **interpreted as semantically identical**, despite conveying opposite emotional tones.\n",
    "\n",
    "**Implication:**  \n",
    "Even if you're using a state-of-the-art sentiment classifier, the upstream embedding model may completely **neutralize emotional contrast**, leading to misleading predictions.\n",
    "\n",
    "This highlights a **critical limitation**:  \n",
    "> Embedding models not designed with affective signals in mind (e.g., case, punctuation, emojis) can **erase sentiment cues** altogether.\n",
    "\n",
    "**Takeaway:**  \n",
    "For sentiment analysis (or any task involving emotional nuance for instance), choosing a robust embedding model is **non-negotiable**.\n",
    "\n",
    "*And indeed, as the saying goes: \"A picture is worth a thousand words.\"*  \n",
    "\n",
    "*Note:* We also tested with additional punctuation/emojis. While the results slightly varied, **Jina-v2** and **MiniLM** still failed to capture the emotion\n"
   ]
  },
  {
   "cell_type": "markdown",
   "id": "e5199509",
   "metadata": {},
   "source": [
    "# Final Thoughts on Embedding Model Selection\n",
    "\n",
    "There is **no universal embedding model** that works best for all tasks.\n",
    "\n",
    "Just because a model performs well on a benchmark or in one specific use case doesn't mean it will generalize across all contexts. Our experiments clearly show that even widely used models like **Jina** or **MiniLM** can fail under seemingly simple variations (punctuation, casing, emojis...).\n",
    "\n",
    "From a practical and scientific standpoint, **the choice of embedding model should be treated as a hyperparameter** — one that must be tuned and validated based on the specific downstream task.\n",
    "\n",
    ">  Blindly trusting benchmark scores or community popularity can lead to underperforming pipelines.\n",
    "\n",
    " Instead:\n",
    "- Always **test embedding robustness** for your use case (sentiment analysis, classification, retrieval, etc.).\n",
    "- Evaluate whether the model captures the **semantic and stylistic nuances** required by your task.\n",
    "- Stay aware that performance may vary **across text types** — what works for tweets might fail on scientific abstracts, and vice versa.\n",
    "\n",
    "Finally, note that this analysis is based on a small set of crafted sentences. It **does not claim universal conclusions**, and **certain models may be specialized** (e.g., trained on formal language, code, or web content). More comprehensive testing is required for production-grade deployment.\n"
   ]
  }
 ],
 "metadata": {
  "kernelspec": {
   "display_name": "Python 3",
   "language": "python",
   "name": "python3"
  },
  "language_info": {
   "codemirror_mode": {
    "name": "ipython",
    "version": 3
   },
   "file_extension": ".py",
   "mimetype": "text/x-python",
   "name": "python",
   "nbconvert_exporter": "python",
   "pygments_lexer": "ipython3",
   "version": "3.13.3"
  }
 },
 "nbformat": 4,
 "nbformat_minor": 5
}

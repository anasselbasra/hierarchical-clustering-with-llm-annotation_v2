{
 "cells": [
  {
   "cell_type": "markdown",
   "id": "20080e57",
   "metadata": {},
   "source": [
    "# Why we cannot rely on text deduplication alone"
   ]
  },
  {
   "cell_type": "markdown",
   "id": "032fc304",
   "metadata": {},
   "source": [
    "While working on a custom **topic modeling repository**, I designed a complete pipeline — from text preprocessing to clustering, including a custom meta-clustering method and final **automatic annotation using LLMs**. This pipeline is meant to be robust, modular, and efficient — a unique piece of work I hope to release soon, inshallah. I’ll share the full technical details at the right time.\n",
    "\n",
    "In the preprocessing stage, I made sure to remove all **duplicated texts**. However, when running `cuml.UMAP` (from RAPIDS.ai, which speeds up dimensionality reduction with GPU support), I encountered the following error:\n",
    "\n",
    "> `RuntimeError: At least one row does not have any neighbor with non-zero distance.`\n",
    "\n",
    "This means that some rows (i.e., embeddings) are **identical**, resulting in **zero-distance neighbors**, which breaks UMAP's internal graph construction.\n",
    "\n",
    "But how is that possible if no duplicate texts are present?\n",
    "\n",
    "After investigating the embeddings… the **surprise** was clear: some **different texts were mapped to exactly the same vector**.\n",
    "\n",
    "This raised a critical question:  \n",
    "**Are popular embedding models robust enough to handle fine-grained textual differences — especially when used in downstream tasks like UMAP, clustering, or sentiment analysis?**\n",
    "\n",
    "That’s what this analysis aims to explore, by testing:\n",
    "- `all-MiniLM-L6-v2`\n",
    "- `jina-embeddings-v2-base-en`\n",
    "- `text-embedding-3-large` (OpenAI)\n",
    "\n",
    "We’ll dive into how these models react to surface-level variations and contextual shifts, and how these behaviors can directly affect tasks such as **semantic clustering** and **sentiment analysis**.\n"
   ]
  },
  {
   "cell_type": "markdown",
   "id": "cf11fd4f",
   "metadata": {},
   "source": [
    "# Embedding Robustness: Why Basic Text Deduplication Isn't Enough\n",
    "\n",
    "When working with NLP, the **first critical step** is transforming raw text into numerical representations — **word embeddings**. Unlike traditional methods like Bag-of-Words or TF-IDF, modern embedding models capture **semantic meaning** in dense vector form.\n",
    "\n",
    "However, not all embedding models behave equally in terms of **robustness to minor variations**. To evaluate this, we ran a small test comparing three widely used models:\n",
    "\n",
    "- `all-MiniLM-L6-v2` (Sentence Transformers)\n",
    "- `jina-embeddings-v2-base-en` (Jina AI)\n",
    "- `text-embedding-3-large` (OpenAI's latest commercial model)\n",
    "\n",
    "We tested each model on a set of **15 English sentences** featuring **light surface variations**, such as:\n",
    "\n",
    "- Punctuation differences (e.g., `\".\"` vs `\"!\"`)\n",
    "- Case changes (e.g., `\"hello\"` vs `\"HELLO\"`)\n",
    "- Repetitions of nearly identical or identical texts\n",
    "\n",
    "## ➤ Text Sample Used:\n",
    "\n",
    "```text\n",
    "1. \"The weather is nice today.\"\n",
    "2. \"The weather is nice today!\"\n",
    "3. \"The weather is nice today.\"\n",
    "4. \"The Weather is nice today.\"\n",
    "5. \"It is hot in Paris this summer.\"\n",
    "6. \"It is hot in Paris this summer\"\n",
    "7. \"It is HOT in Paris this summer.\"\n",
    "8. \"Hello world.\"\n",
    "9. \"Hello world!\"\n",
    "10. \"HELLO world.\"\n",
    "11. \"Machine learning is fascinating.\"\n",
    "12. \"Machine learning is fascinating!\"\n",
    "13. \"Artificial intelligence is fascinating.\"\n",
    "14. \"Football is a popular sport.\"\n",
    "15. \"Switching to English is sometimes useful.\"\n"
   ]
  },
  {
   "cell_type": "code",
   "execution_count": null,
   "id": "d45e2a40",
   "metadata": {},
   "outputs": [],
   "source": [
    "import os\n",
    "import numpy as np\n",
    "from dotenv import load_dotenv\n",
    "from openai import OpenAI\n",
    "from sentence_transformers import SentenceTransformer\n",
    "import plotly.graph_objects as go\n",
    "from plotly.subplots import make_subplots\n",
    "from dotenv import load_dotenv\n",
    "import torch\n",
    "\n",
    "# ------------------ Setup ------------------\n",
    "load_dotenv()\n",
    "api_key = os.getenv(\"OPENAI_API_KEY\")\n",
    "client = OpenAI(api_key=api_key)\n",
    "device = \"cuda\" if torch.cuda.is_available() else \"cpu\"\n",
    "\n",
    "# ------------------ Helper functions ------------------\n",
    "\n",
    "def compute_similarity_and_hover(model: SentenceTransformer, texts: list):\n",
    "    \"\"\"\n",
    "    Encode, normalise et calcule matrice de similarité + hover text riche.\n",
    "    \"\"\"\n",
    "    embeddings = model.encode(texts, normalize_embeddings=True)\n",
    "    sim_matrix = np.clip(np.matmul(embeddings, embeddings.T), -1, 1)\n",
    "    hover = [\n",
    "        [\n",
    "            f\"<b>Index X:</b> {j}<br><b>Text X:</b> {texts[j]}<br>\"\n",
    "            f\"<b>Index Y:</b> {i}<br><b>Text Y:</b> {texts[i]}<br>\"\n",
    "            f\"<b>Cosine Similarity:</b> {sim_matrix[i, j]:.3f}\"\n",
    "            for j in range(len(texts))\n",
    "        ]\n",
    "        for i in range(len(texts))\n",
    "    ]\n",
    "    return sim_matrix, hover\n",
    "\n",
    "def get_openai_embeddings(texts: list):\n",
    "    \"\"\"\n",
    "    Récupère et normalise les embeddings OpenAI.\n",
    "    \"\"\"\n",
    "    response = client.embeddings.create(model=\"text-embedding-3-large\", input=texts)\n",
    "    vecs = np.vstack([np.array(d.embedding) for d in response.data])\n",
    "    return vecs  \n",
    "\n"
   ]
  },
  {
   "cell_type": "code",
   "execution_count": 11,
   "id": "1ee81c16",
   "metadata": {},
   "outputs": [],
   "source": [
    "# ------------------------------------------------------------------\n",
    "# Textes à comparer\n",
    "# ------------------------------------------------------------------\n",
    "texts = [\n",
    "    \"The weather is nice today.\",\n",
    "    \"The weather is nice today!\",\n",
    "    \"The weather is nice today.\",\n",
    "    \"The Weather is nice today.\",\n",
    "    \"It is hot in Paris this summer.\",\n",
    "    \"It is hot in Paris this summer\",\n",
    "    \"It is HOT in Paris this summer.\",\n",
    "    \"Hello world.\",\n",
    "    \"Hello world!\",\n",
    "    \"HELLO world.\",\n",
    "    \"Machine learning is fascinating.\",\n",
    "    \"Machine learning is fascinating!\",\n",
    "    \"Artificial intelligence is fascinating.\",\n",
    "    \"Football is a popular sport.\",\n",
    "    \"Switching to English is sometimes useful.\"\n",
    "]\n",
    "\n",
    "model_mini = SentenceTransformer(\"all-MiniLM-L6-v2\", device=device)\n",
    "model_jina = SentenceTransformer(\"jinaai/jina-embeddings-v2-base-en\", trust_remote_code=True, device=device)\n",
    "\n",
    "\n",
    "sim_mini, hover_mini = compute_similarity_and_hover(model_mini, texts)\n",
    "sim_jina, hover_jina = compute_similarity_and_hover(model_jina, texts)\n"
   ]
  },
  {
   "cell_type": "code",
   "execution_count": null,
   "id": "959892db",
   "metadata": {},
   "outputs": [
    {
     "data": {
      "application/vnd.plotly.v1+json": {
       "config": {
        "plotlyServerURL": "https://plot.ly"
       },
       "data": [
        {
         "colorbar": {
          "title": {
           "text": "Cosine<br>Similarity"
          }
         },
         "colorscale": [
          [
           0,
           "#440154"
          ],
          [
           0.1111111111111111,
           "#482878"
          ],
          [
           0.2222222222222222,
           "#3e4989"
          ],
          [
           0.3333333333333333,
           "#31688e"
          ],
          [
           0.4444444444444444,
           "#26828e"
          ],
          [
           0.5555555555555556,
           "#1f9e89"
          ],
          [
           0.6666666666666666,
           "#35b779"
          ],
          [
           0.7777777777777778,
           "#6ece58"
          ],
          [
           0.8888888888888888,
           "#b5de2b"
          ],
          [
           1,
           "#fde725"
          ]
         ],
         "hoverinfo": "text",
         "text": [
          [
           "<b>Index X:</b> 0<br><b>Text X:</b> The weather is nice today.<br><b>Index Y:</b> 0<br><b>Text Y:</b> The weather is nice today.<br><b>Cosine Similarity:</b> 1.000",
           "<b>Index X:</b> 1<br><b>Text X:</b> The weather is nice today!<br><b>Index Y:</b> 0<br><b>Text Y:</b> The weather is nice today.<br><b>Cosine Similarity:</b> 0.951",
           "<b>Index X:</b> 2<br><b>Text X:</b> The weather is nice today.<br><b>Index Y:</b> 0<br><b>Text Y:</b> The weather is nice today.<br><b>Cosine Similarity:</b> 1.000",
           "<b>Index X:</b> 3<br><b>Text X:</b> The Weather is nice today.<br><b>Index Y:</b> 0<br><b>Text Y:</b> The weather is nice today.<br><b>Cosine Similarity:</b> 1.000",
           "<b>Index X:</b> 4<br><b>Text X:</b> It is hot in Paris this summer.<br><b>Index Y:</b> 0<br><b>Text Y:</b> The weather is nice today.<br><b>Cosine Similarity:</b> 0.340",
           "<b>Index X:</b> 5<br><b>Text X:</b> It is hot in Paris this summer<br><b>Index Y:</b> 0<br><b>Text Y:</b> The weather is nice today.<br><b>Cosine Similarity:</b> 0.337",
           "<b>Index X:</b> 6<br><b>Text X:</b> It is HOT in Paris this summer.<br><b>Index Y:</b> 0<br><b>Text Y:</b> The weather is nice today.<br><b>Cosine Similarity:</b> 0.340",
           "<b>Index X:</b> 7<br><b>Text X:</b> Hello world.<br><b>Index Y:</b> 0<br><b>Text Y:</b> The weather is nice today.<br><b>Cosine Similarity:</b> 0.265",
           "<b>Index X:</b> 8<br><b>Text X:</b> Hello world!<br><b>Index Y:</b> 0<br><b>Text Y:</b> The weather is nice today.<br><b>Cosine Similarity:</b> 0.278",
           "<b>Index X:</b> 9<br><b>Text X:</b> HELLO world.<br><b>Index Y:</b> 0<br><b>Text Y:</b> The weather is nice today.<br><b>Cosine Similarity:</b> 0.265",
           "<b>Index X:</b> 10<br><b>Text X:</b> Machine learning is fascinating.<br><b>Index Y:</b> 0<br><b>Text Y:</b> The weather is nice today.<br><b>Cosine Similarity:</b> 0.017",
           "<b>Index X:</b> 11<br><b>Text X:</b> Machine learning is fascinating!<br><b>Index Y:</b> 0<br><b>Text Y:</b> The weather is nice today.<br><b>Cosine Similarity:</b> 0.043",
           "<b>Index X:</b> 12<br><b>Text X:</b> Artificial intelligence is fascinating.<br><b>Index Y:</b> 0<br><b>Text Y:</b> The weather is nice today.<br><b>Cosine Similarity:</b> -0.018",
           "<b>Index X:</b> 13<br><b>Text X:</b> Football is a popular sport.<br><b>Index Y:</b> 0<br><b>Text Y:</b> The weather is nice today.<br><b>Cosine Similarity:</b> 0.073",
           "<b>Index X:</b> 14<br><b>Text X:</b> Switching to English is sometimes useful.<br><b>Index Y:</b> 0<br><b>Text Y:</b> The weather is nice today.<br><b>Cosine Similarity:</b> 0.030"
          ],
          [
           "<b>Index X:</b> 0<br><b>Text X:</b> The weather is nice today.<br><b>Index Y:</b> 1<br><b>Text Y:</b> The weather is nice today!<br><b>Cosine Similarity:</b> 0.951",
           "<b>Index X:</b> 1<br><b>Text X:</b> The weather is nice today!<br><b>Index Y:</b> 1<br><b>Text Y:</b> The weather is nice today!<br><b>Cosine Similarity:</b> 1.000",
           "<b>Index X:</b> 2<br><b>Text X:</b> The weather is nice today.<br><b>Index Y:</b> 1<br><b>Text Y:</b> The weather is nice today!<br><b>Cosine Similarity:</b> 0.951",
           "<b>Index X:</b> 3<br><b>Text X:</b> The Weather is nice today.<br><b>Index Y:</b> 1<br><b>Text Y:</b> The weather is nice today!<br><b>Cosine Similarity:</b> 0.951",
           "<b>Index X:</b> 4<br><b>Text X:</b> It is hot in Paris this summer.<br><b>Index Y:</b> 1<br><b>Text Y:</b> The weather is nice today!<br><b>Cosine Similarity:</b> 0.320",
           "<b>Index X:</b> 5<br><b>Text X:</b> It is hot in Paris this summer<br><b>Index Y:</b> 1<br><b>Text Y:</b> The weather is nice today!<br><b>Cosine Similarity:</b> 0.324",
           "<b>Index X:</b> 6<br><b>Text X:</b> It is HOT in Paris this summer.<br><b>Index Y:</b> 1<br><b>Text Y:</b> The weather is nice today!<br><b>Cosine Similarity:</b> 0.320",
           "<b>Index X:</b> 7<br><b>Text X:</b> Hello world.<br><b>Index Y:</b> 1<br><b>Text Y:</b> The weather is nice today!<br><b>Cosine Similarity:</b> 0.278",
           "<b>Index X:</b> 8<br><b>Text X:</b> Hello world!<br><b>Index Y:</b> 1<br><b>Text Y:</b> The weather is nice today!<br><b>Cosine Similarity:</b> 0.364",
           "<b>Index X:</b> 9<br><b>Text X:</b> HELLO world.<br><b>Index Y:</b> 1<br><b>Text Y:</b> The weather is nice today!<br><b>Cosine Similarity:</b> 0.278",
           "<b>Index X:</b> 10<br><b>Text X:</b> Machine learning is fascinating.<br><b>Index Y:</b> 1<br><b>Text Y:</b> The weather is nice today!<br><b>Cosine Similarity:</b> 0.019",
           "<b>Index X:</b> 11<br><b>Text X:</b> Machine learning is fascinating!<br><b>Index Y:</b> 1<br><b>Text Y:</b> The weather is nice today!<br><b>Cosine Similarity:</b> 0.089",
           "<b>Index X:</b> 12<br><b>Text X:</b> Artificial intelligence is fascinating.<br><b>Index Y:</b> 1<br><b>Text Y:</b> The weather is nice today!<br><b>Cosine Similarity:</b> -0.007",
           "<b>Index X:</b> 13<br><b>Text X:</b> Football is a popular sport.<br><b>Index Y:</b> 1<br><b>Text Y:</b> The weather is nice today!<br><b>Cosine Similarity:</b> 0.047",
           "<b>Index X:</b> 14<br><b>Text X:</b> Switching to English is sometimes useful.<br><b>Index Y:</b> 1<br><b>Text Y:</b> The weather is nice today!<br><b>Cosine Similarity:</b> 0.024"
          ],
          [
           "<b>Index X:</b> 0<br><b>Text X:</b> The weather is nice today.<br><b>Index Y:</b> 2<br><b>Text Y:</b> The weather is nice today.<br><b>Cosine Similarity:</b> 1.000",
           "<b>Index X:</b> 1<br><b>Text X:</b> The weather is nice today!<br><b>Index Y:</b> 2<br><b>Text Y:</b> The weather is nice today.<br><b>Cosine Similarity:</b> 0.951",
           "<b>Index X:</b> 2<br><b>Text X:</b> The weather is nice today.<br><b>Index Y:</b> 2<br><b>Text Y:</b> The weather is nice today.<br><b>Cosine Similarity:</b> 1.000",
           "<b>Index X:</b> 3<br><b>Text X:</b> The Weather is nice today.<br><b>Index Y:</b> 2<br><b>Text Y:</b> The weather is nice today.<br><b>Cosine Similarity:</b> 1.000",
           "<b>Index X:</b> 4<br><b>Text X:</b> It is hot in Paris this summer.<br><b>Index Y:</b> 2<br><b>Text Y:</b> The weather is nice today.<br><b>Cosine Similarity:</b> 0.340",
           "<b>Index X:</b> 5<br><b>Text X:</b> It is hot in Paris this summer<br><b>Index Y:</b> 2<br><b>Text Y:</b> The weather is nice today.<br><b>Cosine Similarity:</b> 0.337",
           "<b>Index X:</b> 6<br><b>Text X:</b> It is HOT in Paris this summer.<br><b>Index Y:</b> 2<br><b>Text Y:</b> The weather is nice today.<br><b>Cosine Similarity:</b> 0.340",
           "<b>Index X:</b> 7<br><b>Text X:</b> Hello world.<br><b>Index Y:</b> 2<br><b>Text Y:</b> The weather is nice today.<br><b>Cosine Similarity:</b> 0.265",
           "<b>Index X:</b> 8<br><b>Text X:</b> Hello world!<br><b>Index Y:</b> 2<br><b>Text Y:</b> The weather is nice today.<br><b>Cosine Similarity:</b> 0.278",
           "<b>Index X:</b> 9<br><b>Text X:</b> HELLO world.<br><b>Index Y:</b> 2<br><b>Text Y:</b> The weather is nice today.<br><b>Cosine Similarity:</b> 0.265",
           "<b>Index X:</b> 10<br><b>Text X:</b> Machine learning is fascinating.<br><b>Index Y:</b> 2<br><b>Text Y:</b> The weather is nice today.<br><b>Cosine Similarity:</b> 0.017",
           "<b>Index X:</b> 11<br><b>Text X:</b> Machine learning is fascinating!<br><b>Index Y:</b> 2<br><b>Text Y:</b> The weather is nice today.<br><b>Cosine Similarity:</b> 0.043",
           "<b>Index X:</b> 12<br><b>Text X:</b> Artificial intelligence is fascinating.<br><b>Index Y:</b> 2<br><b>Text Y:</b> The weather is nice today.<br><b>Cosine Similarity:</b> -0.018",
           "<b>Index X:</b> 13<br><b>Text X:</b> Football is a popular sport.<br><b>Index Y:</b> 2<br><b>Text Y:</b> The weather is nice today.<br><b>Cosine Similarity:</b> 0.073",
           "<b>Index X:</b> 14<br><b>Text X:</b> Switching to English is sometimes useful.<br><b>Index Y:</b> 2<br><b>Text Y:</b> The weather is nice today.<br><b>Cosine Similarity:</b> 0.030"
          ],
          [
           "<b>Index X:</b> 0<br><b>Text X:</b> The weather is nice today.<br><b>Index Y:</b> 3<br><b>Text Y:</b> The Weather is nice today.<br><b>Cosine Similarity:</b> 1.000",
           "<b>Index X:</b> 1<br><b>Text X:</b> The weather is nice today!<br><b>Index Y:</b> 3<br><b>Text Y:</b> The Weather is nice today.<br><b>Cosine Similarity:</b> 0.951",
           "<b>Index X:</b> 2<br><b>Text X:</b> The weather is nice today.<br><b>Index Y:</b> 3<br><b>Text Y:</b> The Weather is nice today.<br><b>Cosine Similarity:</b> 1.000",
           "<b>Index X:</b> 3<br><b>Text X:</b> The Weather is nice today.<br><b>Index Y:</b> 3<br><b>Text Y:</b> The Weather is nice today.<br><b>Cosine Similarity:</b> 1.000",
           "<b>Index X:</b> 4<br><b>Text X:</b> It is hot in Paris this summer.<br><b>Index Y:</b> 3<br><b>Text Y:</b> The Weather is nice today.<br><b>Cosine Similarity:</b> 0.340",
           "<b>Index X:</b> 5<br><b>Text X:</b> It is hot in Paris this summer<br><b>Index Y:</b> 3<br><b>Text Y:</b> The Weather is nice today.<br><b>Cosine Similarity:</b> 0.337",
           "<b>Index X:</b> 6<br><b>Text X:</b> It is HOT in Paris this summer.<br><b>Index Y:</b> 3<br><b>Text Y:</b> The Weather is nice today.<br><b>Cosine Similarity:</b> 0.340",
           "<b>Index X:</b> 7<br><b>Text X:</b> Hello world.<br><b>Index Y:</b> 3<br><b>Text Y:</b> The Weather is nice today.<br><b>Cosine Similarity:</b> 0.265",
           "<b>Index X:</b> 8<br><b>Text X:</b> Hello world!<br><b>Index Y:</b> 3<br><b>Text Y:</b> The Weather is nice today.<br><b>Cosine Similarity:</b> 0.278",
           "<b>Index X:</b> 9<br><b>Text X:</b> HELLO world.<br><b>Index Y:</b> 3<br><b>Text Y:</b> The Weather is nice today.<br><b>Cosine Similarity:</b> 0.265",
           "<b>Index X:</b> 10<br><b>Text X:</b> Machine learning is fascinating.<br><b>Index Y:</b> 3<br><b>Text Y:</b> The Weather is nice today.<br><b>Cosine Similarity:</b> 0.017",
           "<b>Index X:</b> 11<br><b>Text X:</b> Machine learning is fascinating!<br><b>Index Y:</b> 3<br><b>Text Y:</b> The Weather is nice today.<br><b>Cosine Similarity:</b> 0.043",
           "<b>Index X:</b> 12<br><b>Text X:</b> Artificial intelligence is fascinating.<br><b>Index Y:</b> 3<br><b>Text Y:</b> The Weather is nice today.<br><b>Cosine Similarity:</b> -0.018",
           "<b>Index X:</b> 13<br><b>Text X:</b> Football is a popular sport.<br><b>Index Y:</b> 3<br><b>Text Y:</b> The Weather is nice today.<br><b>Cosine Similarity:</b> 0.073",
           "<b>Index X:</b> 14<br><b>Text X:</b> Switching to English is sometimes useful.<br><b>Index Y:</b> 3<br><b>Text Y:</b> The Weather is nice today.<br><b>Cosine Similarity:</b> 0.030"
          ],
          [
           "<b>Index X:</b> 0<br><b>Text X:</b> The weather is nice today.<br><b>Index Y:</b> 4<br><b>Text Y:</b> It is hot in Paris this summer.<br><b>Cosine Similarity:</b> 0.340",
           "<b>Index X:</b> 1<br><b>Text X:</b> The weather is nice today!<br><b>Index Y:</b> 4<br><b>Text Y:</b> It is hot in Paris this summer.<br><b>Cosine Similarity:</b> 0.320",
           "<b>Index X:</b> 2<br><b>Text X:</b> The weather is nice today.<br><b>Index Y:</b> 4<br><b>Text Y:</b> It is hot in Paris this summer.<br><b>Cosine Similarity:</b> 0.340",
           "<b>Index X:</b> 3<br><b>Text X:</b> The Weather is nice today.<br><b>Index Y:</b> 4<br><b>Text Y:</b> It is hot in Paris this summer.<br><b>Cosine Similarity:</b> 0.340",
           "<b>Index X:</b> 4<br><b>Text X:</b> It is hot in Paris this summer.<br><b>Index Y:</b> 4<br><b>Text Y:</b> It is hot in Paris this summer.<br><b>Cosine Similarity:</b> 1.000",
           "<b>Index X:</b> 5<br><b>Text X:</b> It is hot in Paris this summer<br><b>Index Y:</b> 4<br><b>Text Y:</b> It is hot in Paris this summer.<br><b>Cosine Similarity:</b> 0.995",
           "<b>Index X:</b> 6<br><b>Text X:</b> It is HOT in Paris this summer.<br><b>Index Y:</b> 4<br><b>Text Y:</b> It is hot in Paris this summer.<br><b>Cosine Similarity:</b> 1.000",
           "<b>Index X:</b> 7<br><b>Text X:</b> Hello world.<br><b>Index Y:</b> 4<br><b>Text Y:</b> It is hot in Paris this summer.<br><b>Cosine Similarity:</b> 0.084",
           "<b>Index X:</b> 8<br><b>Text X:</b> Hello world!<br><b>Index Y:</b> 4<br><b>Text Y:</b> It is hot in Paris this summer.<br><b>Cosine Similarity:</b> 0.103",
           "<b>Index X:</b> 9<br><b>Text X:</b> HELLO world.<br><b>Index Y:</b> 4<br><b>Text Y:</b> It is hot in Paris this summer.<br><b>Cosine Similarity:</b> 0.084",
           "<b>Index X:</b> 10<br><b>Text X:</b> Machine learning is fascinating.<br><b>Index Y:</b> 4<br><b>Text Y:</b> It is hot in Paris this summer.<br><b>Cosine Similarity:</b> 0.056",
           "<b>Index X:</b> 11<br><b>Text X:</b> Machine learning is fascinating!<br><b>Index Y:</b> 4<br><b>Text Y:</b> It is hot in Paris this summer.<br><b>Cosine Similarity:</b> 0.075",
           "<b>Index X:</b> 12<br><b>Text X:</b> Artificial intelligence is fascinating.<br><b>Index Y:</b> 4<br><b>Text Y:</b> It is hot in Paris this summer.<br><b>Cosine Similarity:</b> -0.015",
           "<b>Index X:</b> 13<br><b>Text X:</b> Football is a popular sport.<br><b>Index Y:</b> 4<br><b>Text Y:</b> It is hot in Paris this summer.<br><b>Cosine Similarity:</b> 0.084",
           "<b>Index X:</b> 14<br><b>Text X:</b> Switching to English is sometimes useful.<br><b>Index Y:</b> 4<br><b>Text Y:</b> It is hot in Paris this summer.<br><b>Cosine Similarity:</b> 0.041"
          ],
          [
           "<b>Index X:</b> 0<br><b>Text X:</b> The weather is nice today.<br><b>Index Y:</b> 5<br><b>Text Y:</b> It is hot in Paris this summer<br><b>Cosine Similarity:</b> 0.337",
           "<b>Index X:</b> 1<br><b>Text X:</b> The weather is nice today!<br><b>Index Y:</b> 5<br><b>Text Y:</b> It is hot in Paris this summer<br><b>Cosine Similarity:</b> 0.324",
           "<b>Index X:</b> 2<br><b>Text X:</b> The weather is nice today.<br><b>Index Y:</b> 5<br><b>Text Y:</b> It is hot in Paris this summer<br><b>Cosine Similarity:</b> 0.337",
           "<b>Index X:</b> 3<br><b>Text X:</b> The Weather is nice today.<br><b>Index Y:</b> 5<br><b>Text Y:</b> It is hot in Paris this summer<br><b>Cosine Similarity:</b> 0.337",
           "<b>Index X:</b> 4<br><b>Text X:</b> It is hot in Paris this summer.<br><b>Index Y:</b> 5<br><b>Text Y:</b> It is hot in Paris this summer<br><b>Cosine Similarity:</b> 0.995",
           "<b>Index X:</b> 5<br><b>Text X:</b> It is hot in Paris this summer<br><b>Index Y:</b> 5<br><b>Text Y:</b> It is hot in Paris this summer<br><b>Cosine Similarity:</b> 1.000",
           "<b>Index X:</b> 6<br><b>Text X:</b> It is HOT in Paris this summer.<br><b>Index Y:</b> 5<br><b>Text Y:</b> It is hot in Paris this summer<br><b>Cosine Similarity:</b> 0.995",
           "<b>Index X:</b> 7<br><b>Text X:</b> Hello world.<br><b>Index Y:</b> 5<br><b>Text Y:</b> It is hot in Paris this summer<br><b>Cosine Similarity:</b> 0.075",
           "<b>Index X:</b> 8<br><b>Text X:</b> Hello world!<br><b>Index Y:</b> 5<br><b>Text Y:</b> It is hot in Paris this summer<br><b>Cosine Similarity:</b> 0.101",
           "<b>Index X:</b> 9<br><b>Text X:</b> HELLO world.<br><b>Index Y:</b> 5<br><b>Text Y:</b> It is hot in Paris this summer<br><b>Cosine Similarity:</b> 0.075",
           "<b>Index X:</b> 10<br><b>Text X:</b> Machine learning is fascinating.<br><b>Index Y:</b> 5<br><b>Text Y:</b> It is hot in Paris this summer<br><b>Cosine Similarity:</b> 0.041",
           "<b>Index X:</b> 11<br><b>Text X:</b> Machine learning is fascinating!<br><b>Index Y:</b> 5<br><b>Text Y:</b> It is hot in Paris this summer<br><b>Cosine Similarity:</b> 0.066",
           "<b>Index X:</b> 12<br><b>Text X:</b> Artificial intelligence is fascinating.<br><b>Index Y:</b> 5<br><b>Text Y:</b> It is hot in Paris this summer<br><b>Cosine Similarity:</b> -0.030",
           "<b>Index X:</b> 13<br><b>Text X:</b> Football is a popular sport.<br><b>Index Y:</b> 5<br><b>Text Y:</b> It is hot in Paris this summer<br><b>Cosine Similarity:</b> 0.087",
           "<b>Index X:</b> 14<br><b>Text X:</b> Switching to English is sometimes useful.<br><b>Index Y:</b> 5<br><b>Text Y:</b> It is hot in Paris this summer<br><b>Cosine Similarity:</b> 0.040"
          ],
          [
           "<b>Index X:</b> 0<br><b>Text X:</b> The weather is nice today.<br><b>Index Y:</b> 6<br><b>Text Y:</b> It is HOT in Paris this summer.<br><b>Cosine Similarity:</b> 0.340",
           "<b>Index X:</b> 1<br><b>Text X:</b> The weather is nice today!<br><b>Index Y:</b> 6<br><b>Text Y:</b> It is HOT in Paris this summer.<br><b>Cosine Similarity:</b> 0.320",
           "<b>Index X:</b> 2<br><b>Text X:</b> The weather is nice today.<br><b>Index Y:</b> 6<br><b>Text Y:</b> It is HOT in Paris this summer.<br><b>Cosine Similarity:</b> 0.340",
           "<b>Index X:</b> 3<br><b>Text X:</b> The Weather is nice today.<br><b>Index Y:</b> 6<br><b>Text Y:</b> It is HOT in Paris this summer.<br><b>Cosine Similarity:</b> 0.340",
           "<b>Index X:</b> 4<br><b>Text X:</b> It is hot in Paris this summer.<br><b>Index Y:</b> 6<br><b>Text Y:</b> It is HOT in Paris this summer.<br><b>Cosine Similarity:</b> 1.000",
           "<b>Index X:</b> 5<br><b>Text X:</b> It is hot in Paris this summer<br><b>Index Y:</b> 6<br><b>Text Y:</b> It is HOT in Paris this summer.<br><b>Cosine Similarity:</b> 0.995",
           "<b>Index X:</b> 6<br><b>Text X:</b> It is HOT in Paris this summer.<br><b>Index Y:</b> 6<br><b>Text Y:</b> It is HOT in Paris this summer.<br><b>Cosine Similarity:</b> 1.000",
           "<b>Index X:</b> 7<br><b>Text X:</b> Hello world.<br><b>Index Y:</b> 6<br><b>Text Y:</b> It is HOT in Paris this summer.<br><b>Cosine Similarity:</b> 0.084",
           "<b>Index X:</b> 8<br><b>Text X:</b> Hello world!<br><b>Index Y:</b> 6<br><b>Text Y:</b> It is HOT in Paris this summer.<br><b>Cosine Similarity:</b> 0.103",
           "<b>Index X:</b> 9<br><b>Text X:</b> HELLO world.<br><b>Index Y:</b> 6<br><b>Text Y:</b> It is HOT in Paris this summer.<br><b>Cosine Similarity:</b> 0.084",
           "<b>Index X:</b> 10<br><b>Text X:</b> Machine learning is fascinating.<br><b>Index Y:</b> 6<br><b>Text Y:</b> It is HOT in Paris this summer.<br><b>Cosine Similarity:</b> 0.056",
           "<b>Index X:</b> 11<br><b>Text X:</b> Machine learning is fascinating!<br><b>Index Y:</b> 6<br><b>Text Y:</b> It is HOT in Paris this summer.<br><b>Cosine Similarity:</b> 0.075",
           "<b>Index X:</b> 12<br><b>Text X:</b> Artificial intelligence is fascinating.<br><b>Index Y:</b> 6<br><b>Text Y:</b> It is HOT in Paris this summer.<br><b>Cosine Similarity:</b> -0.015",
           "<b>Index X:</b> 13<br><b>Text X:</b> Football is a popular sport.<br><b>Index Y:</b> 6<br><b>Text Y:</b> It is HOT in Paris this summer.<br><b>Cosine Similarity:</b> 0.084",
           "<b>Index X:</b> 14<br><b>Text X:</b> Switching to English is sometimes useful.<br><b>Index Y:</b> 6<br><b>Text Y:</b> It is HOT in Paris this summer.<br><b>Cosine Similarity:</b> 0.041"
          ],
          [
           "<b>Index X:</b> 0<br><b>Text X:</b> The weather is nice today.<br><b>Index Y:</b> 7<br><b>Text Y:</b> Hello world.<br><b>Cosine Similarity:</b> 0.265",
           "<b>Index X:</b> 1<br><b>Text X:</b> The weather is nice today!<br><b>Index Y:</b> 7<br><b>Text Y:</b> Hello world.<br><b>Cosine Similarity:</b> 0.278",
           "<b>Index X:</b> 2<br><b>Text X:</b> The weather is nice today.<br><b>Index Y:</b> 7<br><b>Text Y:</b> Hello world.<br><b>Cosine Similarity:</b> 0.265",
           "<b>Index X:</b> 3<br><b>Text X:</b> The Weather is nice today.<br><b>Index Y:</b> 7<br><b>Text Y:</b> Hello world.<br><b>Cosine Similarity:</b> 0.265",
           "<b>Index X:</b> 4<br><b>Text X:</b> It is hot in Paris this summer.<br><b>Index Y:</b> 7<br><b>Text Y:</b> Hello world.<br><b>Cosine Similarity:</b> 0.084",
           "<b>Index X:</b> 5<br><b>Text X:</b> It is hot in Paris this summer<br><b>Index Y:</b> 7<br><b>Text Y:</b> Hello world.<br><b>Cosine Similarity:</b> 0.075",
           "<b>Index X:</b> 6<br><b>Text X:</b> It is HOT in Paris this summer.<br><b>Index Y:</b> 7<br><b>Text Y:</b> Hello world.<br><b>Cosine Similarity:</b> 0.084",
           "<b>Index X:</b> 7<br><b>Text X:</b> Hello world.<br><b>Index Y:</b> 7<br><b>Text Y:</b> Hello world.<br><b>Cosine Similarity:</b> 1.000",
           "<b>Index X:</b> 8<br><b>Text X:</b> Hello world!<br><b>Index Y:</b> 7<br><b>Text Y:</b> Hello world.<br><b>Cosine Similarity:</b> 0.927",
           "<b>Index X:</b> 9<br><b>Text X:</b> HELLO world.<br><b>Index Y:</b> 7<br><b>Text Y:</b> Hello world.<br><b>Cosine Similarity:</b> 1.000",
           "<b>Index X:</b> 10<br><b>Text X:</b> Machine learning is fascinating.<br><b>Index Y:</b> 7<br><b>Text Y:</b> Hello world.<br><b>Cosine Similarity:</b> 0.149",
           "<b>Index X:</b> 11<br><b>Text X:</b> Machine learning is fascinating!<br><b>Index Y:</b> 7<br><b>Text Y:</b> Hello world.<br><b>Cosine Similarity:</b> 0.139",
           "<b>Index X:</b> 12<br><b>Text X:</b> Artificial intelligence is fascinating.<br><b>Index Y:</b> 7<br><b>Text Y:</b> Hello world.<br><b>Cosine Similarity:</b> 0.152",
           "<b>Index X:</b> 13<br><b>Text X:</b> Football is a popular sport.<br><b>Index Y:</b> 7<br><b>Text Y:</b> Hello world.<br><b>Cosine Similarity:</b> 0.080",
           "<b>Index X:</b> 14<br><b>Text X:</b> Switching to English is sometimes useful.<br><b>Index Y:</b> 7<br><b>Text Y:</b> Hello world.<br><b>Cosine Similarity:</b> 0.082"
          ],
          [
           "<b>Index X:</b> 0<br><b>Text X:</b> The weather is nice today.<br><b>Index Y:</b> 8<br><b>Text Y:</b> Hello world!<br><b>Cosine Similarity:</b> 0.278",
           "<b>Index X:</b> 1<br><b>Text X:</b> The weather is nice today!<br><b>Index Y:</b> 8<br><b>Text Y:</b> Hello world!<br><b>Cosine Similarity:</b> 0.364",
           "<b>Index X:</b> 2<br><b>Text X:</b> The weather is nice today.<br><b>Index Y:</b> 8<br><b>Text Y:</b> Hello world!<br><b>Cosine Similarity:</b> 0.278",
           "<b>Index X:</b> 3<br><b>Text X:</b> The Weather is nice today.<br><b>Index Y:</b> 8<br><b>Text Y:</b> Hello world!<br><b>Cosine Similarity:</b> 0.278",
           "<b>Index X:</b> 4<br><b>Text X:</b> It is hot in Paris this summer.<br><b>Index Y:</b> 8<br><b>Text Y:</b> Hello world!<br><b>Cosine Similarity:</b> 0.103",
           "<b>Index X:</b> 5<br><b>Text X:</b> It is hot in Paris this summer<br><b>Index Y:</b> 8<br><b>Text Y:</b> Hello world!<br><b>Cosine Similarity:</b> 0.101",
           "<b>Index X:</b> 6<br><b>Text X:</b> It is HOT in Paris this summer.<br><b>Index Y:</b> 8<br><b>Text Y:</b> Hello world!<br><b>Cosine Similarity:</b> 0.103",
           "<b>Index X:</b> 7<br><b>Text X:</b> Hello world.<br><b>Index Y:</b> 8<br><b>Text Y:</b> Hello world!<br><b>Cosine Similarity:</b> 0.927",
           "<b>Index X:</b> 8<br><b>Text X:</b> Hello world!<br><b>Index Y:</b> 8<br><b>Text Y:</b> Hello world!<br><b>Cosine Similarity:</b> 1.000",
           "<b>Index X:</b> 9<br><b>Text X:</b> HELLO world.<br><b>Index Y:</b> 8<br><b>Text Y:</b> Hello world!<br><b>Cosine Similarity:</b> 0.927",
           "<b>Index X:</b> 10<br><b>Text X:</b> Machine learning is fascinating.<br><b>Index Y:</b> 8<br><b>Text Y:</b> Hello world!<br><b>Cosine Similarity:</b> 0.127",
           "<b>Index X:</b> 11<br><b>Text X:</b> Machine learning is fascinating!<br><b>Index Y:</b> 8<br><b>Text Y:</b> Hello world!<br><b>Cosine Similarity:</b> 0.174",
           "<b>Index X:</b> 12<br><b>Text X:</b> Artificial intelligence is fascinating.<br><b>Index Y:</b> 8<br><b>Text Y:</b> Hello world!<br><b>Cosine Similarity:</b> 0.134",
           "<b>Index X:</b> 13<br><b>Text X:</b> Football is a popular sport.<br><b>Index Y:</b> 8<br><b>Text Y:</b> Hello world!<br><b>Cosine Similarity:</b> 0.053",
           "<b>Index X:</b> 14<br><b>Text X:</b> Switching to English is sometimes useful.<br><b>Index Y:</b> 8<br><b>Text Y:</b> Hello world!<br><b>Cosine Similarity:</b> 0.044"
          ],
          [
           "<b>Index X:</b> 0<br><b>Text X:</b> The weather is nice today.<br><b>Index Y:</b> 9<br><b>Text Y:</b> HELLO world.<br><b>Cosine Similarity:</b> 0.265",
           "<b>Index X:</b> 1<br><b>Text X:</b> The weather is nice today!<br><b>Index Y:</b> 9<br><b>Text Y:</b> HELLO world.<br><b>Cosine Similarity:</b> 0.278",
           "<b>Index X:</b> 2<br><b>Text X:</b> The weather is nice today.<br><b>Index Y:</b> 9<br><b>Text Y:</b> HELLO world.<br><b>Cosine Similarity:</b> 0.265",
           "<b>Index X:</b> 3<br><b>Text X:</b> The Weather is nice today.<br><b>Index Y:</b> 9<br><b>Text Y:</b> HELLO world.<br><b>Cosine Similarity:</b> 0.265",
           "<b>Index X:</b> 4<br><b>Text X:</b> It is hot in Paris this summer.<br><b>Index Y:</b> 9<br><b>Text Y:</b> HELLO world.<br><b>Cosine Similarity:</b> 0.084",
           "<b>Index X:</b> 5<br><b>Text X:</b> It is hot in Paris this summer<br><b>Index Y:</b> 9<br><b>Text Y:</b> HELLO world.<br><b>Cosine Similarity:</b> 0.075",
           "<b>Index X:</b> 6<br><b>Text X:</b> It is HOT in Paris this summer.<br><b>Index Y:</b> 9<br><b>Text Y:</b> HELLO world.<br><b>Cosine Similarity:</b> 0.084",
           "<b>Index X:</b> 7<br><b>Text X:</b> Hello world.<br><b>Index Y:</b> 9<br><b>Text Y:</b> HELLO world.<br><b>Cosine Similarity:</b> 1.000",
           "<b>Index X:</b> 8<br><b>Text X:</b> Hello world!<br><b>Index Y:</b> 9<br><b>Text Y:</b> HELLO world.<br><b>Cosine Similarity:</b> 0.927",
           "<b>Index X:</b> 9<br><b>Text X:</b> HELLO world.<br><b>Index Y:</b> 9<br><b>Text Y:</b> HELLO world.<br><b>Cosine Similarity:</b> 1.000",
           "<b>Index X:</b> 10<br><b>Text X:</b> Machine learning is fascinating.<br><b>Index Y:</b> 9<br><b>Text Y:</b> HELLO world.<br><b>Cosine Similarity:</b> 0.149",
           "<b>Index X:</b> 11<br><b>Text X:</b> Machine learning is fascinating!<br><b>Index Y:</b> 9<br><b>Text Y:</b> HELLO world.<br><b>Cosine Similarity:</b> 0.139",
           "<b>Index X:</b> 12<br><b>Text X:</b> Artificial intelligence is fascinating.<br><b>Index Y:</b> 9<br><b>Text Y:</b> HELLO world.<br><b>Cosine Similarity:</b> 0.152",
           "<b>Index X:</b> 13<br><b>Text X:</b> Football is a popular sport.<br><b>Index Y:</b> 9<br><b>Text Y:</b> HELLO world.<br><b>Cosine Similarity:</b> 0.080",
           "<b>Index X:</b> 14<br><b>Text X:</b> Switching to English is sometimes useful.<br><b>Index Y:</b> 9<br><b>Text Y:</b> HELLO world.<br><b>Cosine Similarity:</b> 0.082"
          ],
          [
           "<b>Index X:</b> 0<br><b>Text X:</b> The weather is nice today.<br><b>Index Y:</b> 10<br><b>Text Y:</b> Machine learning is fascinating.<br><b>Cosine Similarity:</b> 0.017",
           "<b>Index X:</b> 1<br><b>Text X:</b> The weather is nice today!<br><b>Index Y:</b> 10<br><b>Text Y:</b> Machine learning is fascinating.<br><b>Cosine Similarity:</b> 0.019",
           "<b>Index X:</b> 2<br><b>Text X:</b> The weather is nice today.<br><b>Index Y:</b> 10<br><b>Text Y:</b> Machine learning is fascinating.<br><b>Cosine Similarity:</b> 0.017",
           "<b>Index X:</b> 3<br><b>Text X:</b> The Weather is nice today.<br><b>Index Y:</b> 10<br><b>Text Y:</b> Machine learning is fascinating.<br><b>Cosine Similarity:</b> 0.017",
           "<b>Index X:</b> 4<br><b>Text X:</b> It is hot in Paris this summer.<br><b>Index Y:</b> 10<br><b>Text Y:</b> Machine learning is fascinating.<br><b>Cosine Similarity:</b> 0.056",
           "<b>Index X:</b> 5<br><b>Text X:</b> It is hot in Paris this summer<br><b>Index Y:</b> 10<br><b>Text Y:</b> Machine learning is fascinating.<br><b>Cosine Similarity:</b> 0.041",
           "<b>Index X:</b> 6<br><b>Text X:</b> It is HOT in Paris this summer.<br><b>Index Y:</b> 10<br><b>Text Y:</b> Machine learning is fascinating.<br><b>Cosine Similarity:</b> 0.056",
           "<b>Index X:</b> 7<br><b>Text X:</b> Hello world.<br><b>Index Y:</b> 10<br><b>Text Y:</b> Machine learning is fascinating.<br><b>Cosine Similarity:</b> 0.149",
           "<b>Index X:</b> 8<br><b>Text X:</b> Hello world!<br><b>Index Y:</b> 10<br><b>Text Y:</b> Machine learning is fascinating.<br><b>Cosine Similarity:</b> 0.127",
           "<b>Index X:</b> 9<br><b>Text X:</b> HELLO world.<br><b>Index Y:</b> 10<br><b>Text Y:</b> Machine learning is fascinating.<br><b>Cosine Similarity:</b> 0.149",
           "<b>Index X:</b> 10<br><b>Text X:</b> Machine learning is fascinating.<br><b>Index Y:</b> 10<br><b>Text Y:</b> Machine learning is fascinating.<br><b>Cosine Similarity:</b> 1.000",
           "<b>Index X:</b> 11<br><b>Text X:</b> Machine learning is fascinating!<br><b>Index Y:</b> 10<br><b>Text Y:</b> Machine learning is fascinating.<br><b>Cosine Similarity:</b> 0.968",
           "<b>Index X:</b> 12<br><b>Text X:</b> Artificial intelligence is fascinating.<br><b>Index Y:</b> 10<br><b>Text Y:</b> Machine learning is fascinating.<br><b>Cosine Similarity:</b> 0.813",
           "<b>Index X:</b> 13<br><b>Text X:</b> Football is a popular sport.<br><b>Index Y:</b> 10<br><b>Text Y:</b> Machine learning is fascinating.<br><b>Cosine Similarity:</b> 0.076",
           "<b>Index X:</b> 14<br><b>Text X:</b> Switching to English is sometimes useful.<br><b>Index Y:</b> 10<br><b>Text Y:</b> Machine learning is fascinating.<br><b>Cosine Similarity:</b> 0.277"
          ],
          [
           "<b>Index X:</b> 0<br><b>Text X:</b> The weather is nice today.<br><b>Index Y:</b> 11<br><b>Text Y:</b> Machine learning is fascinating!<br><b>Cosine Similarity:</b> 0.043",
           "<b>Index X:</b> 1<br><b>Text X:</b> The weather is nice today!<br><b>Index Y:</b> 11<br><b>Text Y:</b> Machine learning is fascinating!<br><b>Cosine Similarity:</b> 0.089",
           "<b>Index X:</b> 2<br><b>Text X:</b> The weather is nice today.<br><b>Index Y:</b> 11<br><b>Text Y:</b> Machine learning is fascinating!<br><b>Cosine Similarity:</b> 0.043",
           "<b>Index X:</b> 3<br><b>Text X:</b> The Weather is nice today.<br><b>Index Y:</b> 11<br><b>Text Y:</b> Machine learning is fascinating!<br><b>Cosine Similarity:</b> 0.043",
           "<b>Index X:</b> 4<br><b>Text X:</b> It is hot in Paris this summer.<br><b>Index Y:</b> 11<br><b>Text Y:</b> Machine learning is fascinating!<br><b>Cosine Similarity:</b> 0.075",
           "<b>Index X:</b> 5<br><b>Text X:</b> It is hot in Paris this summer<br><b>Index Y:</b> 11<br><b>Text Y:</b> Machine learning is fascinating!<br><b>Cosine Similarity:</b> 0.066",
           "<b>Index X:</b> 6<br><b>Text X:</b> It is HOT in Paris this summer.<br><b>Index Y:</b> 11<br><b>Text Y:</b> Machine learning is fascinating!<br><b>Cosine Similarity:</b> 0.075",
           "<b>Index X:</b> 7<br><b>Text X:</b> Hello world.<br><b>Index Y:</b> 11<br><b>Text Y:</b> Machine learning is fascinating!<br><b>Cosine Similarity:</b> 0.139",
           "<b>Index X:</b> 8<br><b>Text X:</b> Hello world!<br><b>Index Y:</b> 11<br><b>Text Y:</b> Machine learning is fascinating!<br><b>Cosine Similarity:</b> 0.174",
           "<b>Index X:</b> 9<br><b>Text X:</b> HELLO world.<br><b>Index Y:</b> 11<br><b>Text Y:</b> Machine learning is fascinating!<br><b>Cosine Similarity:</b> 0.139",
           "<b>Index X:</b> 10<br><b>Text X:</b> Machine learning is fascinating.<br><b>Index Y:</b> 11<br><b>Text Y:</b> Machine learning is fascinating!<br><b>Cosine Similarity:</b> 0.968",
           "<b>Index X:</b> 11<br><b>Text X:</b> Machine learning is fascinating!<br><b>Index Y:</b> 11<br><b>Text Y:</b> Machine learning is fascinating!<br><b>Cosine Similarity:</b> 1.000",
           "<b>Index X:</b> 12<br><b>Text X:</b> Artificial intelligence is fascinating.<br><b>Index Y:</b> 11<br><b>Text Y:</b> Machine learning is fascinating!<br><b>Cosine Similarity:</b> 0.776",
           "<b>Index X:</b> 13<br><b>Text X:</b> Football is a popular sport.<br><b>Index Y:</b> 11<br><b>Text Y:</b> Machine learning is fascinating!<br><b>Cosine Similarity:</b> 0.062",
           "<b>Index X:</b> 14<br><b>Text X:</b> Switching to English is sometimes useful.<br><b>Index Y:</b> 11<br><b>Text Y:</b> Machine learning is fascinating!<br><b>Cosine Similarity:</b> 0.245"
          ],
          [
           "<b>Index X:</b> 0<br><b>Text X:</b> The weather is nice today.<br><b>Index Y:</b> 12<br><b>Text Y:</b> Artificial intelligence is fascinating.<br><b>Cosine Similarity:</b> -0.018",
           "<b>Index X:</b> 1<br><b>Text X:</b> The weather is nice today!<br><b>Index Y:</b> 12<br><b>Text Y:</b> Artificial intelligence is fascinating.<br><b>Cosine Similarity:</b> -0.007",
           "<b>Index X:</b> 2<br><b>Text X:</b> The weather is nice today.<br><b>Index Y:</b> 12<br><b>Text Y:</b> Artificial intelligence is fascinating.<br><b>Cosine Similarity:</b> -0.018",
           "<b>Index X:</b> 3<br><b>Text X:</b> The Weather is nice today.<br><b>Index Y:</b> 12<br><b>Text Y:</b> Artificial intelligence is fascinating.<br><b>Cosine Similarity:</b> -0.018",
           "<b>Index X:</b> 4<br><b>Text X:</b> It is hot in Paris this summer.<br><b>Index Y:</b> 12<br><b>Text Y:</b> Artificial intelligence is fascinating.<br><b>Cosine Similarity:</b> -0.015",
           "<b>Index X:</b> 5<br><b>Text X:</b> It is hot in Paris this summer<br><b>Index Y:</b> 12<br><b>Text Y:</b> Artificial intelligence is fascinating.<br><b>Cosine Similarity:</b> -0.030",
           "<b>Index X:</b> 6<br><b>Text X:</b> It is HOT in Paris this summer.<br><b>Index Y:</b> 12<br><b>Text Y:</b> Artificial intelligence is fascinating.<br><b>Cosine Similarity:</b> -0.015",
           "<b>Index X:</b> 7<br><b>Text X:</b> Hello world.<br><b>Index Y:</b> 12<br><b>Text Y:</b> Artificial intelligence is fascinating.<br><b>Cosine Similarity:</b> 0.152",
           "<b>Index X:</b> 8<br><b>Text X:</b> Hello world!<br><b>Index Y:</b> 12<br><b>Text Y:</b> Artificial intelligence is fascinating.<br><b>Cosine Similarity:</b> 0.134",
           "<b>Index X:</b> 9<br><b>Text X:</b> HELLO world.<br><b>Index Y:</b> 12<br><b>Text Y:</b> Artificial intelligence is fascinating.<br><b>Cosine Similarity:</b> 0.152",
           "<b>Index X:</b> 10<br><b>Text X:</b> Machine learning is fascinating.<br><b>Index Y:</b> 12<br><b>Text Y:</b> Artificial intelligence is fascinating.<br><b>Cosine Similarity:</b> 0.813",
           "<b>Index X:</b> 11<br><b>Text X:</b> Machine learning is fascinating!<br><b>Index Y:</b> 12<br><b>Text Y:</b> Artificial intelligence is fascinating.<br><b>Cosine Similarity:</b> 0.776",
           "<b>Index X:</b> 12<br><b>Text X:</b> Artificial intelligence is fascinating.<br><b>Index Y:</b> 12<br><b>Text Y:</b> Artificial intelligence is fascinating.<br><b>Cosine Similarity:</b> 1.000",
           "<b>Index X:</b> 13<br><b>Text X:</b> Football is a popular sport.<br><b>Index Y:</b> 12<br><b>Text Y:</b> Artificial intelligence is fascinating.<br><b>Cosine Similarity:</b> 0.155",
           "<b>Index X:</b> 14<br><b>Text X:</b> Switching to English is sometimes useful.<br><b>Index Y:</b> 12<br><b>Text Y:</b> Artificial intelligence is fascinating.<br><b>Cosine Similarity:</b> 0.258"
          ],
          [
           "<b>Index X:</b> 0<br><b>Text X:</b> The weather is nice today.<br><b>Index Y:</b> 13<br><b>Text Y:</b> Football is a popular sport.<br><b>Cosine Similarity:</b> 0.073",
           "<b>Index X:</b> 1<br><b>Text X:</b> The weather is nice today!<br><b>Index Y:</b> 13<br><b>Text Y:</b> Football is a popular sport.<br><b>Cosine Similarity:</b> 0.047",
           "<b>Index X:</b> 2<br><b>Text X:</b> The weather is nice today.<br><b>Index Y:</b> 13<br><b>Text Y:</b> Football is a popular sport.<br><b>Cosine Similarity:</b> 0.073",
           "<b>Index X:</b> 3<br><b>Text X:</b> The Weather is nice today.<br><b>Index Y:</b> 13<br><b>Text Y:</b> Football is a popular sport.<br><b>Cosine Similarity:</b> 0.073",
           "<b>Index X:</b> 4<br><b>Text X:</b> It is hot in Paris this summer.<br><b>Index Y:</b> 13<br><b>Text Y:</b> Football is a popular sport.<br><b>Cosine Similarity:</b> 0.084",
           "<b>Index X:</b> 5<br><b>Text X:</b> It is hot in Paris this summer<br><b>Index Y:</b> 13<br><b>Text Y:</b> Football is a popular sport.<br><b>Cosine Similarity:</b> 0.087",
           "<b>Index X:</b> 6<br><b>Text X:</b> It is HOT in Paris this summer.<br><b>Index Y:</b> 13<br><b>Text Y:</b> Football is a popular sport.<br><b>Cosine Similarity:</b> 0.084",
           "<b>Index X:</b> 7<br><b>Text X:</b> Hello world.<br><b>Index Y:</b> 13<br><b>Text Y:</b> Football is a popular sport.<br><b>Cosine Similarity:</b> 0.080",
           "<b>Index X:</b> 8<br><b>Text X:</b> Hello world!<br><b>Index Y:</b> 13<br><b>Text Y:</b> Football is a popular sport.<br><b>Cosine Similarity:</b> 0.053",
           "<b>Index X:</b> 9<br><b>Text X:</b> HELLO world.<br><b>Index Y:</b> 13<br><b>Text Y:</b> Football is a popular sport.<br><b>Cosine Similarity:</b> 0.080",
           "<b>Index X:</b> 10<br><b>Text X:</b> Machine learning is fascinating.<br><b>Index Y:</b> 13<br><b>Text Y:</b> Football is a popular sport.<br><b>Cosine Similarity:</b> 0.076",
           "<b>Index X:</b> 11<br><b>Text X:</b> Machine learning is fascinating!<br><b>Index Y:</b> 13<br><b>Text Y:</b> Football is a popular sport.<br><b>Cosine Similarity:</b> 0.062",
           "<b>Index X:</b> 12<br><b>Text X:</b> Artificial intelligence is fascinating.<br><b>Index Y:</b> 13<br><b>Text Y:</b> Football is a popular sport.<br><b>Cosine Similarity:</b> 0.155",
           "<b>Index X:</b> 13<br><b>Text X:</b> Football is a popular sport.<br><b>Index Y:</b> 13<br><b>Text Y:</b> Football is a popular sport.<br><b>Cosine Similarity:</b> 1.000",
           "<b>Index X:</b> 14<br><b>Text X:</b> Switching to English is sometimes useful.<br><b>Index Y:</b> 13<br><b>Text Y:</b> Football is a popular sport.<br><b>Cosine Similarity:</b> 0.206"
          ],
          [
           "<b>Index X:</b> 0<br><b>Text X:</b> The weather is nice today.<br><b>Index Y:</b> 14<br><b>Text Y:</b> Switching to English is sometimes useful.<br><b>Cosine Similarity:</b> 0.030",
           "<b>Index X:</b> 1<br><b>Text X:</b> The weather is nice today!<br><b>Index Y:</b> 14<br><b>Text Y:</b> Switching to English is sometimes useful.<br><b>Cosine Similarity:</b> 0.024",
           "<b>Index X:</b> 2<br><b>Text X:</b> The weather is nice today.<br><b>Index Y:</b> 14<br><b>Text Y:</b> Switching to English is sometimes useful.<br><b>Cosine Similarity:</b> 0.030",
           "<b>Index X:</b> 3<br><b>Text X:</b> The Weather is nice today.<br><b>Index Y:</b> 14<br><b>Text Y:</b> Switching to English is sometimes useful.<br><b>Cosine Similarity:</b> 0.030",
           "<b>Index X:</b> 4<br><b>Text X:</b> It is hot in Paris this summer.<br><b>Index Y:</b> 14<br><b>Text Y:</b> Switching to English is sometimes useful.<br><b>Cosine Similarity:</b> 0.041",
           "<b>Index X:</b> 5<br><b>Text X:</b> It is hot in Paris this summer<br><b>Index Y:</b> 14<br><b>Text Y:</b> Switching to English is sometimes useful.<br><b>Cosine Similarity:</b> 0.040",
           "<b>Index X:</b> 6<br><b>Text X:</b> It is HOT in Paris this summer.<br><b>Index Y:</b> 14<br><b>Text Y:</b> Switching to English is sometimes useful.<br><b>Cosine Similarity:</b> 0.041",
           "<b>Index X:</b> 7<br><b>Text X:</b> Hello world.<br><b>Index Y:</b> 14<br><b>Text Y:</b> Switching to English is sometimes useful.<br><b>Cosine Similarity:</b> 0.082",
           "<b>Index X:</b> 8<br><b>Text X:</b> Hello world!<br><b>Index Y:</b> 14<br><b>Text Y:</b> Switching to English is sometimes useful.<br><b>Cosine Similarity:</b> 0.044",
           "<b>Index X:</b> 9<br><b>Text X:</b> HELLO world.<br><b>Index Y:</b> 14<br><b>Text Y:</b> Switching to English is sometimes useful.<br><b>Cosine Similarity:</b> 0.082",
           "<b>Index X:</b> 10<br><b>Text X:</b> Machine learning is fascinating.<br><b>Index Y:</b> 14<br><b>Text Y:</b> Switching to English is sometimes useful.<br><b>Cosine Similarity:</b> 0.277",
           "<b>Index X:</b> 11<br><b>Text X:</b> Machine learning is fascinating!<br><b>Index Y:</b> 14<br><b>Text Y:</b> Switching to English is sometimes useful.<br><b>Cosine Similarity:</b> 0.245",
           "<b>Index X:</b> 12<br><b>Text X:</b> Artificial intelligence is fascinating.<br><b>Index Y:</b> 14<br><b>Text Y:</b> Switching to English is sometimes useful.<br><b>Cosine Similarity:</b> 0.258",
           "<b>Index X:</b> 13<br><b>Text X:</b> Football is a popular sport.<br><b>Index Y:</b> 14<br><b>Text Y:</b> Switching to English is sometimes useful.<br><b>Cosine Similarity:</b> 0.206",
           "<b>Index X:</b> 14<br><b>Text X:</b> Switching to English is sometimes useful.<br><b>Index Y:</b> 14<br><b>Text Y:</b> Switching to English is sometimes useful.<br><b>Cosine Similarity:</b> 1.000"
          ]
         ],
         "type": "heatmap",
         "x": [
          0,
          1,
          2,
          3,
          4,
          5,
          6,
          7,
          8,
          9,
          10,
          11,
          12,
          13,
          14
         ],
         "xaxis": "x",
         "y": [
          0,
          1,
          2,
          3,
          4,
          5,
          6,
          7,
          8,
          9,
          10,
          11,
          12,
          13,
          14
         ],
         "yaxis": "y",
         "z": {
          "bdata": "AACAP2aBcz8AAIA/AACAP3LfrT4tg6w+ct+tPjJ3hz5GLo4+MneHPmG2iDzE/jE9CWuTvNL5lD1tOfg8ZoFzPwAAgD9mgXM/ZoFzPz7aoz771aU+PtqjPqxLjj55lbo+rEuOPtp/mTzEhrU9uEnWu5joQT1gfsM8AACAP2aBcz8AAIA/AACAP3LfrT4tg6w+ct+tPjJ3hz5GLo4+MneHPmG2iDzE/jE9CWuTvNL5lD1tOfg8AACAP2aBcz8AAIA/AACAP3LfrT4tg6w+ct+tPjJ3hz5GLo4+MneHPmG2iDzE/jE9CWuTvNL5lD1tOfg8ct+tPj7aoz5y360+ct+tPgAAgD8g1n4/AACAP2Lzqz2qTtM9YvOrPWvhZD23G5o9KiZvvBgOqz0/BCc9LYOsPvvVpT4tg6w+LYOsPiDWfj/+/38/INZ+P1aYmD3dcM49VpiYPfpXJj0or4c9+DL3vMansT2uqiM9ct+tPj7aoz5y360+ct+tPgAAgD8g1n4/AACAP2Lzqz2qTtM9YvOrPWvhZD23G5o9KiZvvBgOqz0/BCc9MneHPqxLjj4yd4c+MneHPmLzqz1WmJg9YvOrPQAAgD+QWW0/AACAP57RGD6W2w0+tNkbPoalpD3asqc9Ri6OPnmVuj5GLo4+Ri6OPqpO0z3dcM49qk7TPZBZbT///38/kFltP9aYAT6ONzI+Hq4JPpBBVz1SlzM9MneHPqxLjj4yd4c+MneHPmLzqz1WmJg9YvOrPQAAgD+QWW0/AACAP57RGD6W2w0+tNkbPoalpD3asqc9YbaIPNp/mTxhtog8YbaIPGvhZD36VyY9a+FkPZ7RGD7WmAE+ntEYPgAAgD9E1nc/XDpQP6G3mz188I0+xP4xPcSGtT3E/jE9xP4xPbcbmj0or4c9txuaPZbbDT6ONzI+ltsNPkTWdz8AAIA/MbdGPyLNfj00UHs+CWuTvLhJ1rsJa5O8CWuTvComb7z4Mve8KiZvvLTZGz4ergk+tNkbPlw6UD8xt0Y///9/P4V2Hj7MH4Q+0vmUPZjoQT3S+ZQ90vmUPRgOqz3Gp7E9GA6rPYalpD2QQVc9hqWkPaG3mz0izX49hXYePgAAgD8aAFM+bTn4PGB+wzxtOfg8bTn4PD8EJz2uqiM9PwQnPdqypz1SlzM92rKnPXzwjT40UHs+zB+EPhoAUz7//38/",
          "dtype": "f4",
          "shape": "15, 15"
         },
         "zmax": 1,
         "zmin": 0
        },
        {
         "colorscale": [
          [
           0,
           "#440154"
          ],
          [
           0.1111111111111111,
           "#482878"
          ],
          [
           0.2222222222222222,
           "#3e4989"
          ],
          [
           0.3333333333333333,
           "#31688e"
          ],
          [
           0.4444444444444444,
           "#26828e"
          ],
          [
           0.5555555555555556,
           "#1f9e89"
          ],
          [
           0.6666666666666666,
           "#35b779"
          ],
          [
           0.7777777777777778,
           "#6ece58"
          ],
          [
           0.8888888888888888,
           "#b5de2b"
          ],
          [
           1,
           "#fde725"
          ]
         ],
         "hoverinfo": "text",
         "showscale": false,
         "text": [
          [
           "<b>Index X:</b> 0<br><b>Text X:</b> The weather is nice today.<br><b>Index Y:</b> 0<br><b>Text Y:</b> The weather is nice today.<br><b>Cosine Similarity:</b> 1.000",
           "<b>Index X:</b> 1<br><b>Text X:</b> The weather is nice today!<br><b>Index Y:</b> 0<br><b>Text Y:</b> The weather is nice today.<br><b>Cosine Similarity:</b> 0.976",
           "<b>Index X:</b> 2<br><b>Text X:</b> The weather is nice today.<br><b>Index Y:</b> 0<br><b>Text Y:</b> The weather is nice today.<br><b>Cosine Similarity:</b> 1.000",
           "<b>Index X:</b> 3<br><b>Text X:</b> The Weather is nice today.<br><b>Index Y:</b> 0<br><b>Text Y:</b> The weather is nice today.<br><b>Cosine Similarity:</b> 1.000",
           "<b>Index X:</b> 4<br><b>Text X:</b> It is hot in Paris this summer.<br><b>Index Y:</b> 0<br><b>Text Y:</b> The weather is nice today.<br><b>Cosine Similarity:</b> 0.781",
           "<b>Index X:</b> 5<br><b>Text X:</b> It is hot in Paris this summer<br><b>Index Y:</b> 0<br><b>Text Y:</b> The weather is nice today.<br><b>Cosine Similarity:</b> 0.773",
           "<b>Index X:</b> 6<br><b>Text X:</b> It is HOT in Paris this summer.<br><b>Index Y:</b> 0<br><b>Text Y:</b> The weather is nice today.<br><b>Cosine Similarity:</b> 0.781",
           "<b>Index X:</b> 7<br><b>Text X:</b> Hello world.<br><b>Index Y:</b> 0<br><b>Text Y:</b> The weather is nice today.<br><b>Cosine Similarity:</b> 0.773",
           "<b>Index X:</b> 8<br><b>Text X:</b> Hello world!<br><b>Index Y:</b> 0<br><b>Text Y:</b> The weather is nice today.<br><b>Cosine Similarity:</b> 0.768",
           "<b>Index X:</b> 9<br><b>Text X:</b> HELLO world.<br><b>Index Y:</b> 0<br><b>Text Y:</b> The weather is nice today.<br><b>Cosine Similarity:</b> 0.773",
           "<b>Index X:</b> 10<br><b>Text X:</b> Machine learning is fascinating.<br><b>Index Y:</b> 0<br><b>Text Y:</b> The weather is nice today.<br><b>Cosine Similarity:</b> 0.693",
           "<b>Index X:</b> 11<br><b>Text X:</b> Machine learning is fascinating!<br><b>Index Y:</b> 0<br><b>Text Y:</b> The weather is nice today.<br><b>Cosine Similarity:</b> 0.684",
           "<b>Index X:</b> 12<br><b>Text X:</b> Artificial intelligence is fascinating.<br><b>Index Y:</b> 0<br><b>Text Y:</b> The weather is nice today.<br><b>Cosine Similarity:</b> 0.695",
           "<b>Index X:</b> 13<br><b>Text X:</b> Football is a popular sport.<br><b>Index Y:</b> 0<br><b>Text Y:</b> The weather is nice today.<br><b>Cosine Similarity:</b> 0.706",
           "<b>Index X:</b> 14<br><b>Text X:</b> Switching to English is sometimes useful.<br><b>Index Y:</b> 0<br><b>Text Y:</b> The weather is nice today.<br><b>Cosine Similarity:</b> 0.708"
          ],
          [
           "<b>Index X:</b> 0<br><b>Text X:</b> The weather is nice today.<br><b>Index Y:</b> 1<br><b>Text Y:</b> The weather is nice today!<br><b>Cosine Similarity:</b> 0.976",
           "<b>Index X:</b> 1<br><b>Text X:</b> The weather is nice today!<br><b>Index Y:</b> 1<br><b>Text Y:</b> The weather is nice today!<br><b>Cosine Similarity:</b> 1.000",
           "<b>Index X:</b> 2<br><b>Text X:</b> The weather is nice today.<br><b>Index Y:</b> 1<br><b>Text Y:</b> The weather is nice today!<br><b>Cosine Similarity:</b> 0.976",
           "<b>Index X:</b> 3<br><b>Text X:</b> The Weather is nice today.<br><b>Index Y:</b> 1<br><b>Text Y:</b> The weather is nice today!<br><b>Cosine Similarity:</b> 0.976",
           "<b>Index X:</b> 4<br><b>Text X:</b> It is hot in Paris this summer.<br><b>Index Y:</b> 1<br><b>Text Y:</b> The weather is nice today!<br><b>Cosine Similarity:</b> 0.762",
           "<b>Index X:</b> 5<br><b>Text X:</b> It is hot in Paris this summer<br><b>Index Y:</b> 1<br><b>Text Y:</b> The weather is nice today!<br><b>Cosine Similarity:</b> 0.755",
           "<b>Index X:</b> 6<br><b>Text X:</b> It is HOT in Paris this summer.<br><b>Index Y:</b> 1<br><b>Text Y:</b> The weather is nice today!<br><b>Cosine Similarity:</b> 0.762",
           "<b>Index X:</b> 7<br><b>Text X:</b> Hello world.<br><b>Index Y:</b> 1<br><b>Text Y:</b> The weather is nice today!<br><b>Cosine Similarity:</b> 0.767",
           "<b>Index X:</b> 8<br><b>Text X:</b> Hello world!<br><b>Index Y:</b> 1<br><b>Text Y:</b> The weather is nice today!<br><b>Cosine Similarity:</b> 0.795",
           "<b>Index X:</b> 9<br><b>Text X:</b> HELLO world.<br><b>Index Y:</b> 1<br><b>Text Y:</b> The weather is nice today!<br><b>Cosine Similarity:</b> 0.767",
           "<b>Index X:</b> 10<br><b>Text X:</b> Machine learning is fascinating.<br><b>Index Y:</b> 1<br><b>Text Y:</b> The weather is nice today!<br><b>Cosine Similarity:</b> 0.699",
           "<b>Index X:</b> 11<br><b>Text X:</b> Machine learning is fascinating!<br><b>Index Y:</b> 1<br><b>Text Y:</b> The weather is nice today!<br><b>Cosine Similarity:</b> 0.718",
           "<b>Index X:</b> 12<br><b>Text X:</b> Artificial intelligence is fascinating.<br><b>Index Y:</b> 1<br><b>Text Y:</b> The weather is nice today!<br><b>Cosine Similarity:</b> 0.693",
           "<b>Index X:</b> 13<br><b>Text X:</b> Football is a popular sport.<br><b>Index Y:</b> 1<br><b>Text Y:</b> The weather is nice today!<br><b>Cosine Similarity:</b> 0.701",
           "<b>Index X:</b> 14<br><b>Text X:</b> Switching to English is sometimes useful.<br><b>Index Y:</b> 1<br><b>Text Y:</b> The weather is nice today!<br><b>Cosine Similarity:</b> 0.705"
          ],
          [
           "<b>Index X:</b> 0<br><b>Text X:</b> The weather is nice today.<br><b>Index Y:</b> 2<br><b>Text Y:</b> The weather is nice today.<br><b>Cosine Similarity:</b> 1.000",
           "<b>Index X:</b> 1<br><b>Text X:</b> The weather is nice today!<br><b>Index Y:</b> 2<br><b>Text Y:</b> The weather is nice today.<br><b>Cosine Similarity:</b> 0.976",
           "<b>Index X:</b> 2<br><b>Text X:</b> The weather is nice today.<br><b>Index Y:</b> 2<br><b>Text Y:</b> The weather is nice today.<br><b>Cosine Similarity:</b> 1.000",
           "<b>Index X:</b> 3<br><b>Text X:</b> The Weather is nice today.<br><b>Index Y:</b> 2<br><b>Text Y:</b> The weather is nice today.<br><b>Cosine Similarity:</b> 1.000",
           "<b>Index X:</b> 4<br><b>Text X:</b> It is hot in Paris this summer.<br><b>Index Y:</b> 2<br><b>Text Y:</b> The weather is nice today.<br><b>Cosine Similarity:</b> 0.781",
           "<b>Index X:</b> 5<br><b>Text X:</b> It is hot in Paris this summer<br><b>Index Y:</b> 2<br><b>Text Y:</b> The weather is nice today.<br><b>Cosine Similarity:</b> 0.773",
           "<b>Index X:</b> 6<br><b>Text X:</b> It is HOT in Paris this summer.<br><b>Index Y:</b> 2<br><b>Text Y:</b> The weather is nice today.<br><b>Cosine Similarity:</b> 0.781",
           "<b>Index X:</b> 7<br><b>Text X:</b> Hello world.<br><b>Index Y:</b> 2<br><b>Text Y:</b> The weather is nice today.<br><b>Cosine Similarity:</b> 0.773",
           "<b>Index X:</b> 8<br><b>Text X:</b> Hello world!<br><b>Index Y:</b> 2<br><b>Text Y:</b> The weather is nice today.<br><b>Cosine Similarity:</b> 0.768",
           "<b>Index X:</b> 9<br><b>Text X:</b> HELLO world.<br><b>Index Y:</b> 2<br><b>Text Y:</b> The weather is nice today.<br><b>Cosine Similarity:</b> 0.773",
           "<b>Index X:</b> 10<br><b>Text X:</b> Machine learning is fascinating.<br><b>Index Y:</b> 2<br><b>Text Y:</b> The weather is nice today.<br><b>Cosine Similarity:</b> 0.693",
           "<b>Index X:</b> 11<br><b>Text X:</b> Machine learning is fascinating!<br><b>Index Y:</b> 2<br><b>Text Y:</b> The weather is nice today.<br><b>Cosine Similarity:</b> 0.684",
           "<b>Index X:</b> 12<br><b>Text X:</b> Artificial intelligence is fascinating.<br><b>Index Y:</b> 2<br><b>Text Y:</b> The weather is nice today.<br><b>Cosine Similarity:</b> 0.695",
           "<b>Index X:</b> 13<br><b>Text X:</b> Football is a popular sport.<br><b>Index Y:</b> 2<br><b>Text Y:</b> The weather is nice today.<br><b>Cosine Similarity:</b> 0.706",
           "<b>Index X:</b> 14<br><b>Text X:</b> Switching to English is sometimes useful.<br><b>Index Y:</b> 2<br><b>Text Y:</b> The weather is nice today.<br><b>Cosine Similarity:</b> 0.708"
          ],
          [
           "<b>Index X:</b> 0<br><b>Text X:</b> The weather is nice today.<br><b>Index Y:</b> 3<br><b>Text Y:</b> The Weather is nice today.<br><b>Cosine Similarity:</b> 1.000",
           "<b>Index X:</b> 1<br><b>Text X:</b> The weather is nice today!<br><b>Index Y:</b> 3<br><b>Text Y:</b> The Weather is nice today.<br><b>Cosine Similarity:</b> 0.976",
           "<b>Index X:</b> 2<br><b>Text X:</b> The weather is nice today.<br><b>Index Y:</b> 3<br><b>Text Y:</b> The Weather is nice today.<br><b>Cosine Similarity:</b> 1.000",
           "<b>Index X:</b> 3<br><b>Text X:</b> The Weather is nice today.<br><b>Index Y:</b> 3<br><b>Text Y:</b> The Weather is nice today.<br><b>Cosine Similarity:</b> 1.000",
           "<b>Index X:</b> 4<br><b>Text X:</b> It is hot in Paris this summer.<br><b>Index Y:</b> 3<br><b>Text Y:</b> The Weather is nice today.<br><b>Cosine Similarity:</b> 0.781",
           "<b>Index X:</b> 5<br><b>Text X:</b> It is hot in Paris this summer<br><b>Index Y:</b> 3<br><b>Text Y:</b> The Weather is nice today.<br><b>Cosine Similarity:</b> 0.773",
           "<b>Index X:</b> 6<br><b>Text X:</b> It is HOT in Paris this summer.<br><b>Index Y:</b> 3<br><b>Text Y:</b> The Weather is nice today.<br><b>Cosine Similarity:</b> 0.781",
           "<b>Index X:</b> 7<br><b>Text X:</b> Hello world.<br><b>Index Y:</b> 3<br><b>Text Y:</b> The Weather is nice today.<br><b>Cosine Similarity:</b> 0.773",
           "<b>Index X:</b> 8<br><b>Text X:</b> Hello world!<br><b>Index Y:</b> 3<br><b>Text Y:</b> The Weather is nice today.<br><b>Cosine Similarity:</b> 0.768",
           "<b>Index X:</b> 9<br><b>Text X:</b> HELLO world.<br><b>Index Y:</b> 3<br><b>Text Y:</b> The Weather is nice today.<br><b>Cosine Similarity:</b> 0.773",
           "<b>Index X:</b> 10<br><b>Text X:</b> Machine learning is fascinating.<br><b>Index Y:</b> 3<br><b>Text Y:</b> The Weather is nice today.<br><b>Cosine Similarity:</b> 0.693",
           "<b>Index X:</b> 11<br><b>Text X:</b> Machine learning is fascinating!<br><b>Index Y:</b> 3<br><b>Text Y:</b> The Weather is nice today.<br><b>Cosine Similarity:</b> 0.684",
           "<b>Index X:</b> 12<br><b>Text X:</b> Artificial intelligence is fascinating.<br><b>Index Y:</b> 3<br><b>Text Y:</b> The Weather is nice today.<br><b>Cosine Similarity:</b> 0.695",
           "<b>Index X:</b> 13<br><b>Text X:</b> Football is a popular sport.<br><b>Index Y:</b> 3<br><b>Text Y:</b> The Weather is nice today.<br><b>Cosine Similarity:</b> 0.706",
           "<b>Index X:</b> 14<br><b>Text X:</b> Switching to English is sometimes useful.<br><b>Index Y:</b> 3<br><b>Text Y:</b> The Weather is nice today.<br><b>Cosine Similarity:</b> 0.708"
          ],
          [
           "<b>Index X:</b> 0<br><b>Text X:</b> The weather is nice today.<br><b>Index Y:</b> 4<br><b>Text Y:</b> It is hot in Paris this summer.<br><b>Cosine Similarity:</b> 0.781",
           "<b>Index X:</b> 1<br><b>Text X:</b> The weather is nice today!<br><b>Index Y:</b> 4<br><b>Text Y:</b> It is hot in Paris this summer.<br><b>Cosine Similarity:</b> 0.762",
           "<b>Index X:</b> 2<br><b>Text X:</b> The weather is nice today.<br><b>Index Y:</b> 4<br><b>Text Y:</b> It is hot in Paris this summer.<br><b>Cosine Similarity:</b> 0.781",
           "<b>Index X:</b> 3<br><b>Text X:</b> The Weather is nice today.<br><b>Index Y:</b> 4<br><b>Text Y:</b> It is hot in Paris this summer.<br><b>Cosine Similarity:</b> 0.781",
           "<b>Index X:</b> 4<br><b>Text X:</b> It is hot in Paris this summer.<br><b>Index Y:</b> 4<br><b>Text Y:</b> It is hot in Paris this summer.<br><b>Cosine Similarity:</b> 1.000",
           "<b>Index X:</b> 5<br><b>Text X:</b> It is hot in Paris this summer<br><b>Index Y:</b> 4<br><b>Text Y:</b> It is hot in Paris this summer.<br><b>Cosine Similarity:</b> 0.996",
           "<b>Index X:</b> 6<br><b>Text X:</b> It is HOT in Paris this summer.<br><b>Index Y:</b> 4<br><b>Text Y:</b> It is hot in Paris this summer.<br><b>Cosine Similarity:</b> 1.000",
           "<b>Index X:</b> 7<br><b>Text X:</b> Hello world.<br><b>Index Y:</b> 4<br><b>Text Y:</b> It is hot in Paris this summer.<br><b>Cosine Similarity:</b> 0.688",
           "<b>Index X:</b> 8<br><b>Text X:</b> Hello world!<br><b>Index Y:</b> 4<br><b>Text Y:</b> It is hot in Paris this summer.<br><b>Cosine Similarity:</b> 0.682",
           "<b>Index X:</b> 9<br><b>Text X:</b> HELLO world.<br><b>Index Y:</b> 4<br><b>Text Y:</b> It is hot in Paris this summer.<br><b>Cosine Similarity:</b> 0.688",
           "<b>Index X:</b> 10<br><b>Text X:</b> Machine learning is fascinating.<br><b>Index Y:</b> 4<br><b>Text Y:</b> It is hot in Paris this summer.<br><b>Cosine Similarity:</b> 0.643",
           "<b>Index X:</b> 11<br><b>Text X:</b> Machine learning is fascinating!<br><b>Index Y:</b> 4<br><b>Text Y:</b> It is hot in Paris this summer.<br><b>Cosine Similarity:</b> 0.629",
           "<b>Index X:</b> 12<br><b>Text X:</b> Artificial intelligence is fascinating.<br><b>Index Y:</b> 4<br><b>Text Y:</b> It is hot in Paris this summer.<br><b>Cosine Similarity:</b> 0.638",
           "<b>Index X:</b> 13<br><b>Text X:</b> Football is a popular sport.<br><b>Index Y:</b> 4<br><b>Text Y:</b> It is hot in Paris this summer.<br><b>Cosine Similarity:</b> 0.670",
           "<b>Index X:</b> 14<br><b>Text X:</b> Switching to English is sometimes useful.<br><b>Index Y:</b> 4<br><b>Text Y:</b> It is hot in Paris this summer.<br><b>Cosine Similarity:</b> 0.661"
          ],
          [
           "<b>Index X:</b> 0<br><b>Text X:</b> The weather is nice today.<br><b>Index Y:</b> 5<br><b>Text Y:</b> It is hot in Paris this summer<br><b>Cosine Similarity:</b> 0.773",
           "<b>Index X:</b> 1<br><b>Text X:</b> The weather is nice today!<br><b>Index Y:</b> 5<br><b>Text Y:</b> It is hot in Paris this summer<br><b>Cosine Similarity:</b> 0.755",
           "<b>Index X:</b> 2<br><b>Text X:</b> The weather is nice today.<br><b>Index Y:</b> 5<br><b>Text Y:</b> It is hot in Paris this summer<br><b>Cosine Similarity:</b> 0.773",
           "<b>Index X:</b> 3<br><b>Text X:</b> The Weather is nice today.<br><b>Index Y:</b> 5<br><b>Text Y:</b> It is hot in Paris this summer<br><b>Cosine Similarity:</b> 0.773",
           "<b>Index X:</b> 4<br><b>Text X:</b> It is hot in Paris this summer.<br><b>Index Y:</b> 5<br><b>Text Y:</b> It is hot in Paris this summer<br><b>Cosine Similarity:</b> 0.996",
           "<b>Index X:</b> 5<br><b>Text X:</b> It is hot in Paris this summer<br><b>Index Y:</b> 5<br><b>Text Y:</b> It is hot in Paris this summer<br><b>Cosine Similarity:</b> 1.000",
           "<b>Index X:</b> 6<br><b>Text X:</b> It is HOT in Paris this summer.<br><b>Index Y:</b> 5<br><b>Text Y:</b> It is hot in Paris this summer<br><b>Cosine Similarity:</b> 0.996",
           "<b>Index X:</b> 7<br><b>Text X:</b> Hello world.<br><b>Index Y:</b> 5<br><b>Text Y:</b> It is hot in Paris this summer<br><b>Cosine Similarity:</b> 0.681",
           "<b>Index X:</b> 8<br><b>Text X:</b> Hello world!<br><b>Index Y:</b> 5<br><b>Text Y:</b> It is hot in Paris this summer<br><b>Cosine Similarity:</b> 0.677",
           "<b>Index X:</b> 9<br><b>Text X:</b> HELLO world.<br><b>Index Y:</b> 5<br><b>Text Y:</b> It is hot in Paris this summer<br><b>Cosine Similarity:</b> 0.681",
           "<b>Index X:</b> 10<br><b>Text X:</b> Machine learning is fascinating.<br><b>Index Y:</b> 5<br><b>Text Y:</b> It is hot in Paris this summer<br><b>Cosine Similarity:</b> 0.641",
           "<b>Index X:</b> 11<br><b>Text X:</b> Machine learning is fascinating!<br><b>Index Y:</b> 5<br><b>Text Y:</b> It is hot in Paris this summer<br><b>Cosine Similarity:</b> 0.629",
           "<b>Index X:</b> 12<br><b>Text X:</b> Artificial intelligence is fascinating.<br><b>Index Y:</b> 5<br><b>Text Y:</b> It is hot in Paris this summer<br><b>Cosine Similarity:</b> 0.636",
           "<b>Index X:</b> 13<br><b>Text X:</b> Football is a popular sport.<br><b>Index Y:</b> 5<br><b>Text Y:</b> It is hot in Paris this summer<br><b>Cosine Similarity:</b> 0.665",
           "<b>Index X:</b> 14<br><b>Text X:</b> Switching to English is sometimes useful.<br><b>Index Y:</b> 5<br><b>Text Y:</b> It is hot in Paris this summer<br><b>Cosine Similarity:</b> 0.660"
          ],
          [
           "<b>Index X:</b> 0<br><b>Text X:</b> The weather is nice today.<br><b>Index Y:</b> 6<br><b>Text Y:</b> It is HOT in Paris this summer.<br><b>Cosine Similarity:</b> 0.781",
           "<b>Index X:</b> 1<br><b>Text X:</b> The weather is nice today!<br><b>Index Y:</b> 6<br><b>Text Y:</b> It is HOT in Paris this summer.<br><b>Cosine Similarity:</b> 0.762",
           "<b>Index X:</b> 2<br><b>Text X:</b> The weather is nice today.<br><b>Index Y:</b> 6<br><b>Text Y:</b> It is HOT in Paris this summer.<br><b>Cosine Similarity:</b> 0.781",
           "<b>Index X:</b> 3<br><b>Text X:</b> The Weather is nice today.<br><b>Index Y:</b> 6<br><b>Text Y:</b> It is HOT in Paris this summer.<br><b>Cosine Similarity:</b> 0.781",
           "<b>Index X:</b> 4<br><b>Text X:</b> It is hot in Paris this summer.<br><b>Index Y:</b> 6<br><b>Text Y:</b> It is HOT in Paris this summer.<br><b>Cosine Similarity:</b> 1.000",
           "<b>Index X:</b> 5<br><b>Text X:</b> It is hot in Paris this summer<br><b>Index Y:</b> 6<br><b>Text Y:</b> It is HOT in Paris this summer.<br><b>Cosine Similarity:</b> 0.996",
           "<b>Index X:</b> 6<br><b>Text X:</b> It is HOT in Paris this summer.<br><b>Index Y:</b> 6<br><b>Text Y:</b> It is HOT in Paris this summer.<br><b>Cosine Similarity:</b> 1.000",
           "<b>Index X:</b> 7<br><b>Text X:</b> Hello world.<br><b>Index Y:</b> 6<br><b>Text Y:</b> It is HOT in Paris this summer.<br><b>Cosine Similarity:</b> 0.688",
           "<b>Index X:</b> 8<br><b>Text X:</b> Hello world!<br><b>Index Y:</b> 6<br><b>Text Y:</b> It is HOT in Paris this summer.<br><b>Cosine Similarity:</b> 0.682",
           "<b>Index X:</b> 9<br><b>Text X:</b> HELLO world.<br><b>Index Y:</b> 6<br><b>Text Y:</b> It is HOT in Paris this summer.<br><b>Cosine Similarity:</b> 0.688",
           "<b>Index X:</b> 10<br><b>Text X:</b> Machine learning is fascinating.<br><b>Index Y:</b> 6<br><b>Text Y:</b> It is HOT in Paris this summer.<br><b>Cosine Similarity:</b> 0.643",
           "<b>Index X:</b> 11<br><b>Text X:</b> Machine learning is fascinating!<br><b>Index Y:</b> 6<br><b>Text Y:</b> It is HOT in Paris this summer.<br><b>Cosine Similarity:</b> 0.629",
           "<b>Index X:</b> 12<br><b>Text X:</b> Artificial intelligence is fascinating.<br><b>Index Y:</b> 6<br><b>Text Y:</b> It is HOT in Paris this summer.<br><b>Cosine Similarity:</b> 0.638",
           "<b>Index X:</b> 13<br><b>Text X:</b> Football is a popular sport.<br><b>Index Y:</b> 6<br><b>Text Y:</b> It is HOT in Paris this summer.<br><b>Cosine Similarity:</b> 0.670",
           "<b>Index X:</b> 14<br><b>Text X:</b> Switching to English is sometimes useful.<br><b>Index Y:</b> 6<br><b>Text Y:</b> It is HOT in Paris this summer.<br><b>Cosine Similarity:</b> 0.661"
          ],
          [
           "<b>Index X:</b> 0<br><b>Text X:</b> The weather is nice today.<br><b>Index Y:</b> 7<br><b>Text Y:</b> Hello world.<br><b>Cosine Similarity:</b> 0.773",
           "<b>Index X:</b> 1<br><b>Text X:</b> The weather is nice today!<br><b>Index Y:</b> 7<br><b>Text Y:</b> Hello world.<br><b>Cosine Similarity:</b> 0.767",
           "<b>Index X:</b> 2<br><b>Text X:</b> The weather is nice today.<br><b>Index Y:</b> 7<br><b>Text Y:</b> Hello world.<br><b>Cosine Similarity:</b> 0.773",
           "<b>Index X:</b> 3<br><b>Text X:</b> The Weather is nice today.<br><b>Index Y:</b> 7<br><b>Text Y:</b> Hello world.<br><b>Cosine Similarity:</b> 0.773",
           "<b>Index X:</b> 4<br><b>Text X:</b> It is hot in Paris this summer.<br><b>Index Y:</b> 7<br><b>Text Y:</b> Hello world.<br><b>Cosine Similarity:</b> 0.688",
           "<b>Index X:</b> 5<br><b>Text X:</b> It is hot in Paris this summer<br><b>Index Y:</b> 7<br><b>Text Y:</b> Hello world.<br><b>Cosine Similarity:</b> 0.681",
           "<b>Index X:</b> 6<br><b>Text X:</b> It is HOT in Paris this summer.<br><b>Index Y:</b> 7<br><b>Text Y:</b> Hello world.<br><b>Cosine Similarity:</b> 0.688",
           "<b>Index X:</b> 7<br><b>Text X:</b> Hello world.<br><b>Index Y:</b> 7<br><b>Text Y:</b> Hello world.<br><b>Cosine Similarity:</b> 1.000",
           "<b>Index X:</b> 8<br><b>Text X:</b> Hello world!<br><b>Index Y:</b> 7<br><b>Text Y:</b> Hello world.<br><b>Cosine Similarity:</b> 0.966",
           "<b>Index X:</b> 9<br><b>Text X:</b> HELLO world.<br><b>Index Y:</b> 7<br><b>Text Y:</b> Hello world.<br><b>Cosine Similarity:</b> 1.000",
           "<b>Index X:</b> 10<br><b>Text X:</b> Machine learning is fascinating.<br><b>Index Y:</b> 7<br><b>Text Y:</b> Hello world.<br><b>Cosine Similarity:</b> 0.712",
           "<b>Index X:</b> 11<br><b>Text X:</b> Machine learning is fascinating!<br><b>Index Y:</b> 7<br><b>Text Y:</b> Hello world.<br><b>Cosine Similarity:</b> 0.692",
           "<b>Index X:</b> 12<br><b>Text X:</b> Artificial intelligence is fascinating.<br><b>Index Y:</b> 7<br><b>Text Y:</b> Hello world.<br><b>Cosine Similarity:</b> 0.700",
           "<b>Index X:</b> 13<br><b>Text X:</b> Football is a popular sport.<br><b>Index Y:</b> 7<br><b>Text Y:</b> Hello world.<br><b>Cosine Similarity:</b> 0.666",
           "<b>Index X:</b> 14<br><b>Text X:</b> Switching to English is sometimes useful.<br><b>Index Y:</b> 7<br><b>Text Y:</b> Hello world.<br><b>Cosine Similarity:</b> 0.685"
          ],
          [
           "<b>Index X:</b> 0<br><b>Text X:</b> The weather is nice today.<br><b>Index Y:</b> 8<br><b>Text Y:</b> Hello world!<br><b>Cosine Similarity:</b> 0.768",
           "<b>Index X:</b> 1<br><b>Text X:</b> The weather is nice today!<br><b>Index Y:</b> 8<br><b>Text Y:</b> Hello world!<br><b>Cosine Similarity:</b> 0.795",
           "<b>Index X:</b> 2<br><b>Text X:</b> The weather is nice today.<br><b>Index Y:</b> 8<br><b>Text Y:</b> Hello world!<br><b>Cosine Similarity:</b> 0.768",
           "<b>Index X:</b> 3<br><b>Text X:</b> The Weather is nice today.<br><b>Index Y:</b> 8<br><b>Text Y:</b> Hello world!<br><b>Cosine Similarity:</b> 0.768",
           "<b>Index X:</b> 4<br><b>Text X:</b> It is hot in Paris this summer.<br><b>Index Y:</b> 8<br><b>Text Y:</b> Hello world!<br><b>Cosine Similarity:</b> 0.682",
           "<b>Index X:</b> 5<br><b>Text X:</b> It is hot in Paris this summer<br><b>Index Y:</b> 8<br><b>Text Y:</b> Hello world!<br><b>Cosine Similarity:</b> 0.677",
           "<b>Index X:</b> 6<br><b>Text X:</b> It is HOT in Paris this summer.<br><b>Index Y:</b> 8<br><b>Text Y:</b> Hello world!<br><b>Cosine Similarity:</b> 0.682",
           "<b>Index X:</b> 7<br><b>Text X:</b> Hello world.<br><b>Index Y:</b> 8<br><b>Text Y:</b> Hello world!<br><b>Cosine Similarity:</b> 0.966",
           "<b>Index X:</b> 8<br><b>Text X:</b> Hello world!<br><b>Index Y:</b> 8<br><b>Text Y:</b> Hello world!<br><b>Cosine Similarity:</b> 1.000",
           "<b>Index X:</b> 9<br><b>Text X:</b> HELLO world.<br><b>Index Y:</b> 8<br><b>Text Y:</b> Hello world!<br><b>Cosine Similarity:</b> 0.966",
           "<b>Index X:</b> 10<br><b>Text X:</b> Machine learning is fascinating.<br><b>Index Y:</b> 8<br><b>Text Y:</b> Hello world!<br><b>Cosine Similarity:</b> 0.702",
           "<b>Index X:</b> 11<br><b>Text X:</b> Machine learning is fascinating!<br><b>Index Y:</b> 8<br><b>Text Y:</b> Hello world!<br><b>Cosine Similarity:</b> 0.730",
           "<b>Index X:</b> 12<br><b>Text X:</b> Artificial intelligence is fascinating.<br><b>Index Y:</b> 8<br><b>Text Y:</b> Hello world!<br><b>Cosine Similarity:</b> 0.685",
           "<b>Index X:</b> 13<br><b>Text X:</b> Football is a popular sport.<br><b>Index Y:</b> 8<br><b>Text Y:</b> Hello world!<br><b>Cosine Similarity:</b> 0.662",
           "<b>Index X:</b> 14<br><b>Text X:</b> Switching to English is sometimes useful.<br><b>Index Y:</b> 8<br><b>Text Y:</b> Hello world!<br><b>Cosine Similarity:</b> 0.682"
          ],
          [
           "<b>Index X:</b> 0<br><b>Text X:</b> The weather is nice today.<br><b>Index Y:</b> 9<br><b>Text Y:</b> HELLO world.<br><b>Cosine Similarity:</b> 0.773",
           "<b>Index X:</b> 1<br><b>Text X:</b> The weather is nice today!<br><b>Index Y:</b> 9<br><b>Text Y:</b> HELLO world.<br><b>Cosine Similarity:</b> 0.767",
           "<b>Index X:</b> 2<br><b>Text X:</b> The weather is nice today.<br><b>Index Y:</b> 9<br><b>Text Y:</b> HELLO world.<br><b>Cosine Similarity:</b> 0.773",
           "<b>Index X:</b> 3<br><b>Text X:</b> The Weather is nice today.<br><b>Index Y:</b> 9<br><b>Text Y:</b> HELLO world.<br><b>Cosine Similarity:</b> 0.773",
           "<b>Index X:</b> 4<br><b>Text X:</b> It is hot in Paris this summer.<br><b>Index Y:</b> 9<br><b>Text Y:</b> HELLO world.<br><b>Cosine Similarity:</b> 0.688",
           "<b>Index X:</b> 5<br><b>Text X:</b> It is hot in Paris this summer<br><b>Index Y:</b> 9<br><b>Text Y:</b> HELLO world.<br><b>Cosine Similarity:</b> 0.681",
           "<b>Index X:</b> 6<br><b>Text X:</b> It is HOT in Paris this summer.<br><b>Index Y:</b> 9<br><b>Text Y:</b> HELLO world.<br><b>Cosine Similarity:</b> 0.688",
           "<b>Index X:</b> 7<br><b>Text X:</b> Hello world.<br><b>Index Y:</b> 9<br><b>Text Y:</b> HELLO world.<br><b>Cosine Similarity:</b> 1.000",
           "<b>Index X:</b> 8<br><b>Text X:</b> Hello world!<br><b>Index Y:</b> 9<br><b>Text Y:</b> HELLO world.<br><b>Cosine Similarity:</b> 0.966",
           "<b>Index X:</b> 9<br><b>Text X:</b> HELLO world.<br><b>Index Y:</b> 9<br><b>Text Y:</b> HELLO world.<br><b>Cosine Similarity:</b> 1.000",
           "<b>Index X:</b> 10<br><b>Text X:</b> Machine learning is fascinating.<br><b>Index Y:</b> 9<br><b>Text Y:</b> HELLO world.<br><b>Cosine Similarity:</b> 0.712",
           "<b>Index X:</b> 11<br><b>Text X:</b> Machine learning is fascinating!<br><b>Index Y:</b> 9<br><b>Text Y:</b> HELLO world.<br><b>Cosine Similarity:</b> 0.692",
           "<b>Index X:</b> 12<br><b>Text X:</b> Artificial intelligence is fascinating.<br><b>Index Y:</b> 9<br><b>Text Y:</b> HELLO world.<br><b>Cosine Similarity:</b> 0.700",
           "<b>Index X:</b> 13<br><b>Text X:</b> Football is a popular sport.<br><b>Index Y:</b> 9<br><b>Text Y:</b> HELLO world.<br><b>Cosine Similarity:</b> 0.666",
           "<b>Index X:</b> 14<br><b>Text X:</b> Switching to English is sometimes useful.<br><b>Index Y:</b> 9<br><b>Text Y:</b> HELLO world.<br><b>Cosine Similarity:</b> 0.685"
          ],
          [
           "<b>Index X:</b> 0<br><b>Text X:</b> The weather is nice today.<br><b>Index Y:</b> 10<br><b>Text Y:</b> Machine learning is fascinating.<br><b>Cosine Similarity:</b> 0.693",
           "<b>Index X:</b> 1<br><b>Text X:</b> The weather is nice today!<br><b>Index Y:</b> 10<br><b>Text Y:</b> Machine learning is fascinating.<br><b>Cosine Similarity:</b> 0.699",
           "<b>Index X:</b> 2<br><b>Text X:</b> The weather is nice today.<br><b>Index Y:</b> 10<br><b>Text Y:</b> Machine learning is fascinating.<br><b>Cosine Similarity:</b> 0.693",
           "<b>Index X:</b> 3<br><b>Text X:</b> The Weather is nice today.<br><b>Index Y:</b> 10<br><b>Text Y:</b> Machine learning is fascinating.<br><b>Cosine Similarity:</b> 0.693",
           "<b>Index X:</b> 4<br><b>Text X:</b> It is hot in Paris this summer.<br><b>Index Y:</b> 10<br><b>Text Y:</b> Machine learning is fascinating.<br><b>Cosine Similarity:</b> 0.643",
           "<b>Index X:</b> 5<br><b>Text X:</b> It is hot in Paris this summer<br><b>Index Y:</b> 10<br><b>Text Y:</b> Machine learning is fascinating.<br><b>Cosine Similarity:</b> 0.641",
           "<b>Index X:</b> 6<br><b>Text X:</b> It is HOT in Paris this summer.<br><b>Index Y:</b> 10<br><b>Text Y:</b> Machine learning is fascinating.<br><b>Cosine Similarity:</b> 0.643",
           "<b>Index X:</b> 7<br><b>Text X:</b> Hello world.<br><b>Index Y:</b> 10<br><b>Text Y:</b> Machine learning is fascinating.<br><b>Cosine Similarity:</b> 0.712",
           "<b>Index X:</b> 8<br><b>Text X:</b> Hello world!<br><b>Index Y:</b> 10<br><b>Text Y:</b> Machine learning is fascinating.<br><b>Cosine Similarity:</b> 0.702",
           "<b>Index X:</b> 9<br><b>Text X:</b> HELLO world.<br><b>Index Y:</b> 10<br><b>Text Y:</b> Machine learning is fascinating.<br><b>Cosine Similarity:</b> 0.712",
           "<b>Index X:</b> 10<br><b>Text X:</b> Machine learning is fascinating.<br><b>Index Y:</b> 10<br><b>Text Y:</b> Machine learning is fascinating.<br><b>Cosine Similarity:</b> 1.000",
           "<b>Index X:</b> 11<br><b>Text X:</b> Machine learning is fascinating!<br><b>Index Y:</b> 10<br><b>Text Y:</b> Machine learning is fascinating.<br><b>Cosine Similarity:</b> 0.971",
           "<b>Index X:</b> 12<br><b>Text X:</b> Artificial intelligence is fascinating.<br><b>Index Y:</b> 10<br><b>Text Y:</b> Machine learning is fascinating.<br><b>Cosine Similarity:</b> 0.902",
           "<b>Index X:</b> 13<br><b>Text X:</b> Football is a popular sport.<br><b>Index Y:</b> 10<br><b>Text Y:</b> Machine learning is fascinating.<br><b>Cosine Similarity:</b> 0.637",
           "<b>Index X:</b> 14<br><b>Text X:</b> Switching to English is sometimes useful.<br><b>Index Y:</b> 10<br><b>Text Y:</b> Machine learning is fascinating.<br><b>Cosine Similarity:</b> 0.686"
          ],
          [
           "<b>Index X:</b> 0<br><b>Text X:</b> The weather is nice today.<br><b>Index Y:</b> 11<br><b>Text Y:</b> Machine learning is fascinating!<br><b>Cosine Similarity:</b> 0.684",
           "<b>Index X:</b> 1<br><b>Text X:</b> The weather is nice today!<br><b>Index Y:</b> 11<br><b>Text Y:</b> Machine learning is fascinating!<br><b>Cosine Similarity:</b> 0.718",
           "<b>Index X:</b> 2<br><b>Text X:</b> The weather is nice today.<br><b>Index Y:</b> 11<br><b>Text Y:</b> Machine learning is fascinating!<br><b>Cosine Similarity:</b> 0.684",
           "<b>Index X:</b> 3<br><b>Text X:</b> The Weather is nice today.<br><b>Index Y:</b> 11<br><b>Text Y:</b> Machine learning is fascinating!<br><b>Cosine Similarity:</b> 0.684",
           "<b>Index X:</b> 4<br><b>Text X:</b> It is hot in Paris this summer.<br><b>Index Y:</b> 11<br><b>Text Y:</b> Machine learning is fascinating!<br><b>Cosine Similarity:</b> 0.629",
           "<b>Index X:</b> 5<br><b>Text X:</b> It is hot in Paris this summer<br><b>Index Y:</b> 11<br><b>Text Y:</b> Machine learning is fascinating!<br><b>Cosine Similarity:</b> 0.629",
           "<b>Index X:</b> 6<br><b>Text X:</b> It is HOT in Paris this summer.<br><b>Index Y:</b> 11<br><b>Text Y:</b> Machine learning is fascinating!<br><b>Cosine Similarity:</b> 0.629",
           "<b>Index X:</b> 7<br><b>Text X:</b> Hello world.<br><b>Index Y:</b> 11<br><b>Text Y:</b> Machine learning is fascinating!<br><b>Cosine Similarity:</b> 0.692",
           "<b>Index X:</b> 8<br><b>Text X:</b> Hello world!<br><b>Index Y:</b> 11<br><b>Text Y:</b> Machine learning is fascinating!<br><b>Cosine Similarity:</b> 0.730",
           "<b>Index X:</b> 9<br><b>Text X:</b> HELLO world.<br><b>Index Y:</b> 11<br><b>Text Y:</b> Machine learning is fascinating!<br><b>Cosine Similarity:</b> 0.692",
           "<b>Index X:</b> 10<br><b>Text X:</b> Machine learning is fascinating.<br><b>Index Y:</b> 11<br><b>Text Y:</b> Machine learning is fascinating!<br><b>Cosine Similarity:</b> 0.971",
           "<b>Index X:</b> 11<br><b>Text X:</b> Machine learning is fascinating!<br><b>Index Y:</b> 11<br><b>Text Y:</b> Machine learning is fascinating!<br><b>Cosine Similarity:</b> 1.000",
           "<b>Index X:</b> 12<br><b>Text X:</b> Artificial intelligence is fascinating.<br><b>Index Y:</b> 11<br><b>Text Y:</b> Machine learning is fascinating!<br><b>Cosine Similarity:</b> 0.866",
           "<b>Index X:</b> 13<br><b>Text X:</b> Football is a popular sport.<br><b>Index Y:</b> 11<br><b>Text Y:</b> Machine learning is fascinating!<br><b>Cosine Similarity:</b> 0.621",
           "<b>Index X:</b> 14<br><b>Text X:</b> Switching to English is sometimes useful.<br><b>Index Y:</b> 11<br><b>Text Y:</b> Machine learning is fascinating!<br><b>Cosine Similarity:</b> 0.674"
          ],
          [
           "<b>Index X:</b> 0<br><b>Text X:</b> The weather is nice today.<br><b>Index Y:</b> 12<br><b>Text Y:</b> Artificial intelligence is fascinating.<br><b>Cosine Similarity:</b> 0.695",
           "<b>Index X:</b> 1<br><b>Text X:</b> The weather is nice today!<br><b>Index Y:</b> 12<br><b>Text Y:</b> Artificial intelligence is fascinating.<br><b>Cosine Similarity:</b> 0.693",
           "<b>Index X:</b> 2<br><b>Text X:</b> The weather is nice today.<br><b>Index Y:</b> 12<br><b>Text Y:</b> Artificial intelligence is fascinating.<br><b>Cosine Similarity:</b> 0.695",
           "<b>Index X:</b> 3<br><b>Text X:</b> The Weather is nice today.<br><b>Index Y:</b> 12<br><b>Text Y:</b> Artificial intelligence is fascinating.<br><b>Cosine Similarity:</b> 0.695",
           "<b>Index X:</b> 4<br><b>Text X:</b> It is hot in Paris this summer.<br><b>Index Y:</b> 12<br><b>Text Y:</b> Artificial intelligence is fascinating.<br><b>Cosine Similarity:</b> 0.638",
           "<b>Index X:</b> 5<br><b>Text X:</b> It is hot in Paris this summer<br><b>Index Y:</b> 12<br><b>Text Y:</b> Artificial intelligence is fascinating.<br><b>Cosine Similarity:</b> 0.636",
           "<b>Index X:</b> 6<br><b>Text X:</b> It is HOT in Paris this summer.<br><b>Index Y:</b> 12<br><b>Text Y:</b> Artificial intelligence is fascinating.<br><b>Cosine Similarity:</b> 0.638",
           "<b>Index X:</b> 7<br><b>Text X:</b> Hello world.<br><b>Index Y:</b> 12<br><b>Text Y:</b> Artificial intelligence is fascinating.<br><b>Cosine Similarity:</b> 0.700",
           "<b>Index X:</b> 8<br><b>Text X:</b> Hello world!<br><b>Index Y:</b> 12<br><b>Text Y:</b> Artificial intelligence is fascinating.<br><b>Cosine Similarity:</b> 0.685",
           "<b>Index X:</b> 9<br><b>Text X:</b> HELLO world.<br><b>Index Y:</b> 12<br><b>Text Y:</b> Artificial intelligence is fascinating.<br><b>Cosine Similarity:</b> 0.700",
           "<b>Index X:</b> 10<br><b>Text X:</b> Machine learning is fascinating.<br><b>Index Y:</b> 12<br><b>Text Y:</b> Artificial intelligence is fascinating.<br><b>Cosine Similarity:</b> 0.902",
           "<b>Index X:</b> 11<br><b>Text X:</b> Machine learning is fascinating!<br><b>Index Y:</b> 12<br><b>Text Y:</b> Artificial intelligence is fascinating.<br><b>Cosine Similarity:</b> 0.866",
           "<b>Index X:</b> 12<br><b>Text X:</b> Artificial intelligence is fascinating.<br><b>Index Y:</b> 12<br><b>Text Y:</b> Artificial intelligence is fascinating.<br><b>Cosine Similarity:</b> 1.000",
           "<b>Index X:</b> 13<br><b>Text X:</b> Football is a popular sport.<br><b>Index Y:</b> 12<br><b>Text Y:</b> Artificial intelligence is fascinating.<br><b>Cosine Similarity:</b> 0.651",
           "<b>Index X:</b> 14<br><b>Text X:</b> Switching to English is sometimes useful.<br><b>Index Y:</b> 12<br><b>Text Y:</b> Artificial intelligence is fascinating.<br><b>Cosine Similarity:</b> 0.684"
          ],
          [
           "<b>Index X:</b> 0<br><b>Text X:</b> The weather is nice today.<br><b>Index Y:</b> 13<br><b>Text Y:</b> Football is a popular sport.<br><b>Cosine Similarity:</b> 0.706",
           "<b>Index X:</b> 1<br><b>Text X:</b> The weather is nice today!<br><b>Index Y:</b> 13<br><b>Text Y:</b> Football is a popular sport.<br><b>Cosine Similarity:</b> 0.701",
           "<b>Index X:</b> 2<br><b>Text X:</b> The weather is nice today.<br><b>Index Y:</b> 13<br><b>Text Y:</b> Football is a popular sport.<br><b>Cosine Similarity:</b> 0.706",
           "<b>Index X:</b> 3<br><b>Text X:</b> The Weather is nice today.<br><b>Index Y:</b> 13<br><b>Text Y:</b> Football is a popular sport.<br><b>Cosine Similarity:</b> 0.706",
           "<b>Index X:</b> 4<br><b>Text X:</b> It is hot in Paris this summer.<br><b>Index Y:</b> 13<br><b>Text Y:</b> Football is a popular sport.<br><b>Cosine Similarity:</b> 0.670",
           "<b>Index X:</b> 5<br><b>Text X:</b> It is hot in Paris this summer<br><b>Index Y:</b> 13<br><b>Text Y:</b> Football is a popular sport.<br><b>Cosine Similarity:</b> 0.665",
           "<b>Index X:</b> 6<br><b>Text X:</b> It is HOT in Paris this summer.<br><b>Index Y:</b> 13<br><b>Text Y:</b> Football is a popular sport.<br><b>Cosine Similarity:</b> 0.670",
           "<b>Index X:</b> 7<br><b>Text X:</b> Hello world.<br><b>Index Y:</b> 13<br><b>Text Y:</b> Football is a popular sport.<br><b>Cosine Similarity:</b> 0.666",
           "<b>Index X:</b> 8<br><b>Text X:</b> Hello world!<br><b>Index Y:</b> 13<br><b>Text Y:</b> Football is a popular sport.<br><b>Cosine Similarity:</b> 0.662",
           "<b>Index X:</b> 9<br><b>Text X:</b> HELLO world.<br><b>Index Y:</b> 13<br><b>Text Y:</b> Football is a popular sport.<br><b>Cosine Similarity:</b> 0.666",
           "<b>Index X:</b> 10<br><b>Text X:</b> Machine learning is fascinating.<br><b>Index Y:</b> 13<br><b>Text Y:</b> Football is a popular sport.<br><b>Cosine Similarity:</b> 0.637",
           "<b>Index X:</b> 11<br><b>Text X:</b> Machine learning is fascinating!<br><b>Index Y:</b> 13<br><b>Text Y:</b> Football is a popular sport.<br><b>Cosine Similarity:</b> 0.621",
           "<b>Index X:</b> 12<br><b>Text X:</b> Artificial intelligence is fascinating.<br><b>Index Y:</b> 13<br><b>Text Y:</b> Football is a popular sport.<br><b>Cosine Similarity:</b> 0.651",
           "<b>Index X:</b> 13<br><b>Text X:</b> Football is a popular sport.<br><b>Index Y:</b> 13<br><b>Text Y:</b> Football is a popular sport.<br><b>Cosine Similarity:</b> 1.000",
           "<b>Index X:</b> 14<br><b>Text X:</b> Switching to English is sometimes useful.<br><b>Index Y:</b> 13<br><b>Text Y:</b> Football is a popular sport.<br><b>Cosine Similarity:</b> 0.698"
          ],
          [
           "<b>Index X:</b> 0<br><b>Text X:</b> The weather is nice today.<br><b>Index Y:</b> 14<br><b>Text Y:</b> Switching to English is sometimes useful.<br><b>Cosine Similarity:</b> 0.708",
           "<b>Index X:</b> 1<br><b>Text X:</b> The weather is nice today!<br><b>Index Y:</b> 14<br><b>Text Y:</b> Switching to English is sometimes useful.<br><b>Cosine Similarity:</b> 0.705",
           "<b>Index X:</b> 2<br><b>Text X:</b> The weather is nice today.<br><b>Index Y:</b> 14<br><b>Text Y:</b> Switching to English is sometimes useful.<br><b>Cosine Similarity:</b> 0.708",
           "<b>Index X:</b> 3<br><b>Text X:</b> The Weather is nice today.<br><b>Index Y:</b> 14<br><b>Text Y:</b> Switching to English is sometimes useful.<br><b>Cosine Similarity:</b> 0.708",
           "<b>Index X:</b> 4<br><b>Text X:</b> It is hot in Paris this summer.<br><b>Index Y:</b> 14<br><b>Text Y:</b> Switching to English is sometimes useful.<br><b>Cosine Similarity:</b> 0.661",
           "<b>Index X:</b> 5<br><b>Text X:</b> It is hot in Paris this summer<br><b>Index Y:</b> 14<br><b>Text Y:</b> Switching to English is sometimes useful.<br><b>Cosine Similarity:</b> 0.660",
           "<b>Index X:</b> 6<br><b>Text X:</b> It is HOT in Paris this summer.<br><b>Index Y:</b> 14<br><b>Text Y:</b> Switching to English is sometimes useful.<br><b>Cosine Similarity:</b> 0.661",
           "<b>Index X:</b> 7<br><b>Text X:</b> Hello world.<br><b>Index Y:</b> 14<br><b>Text Y:</b> Switching to English is sometimes useful.<br><b>Cosine Similarity:</b> 0.685",
           "<b>Index X:</b> 8<br><b>Text X:</b> Hello world!<br><b>Index Y:</b> 14<br><b>Text Y:</b> Switching to English is sometimes useful.<br><b>Cosine Similarity:</b> 0.682",
           "<b>Index X:</b> 9<br><b>Text X:</b> HELLO world.<br><b>Index Y:</b> 14<br><b>Text Y:</b> Switching to English is sometimes useful.<br><b>Cosine Similarity:</b> 0.685",
           "<b>Index X:</b> 10<br><b>Text X:</b> Machine learning is fascinating.<br><b>Index Y:</b> 14<br><b>Text Y:</b> Switching to English is sometimes useful.<br><b>Cosine Similarity:</b> 0.686",
           "<b>Index X:</b> 11<br><b>Text X:</b> Machine learning is fascinating!<br><b>Index Y:</b> 14<br><b>Text Y:</b> Switching to English is sometimes useful.<br><b>Cosine Similarity:</b> 0.674",
           "<b>Index X:</b> 12<br><b>Text X:</b> Artificial intelligence is fascinating.<br><b>Index Y:</b> 14<br><b>Text Y:</b> Switching to English is sometimes useful.<br><b>Cosine Similarity:</b> 0.684",
           "<b>Index X:</b> 13<br><b>Text X:</b> Football is a popular sport.<br><b>Index Y:</b> 14<br><b>Text Y:</b> Switching to English is sometimes useful.<br><b>Cosine Similarity:</b> 0.698",
           "<b>Index X:</b> 14<br><b>Text X:</b> Switching to English is sometimes useful.<br><b>Index Y:</b> 14<br><b>Text Y:</b> Switching to English is sometimes useful.<br><b>Cosine Similarity:</b> 1.000"
          ]
         ],
         "type": "heatmap",
         "x": [
          0,
          1,
          2,
          3,
          4,
          5,
          6,
          7,
          8,
          9,
          10,
          11,
          12,
          13,
          14
         ],
         "xaxis": "x2",
         "y": [
          0,
          1,
          2,
          3,
          4,
          5,
          6,
          7,
          8,
          9,
          10,
          11,
          12,
          13,
          14
         ],
         "yaxis": "y2",
         "z": {
          "bdata": "AACAP7L4eT8AAIA/AACAP9gKSD+UAEY/2ApIP1LvRT8IkkQ/Uu9FP0NsMT98Ai8/c+gxP362ND9GKDU/svh5PwAAgD+y+Hk/svh5Pw4JQz8sOUE/DglDP/twRD/8g0s/+3BEPzoPMz8g3jc/4FMxPyxeMz94ZjQ/AACAP7L4eT8AAIA/AACAP9gKSD+UAEY/2ApIP1LvRT8IkkQ/Uu9FP0NsMT98Ai8/c+gxP362ND9GKDU/AACAP7L4eT8AAIA/AACAP9gKSD+UAEY/2ApIP1LvRT8IkkQ/Uu9FP0NsMT98Ai8/c+gxP362ND9GKDU/2ApIPw4JQz/YCkg/2ApIP/7/fz9Y2n4//v9/P6UHMD/6mi4/pQcwP5+LJD8wGyE/tGIjP4mGKz9MOSk/lABGPyw5QT+UAEY/lABGP1jafj8AAIA/WNp+PxI2Lj/oUi0/EjYuP8gxJD/4+yA/AsQiPwEvKj9D/ig/2ApIPw4JQz/YCkg/2ApIP/7/fz9Y2n4//v9/P6UHMD/6mi4/pQcwP5+LJD8wGyE/tGIjP4mGKz9MOSk/Uu9FP/twRD9S70U/Uu9FP6UHMD8SNi4/pQcwPwAAgD+wQXc/AACAP7s7Nj9SODE/NCczP1BkKj/aSC8/CJJEP/yDSz8IkkQ/CJJEP/qaLj/oUi0/+pouP7BBdz8AAIA/sEF3P1KoMz+8xTo/JF0vP4VZKT+KeS4/Uu9FP/twRD9S70U/Uu9FP6UHMD8SNi4/pQcwPwAAgD+wQXc/AACAP7s7Nj9SODE/NCczP1BkKj/aSC8/Q2wxPzoPMz9DbDE/Q2wxP5+LJD/IMSQ/n4skP7s7Nj9SqDM/uzs2PwAAgD/kr3g/v9FmP5UeIz9NlC8/fAIvPyDeNz98Ai8/fAIvPzAbIT/4+yA/MBshP1I4MT+8xTo/UjgxP+SveD///38/lcVdP7XdHj/ioSw/c+gxP+BTMT9z6DE/c+gxP7RiIz8CxCI/tGIjPzQnMz8kXS8/NCczP7/RZj+VxV0/AACAPzyWJj/GHC8/frY0PyxeMz9+tjQ/frY0P4mGKz8BLyo/iYYrP1BkKj+FWSk/UGQqP5UeIz+13R4/PJYmP///fz9UlTI/Rig1P3hmND9GKDU/Rig1P0w5KT9D/ig/TDkpP9pILz+KeS4/2kgvP02ULz/ioSw/xhwvP1SVMj8AAIA/",
          "dtype": "f4",
          "shape": "15, 15"
         },
         "zmax": 1,
         "zmin": 0
        }
       ],
       "layout": {
        "annotations": [
         {
          "font": {
           "size": 16
          },
          "showarrow": false,
          "text": "all-MiniLM-L6-v2",
          "x": 0.23,
          "xanchor": "center",
          "xref": "paper",
          "y": 1,
          "yanchor": "bottom",
          "yref": "paper"
         },
         {
          "font": {
           "size": 16
          },
          "showarrow": false,
          "text": "jina-embeddings-v2-base-en",
          "x": 0.77,
          "xanchor": "center",
          "xref": "paper",
          "y": 1,
          "yanchor": "bottom",
          "yref": "paper"
         }
        ],
        "height": 650,
        "template": {
         "data": {
          "bar": [
           {
            "error_x": {
             "color": "#2a3f5f"
            },
            "error_y": {
             "color": "#2a3f5f"
            },
            "marker": {
             "line": {
              "color": "#E5ECF6",
              "width": 0.5
             },
             "pattern": {
              "fillmode": "overlay",
              "size": 10,
              "solidity": 0.2
             }
            },
            "type": "bar"
           }
          ],
          "barpolar": [
           {
            "marker": {
             "line": {
              "color": "#E5ECF6",
              "width": 0.5
             },
             "pattern": {
              "fillmode": "overlay",
              "size": 10,
              "solidity": 0.2
             }
            },
            "type": "barpolar"
           }
          ],
          "carpet": [
           {
            "aaxis": {
             "endlinecolor": "#2a3f5f",
             "gridcolor": "white",
             "linecolor": "white",
             "minorgridcolor": "white",
             "startlinecolor": "#2a3f5f"
            },
            "baxis": {
             "endlinecolor": "#2a3f5f",
             "gridcolor": "white",
             "linecolor": "white",
             "minorgridcolor": "white",
             "startlinecolor": "#2a3f5f"
            },
            "type": "carpet"
           }
          ],
          "choropleth": [
           {
            "colorbar": {
             "outlinewidth": 0,
             "ticks": ""
            },
            "type": "choropleth"
           }
          ],
          "contour": [
           {
            "colorbar": {
             "outlinewidth": 0,
             "ticks": ""
            },
            "colorscale": [
             [
              0,
              "#0d0887"
             ],
             [
              0.1111111111111111,
              "#46039f"
             ],
             [
              0.2222222222222222,
              "#7201a8"
             ],
             [
              0.3333333333333333,
              "#9c179e"
             ],
             [
              0.4444444444444444,
              "#bd3786"
             ],
             [
              0.5555555555555556,
              "#d8576b"
             ],
             [
              0.6666666666666666,
              "#ed7953"
             ],
             [
              0.7777777777777778,
              "#fb9f3a"
             ],
             [
              0.8888888888888888,
              "#fdca26"
             ],
             [
              1,
              "#f0f921"
             ]
            ],
            "type": "contour"
           }
          ],
          "contourcarpet": [
           {
            "colorbar": {
             "outlinewidth": 0,
             "ticks": ""
            },
            "type": "contourcarpet"
           }
          ],
          "heatmap": [
           {
            "colorbar": {
             "outlinewidth": 0,
             "ticks": ""
            },
            "colorscale": [
             [
              0,
              "#0d0887"
             ],
             [
              0.1111111111111111,
              "#46039f"
             ],
             [
              0.2222222222222222,
              "#7201a8"
             ],
             [
              0.3333333333333333,
              "#9c179e"
             ],
             [
              0.4444444444444444,
              "#bd3786"
             ],
             [
              0.5555555555555556,
              "#d8576b"
             ],
             [
              0.6666666666666666,
              "#ed7953"
             ],
             [
              0.7777777777777778,
              "#fb9f3a"
             ],
             [
              0.8888888888888888,
              "#fdca26"
             ],
             [
              1,
              "#f0f921"
             ]
            ],
            "type": "heatmap"
           }
          ],
          "histogram": [
           {
            "marker": {
             "pattern": {
              "fillmode": "overlay",
              "size": 10,
              "solidity": 0.2
             }
            },
            "type": "histogram"
           }
          ],
          "histogram2d": [
           {
            "colorbar": {
             "outlinewidth": 0,
             "ticks": ""
            },
            "colorscale": [
             [
              0,
              "#0d0887"
             ],
             [
              0.1111111111111111,
              "#46039f"
             ],
             [
              0.2222222222222222,
              "#7201a8"
             ],
             [
              0.3333333333333333,
              "#9c179e"
             ],
             [
              0.4444444444444444,
              "#bd3786"
             ],
             [
              0.5555555555555556,
              "#d8576b"
             ],
             [
              0.6666666666666666,
              "#ed7953"
             ],
             [
              0.7777777777777778,
              "#fb9f3a"
             ],
             [
              0.8888888888888888,
              "#fdca26"
             ],
             [
              1,
              "#f0f921"
             ]
            ],
            "type": "histogram2d"
           }
          ],
          "histogram2dcontour": [
           {
            "colorbar": {
             "outlinewidth": 0,
             "ticks": ""
            },
            "colorscale": [
             [
              0,
              "#0d0887"
             ],
             [
              0.1111111111111111,
              "#46039f"
             ],
             [
              0.2222222222222222,
              "#7201a8"
             ],
             [
              0.3333333333333333,
              "#9c179e"
             ],
             [
              0.4444444444444444,
              "#bd3786"
             ],
             [
              0.5555555555555556,
              "#d8576b"
             ],
             [
              0.6666666666666666,
              "#ed7953"
             ],
             [
              0.7777777777777778,
              "#fb9f3a"
             ],
             [
              0.8888888888888888,
              "#fdca26"
             ],
             [
              1,
              "#f0f921"
             ]
            ],
            "type": "histogram2dcontour"
           }
          ],
          "mesh3d": [
           {
            "colorbar": {
             "outlinewidth": 0,
             "ticks": ""
            },
            "type": "mesh3d"
           }
          ],
          "parcoords": [
           {
            "line": {
             "colorbar": {
              "outlinewidth": 0,
              "ticks": ""
             }
            },
            "type": "parcoords"
           }
          ],
          "pie": [
           {
            "automargin": true,
            "type": "pie"
           }
          ],
          "scatter": [
           {
            "fillpattern": {
             "fillmode": "overlay",
             "size": 10,
             "solidity": 0.2
            },
            "type": "scatter"
           }
          ],
          "scatter3d": [
           {
            "line": {
             "colorbar": {
              "outlinewidth": 0,
              "ticks": ""
             }
            },
            "marker": {
             "colorbar": {
              "outlinewidth": 0,
              "ticks": ""
             }
            },
            "type": "scatter3d"
           }
          ],
          "scattercarpet": [
           {
            "marker": {
             "colorbar": {
              "outlinewidth": 0,
              "ticks": ""
             }
            },
            "type": "scattercarpet"
           }
          ],
          "scattergeo": [
           {
            "marker": {
             "colorbar": {
              "outlinewidth": 0,
              "ticks": ""
             }
            },
            "type": "scattergeo"
           }
          ],
          "scattergl": [
           {
            "marker": {
             "colorbar": {
              "outlinewidth": 0,
              "ticks": ""
             }
            },
            "type": "scattergl"
           }
          ],
          "scattermap": [
           {
            "marker": {
             "colorbar": {
              "outlinewidth": 0,
              "ticks": ""
             }
            },
            "type": "scattermap"
           }
          ],
          "scattermapbox": [
           {
            "marker": {
             "colorbar": {
              "outlinewidth": 0,
              "ticks": ""
             }
            },
            "type": "scattermapbox"
           }
          ],
          "scatterpolar": [
           {
            "marker": {
             "colorbar": {
              "outlinewidth": 0,
              "ticks": ""
             }
            },
            "type": "scatterpolar"
           }
          ],
          "scatterpolargl": [
           {
            "marker": {
             "colorbar": {
              "outlinewidth": 0,
              "ticks": ""
             }
            },
            "type": "scatterpolargl"
           }
          ],
          "scatterternary": [
           {
            "marker": {
             "colorbar": {
              "outlinewidth": 0,
              "ticks": ""
             }
            },
            "type": "scatterternary"
           }
          ],
          "surface": [
           {
            "colorbar": {
             "outlinewidth": 0,
             "ticks": ""
            },
            "colorscale": [
             [
              0,
              "#0d0887"
             ],
             [
              0.1111111111111111,
              "#46039f"
             ],
             [
              0.2222222222222222,
              "#7201a8"
             ],
             [
              0.3333333333333333,
              "#9c179e"
             ],
             [
              0.4444444444444444,
              "#bd3786"
             ],
             [
              0.5555555555555556,
              "#d8576b"
             ],
             [
              0.6666666666666666,
              "#ed7953"
             ],
             [
              0.7777777777777778,
              "#fb9f3a"
             ],
             [
              0.8888888888888888,
              "#fdca26"
             ],
             [
              1,
              "#f0f921"
             ]
            ],
            "type": "surface"
           }
          ],
          "table": [
           {
            "cells": {
             "fill": {
              "color": "#EBF0F8"
             },
             "line": {
              "color": "white"
             }
            },
            "header": {
             "fill": {
              "color": "#C8D4E3"
             },
             "line": {
              "color": "white"
             }
            },
            "type": "table"
           }
          ]
         },
         "layout": {
          "annotationdefaults": {
           "arrowcolor": "#2a3f5f",
           "arrowhead": 0,
           "arrowwidth": 1
          },
          "autotypenumbers": "strict",
          "coloraxis": {
           "colorbar": {
            "outlinewidth": 0,
            "ticks": ""
           }
          },
          "colorscale": {
           "diverging": [
            [
             0,
             "#8e0152"
            ],
            [
             0.1,
             "#c51b7d"
            ],
            [
             0.2,
             "#de77ae"
            ],
            [
             0.3,
             "#f1b6da"
            ],
            [
             0.4,
             "#fde0ef"
            ],
            [
             0.5,
             "#f7f7f7"
            ],
            [
             0.6,
             "#e6f5d0"
            ],
            [
             0.7,
             "#b8e186"
            ],
            [
             0.8,
             "#7fbc41"
            ],
            [
             0.9,
             "#4d9221"
            ],
            [
             1,
             "#276419"
            ]
           ],
           "sequential": [
            [
             0,
             "#0d0887"
            ],
            [
             0.1111111111111111,
             "#46039f"
            ],
            [
             0.2222222222222222,
             "#7201a8"
            ],
            [
             0.3333333333333333,
             "#9c179e"
            ],
            [
             0.4444444444444444,
             "#bd3786"
            ],
            [
             0.5555555555555556,
             "#d8576b"
            ],
            [
             0.6666666666666666,
             "#ed7953"
            ],
            [
             0.7777777777777778,
             "#fb9f3a"
            ],
            [
             0.8888888888888888,
             "#fdca26"
            ],
            [
             1,
             "#f0f921"
            ]
           ],
           "sequentialminus": [
            [
             0,
             "#0d0887"
            ],
            [
             0.1111111111111111,
             "#46039f"
            ],
            [
             0.2222222222222222,
             "#7201a8"
            ],
            [
             0.3333333333333333,
             "#9c179e"
            ],
            [
             0.4444444444444444,
             "#bd3786"
            ],
            [
             0.5555555555555556,
             "#d8576b"
            ],
            [
             0.6666666666666666,
             "#ed7953"
            ],
            [
             0.7777777777777778,
             "#fb9f3a"
            ],
            [
             0.8888888888888888,
             "#fdca26"
            ],
            [
             1,
             "#f0f921"
            ]
           ]
          },
          "colorway": [
           "#636efa",
           "#EF553B",
           "#00cc96",
           "#ab63fa",
           "#FFA15A",
           "#19d3f3",
           "#FF6692",
           "#B6E880",
           "#FF97FF",
           "#FECB52"
          ],
          "font": {
           "color": "#2a3f5f"
          },
          "geo": {
           "bgcolor": "white",
           "lakecolor": "white",
           "landcolor": "#E5ECF6",
           "showlakes": true,
           "showland": true,
           "subunitcolor": "white"
          },
          "hoverlabel": {
           "align": "left"
          },
          "hovermode": "closest",
          "mapbox": {
           "style": "light"
          },
          "paper_bgcolor": "white",
          "plot_bgcolor": "#E5ECF6",
          "polar": {
           "angularaxis": {
            "gridcolor": "white",
            "linecolor": "white",
            "ticks": ""
           },
           "bgcolor": "#E5ECF6",
           "radialaxis": {
            "gridcolor": "white",
            "linecolor": "white",
            "ticks": ""
           }
          },
          "scene": {
           "xaxis": {
            "backgroundcolor": "#E5ECF6",
            "gridcolor": "white",
            "gridwidth": 2,
            "linecolor": "white",
            "showbackground": true,
            "ticks": "",
            "zerolinecolor": "white"
           },
           "yaxis": {
            "backgroundcolor": "#E5ECF6",
            "gridcolor": "white",
            "gridwidth": 2,
            "linecolor": "white",
            "showbackground": true,
            "ticks": "",
            "zerolinecolor": "white"
           },
           "zaxis": {
            "backgroundcolor": "#E5ECF6",
            "gridcolor": "white",
            "gridwidth": 2,
            "linecolor": "white",
            "showbackground": true,
            "ticks": "",
            "zerolinecolor": "white"
           }
          },
          "shapedefaults": {
           "line": {
            "color": "#2a3f5f"
           }
          },
          "ternary": {
           "aaxis": {
            "gridcolor": "white",
            "linecolor": "white",
            "ticks": ""
           },
           "baxis": {
            "gridcolor": "white",
            "linecolor": "white",
            "ticks": ""
           },
           "bgcolor": "#E5ECF6",
           "caxis": {
            "gridcolor": "white",
            "linecolor": "white",
            "ticks": ""
           }
          },
          "title": {
           "x": 0.05
          },
          "xaxis": {
           "automargin": true,
           "gridcolor": "white",
           "linecolor": "white",
           "ticks": "",
           "title": {
            "standoff": 15
           },
           "zerolinecolor": "white",
           "zerolinewidth": 2
          },
          "yaxis": {
           "automargin": true,
           "gridcolor": "white",
           "linecolor": "white",
           "ticks": "",
           "title": {
            "standoff": 15
           },
           "zerolinecolor": "white",
           "zerolinewidth": 2
          }
         }
        },
        "title": {
         "text": "Cosine Similarity Matrix – all-MiniLM-L6-v2 vs jina-embeddings-v2-base-en"
        },
        "width": 1300,
        "xaxis": {
         "anchor": "y",
         "domain": [
          0,
          0.46
         ]
        },
        "xaxis2": {
         "anchor": "y2",
         "domain": [
          0.54,
          1
         ]
        },
        "yaxis": {
         "anchor": "x",
         "autorange": "reversed",
         "domain": [
          0,
          1
         ]
        },
        "yaxis2": {
         "anchor": "x2",
         "autorange": "reversed",
         "domain": [
          0,
          1
         ]
        }
       }
      }
     },
     "metadata": {},
     "output_type": "display_data"
    },
    {
     "data": {
      "application/vnd.plotly.v1+json": {
       "config": {
        "plotlyServerURL": "https://plot.ly"
       },
       "data": [
        {
         "colorbar": {
          "title": {
           "text": "Cosine<br>Similarity"
          }
         },
         "colorscale": [
          [
           0,
           "#440154"
          ],
          [
           0.1111111111111111,
           "#482878"
          ],
          [
           0.2222222222222222,
           "#3e4989"
          ],
          [
           0.3333333333333333,
           "#31688e"
          ],
          [
           0.4444444444444444,
           "#26828e"
          ],
          [
           0.5555555555555556,
           "#1f9e89"
          ],
          [
           0.6666666666666666,
           "#35b779"
          ],
          [
           0.7777777777777778,
           "#6ece58"
          ],
          [
           0.8888888888888888,
           "#b5de2b"
          ],
          [
           1,
           "#fde725"
          ]
         ],
         "hoverinfo": "text",
         "text": [
          [
           "<b>Index X:</b> 0<br><b>Text X:</b> The weather is nice today.<br><b>Index Y:</b> 0<br><b>Text Y:</b> The weather is nice today.<br><b>Cosine Similarity:</b> 1.000",
           "<b>Index X:</b> 1<br><b>Text X:</b> The weather is nice today!<br><b>Index Y:</b> 0<br><b>Text Y:</b> The weather is nice today.<br><b>Cosine Similarity:</b> 0.927",
           "<b>Index X:</b> 2<br><b>Text X:</b> The weather is nice today.<br><b>Index Y:</b> 0<br><b>Text Y:</b> The weather is nice today.<br><b>Cosine Similarity:</b> 1.000",
           "<b>Index X:</b> 3<br><b>Text X:</b> The Weather is nice today.<br><b>Index Y:</b> 0<br><b>Text Y:</b> The weather is nice today.<br><b>Cosine Similarity:</b> 0.950",
           "<b>Index X:</b> 4<br><b>Text X:</b> It is hot in Paris this summer.<br><b>Index Y:</b> 0<br><b>Text Y:</b> The weather is nice today.<br><b>Cosine Similarity:</b> 0.384",
           "<b>Index X:</b> 5<br><b>Text X:</b> It is hot in Paris this summer<br><b>Index Y:</b> 0<br><b>Text Y:</b> The weather is nice today.<br><b>Cosine Similarity:</b> 0.361",
           "<b>Index X:</b> 6<br><b>Text X:</b> It is HOT in Paris this summer.<br><b>Index Y:</b> 0<br><b>Text Y:</b> The weather is nice today.<br><b>Cosine Similarity:</b> 0.358",
           "<b>Index X:</b> 7<br><b>Text X:</b> Hello world.<br><b>Index Y:</b> 0<br><b>Text Y:</b> The weather is nice today.<br><b>Cosine Similarity:</b> 0.232",
           "<b>Index X:</b> 8<br><b>Text X:</b> Hello world!<br><b>Index Y:</b> 0<br><b>Text Y:</b> The weather is nice today.<br><b>Cosine Similarity:</b> 0.199",
           "<b>Index X:</b> 9<br><b>Text X:</b> HELLO world.<br><b>Index Y:</b> 0<br><b>Text Y:</b> The weather is nice today.<br><b>Cosine Similarity:</b> 0.221",
           "<b>Index X:</b> 10<br><b>Text X:</b> Machine learning is fascinating.<br><b>Index Y:</b> 0<br><b>Text Y:</b> The weather is nice today.<br><b>Cosine Similarity:</b> 0.114",
           "<b>Index X:</b> 11<br><b>Text X:</b> Machine learning is fascinating!<br><b>Index Y:</b> 0<br><b>Text Y:</b> The weather is nice today.<br><b>Cosine Similarity:</b> 0.107",
           "<b>Index X:</b> 12<br><b>Text X:</b> Artificial intelligence is fascinating.<br><b>Index Y:</b> 0<br><b>Text Y:</b> The weather is nice today.<br><b>Cosine Similarity:</b> 0.087",
           "<b>Index X:</b> 13<br><b>Text X:</b> Football is a popular sport.<br><b>Index Y:</b> 0<br><b>Text Y:</b> The weather is nice today.<br><b>Cosine Similarity:</b> 0.156",
           "<b>Index X:</b> 14<br><b>Text X:</b> Switching to English is sometimes useful.<br><b>Index Y:</b> 0<br><b>Text Y:</b> The weather is nice today.<br><b>Cosine Similarity:</b> 0.091"
          ],
          [
           "<b>Index X:</b> 0<br><b>Text X:</b> The weather is nice today.<br><b>Index Y:</b> 1<br><b>Text Y:</b> The weather is nice today!<br><b>Cosine Similarity:</b> 0.927",
           "<b>Index X:</b> 1<br><b>Text X:</b> The weather is nice today!<br><b>Index Y:</b> 1<br><b>Text Y:</b> The weather is nice today!<br><b>Cosine Similarity:</b> 1.000",
           "<b>Index X:</b> 2<br><b>Text X:</b> The weather is nice today.<br><b>Index Y:</b> 1<br><b>Text Y:</b> The weather is nice today!<br><b>Cosine Similarity:</b> 0.927",
           "<b>Index X:</b> 3<br><b>Text X:</b> The Weather is nice today.<br><b>Index Y:</b> 1<br><b>Text Y:</b> The weather is nice today!<br><b>Cosine Similarity:</b> 0.886",
           "<b>Index X:</b> 4<br><b>Text X:</b> It is hot in Paris this summer.<br><b>Index Y:</b> 1<br><b>Text Y:</b> The weather is nice today!<br><b>Cosine Similarity:</b> 0.370",
           "<b>Index X:</b> 5<br><b>Text X:</b> It is hot in Paris this summer<br><b>Index Y:</b> 1<br><b>Text Y:</b> The weather is nice today!<br><b>Cosine Similarity:</b> 0.356",
           "<b>Index X:</b> 6<br><b>Text X:</b> It is HOT in Paris this summer.<br><b>Index Y:</b> 1<br><b>Text Y:</b> The weather is nice today!<br><b>Cosine Similarity:</b> 0.353",
           "<b>Index X:</b> 7<br><b>Text X:</b> Hello world.<br><b>Index Y:</b> 1<br><b>Text Y:</b> The weather is nice today!<br><b>Cosine Similarity:</b> 0.206",
           "<b>Index X:</b> 8<br><b>Text X:</b> Hello world!<br><b>Index Y:</b> 1<br><b>Text Y:</b> The weather is nice today!<br><b>Cosine Similarity:</b> 0.308",
           "<b>Index X:</b> 9<br><b>Text X:</b> HELLO world.<br><b>Index Y:</b> 1<br><b>Text Y:</b> The weather is nice today!<br><b>Cosine Similarity:</b> 0.206",
           "<b>Index X:</b> 10<br><b>Text X:</b> Machine learning is fascinating.<br><b>Index Y:</b> 1<br><b>Text Y:</b> The weather is nice today!<br><b>Cosine Similarity:</b> 0.124",
           "<b>Index X:</b> 11<br><b>Text X:</b> Machine learning is fascinating!<br><b>Index Y:</b> 1<br><b>Text Y:</b> The weather is nice today!<br><b>Cosine Similarity:</b> 0.206",
           "<b>Index X:</b> 12<br><b>Text X:</b> Artificial intelligence is fascinating.<br><b>Index Y:</b> 1<br><b>Text Y:</b> The weather is nice today!<br><b>Cosine Similarity:</b> 0.088",
           "<b>Index X:</b> 13<br><b>Text X:</b> Football is a popular sport.<br><b>Index Y:</b> 1<br><b>Text Y:</b> The weather is nice today!<br><b>Cosine Similarity:</b> 0.151",
           "<b>Index X:</b> 14<br><b>Text X:</b> Switching to English is sometimes useful.<br><b>Index Y:</b> 1<br><b>Text Y:</b> The weather is nice today!<br><b>Cosine Similarity:</b> 0.089"
          ],
          [
           "<b>Index X:</b> 0<br><b>Text X:</b> The weather is nice today.<br><b>Index Y:</b> 2<br><b>Text Y:</b> The weather is nice today.<br><b>Cosine Similarity:</b> 1.000",
           "<b>Index X:</b> 1<br><b>Text X:</b> The weather is nice today!<br><b>Index Y:</b> 2<br><b>Text Y:</b> The weather is nice today.<br><b>Cosine Similarity:</b> 0.927",
           "<b>Index X:</b> 2<br><b>Text X:</b> The weather is nice today.<br><b>Index Y:</b> 2<br><b>Text Y:</b> The weather is nice today.<br><b>Cosine Similarity:</b> 1.000",
           "<b>Index X:</b> 3<br><b>Text X:</b> The Weather is nice today.<br><b>Index Y:</b> 2<br><b>Text Y:</b> The weather is nice today.<br><b>Cosine Similarity:</b> 0.950",
           "<b>Index X:</b> 4<br><b>Text X:</b> It is hot in Paris this summer.<br><b>Index Y:</b> 2<br><b>Text Y:</b> The weather is nice today.<br><b>Cosine Similarity:</b> 0.384",
           "<b>Index X:</b> 5<br><b>Text X:</b> It is hot in Paris this summer<br><b>Index Y:</b> 2<br><b>Text Y:</b> The weather is nice today.<br><b>Cosine Similarity:</b> 0.361",
           "<b>Index X:</b> 6<br><b>Text X:</b> It is HOT in Paris this summer.<br><b>Index Y:</b> 2<br><b>Text Y:</b> The weather is nice today.<br><b>Cosine Similarity:</b> 0.358",
           "<b>Index X:</b> 7<br><b>Text X:</b> Hello world.<br><b>Index Y:</b> 2<br><b>Text Y:</b> The weather is nice today.<br><b>Cosine Similarity:</b> 0.232",
           "<b>Index X:</b> 8<br><b>Text X:</b> Hello world!<br><b>Index Y:</b> 2<br><b>Text Y:</b> The weather is nice today.<br><b>Cosine Similarity:</b> 0.199",
           "<b>Index X:</b> 9<br><b>Text X:</b> HELLO world.<br><b>Index Y:</b> 2<br><b>Text Y:</b> The weather is nice today.<br><b>Cosine Similarity:</b> 0.221",
           "<b>Index X:</b> 10<br><b>Text X:</b> Machine learning is fascinating.<br><b>Index Y:</b> 2<br><b>Text Y:</b> The weather is nice today.<br><b>Cosine Similarity:</b> 0.114",
           "<b>Index X:</b> 11<br><b>Text X:</b> Machine learning is fascinating!<br><b>Index Y:</b> 2<br><b>Text Y:</b> The weather is nice today.<br><b>Cosine Similarity:</b> 0.107",
           "<b>Index X:</b> 12<br><b>Text X:</b> Artificial intelligence is fascinating.<br><b>Index Y:</b> 2<br><b>Text Y:</b> The weather is nice today.<br><b>Cosine Similarity:</b> 0.087",
           "<b>Index X:</b> 13<br><b>Text X:</b> Football is a popular sport.<br><b>Index Y:</b> 2<br><b>Text Y:</b> The weather is nice today.<br><b>Cosine Similarity:</b> 0.156",
           "<b>Index X:</b> 14<br><b>Text X:</b> Switching to English is sometimes useful.<br><b>Index Y:</b> 2<br><b>Text Y:</b> The weather is nice today.<br><b>Cosine Similarity:</b> 0.091"
          ],
          [
           "<b>Index X:</b> 0<br><b>Text X:</b> The weather is nice today.<br><b>Index Y:</b> 3<br><b>Text Y:</b> The Weather is nice today.<br><b>Cosine Similarity:</b> 0.950",
           "<b>Index X:</b> 1<br><b>Text X:</b> The weather is nice today!<br><b>Index Y:</b> 3<br><b>Text Y:</b> The Weather is nice today.<br><b>Cosine Similarity:</b> 0.886",
           "<b>Index X:</b> 2<br><b>Text X:</b> The weather is nice today.<br><b>Index Y:</b> 3<br><b>Text Y:</b> The Weather is nice today.<br><b>Cosine Similarity:</b> 0.950",
           "<b>Index X:</b> 3<br><b>Text X:</b> The Weather is nice today.<br><b>Index Y:</b> 3<br><b>Text Y:</b> The Weather is nice today.<br><b>Cosine Similarity:</b> 1.000",
           "<b>Index X:</b> 4<br><b>Text X:</b> It is hot in Paris this summer.<br><b>Index Y:</b> 3<br><b>Text Y:</b> The Weather is nice today.<br><b>Cosine Similarity:</b> 0.382",
           "<b>Index X:</b> 5<br><b>Text X:</b> It is hot in Paris this summer<br><b>Index Y:</b> 3<br><b>Text Y:</b> The Weather is nice today.<br><b>Cosine Similarity:</b> 0.364",
           "<b>Index X:</b> 6<br><b>Text X:</b> It is HOT in Paris this summer.<br><b>Index Y:</b> 3<br><b>Text Y:</b> The Weather is nice today.<br><b>Cosine Similarity:</b> 0.364",
           "<b>Index X:</b> 7<br><b>Text X:</b> Hello world.<br><b>Index Y:</b> 3<br><b>Text Y:</b> The Weather is nice today.<br><b>Cosine Similarity:</b> 0.246",
           "<b>Index X:</b> 8<br><b>Text X:</b> Hello world!<br><b>Index Y:</b> 3<br><b>Text Y:</b> The Weather is nice today.<br><b>Cosine Similarity:</b> 0.207",
           "<b>Index X:</b> 9<br><b>Text X:</b> HELLO world.<br><b>Index Y:</b> 3<br><b>Text Y:</b> The Weather is nice today.<br><b>Cosine Similarity:</b> 0.249",
           "<b>Index X:</b> 10<br><b>Text X:</b> Machine learning is fascinating.<br><b>Index Y:</b> 3<br><b>Text Y:</b> The Weather is nice today.<br><b>Cosine Similarity:</b> 0.122",
           "<b>Index X:</b> 11<br><b>Text X:</b> Machine learning is fascinating!<br><b>Index Y:</b> 3<br><b>Text Y:</b> The Weather is nice today.<br><b>Cosine Similarity:</b> 0.114",
           "<b>Index X:</b> 12<br><b>Text X:</b> Artificial intelligence is fascinating.<br><b>Index Y:</b> 3<br><b>Text Y:</b> The Weather is nice today.<br><b>Cosine Similarity:</b> 0.095",
           "<b>Index X:</b> 13<br><b>Text X:</b> Football is a popular sport.<br><b>Index Y:</b> 3<br><b>Text Y:</b> The Weather is nice today.<br><b>Cosine Similarity:</b> 0.169",
           "<b>Index X:</b> 14<br><b>Text X:</b> Switching to English is sometimes useful.<br><b>Index Y:</b> 3<br><b>Text Y:</b> The Weather is nice today.<br><b>Cosine Similarity:</b> 0.097"
          ],
          [
           "<b>Index X:</b> 0<br><b>Text X:</b> The weather is nice today.<br><b>Index Y:</b> 4<br><b>Text Y:</b> It is hot in Paris this summer.<br><b>Cosine Similarity:</b> 0.384",
           "<b>Index X:</b> 1<br><b>Text X:</b> The weather is nice today!<br><b>Index Y:</b> 4<br><b>Text Y:</b> It is hot in Paris this summer.<br><b>Cosine Similarity:</b> 0.370",
           "<b>Index X:</b> 2<br><b>Text X:</b> The weather is nice today.<br><b>Index Y:</b> 4<br><b>Text Y:</b> It is hot in Paris this summer.<br><b>Cosine Similarity:</b> 0.384",
           "<b>Index X:</b> 3<br><b>Text X:</b> The Weather is nice today.<br><b>Index Y:</b> 4<br><b>Text Y:</b> It is hot in Paris this summer.<br><b>Cosine Similarity:</b> 0.382",
           "<b>Index X:</b> 4<br><b>Text X:</b> It is hot in Paris this summer.<br><b>Index Y:</b> 4<br><b>Text Y:</b> It is hot in Paris this summer.<br><b>Cosine Similarity:</b> 1.000",
           "<b>Index X:</b> 5<br><b>Text X:</b> It is hot in Paris this summer<br><b>Index Y:</b> 4<br><b>Text Y:</b> It is hot in Paris this summer.<br><b>Cosine Similarity:</b> 0.948",
           "<b>Index X:</b> 6<br><b>Text X:</b> It is HOT in Paris this summer.<br><b>Index Y:</b> 4<br><b>Text Y:</b> It is hot in Paris this summer.<br><b>Cosine Similarity:</b> 0.974",
           "<b>Index X:</b> 7<br><b>Text X:</b> Hello world.<br><b>Index Y:</b> 4<br><b>Text Y:</b> It is hot in Paris this summer.<br><b>Cosine Similarity:</b> 0.122",
           "<b>Index X:</b> 8<br><b>Text X:</b> Hello world!<br><b>Index Y:</b> 4<br><b>Text Y:</b> It is hot in Paris this summer.<br><b>Cosine Similarity:</b> 0.121",
           "<b>Index X:</b> 9<br><b>Text X:</b> HELLO world.<br><b>Index Y:</b> 4<br><b>Text Y:</b> It is hot in Paris this summer.<br><b>Cosine Similarity:</b> 0.129",
           "<b>Index X:</b> 10<br><b>Text X:</b> Machine learning is fascinating.<br><b>Index Y:</b> 4<br><b>Text Y:</b> It is hot in Paris this summer.<br><b>Cosine Similarity:</b> 0.070",
           "<b>Index X:</b> 11<br><b>Text X:</b> Machine learning is fascinating!<br><b>Index Y:</b> 4<br><b>Text Y:</b> It is hot in Paris this summer.<br><b>Cosine Similarity:</b> 0.072",
           "<b>Index X:</b> 12<br><b>Text X:</b> Artificial intelligence is fascinating.<br><b>Index Y:</b> 4<br><b>Text Y:</b> It is hot in Paris this summer.<br><b>Cosine Similarity:</b> 0.057",
           "<b>Index X:</b> 13<br><b>Text X:</b> Football is a popular sport.<br><b>Index Y:</b> 4<br><b>Text Y:</b> It is hot in Paris this summer.<br><b>Cosine Similarity:</b> 0.147",
           "<b>Index X:</b> 14<br><b>Text X:</b> Switching to English is sometimes useful.<br><b>Index Y:</b> 4<br><b>Text Y:</b> It is hot in Paris this summer.<br><b>Cosine Similarity:</b> 0.075"
          ],
          [
           "<b>Index X:</b> 0<br><b>Text X:</b> The weather is nice today.<br><b>Index Y:</b> 5<br><b>Text Y:</b> It is hot in Paris this summer<br><b>Cosine Similarity:</b> 0.361",
           "<b>Index X:</b> 1<br><b>Text X:</b> The weather is nice today!<br><b>Index Y:</b> 5<br><b>Text Y:</b> It is hot in Paris this summer<br><b>Cosine Similarity:</b> 0.356",
           "<b>Index X:</b> 2<br><b>Text X:</b> The weather is nice today.<br><b>Index Y:</b> 5<br><b>Text Y:</b> It is hot in Paris this summer<br><b>Cosine Similarity:</b> 0.361",
           "<b>Index X:</b> 3<br><b>Text X:</b> The Weather is nice today.<br><b>Index Y:</b> 5<br><b>Text Y:</b> It is hot in Paris this summer<br><b>Cosine Similarity:</b> 0.364",
           "<b>Index X:</b> 4<br><b>Text X:</b> It is hot in Paris this summer.<br><b>Index Y:</b> 5<br><b>Text Y:</b> It is hot in Paris this summer<br><b>Cosine Similarity:</b> 0.948",
           "<b>Index X:</b> 5<br><b>Text X:</b> It is hot in Paris this summer<br><b>Index Y:</b> 5<br><b>Text Y:</b> It is hot in Paris this summer<br><b>Cosine Similarity:</b> 1.000",
           "<b>Index X:</b> 6<br><b>Text X:</b> It is HOT in Paris this summer.<br><b>Index Y:</b> 5<br><b>Text Y:</b> It is hot in Paris this summer<br><b>Cosine Similarity:</b> 0.920",
           "<b>Index X:</b> 7<br><b>Text X:</b> Hello world.<br><b>Index Y:</b> 5<br><b>Text Y:</b> It is hot in Paris this summer<br><b>Cosine Similarity:</b> 0.099",
           "<b>Index X:</b> 8<br><b>Text X:</b> Hello world!<br><b>Index Y:</b> 5<br><b>Text Y:</b> It is hot in Paris this summer<br><b>Cosine Similarity:</b> 0.115",
           "<b>Index X:</b> 9<br><b>Text X:</b> HELLO world.<br><b>Index Y:</b> 5<br><b>Text Y:</b> It is hot in Paris this summer<br><b>Cosine Similarity:</b> 0.109",
           "<b>Index X:</b> 10<br><b>Text X:</b> Machine learning is fascinating.<br><b>Index Y:</b> 5<br><b>Text Y:</b> It is hot in Paris this summer<br><b>Cosine Similarity:</b> 0.064",
           "<b>Index X:</b> 11<br><b>Text X:</b> Machine learning is fascinating!<br><b>Index Y:</b> 5<br><b>Text Y:</b> It is hot in Paris this summer<br><b>Cosine Similarity:</b> 0.070",
           "<b>Index X:</b> 12<br><b>Text X:</b> Artificial intelligence is fascinating.<br><b>Index Y:</b> 5<br><b>Text Y:</b> It is hot in Paris this summer<br><b>Cosine Similarity:</b> 0.047",
           "<b>Index X:</b> 13<br><b>Text X:</b> Football is a popular sport.<br><b>Index Y:</b> 5<br><b>Text Y:</b> It is hot in Paris this summer<br><b>Cosine Similarity:</b> 0.132",
           "<b>Index X:</b> 14<br><b>Text X:</b> Switching to English is sometimes useful.<br><b>Index Y:</b> 5<br><b>Text Y:</b> It is hot in Paris this summer<br><b>Cosine Similarity:</b> 0.072"
          ],
          [
           "<b>Index X:</b> 0<br><b>Text X:</b> The weather is nice today.<br><b>Index Y:</b> 6<br><b>Text Y:</b> It is HOT in Paris this summer.<br><b>Cosine Similarity:</b> 0.358",
           "<b>Index X:</b> 1<br><b>Text X:</b> The weather is nice today!<br><b>Index Y:</b> 6<br><b>Text Y:</b> It is HOT in Paris this summer.<br><b>Cosine Similarity:</b> 0.353",
           "<b>Index X:</b> 2<br><b>Text X:</b> The weather is nice today.<br><b>Index Y:</b> 6<br><b>Text Y:</b> It is HOT in Paris this summer.<br><b>Cosine Similarity:</b> 0.358",
           "<b>Index X:</b> 3<br><b>Text X:</b> The Weather is nice today.<br><b>Index Y:</b> 6<br><b>Text Y:</b> It is HOT in Paris this summer.<br><b>Cosine Similarity:</b> 0.364",
           "<b>Index X:</b> 4<br><b>Text X:</b> It is hot in Paris this summer.<br><b>Index Y:</b> 6<br><b>Text Y:</b> It is HOT in Paris this summer.<br><b>Cosine Similarity:</b> 0.974",
           "<b>Index X:</b> 5<br><b>Text X:</b> It is hot in Paris this summer<br><b>Index Y:</b> 6<br><b>Text Y:</b> It is HOT in Paris this summer.<br><b>Cosine Similarity:</b> 0.920",
           "<b>Index X:</b> 6<br><b>Text X:</b> It is HOT in Paris this summer.<br><b>Index Y:</b> 6<br><b>Text Y:</b> It is HOT in Paris this summer.<br><b>Cosine Similarity:</b> 1.000",
           "<b>Index X:</b> 7<br><b>Text X:</b> Hello world.<br><b>Index Y:</b> 6<br><b>Text Y:</b> It is HOT in Paris this summer.<br><b>Cosine Similarity:</b> 0.122",
           "<b>Index X:</b> 8<br><b>Text X:</b> Hello world!<br><b>Index Y:</b> 6<br><b>Text Y:</b> It is HOT in Paris this summer.<br><b>Cosine Similarity:</b> 0.124",
           "<b>Index X:</b> 9<br><b>Text X:</b> HELLO world.<br><b>Index Y:</b> 6<br><b>Text Y:</b> It is HOT in Paris this summer.<br><b>Cosine Similarity:</b> 0.157",
           "<b>Index X:</b> 10<br><b>Text X:</b> Machine learning is fascinating.<br><b>Index Y:</b> 6<br><b>Text Y:</b> It is HOT in Paris this summer.<br><b>Cosine Similarity:</b> 0.061",
           "<b>Index X:</b> 11<br><b>Text X:</b> Machine learning is fascinating!<br><b>Index Y:</b> 6<br><b>Text Y:</b> It is HOT in Paris this summer.<br><b>Cosine Similarity:</b> 0.068",
           "<b>Index X:</b> 12<br><b>Text X:</b> Artificial intelligence is fascinating.<br><b>Index Y:</b> 6<br><b>Text Y:</b> It is HOT in Paris this summer.<br><b>Cosine Similarity:</b> 0.051",
           "<b>Index X:</b> 13<br><b>Text X:</b> Football is a popular sport.<br><b>Index Y:</b> 6<br><b>Text Y:</b> It is HOT in Paris this summer.<br><b>Cosine Similarity:</b> 0.138",
           "<b>Index X:</b> 14<br><b>Text X:</b> Switching to English is sometimes useful.<br><b>Index Y:</b> 6<br><b>Text Y:</b> It is HOT in Paris this summer.<br><b>Cosine Similarity:</b> 0.066"
          ],
          [
           "<b>Index X:</b> 0<br><b>Text X:</b> The weather is nice today.<br><b>Index Y:</b> 7<br><b>Text Y:</b> Hello world.<br><b>Cosine Similarity:</b> 0.232",
           "<b>Index X:</b> 1<br><b>Text X:</b> The weather is nice today!<br><b>Index Y:</b> 7<br><b>Text Y:</b> Hello world.<br><b>Cosine Similarity:</b> 0.206",
           "<b>Index X:</b> 2<br><b>Text X:</b> The weather is nice today.<br><b>Index Y:</b> 7<br><b>Text Y:</b> Hello world.<br><b>Cosine Similarity:</b> 0.232",
           "<b>Index X:</b> 3<br><b>Text X:</b> The Weather is nice today.<br><b>Index Y:</b> 7<br><b>Text Y:</b> Hello world.<br><b>Cosine Similarity:</b> 0.246",
           "<b>Index X:</b> 4<br><b>Text X:</b> It is hot in Paris this summer.<br><b>Index Y:</b> 7<br><b>Text Y:</b> Hello world.<br><b>Cosine Similarity:</b> 0.122",
           "<b>Index X:</b> 5<br><b>Text X:</b> It is hot in Paris this summer<br><b>Index Y:</b> 7<br><b>Text Y:</b> Hello world.<br><b>Cosine Similarity:</b> 0.099",
           "<b>Index X:</b> 6<br><b>Text X:</b> It is HOT in Paris this summer.<br><b>Index Y:</b> 7<br><b>Text Y:</b> Hello world.<br><b>Cosine Similarity:</b> 0.122",
           "<b>Index X:</b> 7<br><b>Text X:</b> Hello world.<br><b>Index Y:</b> 7<br><b>Text Y:</b> Hello world.<br><b>Cosine Similarity:</b> 1.000",
           "<b>Index X:</b> 8<br><b>Text X:</b> Hello world!<br><b>Index Y:</b> 7<br><b>Text Y:</b> Hello world.<br><b>Cosine Similarity:</b> 0.882",
           "<b>Index X:</b> 9<br><b>Text X:</b> HELLO world.<br><b>Index Y:</b> 7<br><b>Text Y:</b> Hello world.<br><b>Cosine Similarity:</b> 0.870",
           "<b>Index X:</b> 10<br><b>Text X:</b> Machine learning is fascinating.<br><b>Index Y:</b> 7<br><b>Text Y:</b> Hello world.<br><b>Cosine Similarity:</b> 0.258",
           "<b>Index X:</b> 11<br><b>Text X:</b> Machine learning is fascinating!<br><b>Index Y:</b> 7<br><b>Text Y:</b> Hello world.<br><b>Cosine Similarity:</b> 0.240",
           "<b>Index X:</b> 12<br><b>Text X:</b> Artificial intelligence is fascinating.<br><b>Index Y:</b> 7<br><b>Text Y:</b> Hello world.<br><b>Cosine Similarity:</b> 0.224",
           "<b>Index X:</b> 13<br><b>Text X:</b> Football is a popular sport.<br><b>Index Y:</b> 7<br><b>Text Y:</b> Hello world.<br><b>Cosine Similarity:</b> 0.133",
           "<b>Index X:</b> 14<br><b>Text X:</b> Switching to English is sometimes useful.<br><b>Index Y:</b> 7<br><b>Text Y:</b> Hello world.<br><b>Cosine Similarity:</b> 0.185"
          ],
          [
           "<b>Index X:</b> 0<br><b>Text X:</b> The weather is nice today.<br><b>Index Y:</b> 8<br><b>Text Y:</b> Hello world!<br><b>Cosine Similarity:</b> 0.199",
           "<b>Index X:</b> 1<br><b>Text X:</b> The weather is nice today!<br><b>Index Y:</b> 8<br><b>Text Y:</b> Hello world!<br><b>Cosine Similarity:</b> 0.308",
           "<b>Index X:</b> 2<br><b>Text X:</b> The weather is nice today.<br><b>Index Y:</b> 8<br><b>Text Y:</b> Hello world!<br><b>Cosine Similarity:</b> 0.199",
           "<b>Index X:</b> 3<br><b>Text X:</b> The Weather is nice today.<br><b>Index Y:</b> 8<br><b>Text Y:</b> Hello world!<br><b>Cosine Similarity:</b> 0.207",
           "<b>Index X:</b> 4<br><b>Text X:</b> It is hot in Paris this summer.<br><b>Index Y:</b> 8<br><b>Text Y:</b> Hello world!<br><b>Cosine Similarity:</b> 0.121",
           "<b>Index X:</b> 5<br><b>Text X:</b> It is hot in Paris this summer<br><b>Index Y:</b> 8<br><b>Text Y:</b> Hello world!<br><b>Cosine Similarity:</b> 0.115",
           "<b>Index X:</b> 6<br><b>Text X:</b> It is HOT in Paris this summer.<br><b>Index Y:</b> 8<br><b>Text Y:</b> Hello world!<br><b>Cosine Similarity:</b> 0.124",
           "<b>Index X:</b> 7<br><b>Text X:</b> Hello world.<br><b>Index Y:</b> 8<br><b>Text Y:</b> Hello world!<br><b>Cosine Similarity:</b> 0.882",
           "<b>Index X:</b> 8<br><b>Text X:</b> Hello world!<br><b>Index Y:</b> 8<br><b>Text Y:</b> Hello world!<br><b>Cosine Similarity:</b> 1.000",
           "<b>Index X:</b> 9<br><b>Text X:</b> HELLO world.<br><b>Index Y:</b> 8<br><b>Text Y:</b> Hello world!<br><b>Cosine Similarity:</b> 0.782",
           "<b>Index X:</b> 10<br><b>Text X:</b> Machine learning is fascinating.<br><b>Index Y:</b> 8<br><b>Text Y:</b> Hello world!<br><b>Cosine Similarity:</b> 0.249",
           "<b>Index X:</b> 11<br><b>Text X:</b> Machine learning is fascinating!<br><b>Index Y:</b> 8<br><b>Text Y:</b> Hello world!<br><b>Cosine Similarity:</b> 0.342",
           "<b>Index X:</b> 12<br><b>Text X:</b> Artificial intelligence is fascinating.<br><b>Index Y:</b> 8<br><b>Text Y:</b> Hello world!<br><b>Cosine Similarity:</b> 0.203",
           "<b>Index X:</b> 13<br><b>Text X:</b> Football is a popular sport.<br><b>Index Y:</b> 8<br><b>Text Y:</b> Hello world!<br><b>Cosine Similarity:</b> 0.116",
           "<b>Index X:</b> 14<br><b>Text X:</b> Switching to English is sometimes useful.<br><b>Index Y:</b> 8<br><b>Text Y:</b> Hello world!<br><b>Cosine Similarity:</b> 0.169"
          ],
          [
           "<b>Index X:</b> 0<br><b>Text X:</b> The weather is nice today.<br><b>Index Y:</b> 9<br><b>Text Y:</b> HELLO world.<br><b>Cosine Similarity:</b> 0.221",
           "<b>Index X:</b> 1<br><b>Text X:</b> The weather is nice today!<br><b>Index Y:</b> 9<br><b>Text Y:</b> HELLO world.<br><b>Cosine Similarity:</b> 0.206",
           "<b>Index X:</b> 2<br><b>Text X:</b> The weather is nice today.<br><b>Index Y:</b> 9<br><b>Text Y:</b> HELLO world.<br><b>Cosine Similarity:</b> 0.221",
           "<b>Index X:</b> 3<br><b>Text X:</b> The Weather is nice today.<br><b>Index Y:</b> 9<br><b>Text Y:</b> HELLO world.<br><b>Cosine Similarity:</b> 0.249",
           "<b>Index X:</b> 4<br><b>Text X:</b> It is hot in Paris this summer.<br><b>Index Y:</b> 9<br><b>Text Y:</b> HELLO world.<br><b>Cosine Similarity:</b> 0.129",
           "<b>Index X:</b> 5<br><b>Text X:</b> It is hot in Paris this summer<br><b>Index Y:</b> 9<br><b>Text Y:</b> HELLO world.<br><b>Cosine Similarity:</b> 0.109",
           "<b>Index X:</b> 6<br><b>Text X:</b> It is HOT in Paris this summer.<br><b>Index Y:</b> 9<br><b>Text Y:</b> HELLO world.<br><b>Cosine Similarity:</b> 0.157",
           "<b>Index X:</b> 7<br><b>Text X:</b> Hello world.<br><b>Index Y:</b> 9<br><b>Text Y:</b> HELLO world.<br><b>Cosine Similarity:</b> 0.870",
           "<b>Index X:</b> 8<br><b>Text X:</b> Hello world!<br><b>Index Y:</b> 9<br><b>Text Y:</b> HELLO world.<br><b>Cosine Similarity:</b> 0.782",
           "<b>Index X:</b> 9<br><b>Text X:</b> HELLO world.<br><b>Index Y:</b> 9<br><b>Text Y:</b> HELLO world.<br><b>Cosine Similarity:</b> 1.000",
           "<b>Index X:</b> 10<br><b>Text X:</b> Machine learning is fascinating.<br><b>Index Y:</b> 9<br><b>Text Y:</b> HELLO world.<br><b>Cosine Similarity:</b> 0.226",
           "<b>Index X:</b> 11<br><b>Text X:</b> Machine learning is fascinating!<br><b>Index Y:</b> 9<br><b>Text Y:</b> HELLO world.<br><b>Cosine Similarity:</b> 0.216",
           "<b>Index X:</b> 12<br><b>Text X:</b> Artificial intelligence is fascinating.<br><b>Index Y:</b> 9<br><b>Text Y:</b> HELLO world.<br><b>Cosine Similarity:</b> 0.214",
           "<b>Index X:</b> 13<br><b>Text X:</b> Football is a popular sport.<br><b>Index Y:</b> 9<br><b>Text Y:</b> HELLO world.<br><b>Cosine Similarity:</b> 0.141",
           "<b>Index X:</b> 14<br><b>Text X:</b> Switching to English is sometimes useful.<br><b>Index Y:</b> 9<br><b>Text Y:</b> HELLO world.<br><b>Cosine Similarity:</b> 0.174"
          ],
          [
           "<b>Index X:</b> 0<br><b>Text X:</b> The weather is nice today.<br><b>Index Y:</b> 10<br><b>Text Y:</b> Machine learning is fascinating.<br><b>Cosine Similarity:</b> 0.114",
           "<b>Index X:</b> 1<br><b>Text X:</b> The weather is nice today!<br><b>Index Y:</b> 10<br><b>Text Y:</b> Machine learning is fascinating.<br><b>Cosine Similarity:</b> 0.124",
           "<b>Index X:</b> 2<br><b>Text X:</b> The weather is nice today.<br><b>Index Y:</b> 10<br><b>Text Y:</b> Machine learning is fascinating.<br><b>Cosine Similarity:</b> 0.114",
           "<b>Index X:</b> 3<br><b>Text X:</b> The Weather is nice today.<br><b>Index Y:</b> 10<br><b>Text Y:</b> Machine learning is fascinating.<br><b>Cosine Similarity:</b> 0.122",
           "<b>Index X:</b> 4<br><b>Text X:</b> It is hot in Paris this summer.<br><b>Index Y:</b> 10<br><b>Text Y:</b> Machine learning is fascinating.<br><b>Cosine Similarity:</b> 0.070",
           "<b>Index X:</b> 5<br><b>Text X:</b> It is hot in Paris this summer<br><b>Index Y:</b> 10<br><b>Text Y:</b> Machine learning is fascinating.<br><b>Cosine Similarity:</b> 0.064",
           "<b>Index X:</b> 6<br><b>Text X:</b> It is HOT in Paris this summer.<br><b>Index Y:</b> 10<br><b>Text Y:</b> Machine learning is fascinating.<br><b>Cosine Similarity:</b> 0.061",
           "<b>Index X:</b> 7<br><b>Text X:</b> Hello world.<br><b>Index Y:</b> 10<br><b>Text Y:</b> Machine learning is fascinating.<br><b>Cosine Similarity:</b> 0.258",
           "<b>Index X:</b> 8<br><b>Text X:</b> Hello world!<br><b>Index Y:</b> 10<br><b>Text Y:</b> Machine learning is fascinating.<br><b>Cosine Similarity:</b> 0.249",
           "<b>Index X:</b> 9<br><b>Text X:</b> HELLO world.<br><b>Index Y:</b> 10<br><b>Text Y:</b> Machine learning is fascinating.<br><b>Cosine Similarity:</b> 0.226",
           "<b>Index X:</b> 10<br><b>Text X:</b> Machine learning is fascinating.<br><b>Index Y:</b> 10<br><b>Text Y:</b> Machine learning is fascinating.<br><b>Cosine Similarity:</b> 1.000",
           "<b>Index X:</b> 11<br><b>Text X:</b> Machine learning is fascinating!<br><b>Index Y:</b> 10<br><b>Text Y:</b> Machine learning is fascinating.<br><b>Cosine Similarity:</b> 0.952",
           "<b>Index X:</b> 12<br><b>Text X:</b> Artificial intelligence is fascinating.<br><b>Index Y:</b> 10<br><b>Text Y:</b> Machine learning is fascinating.<br><b>Cosine Similarity:</b> 0.753",
           "<b>Index X:</b> 13<br><b>Text X:</b> Football is a popular sport.<br><b>Index Y:</b> 10<br><b>Text Y:</b> Machine learning is fascinating.<br><b>Cosine Similarity:</b> 0.151",
           "<b>Index X:</b> 14<br><b>Text X:</b> Switching to English is sometimes useful.<br><b>Index Y:</b> 10<br><b>Text Y:</b> Machine learning is fascinating.<br><b>Cosine Similarity:</b> 0.166"
          ],
          [
           "<b>Index X:</b> 0<br><b>Text X:</b> The weather is nice today.<br><b>Index Y:</b> 11<br><b>Text Y:</b> Machine learning is fascinating!<br><b>Cosine Similarity:</b> 0.107",
           "<b>Index X:</b> 1<br><b>Text X:</b> The weather is nice today!<br><b>Index Y:</b> 11<br><b>Text Y:</b> Machine learning is fascinating!<br><b>Cosine Similarity:</b> 0.206",
           "<b>Index X:</b> 2<br><b>Text X:</b> The weather is nice today.<br><b>Index Y:</b> 11<br><b>Text Y:</b> Machine learning is fascinating!<br><b>Cosine Similarity:</b> 0.107",
           "<b>Index X:</b> 3<br><b>Text X:</b> The Weather is nice today.<br><b>Index Y:</b> 11<br><b>Text Y:</b> Machine learning is fascinating!<br><b>Cosine Similarity:</b> 0.114",
           "<b>Index X:</b> 4<br><b>Text X:</b> It is hot in Paris this summer.<br><b>Index Y:</b> 11<br><b>Text Y:</b> Machine learning is fascinating!<br><b>Cosine Similarity:</b> 0.072",
           "<b>Index X:</b> 5<br><b>Text X:</b> It is hot in Paris this summer<br><b>Index Y:</b> 11<br><b>Text Y:</b> Machine learning is fascinating!<br><b>Cosine Similarity:</b> 0.070",
           "<b>Index X:</b> 6<br><b>Text X:</b> It is HOT in Paris this summer.<br><b>Index Y:</b> 11<br><b>Text Y:</b> Machine learning is fascinating!<br><b>Cosine Similarity:</b> 0.068",
           "<b>Index X:</b> 7<br><b>Text X:</b> Hello world.<br><b>Index Y:</b> 11<br><b>Text Y:</b> Machine learning is fascinating!<br><b>Cosine Similarity:</b> 0.240",
           "<b>Index X:</b> 8<br><b>Text X:</b> Hello world!<br><b>Index Y:</b> 11<br><b>Text Y:</b> Machine learning is fascinating!<br><b>Cosine Similarity:</b> 0.342",
           "<b>Index X:</b> 9<br><b>Text X:</b> HELLO world.<br><b>Index Y:</b> 11<br><b>Text Y:</b> Machine learning is fascinating!<br><b>Cosine Similarity:</b> 0.216",
           "<b>Index X:</b> 10<br><b>Text X:</b> Machine learning is fascinating.<br><b>Index Y:</b> 11<br><b>Text Y:</b> Machine learning is fascinating!<br><b>Cosine Similarity:</b> 0.952",
           "<b>Index X:</b> 11<br><b>Text X:</b> Machine learning is fascinating!<br><b>Index Y:</b> 11<br><b>Text Y:</b> Machine learning is fascinating!<br><b>Cosine Similarity:</b> 1.000",
           "<b>Index X:</b> 12<br><b>Text X:</b> Artificial intelligence is fascinating.<br><b>Index Y:</b> 11<br><b>Text Y:</b> Machine learning is fascinating!<br><b>Cosine Similarity:</b> 0.706",
           "<b>Index X:</b> 13<br><b>Text X:</b> Football is a popular sport.<br><b>Index Y:</b> 11<br><b>Text Y:</b> Machine learning is fascinating!<br><b>Cosine Similarity:</b> 0.137",
           "<b>Index X:</b> 14<br><b>Text X:</b> Switching to English is sometimes useful.<br><b>Index Y:</b> 11<br><b>Text Y:</b> Machine learning is fascinating!<br><b>Cosine Similarity:</b> 0.151"
          ],
          [
           "<b>Index X:</b> 0<br><b>Text X:</b> The weather is nice today.<br><b>Index Y:</b> 12<br><b>Text Y:</b> Artificial intelligence is fascinating.<br><b>Cosine Similarity:</b> 0.087",
           "<b>Index X:</b> 1<br><b>Text X:</b> The weather is nice today!<br><b>Index Y:</b> 12<br><b>Text Y:</b> Artificial intelligence is fascinating.<br><b>Cosine Similarity:</b> 0.088",
           "<b>Index X:</b> 2<br><b>Text X:</b> The weather is nice today.<br><b>Index Y:</b> 12<br><b>Text Y:</b> Artificial intelligence is fascinating.<br><b>Cosine Similarity:</b> 0.087",
           "<b>Index X:</b> 3<br><b>Text X:</b> The Weather is nice today.<br><b>Index Y:</b> 12<br><b>Text Y:</b> Artificial intelligence is fascinating.<br><b>Cosine Similarity:</b> 0.095",
           "<b>Index X:</b> 4<br><b>Text X:</b> It is hot in Paris this summer.<br><b>Index Y:</b> 12<br><b>Text Y:</b> Artificial intelligence is fascinating.<br><b>Cosine Similarity:</b> 0.057",
           "<b>Index X:</b> 5<br><b>Text X:</b> It is hot in Paris this summer<br><b>Index Y:</b> 12<br><b>Text Y:</b> Artificial intelligence is fascinating.<br><b>Cosine Similarity:</b> 0.047",
           "<b>Index X:</b> 6<br><b>Text X:</b> It is HOT in Paris this summer.<br><b>Index Y:</b> 12<br><b>Text Y:</b> Artificial intelligence is fascinating.<br><b>Cosine Similarity:</b> 0.051",
           "<b>Index X:</b> 7<br><b>Text X:</b> Hello world.<br><b>Index Y:</b> 12<br><b>Text Y:</b> Artificial intelligence is fascinating.<br><b>Cosine Similarity:</b> 0.224",
           "<b>Index X:</b> 8<br><b>Text X:</b> Hello world!<br><b>Index Y:</b> 12<br><b>Text Y:</b> Artificial intelligence is fascinating.<br><b>Cosine Similarity:</b> 0.203",
           "<b>Index X:</b> 9<br><b>Text X:</b> HELLO world.<br><b>Index Y:</b> 12<br><b>Text Y:</b> Artificial intelligence is fascinating.<br><b>Cosine Similarity:</b> 0.214",
           "<b>Index X:</b> 10<br><b>Text X:</b> Machine learning is fascinating.<br><b>Index Y:</b> 12<br><b>Text Y:</b> Artificial intelligence is fascinating.<br><b>Cosine Similarity:</b> 0.753",
           "<b>Index X:</b> 11<br><b>Text X:</b> Machine learning is fascinating!<br><b>Index Y:</b> 12<br><b>Text Y:</b> Artificial intelligence is fascinating.<br><b>Cosine Similarity:</b> 0.706",
           "<b>Index X:</b> 12<br><b>Text X:</b> Artificial intelligence is fascinating.<br><b>Index Y:</b> 12<br><b>Text Y:</b> Artificial intelligence is fascinating.<br><b>Cosine Similarity:</b> 1.000",
           "<b>Index X:</b> 13<br><b>Text X:</b> Football is a popular sport.<br><b>Index Y:</b> 12<br><b>Text Y:</b> Artificial intelligence is fascinating.<br><b>Cosine Similarity:</b> 0.168",
           "<b>Index X:</b> 14<br><b>Text X:</b> Switching to English is sometimes useful.<br><b>Index Y:</b> 12<br><b>Text Y:</b> Artificial intelligence is fascinating.<br><b>Cosine Similarity:</b> 0.130"
          ],
          [
           "<b>Index X:</b> 0<br><b>Text X:</b> The weather is nice today.<br><b>Index Y:</b> 13<br><b>Text Y:</b> Football is a popular sport.<br><b>Cosine Similarity:</b> 0.156",
           "<b>Index X:</b> 1<br><b>Text X:</b> The weather is nice today!<br><b>Index Y:</b> 13<br><b>Text Y:</b> Football is a popular sport.<br><b>Cosine Similarity:</b> 0.151",
           "<b>Index X:</b> 2<br><b>Text X:</b> The weather is nice today.<br><b>Index Y:</b> 13<br><b>Text Y:</b> Football is a popular sport.<br><b>Cosine Similarity:</b> 0.156",
           "<b>Index X:</b> 3<br><b>Text X:</b> The Weather is nice today.<br><b>Index Y:</b> 13<br><b>Text Y:</b> Football is a popular sport.<br><b>Cosine Similarity:</b> 0.169",
           "<b>Index X:</b> 4<br><b>Text X:</b> It is hot in Paris this summer.<br><b>Index Y:</b> 13<br><b>Text Y:</b> Football is a popular sport.<br><b>Cosine Similarity:</b> 0.147",
           "<b>Index X:</b> 5<br><b>Text X:</b> It is hot in Paris this summer<br><b>Index Y:</b> 13<br><b>Text Y:</b> Football is a popular sport.<br><b>Cosine Similarity:</b> 0.132",
           "<b>Index X:</b> 6<br><b>Text X:</b> It is HOT in Paris this summer.<br><b>Index Y:</b> 13<br><b>Text Y:</b> Football is a popular sport.<br><b>Cosine Similarity:</b> 0.138",
           "<b>Index X:</b> 7<br><b>Text X:</b> Hello world.<br><b>Index Y:</b> 13<br><b>Text Y:</b> Football is a popular sport.<br><b>Cosine Similarity:</b> 0.133",
           "<b>Index X:</b> 8<br><b>Text X:</b> Hello world!<br><b>Index Y:</b> 13<br><b>Text Y:</b> Football is a popular sport.<br><b>Cosine Similarity:</b> 0.116",
           "<b>Index X:</b> 9<br><b>Text X:</b> HELLO world.<br><b>Index Y:</b> 13<br><b>Text Y:</b> Football is a popular sport.<br><b>Cosine Similarity:</b> 0.141",
           "<b>Index X:</b> 10<br><b>Text X:</b> Machine learning is fascinating.<br><b>Index Y:</b> 13<br><b>Text Y:</b> Football is a popular sport.<br><b>Cosine Similarity:</b> 0.151",
           "<b>Index X:</b> 11<br><b>Text X:</b> Machine learning is fascinating!<br><b>Index Y:</b> 13<br><b>Text Y:</b> Football is a popular sport.<br><b>Cosine Similarity:</b> 0.137",
           "<b>Index X:</b> 12<br><b>Text X:</b> Artificial intelligence is fascinating.<br><b>Index Y:</b> 13<br><b>Text Y:</b> Football is a popular sport.<br><b>Cosine Similarity:</b> 0.168",
           "<b>Index X:</b> 13<br><b>Text X:</b> Football is a popular sport.<br><b>Index Y:</b> 13<br><b>Text Y:</b> Football is a popular sport.<br><b>Cosine Similarity:</b> 1.000",
           "<b>Index X:</b> 14<br><b>Text X:</b> Switching to English is sometimes useful.<br><b>Index Y:</b> 13<br><b>Text Y:</b> Football is a popular sport.<br><b>Cosine Similarity:</b> 0.124"
          ],
          [
           "<b>Index X:</b> 0<br><b>Text X:</b> The weather is nice today.<br><b>Index Y:</b> 14<br><b>Text Y:</b> Switching to English is sometimes useful.<br><b>Cosine Similarity:</b> 0.091",
           "<b>Index X:</b> 1<br><b>Text X:</b> The weather is nice today!<br><b>Index Y:</b> 14<br><b>Text Y:</b> Switching to English is sometimes useful.<br><b>Cosine Similarity:</b> 0.089",
           "<b>Index X:</b> 2<br><b>Text X:</b> The weather is nice today.<br><b>Index Y:</b> 14<br><b>Text Y:</b> Switching to English is sometimes useful.<br><b>Cosine Similarity:</b> 0.091",
           "<b>Index X:</b> 3<br><b>Text X:</b> The Weather is nice today.<br><b>Index Y:</b> 14<br><b>Text Y:</b> Switching to English is sometimes useful.<br><b>Cosine Similarity:</b> 0.097",
           "<b>Index X:</b> 4<br><b>Text X:</b> It is hot in Paris this summer.<br><b>Index Y:</b> 14<br><b>Text Y:</b> Switching to English is sometimes useful.<br><b>Cosine Similarity:</b> 0.075",
           "<b>Index X:</b> 5<br><b>Text X:</b> It is hot in Paris this summer<br><b>Index Y:</b> 14<br><b>Text Y:</b> Switching to English is sometimes useful.<br><b>Cosine Similarity:</b> 0.072",
           "<b>Index X:</b> 6<br><b>Text X:</b> It is HOT in Paris this summer.<br><b>Index Y:</b> 14<br><b>Text Y:</b> Switching to English is sometimes useful.<br><b>Cosine Similarity:</b> 0.066",
           "<b>Index X:</b> 7<br><b>Text X:</b> Hello world.<br><b>Index Y:</b> 14<br><b>Text Y:</b> Switching to English is sometimes useful.<br><b>Cosine Similarity:</b> 0.185",
           "<b>Index X:</b> 8<br><b>Text X:</b> Hello world!<br><b>Index Y:</b> 14<br><b>Text Y:</b> Switching to English is sometimes useful.<br><b>Cosine Similarity:</b> 0.169",
           "<b>Index X:</b> 9<br><b>Text X:</b> HELLO world.<br><b>Index Y:</b> 14<br><b>Text Y:</b> Switching to English is sometimes useful.<br><b>Cosine Similarity:</b> 0.174",
           "<b>Index X:</b> 10<br><b>Text X:</b> Machine learning is fascinating.<br><b>Index Y:</b> 14<br><b>Text Y:</b> Switching to English is sometimes useful.<br><b>Cosine Similarity:</b> 0.166",
           "<b>Index X:</b> 11<br><b>Text X:</b> Machine learning is fascinating!<br><b>Index Y:</b> 14<br><b>Text Y:</b> Switching to English is sometimes useful.<br><b>Cosine Similarity:</b> 0.151",
           "<b>Index X:</b> 12<br><b>Text X:</b> Artificial intelligence is fascinating.<br><b>Index Y:</b> 14<br><b>Text Y:</b> Switching to English is sometimes useful.<br><b>Cosine Similarity:</b> 0.130",
           "<b>Index X:</b> 13<br><b>Text X:</b> Football is a popular sport.<br><b>Index Y:</b> 14<br><b>Text Y:</b> Switching to English is sometimes useful.<br><b>Cosine Similarity:</b> 0.124",
           "<b>Index X:</b> 14<br><b>Text X:</b> Switching to English is sometimes useful.<br><b>Index Y:</b> 14<br><b>Text Y:</b> Switching to English is sometimes useful.<br><b>Cosine Similarity:</b> 1.000"
          ]
         ],
         "type": "heatmap",
         "x": [
          0,
          1,
          2,
          3,
          4,
          5,
          6,
          7,
          8,
          9,
          10,
          11,
          12,
          13,
          14
         ],
         "y": [
          0,
          1,
          2,
          3,
          4,
          5,
          6,
          7,
          8,
          9,
          10,
          11,
          12,
          13,
          14
         ],
         "z": {
          "bdata": "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",
          "dtype": "f8",
          "shape": "15, 15"
         },
         "zmax": 1,
         "zmin": 0
        }
       ],
       "layout": {
        "height": 600,
        "template": {
         "data": {
          "bar": [
           {
            "error_x": {
             "color": "#2a3f5f"
            },
            "error_y": {
             "color": "#2a3f5f"
            },
            "marker": {
             "line": {
              "color": "#E5ECF6",
              "width": 0.5
             },
             "pattern": {
              "fillmode": "overlay",
              "size": 10,
              "solidity": 0.2
             }
            },
            "type": "bar"
           }
          ],
          "barpolar": [
           {
            "marker": {
             "line": {
              "color": "#E5ECF6",
              "width": 0.5
             },
             "pattern": {
              "fillmode": "overlay",
              "size": 10,
              "solidity": 0.2
             }
            },
            "type": "barpolar"
           }
          ],
          "carpet": [
           {
            "aaxis": {
             "endlinecolor": "#2a3f5f",
             "gridcolor": "white",
             "linecolor": "white",
             "minorgridcolor": "white",
             "startlinecolor": "#2a3f5f"
            },
            "baxis": {
             "endlinecolor": "#2a3f5f",
             "gridcolor": "white",
             "linecolor": "white",
             "minorgridcolor": "white",
             "startlinecolor": "#2a3f5f"
            },
            "type": "carpet"
           }
          ],
          "choropleth": [
           {
            "colorbar": {
             "outlinewidth": 0,
             "ticks": ""
            },
            "type": "choropleth"
           }
          ],
          "contour": [
           {
            "colorbar": {
             "outlinewidth": 0,
             "ticks": ""
            },
            "colorscale": [
             [
              0,
              "#0d0887"
             ],
             [
              0.1111111111111111,
              "#46039f"
             ],
             [
              0.2222222222222222,
              "#7201a8"
             ],
             [
              0.3333333333333333,
              "#9c179e"
             ],
             [
              0.4444444444444444,
              "#bd3786"
             ],
             [
              0.5555555555555556,
              "#d8576b"
             ],
             [
              0.6666666666666666,
              "#ed7953"
             ],
             [
              0.7777777777777778,
              "#fb9f3a"
             ],
             [
              0.8888888888888888,
              "#fdca26"
             ],
             [
              1,
              "#f0f921"
             ]
            ],
            "type": "contour"
           }
          ],
          "contourcarpet": [
           {
            "colorbar": {
             "outlinewidth": 0,
             "ticks": ""
            },
            "type": "contourcarpet"
           }
          ],
          "heatmap": [
           {
            "colorbar": {
             "outlinewidth": 0,
             "ticks": ""
            },
            "colorscale": [
             [
              0,
              "#0d0887"
             ],
             [
              0.1111111111111111,
              "#46039f"
             ],
             [
              0.2222222222222222,
              "#7201a8"
             ],
             [
              0.3333333333333333,
              "#9c179e"
             ],
             [
              0.4444444444444444,
              "#bd3786"
             ],
             [
              0.5555555555555556,
              "#d8576b"
             ],
             [
              0.6666666666666666,
              "#ed7953"
             ],
             [
              0.7777777777777778,
              "#fb9f3a"
             ],
             [
              0.8888888888888888,
              "#fdca26"
             ],
             [
              1,
              "#f0f921"
             ]
            ],
            "type": "heatmap"
           }
          ],
          "histogram": [
           {
            "marker": {
             "pattern": {
              "fillmode": "overlay",
              "size": 10,
              "solidity": 0.2
             }
            },
            "type": "histogram"
           }
          ],
          "histogram2d": [
           {
            "colorbar": {
             "outlinewidth": 0,
             "ticks": ""
            },
            "colorscale": [
             [
              0,
              "#0d0887"
             ],
             [
              0.1111111111111111,
              "#46039f"
             ],
             [
              0.2222222222222222,
              "#7201a8"
             ],
             [
              0.3333333333333333,
              "#9c179e"
             ],
             [
              0.4444444444444444,
              "#bd3786"
             ],
             [
              0.5555555555555556,
              "#d8576b"
             ],
             [
              0.6666666666666666,
              "#ed7953"
             ],
             [
              0.7777777777777778,
              "#fb9f3a"
             ],
             [
              0.8888888888888888,
              "#fdca26"
             ],
             [
              1,
              "#f0f921"
             ]
            ],
            "type": "histogram2d"
           }
          ],
          "histogram2dcontour": [
           {
            "colorbar": {
             "outlinewidth": 0,
             "ticks": ""
            },
            "colorscale": [
             [
              0,
              "#0d0887"
             ],
             [
              0.1111111111111111,
              "#46039f"
             ],
             [
              0.2222222222222222,
              "#7201a8"
             ],
             [
              0.3333333333333333,
              "#9c179e"
             ],
             [
              0.4444444444444444,
              "#bd3786"
             ],
             [
              0.5555555555555556,
              "#d8576b"
             ],
             [
              0.6666666666666666,
              "#ed7953"
             ],
             [
              0.7777777777777778,
              "#fb9f3a"
             ],
             [
              0.8888888888888888,
              "#fdca26"
             ],
             [
              1,
              "#f0f921"
             ]
            ],
            "type": "histogram2dcontour"
           }
          ],
          "mesh3d": [
           {
            "colorbar": {
             "outlinewidth": 0,
             "ticks": ""
            },
            "type": "mesh3d"
           }
          ],
          "parcoords": [
           {
            "line": {
             "colorbar": {
              "outlinewidth": 0,
              "ticks": ""
             }
            },
            "type": "parcoords"
           }
          ],
          "pie": [
           {
            "automargin": true,
            "type": "pie"
           }
          ],
          "scatter": [
           {
            "fillpattern": {
             "fillmode": "overlay",
             "size": 10,
             "solidity": 0.2
            },
            "type": "scatter"
           }
          ],
          "scatter3d": [
           {
            "line": {
             "colorbar": {
              "outlinewidth": 0,
              "ticks": ""
             }
            },
            "marker": {
             "colorbar": {
              "outlinewidth": 0,
              "ticks": ""
             }
            },
            "type": "scatter3d"
           }
          ],
          "scattercarpet": [
           {
            "marker": {
             "colorbar": {
              "outlinewidth": 0,
              "ticks": ""
             }
            },
            "type": "scattercarpet"
           }
          ],
          "scattergeo": [
           {
            "marker": {
             "colorbar": {
              "outlinewidth": 0,
              "ticks": ""
             }
            },
            "type": "scattergeo"
           }
          ],
          "scattergl": [
           {
            "marker": {
             "colorbar": {
              "outlinewidth": 0,
              "ticks": ""
             }
            },
            "type": "scattergl"
           }
          ],
          "scattermap": [
           {
            "marker": {
             "colorbar": {
              "outlinewidth": 0,
              "ticks": ""
             }
            },
            "type": "scattermap"
           }
          ],
          "scattermapbox": [
           {
            "marker": {
             "colorbar": {
              "outlinewidth": 0,
              "ticks": ""
             }
            },
            "type": "scattermapbox"
           }
          ],
          "scatterpolar": [
           {
            "marker": {
             "colorbar": {
              "outlinewidth": 0,
              "ticks": ""
             }
            },
            "type": "scatterpolar"
           }
          ],
          "scatterpolargl": [
           {
            "marker": {
             "colorbar": {
              "outlinewidth": 0,
              "ticks": ""
             }
            },
            "type": "scatterpolargl"
           }
          ],
          "scatterternary": [
           {
            "marker": {
             "colorbar": {
              "outlinewidth": 0,
              "ticks": ""
             }
            },
            "type": "scatterternary"
           }
          ],
          "surface": [
           {
            "colorbar": {
             "outlinewidth": 0,
             "ticks": ""
            },
            "colorscale": [
             [
              0,
              "#0d0887"
             ],
             [
              0.1111111111111111,
              "#46039f"
             ],
             [
              0.2222222222222222,
              "#7201a8"
             ],
             [
              0.3333333333333333,
              "#9c179e"
             ],
             [
              0.4444444444444444,
              "#bd3786"
             ],
             [
              0.5555555555555556,
              "#d8576b"
             ],
             [
              0.6666666666666666,
              "#ed7953"
             ],
             [
              0.7777777777777778,
              "#fb9f3a"
             ],
             [
              0.8888888888888888,
              "#fdca26"
             ],
             [
              1,
              "#f0f921"
             ]
            ],
            "type": "surface"
           }
          ],
          "table": [
           {
            "cells": {
             "fill": {
              "color": "#EBF0F8"
             },
             "line": {
              "color": "white"
             }
            },
            "header": {
             "fill": {
              "color": "#C8D4E3"
             },
             "line": {
              "color": "white"
             }
            },
            "type": "table"
           }
          ]
         },
         "layout": {
          "annotationdefaults": {
           "arrowcolor": "#2a3f5f",
           "arrowhead": 0,
           "arrowwidth": 1
          },
          "autotypenumbers": "strict",
          "coloraxis": {
           "colorbar": {
            "outlinewidth": 0,
            "ticks": ""
           }
          },
          "colorscale": {
           "diverging": [
            [
             0,
             "#8e0152"
            ],
            [
             0.1,
             "#c51b7d"
            ],
            [
             0.2,
             "#de77ae"
            ],
            [
             0.3,
             "#f1b6da"
            ],
            [
             0.4,
             "#fde0ef"
            ],
            [
             0.5,
             "#f7f7f7"
            ],
            [
             0.6,
             "#e6f5d0"
            ],
            [
             0.7,
             "#b8e186"
            ],
            [
             0.8,
             "#7fbc41"
            ],
            [
             0.9,
             "#4d9221"
            ],
            [
             1,
             "#276419"
            ]
           ],
           "sequential": [
            [
             0,
             "#0d0887"
            ],
            [
             0.1111111111111111,
             "#46039f"
            ],
            [
             0.2222222222222222,
             "#7201a8"
            ],
            [
             0.3333333333333333,
             "#9c179e"
            ],
            [
             0.4444444444444444,
             "#bd3786"
            ],
            [
             0.5555555555555556,
             "#d8576b"
            ],
            [
             0.6666666666666666,
             "#ed7953"
            ],
            [
             0.7777777777777778,
             "#fb9f3a"
            ],
            [
             0.8888888888888888,
             "#fdca26"
            ],
            [
             1,
             "#f0f921"
            ]
           ],
           "sequentialminus": [
            [
             0,
             "#0d0887"
            ],
            [
             0.1111111111111111,
             "#46039f"
            ],
            [
             0.2222222222222222,
             "#7201a8"
            ],
            [
             0.3333333333333333,
             "#9c179e"
            ],
            [
             0.4444444444444444,
             "#bd3786"
            ],
            [
             0.5555555555555556,
             "#d8576b"
            ],
            [
             0.6666666666666666,
             "#ed7953"
            ],
            [
             0.7777777777777778,
             "#fb9f3a"
            ],
            [
             0.8888888888888888,
             "#fdca26"
            ],
            [
             1,
             "#f0f921"
            ]
           ]
          },
          "colorway": [
           "#636efa",
           "#EF553B",
           "#00cc96",
           "#ab63fa",
           "#FFA15A",
           "#19d3f3",
           "#FF6692",
           "#B6E880",
           "#FF97FF",
           "#FECB52"
          ],
          "font": {
           "color": "#2a3f5f"
          },
          "geo": {
           "bgcolor": "white",
           "lakecolor": "white",
           "landcolor": "#E5ECF6",
           "showlakes": true,
           "showland": true,
           "subunitcolor": "white"
          },
          "hoverlabel": {
           "align": "left"
          },
          "hovermode": "closest",
          "mapbox": {
           "style": "light"
          },
          "paper_bgcolor": "white",
          "plot_bgcolor": "#E5ECF6",
          "polar": {
           "angularaxis": {
            "gridcolor": "white",
            "linecolor": "white",
            "ticks": ""
           },
           "bgcolor": "#E5ECF6",
           "radialaxis": {
            "gridcolor": "white",
            "linecolor": "white",
            "ticks": ""
           }
          },
          "scene": {
           "xaxis": {
            "backgroundcolor": "#E5ECF6",
            "gridcolor": "white",
            "gridwidth": 2,
            "linecolor": "white",
            "showbackground": true,
            "ticks": "",
            "zerolinecolor": "white"
           },
           "yaxis": {
            "backgroundcolor": "#E5ECF6",
            "gridcolor": "white",
            "gridwidth": 2,
            "linecolor": "white",
            "showbackground": true,
            "ticks": "",
            "zerolinecolor": "white"
           },
           "zaxis": {
            "backgroundcolor": "#E5ECF6",
            "gridcolor": "white",
            "gridwidth": 2,
            "linecolor": "white",
            "showbackground": true,
            "ticks": "",
            "zerolinecolor": "white"
           }
          },
          "shapedefaults": {
           "line": {
            "color": "#2a3f5f"
           }
          },
          "ternary": {
           "aaxis": {
            "gridcolor": "white",
            "linecolor": "white",
            "ticks": ""
           },
           "baxis": {
            "gridcolor": "white",
            "linecolor": "white",
            "ticks": ""
           },
           "bgcolor": "#E5ECF6",
           "caxis": {
            "gridcolor": "white",
            "linecolor": "white",
            "ticks": ""
           }
          },
          "title": {
           "x": 0.05
          },
          "xaxis": {
           "automargin": true,
           "gridcolor": "white",
           "linecolor": "white",
           "ticks": "",
           "title": {
            "standoff": 15
           },
           "zerolinecolor": "white",
           "zerolinewidth": 2
          },
          "yaxis": {
           "automargin": true,
           "gridcolor": "white",
           "linecolor": "white",
           "ticks": "",
           "title": {
            "standoff": 15
           },
           "zerolinecolor": "white",
           "zerolinewidth": 2
          }
         }
        },
        "title": {
         "text": "Cosine Similarity – OpenAI text-embedding-3-large"
        },
        "width": 600,
        "yaxis": {
         "autorange": "reversed"
        }
       }
      }
     },
     "metadata": {},
     "output_type": "display_data"
    }
   ],
   "source": [
    "fig_comparison = make_subplots(\n",
    "    rows=1,\n",
    "    cols=2,\n",
    "    subplot_titles=(\"all-MiniLM-L6-v2\", \"jina-embeddings-v2-base-en\"),\n",
    "    horizontal_spacing=0.08\n",
    ")\n",
    "\n",
    "fig_comparison.add_trace(\n",
    "    go.Heatmap(\n",
    "        z=sim_mini,\n",
    "        x=list(range(len(texts))),\n",
    "        y=list(range(len(texts))),\n",
    "        text=hover_mini,\n",
    "        hoverinfo=\"text\",\n",
    "        colorscale=\"Viridis\",\n",
    "        zmin=0,\n",
    "        zmax=1,\n",
    "        colorbar=dict(title=\"Cosine<br>Similarity\"),\n",
    "    ),\n",
    "    row=1,\n",
    "    col=1,\n",
    ")\n",
    "\n",
    "fig_comparison.add_trace(\n",
    "    go.Heatmap(\n",
    "        z=sim_jina,\n",
    "        x=list(range(len(texts))),\n",
    "        y=list(range(len(texts))),\n",
    "        text=hover_jina,\n",
    "        hoverinfo=\"text\",\n",
    "        colorscale=\"Viridis\",\n",
    "        zmin=0,\n",
    "        zmax=1,\n",
    "        showscale=False,\n",
    "    ),\n",
    "    row=1,\n",
    "    col=2,\n",
    ")\n",
    "\n",
    "fig_comparison.update_layout(\n",
    "    title=\"Cosine Similarity Matrix – all-MiniLM-L6-v2 vs jina-embeddings-v2-base-en\",\n",
    "    width=1300,\n",
    "    height=650,\n",
    ")\n",
    "fig_comparison.update_yaxes(autorange=\"reversed\", row=1, col=1)\n",
    "fig_comparison.update_yaxes(autorange=\"reversed\", row=1, col=2)\n",
    "fig_comparison.show()\n",
    "\n",
    "# ------------------------------------------------------------------\n",
    "# OpenAI embeddings et heatmap\n",
    "# ------------------------------------------------------------------\n",
    "emb_openai = get_openai_embeddings(texts)\n",
    "sim_openai = np.matmul(emb_openai, emb_openai.T)\n",
    "\n",
    "hover_openai = [\n",
    "    [\n",
    "        f\"<b>Index X:</b> {j}<br><b>Text X:</b> {texts[j]}<br>\"\n",
    "        f\"<b>Index Y:</b> {i}<br><b>Text Y:</b> {texts[i]}<br>\"\n",
    "        f\"<b>Cosine Similarity:</b> {sim_openai[i, j]:.3f}\"\n",
    "        for j in range(len(texts))\n",
    "    ]\n",
    "    for i in range(len(texts))\n",
    "]\n",
    "\n",
    "fig_openai = go.Figure(\n",
    "    data=go.Heatmap(\n",
    "        z=sim_openai,\n",
    "        x=list(range(len(texts))),\n",
    "        y=list(range(len(texts))),\n",
    "        text=hover_openai,\n",
    "        hoverinfo=\"text\",\n",
    "        colorscale=\"Viridis\",\n",
    "        zmin=0,\n",
    "        zmax=1,\n",
    "        colorbar=dict(title=\"Cosine<br>Similarity\"),\n",
    "    )\n",
    ")\n",
    "fig_openai.update_layout(\n",
    "    title=\"Cosine Similarity – OpenAI text-embedding-3-large\",\n",
    "    width=600,\n",
    "    height=600,\n",
    ")\n",
    "fig_openai.update_yaxes(autorange=\"reversed\")\n",
    "fig_openai.show()"
   ]
  },
  {
   "cell_type": "markdown",
   "id": "1a821172",
   "metadata": {},
   "source": [
    "# Comparative Analysis of Embedding Models: Jina vs MiniLM vs OpenAI\n",
    "\n",
    "We conducted a small-scale evaluation to compare how three different embedding models handle **minor text variations**:\n",
    "\n",
    "- `jina-embeddings-v2-base-en`\n",
    "- `all-MiniLM-L6-v2` (from Sentence Transformers)\n",
    "- `text-embedding-3-large` (OpenAI)\n",
    "\n",
    "## 1. Jina Embeddings: Not Sensitive and Inconsistent\n",
    "\n",
    "- A deeper issue arises when comparing **unrelated texts**, we have the impression that the similarity is between 0.6 and 1.\n",
    "  - for example \"It is HOT in Paris this summer.\"` vs `\"Hello word\"` → similarity ≈ **0.68** !\n",
    "- In contrast, **case changes** (e.g., `\"Hello\"` vs `\"HELLO\"`) had **no effect** — these variations produced **identical embeddings**.\n",
    "\n",
    "## 2. all-MiniLM-L6-v2: Better Semantic Consistency\n",
    "\n",
    "- This model produced **more stable embeddings** across punctuation and casing.\n",
    "- Example:\n",
    "  - `\"Hello world.\"` vs `\"Hello world!\"` → similarity remained **high and logical**\n",
    "- It also yielded **low similarities** between clearly unrelated texts:\n",
    "  - `\"It is HOT in Paris this summer.\"` vs `\"Artificial intelligence is fascinating.\"` → similarity ≈ **0.0**\n",
    "- A slightly unexpected similarity (~0.15) was found between `\"Hello world.\"` and `\"Artificial intelligence is fascinating.\"`, which might be explained by **shared associations with programming or computer science** — a **plausible semantic overlap**.\n",
    "\n",
    "## 3. OpenAI `text-embedding-3-large`: Most Coherent, but Slight Variance Remains\n",
    "\n",
    "- OpenAI’s model showed **robust handling** of both punctuation and case changes.\n",
    "- It returned **high but logically decreasing similarities** for variants of the same sentence:\n",
    "  - `\"Machine learning is fascinating.\"` vs `\"Machine learning is fascinating!\"` → **0.95**\n",
    "  - `\"Hello world.\"` vs `\"Hello world!\"` → **0.882**\n",
    "- Even though the textual difference is just `\"!\"` in both cases, the **similarity values differ**, suggesting some **context-sensitive weighting** in the embedding process.\n",
    "- Overall, this model provided the **most balanced behavior** across all cases tested.\n",
    "\n",
    "\n",
    "##  Key Takeaways\n",
    "\n",
    "- **Jina-v2-base-en** embeddings turned out to be **too fragile** for tasks requiring robustness in deduplication or semantic similarity.\n",
    "  \n",
    "- **MiniLM** represents a **strong and efficient compromise**: the model is lightweight, yet delivers semantically consistent results. Given its small size, the quality of its embeddings was **unexpectedly impressive**.\n",
    "\n",
    "- **OpenAI’s `text-embedding-3-large`** remains the most **robust and production-ready** solution among the three. It handles variations intelligently, although it may still introduce some **inconsistent similarity scores** across seemingly equivalent transformations — a nuance worth monitoring.\n",
    "\n",
    "\n"
   ]
  },
  {
   "cell_type": "markdown",
   "id": "6cda7306",
   "metadata": {},
   "source": [
    "# Can This Impact Sentiment Analysis?\n",
    "\n",
    "After the previous experiments, a natural question arose:  \n",
    "**Could embedding sensitivity (or lack thereof) affect sentiment analysis outcomes?**\n",
    "\n",
    "To explore this, we designed a simple yet illustrative test using two semantically distinct variants of the same sentence:\n",
    "\n",
    "- `\"Give me coffee please ☕😊\"` — polite, friendly, and calm tone.\n",
    "- `\"GIVE ME COFFEE PLEASE 😠💢\"` — aggressive and angry tone, using uppercase and angry emojis.\n",
    "\n",
    "Although the textual content is nearly identical, the **intent and sentiment** are completely opposite.\n"
   ]
  },
  {
   "cell_type": "code",
   "execution_count": 15,
   "id": "23c9cf96",
   "metadata": {},
   "outputs": [
    {
     "name": "stdout",
     "output_type": "stream",
     "text": [
      "all-MiniLM-L6-v2                    → Cosine Similarity: 1.000000\n",
      "jina-embeddings-v2                  → Cosine Similarity: 1.000000\n",
      "text-embedding-3-large (OpenAI)     → Cosine Similarity: 0.742812\n"
     ]
    }
   ],
   "source": [
    "texts = [\n",
    "    \"Give me coffee please ☕😊\",\n",
    "    \"GIVE ME COFFEE PLEASE 😠💢\"\n",
    "]\n",
    "\n",
    "\n",
    "# Cosine similarity function (fonctionne parce que les vecteurs sont normalisés)\n",
    "def cosine_similarity(a, b):\n",
    "    return float(np.dot(a, b))\n",
    "\n",
    "# Collect all\n",
    "results = []\n",
    "\n",
    "# 1. MiniLM\n",
    "mini_emb = model_mini.encode(texts, normalize_embeddings=True)\n",
    "sim_mini = cosine_similarity(mini_emb[0], mini_emb[1])\n",
    "results.append((\"all-MiniLM-L6-v2\", sim_mini))\n",
    "\n",
    "# 2. Jina v2\n",
    "jina_emb = model_jina.encode(texts, normalize_embeddings=True)\n",
    "sim_jina = cosine_similarity(jina_emb[0], jina_emb[1])\n",
    "results.append((\"jina-embeddings-v2\", sim_jina))\n",
    "\n",
    "# 3. OpenAI\n",
    "openai_emb = get_openai_embeddings(texts)\n",
    "sim_openai = cosine_similarity(openai_emb[0], openai_emb[1])\n",
    "results.append((\"text-embedding-3-large (OpenAI)\", sim_openai))\n",
    "\n",
    "# Affichage\n",
    "for model, sim in results:\n",
    "    print(f\"{model:35s} → Cosine Similarity: {sim:.6f}\")\n"
   ]
  },
  {
   "cell_type": "markdown",
   "id": "5c81b41d",
   "metadata": {},
   "source": [
    "## Observations on Sentiment Encoding\n",
    "\n",
    "We compared the embeddings of two emotionally distinct messages:\n",
    "\n",
    "- `\"Give me coffee please ☕😊\"`\n",
    "- `\"GIVE ME COFFEE PLEASE 😠💢\"`\n",
    "\n",
    "The cosine similarities between the two embeddings are:\n",
    "\n",
    "| Model                              | Cosine Similarity |\n",
    "|-----------------------------------|-------------------|\n",
    "| all-MiniLM-L6-v2                  | **1.000000**      |\n",
    "| jina-embeddings-v2-base-en        | **1.000000**      |\n",
    "| text-embedding-3-large (OpenAI)   | **0.742812**      |\n",
    "\n",
    "This means that for **MiniLM** and this version of **Jina-v2-base-en**, the two texts are **interpreted as semantically identical**, despite conveying opposite emotional tones.\n",
    "\n",
    "**Implication:**  \n",
    "The upstream embedding model may completely **neutralize emotional contrast**, leading to misleading predictions.\n",
    "\n",
    "This highlights a **critical limitation**:  \n",
    "> Embedding models not designed with affective signals in mind (e.g., case, punctuation, emojis) can **erase sentiment cues** altogether.\n",
    "\n",
    "**Takeaway:**  \n",
    "For sentiment analysis (or any task involving emotional nuance for instance), choosing a robust embedding model is **non-negotiable**.\n",
    "\n",
    "*And indeed, as the saying goes: \"A picture is worth a thousand words.\"*  \n",
    "\n",
    "*Note:* We also tested with additional punctuation/emojis. While the results slightly varied, **Jina-v2** and **MiniLM** still failed to capture the emotion\n"
   ]
  },
  {
   "cell_type": "markdown",
   "id": "e5199509",
   "metadata": {},
   "source": [
    "# Final Thoughts on Embedding Model Selection\n",
    "\n",
    "There is **no universal embedding model** that works best for all tasks.\n",
    "\n",
    "Just because a model performs well on a benchmark or in one specific use case doesn't mean it will generalize across all contexts. Our experiments clearly show that even widely used models can fail under seemingly simple variations (punctuation, casing, emojis...).\n",
    "\n",
    "From a practical and scientific standpoint, **the choice of embedding model should be treated as a hyperparameter** — one that must be tuned and validated based on the specific downstream task.\n",
    "\n",
    ">  Blindly trusting benchmark scores or community popularity can lead to underperforming pipelines.\n",
    "\n",
    " Instead:\n",
    "- Always **test embedding robustness** for your use case (sentiment analysis, classification, retrieval, etc.).\n",
    "- Evaluate whether the model captures the **semantic and stylistic nuances** required by your task.\n",
    "- Stay aware that performance may vary **across text types** — what works for tweets might fail on scientific abstracts, and vice versa.\n",
    "\n",
    "Finally, note that this analysis is based on a small set of crafted sentences. It **does not claim universal conclusions**, and **certain models may be specialized** (e.g., trained on formal language, code, or web content). More comprehensive testing is required for production-grade deployment.\n"
   ]
  }
 ],
 "metadata": {
  "kernelspec": {
   "display_name": "Python 3",
   "language": "python",
   "name": "python3"
  },
  "language_info": {
   "codemirror_mode": {
    "name": "ipython",
    "version": 3
   },
   "file_extension": ".py",
   "mimetype": "text/x-python",
   "name": "python",
   "nbconvert_exporter": "python",
   "pygments_lexer": "ipython3",
   "version": "3.13.3"
  }
 },
 "nbformat": 4,
 "nbformat_minor": 5
}
